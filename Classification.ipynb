{
 "cells": [
  {
   "cell_type": "markdown",
   "metadata": {
    "nbpresent": {
     "id": "a2f685fd-119a-4e6e-a615-a5f1b85fb4df"
    },
    "toc": "true"
   },
   "source": [
    "# Table of Contents\n",
    " <p><div class=\"lev1 toc-item\"><a href=\"#CHALLENGE-SUMMARY\" data-toc-modified-id=\"CHALLENGE-SUMMARY-1\"><span class=\"toc-item-num\">1&nbsp;&nbsp;</span><strong>CHALLENGE SUMMARY</strong></a></div><div class=\"lev1 toc-item\"><a href=\"#DATA-PREPROCESSING\" data-toc-modified-id=\"DATA-PREPROCESSING-2\"><span class=\"toc-item-num\">2&nbsp;&nbsp;</span><strong>DATA PREPROCESSING</strong></a></div><div class=\"lev2 toc-item\"><a href=\"#Step-1:-Load-the-required-libraries-and-intialise-the-H2O-package-in-R\" data-toc-modified-id=\"Step-1:-Load-the-required-libraries-and-intialise-the-H2O-package-in-R-21\"><span class=\"toc-item-num\">2.1&nbsp;&nbsp;</span>Step 1: Load the required libraries and intialise the H2O package in R</a></div><div class=\"lev2 toc-item\"><a href=\"#Step-2:-Load-the-train-and-the-test-datasets-as-h2o-dataframes\" data-toc-modified-id=\"Step-2:-Load-the-train-and-the-test-datasets-as-h2o-dataframes-22\"><span class=\"toc-item-num\">2.2&nbsp;&nbsp;</span>Step 2: Load the train and the test datasets as h2o dataframes</a></div><div class=\"lev2 toc-item\"><a href=\"#Step-3:-Remove-Columns-from-the-train-and-the-test-datasets-which-have-more-than-80%-NAs-in-them\" data-toc-modified-id=\"Step-3:-Remove-Columns-from-the-train-and-the-test-datasets-which-have-more-than-80%-NAs-in-them-23\"><span class=\"toc-item-num\">2.3&nbsp;&nbsp;</span>Step 3: Remove Columns from the train and the test datasets which have more than 80% NAs in them</a></div><div class=\"lev2 toc-item\"><a href=\"#Step-4:-Visualize-and-remove-Columns-from-the-train-and-the-test-datasets-which-have-more-than-90%-zeros-in-them\" data-toc-modified-id=\"Step-4:-Visualize-and-remove-Columns-from-the-train-and-the-test-datasets-which-have-more-than-90%-zeros-in-them-24\"><span class=\"toc-item-num\">2.4&nbsp;&nbsp;</span>Step 4: Visualize and remove Columns from the train and the test datasets which have more than 90% zeros in them</a></div><div class=\"lev2 toc-item\"><a href=\"#Step-5:-Running-Principal-Component-Analysis\" data-toc-modified-id=\"Step-5:-Running-Principal-Component-Analysis-25\"><span class=\"toc-item-num\">2.5&nbsp;&nbsp;</span>Step 5: Running Principal Component Analysis</a></div><div class=\"lev1 toc-item\"><a href=\"#DATA-MODELING\" data-toc-modified-id=\"DATA-MODELING-3\"><span class=\"toc-item-num\">3&nbsp;&nbsp;</span><strong>DATA MODELING</strong></a></div><div class=\"lev2 toc-item\"><a href=\"#Random-Forest-Model\" data-toc-modified-id=\"Random-Forest-Model-31\"><span class=\"toc-item-num\">3.1&nbsp;&nbsp;</span>Random Forest Model</a></div><div class=\"lev3 toc-item\"><a href=\"#With-oversampled-train-dataset\" data-toc-modified-id=\"With-oversampled-train-dataset-311\"><span class=\"toc-item-num\">3.1.1&nbsp;&nbsp;</span>With oversampled train dataset</a></div><div class=\"lev3 toc-item\"><a href=\"#With-undersampled-train-dataset\" data-toc-modified-id=\"With-undersampled-train-dataset-312\"><span class=\"toc-item-num\">3.1.2&nbsp;&nbsp;</span>With undersampled train dataset</a></div><div class=\"lev2 toc-item\"><a href=\"#Logistic-Regression\" data-toc-modified-id=\"Logistic-Regression-32\"><span class=\"toc-item-num\">3.2&nbsp;&nbsp;</span>Logistic Regression</a></div><div class=\"lev3 toc-item\"><a href=\"#With-oversampled-train-dataset\" data-toc-modified-id=\"With-oversampled-train-dataset-321\"><span class=\"toc-item-num\">3.2.1&nbsp;&nbsp;</span>With oversampled train dataset</a></div><div class=\"lev3 toc-item\"><a href=\"#With-undersampled-train-dataset\" data-toc-modified-id=\"With-undersampled-train-dataset-322\"><span class=\"toc-item-num\">3.2.2&nbsp;&nbsp;</span>With undersampled train dataset</a></div><div class=\"lev2 toc-item\"><a href=\"#Naive-Bayes\" data-toc-modified-id=\"Naive-Bayes-33\"><span class=\"toc-item-num\">3.3&nbsp;&nbsp;</span>Naive Bayes</a></div><div class=\"lev3 toc-item\"><a href=\"#With-oversampled-train-dataset\" data-toc-modified-id=\"With-oversampled-train-dataset-331\"><span class=\"toc-item-num\">3.3.1&nbsp;&nbsp;</span>With oversampled train dataset</a></div><div class=\"lev3 toc-item\"><a href=\"#With-undersampled-train-dataset\" data-toc-modified-id=\"With-undersampled-train-dataset-332\"><span class=\"toc-item-num\">3.3.2&nbsp;&nbsp;</span>With undersampled train dataset</a></div><div class=\"lev2 toc-item\"><a href=\"#GBM\" data-toc-modified-id=\"GBM-34\"><span class=\"toc-item-num\">3.4&nbsp;&nbsp;</span>GBM</a></div><div class=\"lev3 toc-item\"><a href=\"#With-oversampled-train-dataset\" data-toc-modified-id=\"With-oversampled-train-dataset-341\"><span class=\"toc-item-num\">3.4.1&nbsp;&nbsp;</span>With oversampled train dataset</a></div><div class=\"lev3 toc-item\"><a href=\"#With-undersampled-train-dataset\" data-toc-modified-id=\"With-undersampled-train-dataset-342\"><span class=\"toc-item-num\">3.4.2&nbsp;&nbsp;</span>With undersampled train dataset</a></div><div class=\"lev1 toc-item\"><a href=\"#MODEL-SELECTION-AND-PREDICTION\" data-toc-modified-id=\"MODEL-SELECTION-AND-PREDICTION-4\"><span class=\"toc-item-num\">4&nbsp;&nbsp;</span><strong>MODEL SELECTION AND PREDICTION</strong></a></div><div class=\"lev2 toc-item\"><a href=\"#Selection\" data-toc-modified-id=\"Selection-41\"><span class=\"toc-item-num\">4.1&nbsp;&nbsp;</span>Selection</a></div><div class=\"lev2 toc-item\"><a href=\"#Probability-Threshold-determination\" data-toc-modified-id=\"Probability-Threshold-determination-42\"><span class=\"toc-item-num\">4.2&nbsp;&nbsp;</span>Probability Threshold determination</a></div><div class=\"lev2 toc-item\"><a href=\"#Test-Data-Prediction\" data-toc-modified-id=\"Test-Data-Prediction-43\"><span class=\"toc-item-num\">4.3&nbsp;&nbsp;</span>Test Data Prediction</a></div>"
   ]
  },
  {
   "cell_type": "markdown",
   "metadata": {
    "collapsed": true
   },
   "source": [
    "# **CHALLENGE SUMMARY**"
   ]
  },
  {
   "cell_type": "markdown",
   "metadata": {},
   "source": [
    "This challenge offers you to work with the similar dataset to predict the output (Yes/No) but this time with a lot many attributes. The database has continuous, categorical and missing values as well. You are again expected to deal with missing and noisy data to consider useful features for your prediction model. It is a chance to get hands on experience by dealing with a dataset containing such large number of features to arriveat critical ones and improve your model accuracy. You can also explore some methods such as under sampling or oversampling to address class frequency distribution (if required).\n",
    "Again, there is no data dictionary available and you have to figure out on your own which variables makes sense to your model for prediction. As suggested in the last week challenge, the core idea behind this week’s challenge is to make you familiar with Distributed computing platform and applications that are required to deal with such kind of datasets (withhuge number of  features). This time, you should try executing this challenge using something like Pyspark,MLLib, and AWS etc. Although, it is not compulsory but advisable so that you get some exposure to machine learning using cluster computing."
   ]
  },
  {
   "cell_type": "markdown",
   "metadata": {
    "extensions": {
     "jupyter_dashboards": {
      "version": 1,
      "views": {
       "grid_default": {
        "col": 0,
        "height": 4,
        "hidden": false,
        "row": 0,
        "width": 4
       },
       "report_default": {
        "hidden": false
       }
      }
     }
    },
    "nbpresent": {
     "id": "5d6641b1-ece2-4bea-9519-e17f483b9094"
    }
   },
   "source": [
    "# **DATA PREPROCESSING**"
   ]
  },
  {
   "cell_type": "markdown",
   "metadata": {},
   "source": [
    "We would be using the **H2O** package in R to build the classification model. It is a R scripting functionality for H2O, the open source math engine for big data that computes parallel distributed machine learning algorithms such as generalized linear models, gradient boosting machines, random forests, and neural networks (deep learning) within various cluster environments."
   ]
  },
  {
   "cell_type": "markdown",
   "metadata": {},
   "source": [
    "## Step 1: Load the required libraries and intialise the H2O package in R"
   ]
  },
  {
   "cell_type": "code",
   "execution_count": 291,
   "metadata": {
    "collapsed": false,
    "extensions": {
     "jupyter_dashboards": {
      "version": 1,
      "views": {
       "grid_default": {
        "hidden": true
       },
       "report_default": {
        "hidden": true
       }
      }
     }
    },
    "nbpresent": {
     "id": "47be7e46-9a78-416b-86a5-500c3d465a3b"
    },
    "scrolled": true
   },
   "outputs": [],
   "source": [
    "options(warn=-1)\n",
    "options(jupyter.plot_mimetypes = 'image/png')\n",
    "\n",
    "library(h2o)\n",
    "library(dplyr)\n",
    "library(caret)\n",
    "library(magrittr)\n",
    "library(unbalanced)\n",
    "library(googleVis)\n",
    "library(plotly)\n",
    "library(xtable) \n",
    "library(IRdisplay) \n",
    "library(repr)\n",
    "library(htmlwidgets)"
   ]
  },
  {
   "cell_type": "code",
   "execution_count": 2,
   "metadata": {
    "collapsed": false,
    "extensions": {
     "jupyter_dashboards": {
      "version": 1,
      "views": {
       "grid_default": {
        "col": 4,
        "height": 14,
        "hidden": false,
        "row": 0,
        "width": 4
       },
       "report_default": {
        "hidden": false
       }
      }
     }
    },
    "nbpresent": {
     "id": "cdab55ec-4f52-40cf-9e98-814314539862"
    },
    "scrolled": false
   },
   "outputs": [
    {
     "name": "stdout",
     "output_type": "stream",
     "text": [
      "\n",
      "H2O is not running yet, starting it now...\n",
      "\n",
      "Note:  In case of errors look at the following log files:\n",
      "    C:\\Users\\amanur\\AppData\\Local\\Temp\\RtmpW6Zmwi/h2o_amanur_started_from_r.out\n",
      "    C:\\Users\\amanur\\AppData\\Local\\Temp\\RtmpW6Zmwi/h2o_amanur_started_from_r.err\n",
      "\n",
      "\n",
      "Starting H2O JVM and connecting: . Connection successful!\n",
      "\n",
      "R is connected to the H2O cluster: \n",
      "    H2O cluster uptime:         5 seconds 165 milliseconds \n",
      "    H2O cluster version:        3.10.0.8 \n",
      "    H2O cluster version age:    2 months and 30 days  \n",
      "    H2O cluster name:           H2O_started_from_R_amanur_wuz123 \n",
      "    H2O cluster total nodes:    1 \n",
      "    H2O cluster total memory:   3.49 GB \n",
      "    H2O cluster total cores:    4 \n",
      "    H2O cluster allowed cores:  2 \n",
      "    H2O cluster healthy:        TRUE \n",
      "    H2O Connection ip:          localhost \n",
      "    H2O Connection port:        54321 \n",
      "    H2O Connection proxy:       NA \n",
      "    R Version:                  R version 3.3.1 (2016-06-21) \n",
      "\n",
      "Note:  As started, H2O is limited to the CRAN default of 2 CPUs.\n",
      "       Shut down and restart H2O as shown below to use all your CPUs.\n",
      "           > h2o.shutdown()\n",
      "           > h2o.init(nthreads = -1)\n",
      "\n",
      "[1] 0\n"
     ]
    }
   ],
   "source": [
    "localH2O = h2o.init()\n",
    "h2o.removeAll()"
   ]
  },
  {
   "cell_type": "markdown",
   "metadata": {},
   "source": [
    "## Step 2: Load the train and the test datasets as h2o dataframes"
   ]
  },
  {
   "cell_type": "code",
   "execution_count": 3,
   "metadata": {
    "collapsed": false,
    "extensions": {
     "jupyter_dashboards": {
      "version": 1,
      "views": {
       "grid_default": {
        "col": 0,
        "height": 4,
        "hidden": false,
        "row": 4,
        "width": 4
       },
       "report_default": {
        "hidden": false
       }
      }
     }
    },
    "nbpresent": {
     "id": "0702ec35-b4db-4a8a-9dd9-4b73376f3fb7"
    },
    "scrolled": true
   },
   "outputs": [
    {
     "name": "stdout",
     "output_type": "stream",
     "text": [
      "\r",
      "  |                                                                            \r",
      "  |                                                                      |   0%\r",
      "  |                                                                            \r",
      "  |=========                                                             |  12%\r",
      "  |                                                                            \r",
      "  |=================                                                     |  25%\r",
      "  |                                                                            \r",
      "  |==========================                                            |  37%\r",
      "  |                                                                            \r",
      "  |===================================                                   |  50%\r",
      "  |                                                                            \r",
      "  |=======================================                               |  56%\r",
      "  |                                                                            \r",
      "  |============================================                          |  62%\r",
      "  |                                                                            \r",
      "  |====================================================                  |  75%\r",
      "  |                                                                            \r",
      "  |=============================================================         |  87%\r",
      "  |                                                                            \r",
      "  |==================================================================    |  94%\r",
      "  |                                                                            \r",
      "  |======================================================================| 100%\n"
     ]
    }
   ],
   "source": [
    "train_data = h2o.importFile(path = normalizePath(\"C:/Users/amanur/Hackme_Train.csv\"))"
   ]
  },
  {
   "cell_type": "code",
   "execution_count": 4,
   "metadata": {
    "collapsed": false,
    "extensions": {
     "jupyter_dashboards": {
      "version": 1,
      "views": {
       "grid_default": {
        "col": 8,
        "height": 4,
        "hidden": false,
        "row": 4,
        "width": 4
       },
       "report_default": {
        "hidden": false
       }
      }
     }
    },
    "nbpresent": {
     "id": "72ec146e-8fde-4bdf-8e30-f61505d737c2"
    },
    "scrolled": true
   },
   "outputs": [
    {
     "data": {
      "text/html": [
       "45000"
      ],
      "text/latex": [
       "45000"
      ],
      "text/markdown": [
       "45000"
      ],
      "text/plain": [
       "[1] 45000"
      ]
     },
     "metadata": {},
     "output_type": "display_data"
    },
    {
     "data": {
      "text/html": [
       "15000"
      ],
      "text/latex": [
       "15000"
      ],
      "text/markdown": [
       "15000"
      ],
      "text/plain": [
       "[1] 15000"
      ]
     },
     "metadata": {},
     "output_type": "display_data"
    }
   ],
   "source": [
    "nrow.H2OFrame(train_data)\n",
    "ncol.H2OFrame(train_data)"
   ]
  },
  {
   "cell_type": "code",
   "execution_count": 5,
   "metadata": {
    "collapsed": false,
    "extensions": {
     "jupyter_dashboards": {
      "version": 1,
      "views": {
       "grid_default": {
        "col": 0,
        "height": 4,
        "hidden": false,
        "row": 8,
        "width": 4
       },
       "report_default": {
        "hidden": false
       }
      }
     }
    },
    "nbpresent": {
     "id": "15695e9e-308a-422a-8b5e-2dcc2e37a52e"
    }
   },
   "outputs": [
    {
     "name": "stdout",
     "output_type": "stream",
     "text": [
      "\r",
      "  |                                                                            \r",
      "  |                                                                      |   0%\r",
      "  |                                                                            \r",
      "  |=================                                                     |  25%\r",
      "  |                                                                            \r",
      "  |============================================                          |  62%\r",
      "  |                                                                            \r",
      "  |=============================================================         |  87%\r",
      "  |                                                                            \r",
      "  |======================================================================| 100%\n"
     ]
    }
   ],
   "source": [
    "test_data = h2o.importFile(path = normalizePath(\"C:/Users/amanur/Hackme_Test.csv\"))"
   ]
  },
  {
   "cell_type": "code",
   "execution_count": 6,
   "metadata": {
    "collapsed": false,
    "extensions": {
     "jupyter_dashboards": {
      "version": 1,
      "views": {
       "grid_default": {
        "hidden": true
       },
       "report_default": {
        "hidden": true
       }
      }
     }
    }
   },
   "outputs": [
    {
     "data": {
      "text/html": [
       "5000"
      ],
      "text/latex": [
       "5000"
      ],
      "text/markdown": [
       "5000"
      ],
      "text/plain": [
       "[1] 5000"
      ]
     },
     "metadata": {},
     "output_type": "display_data"
    },
    {
     "data": {
      "text/html": [
       "15000"
      ],
      "text/latex": [
       "15000"
      ],
      "text/markdown": [
       "15000"
      ],
      "text/plain": [
       "[1] 15000"
      ]
     },
     "metadata": {},
     "output_type": "display_data"
    }
   ],
   "source": [
    "nrow.H2OFrame(test_data)\n",
    "ncol.H2OFrame(test_data)"
   ]
  },
  {
   "cell_type": "markdown",
   "metadata": {},
   "source": [
    "## Step 3: Remove Columns from the train and the test datasets which have more than 80% NAs in them"
   ]
  },
  {
   "cell_type": "code",
   "execution_count": 7,
   "metadata": {
    "collapsed": true,
    "extensions": {
     "jupyter_dashboards": {
      "version": 1,
      "views": {
       "grid_default": {
        "hidden": true
       },
       "report_default": {
        "hidden": true
       }
      }
     }
    },
    "nbpresent": {
     "id": "161ae17a-f5f8-4483-a7e9-166f470bbc66"
    }
   },
   "outputs": [],
   "source": [
    "train_data_filtered = train_data[,h2o.filterNACols(data = train_data, frac = 0.8)]\n",
    "test_data_filtered = test_data[,h2o.filterNACols(data = test_data, frac = 0.8)]"
   ]
  },
  {
   "cell_type": "code",
   "execution_count": 8,
   "metadata": {
    "collapsed": false,
    "extensions": {
     "jupyter_dashboards": {
      "version": 1,
      "views": {
       "grid_default": {
        "col": 0,
        "height": 4,
        "hidden": false,
        "row": 141,
        "width": 4
       },
       "report_default": {
        "hidden": false
       }
      }
     }
    },
    "nbpresent": {
     "id": "eff1e97a-dbb5-47ed-96c7-d3bb1d8f10c9"
    }
   },
   "outputs": [
    {
     "data": {
      "text/html": [
       "45000"
      ],
      "text/latex": [
       "45000"
      ],
      "text/markdown": [
       "45000"
      ],
      "text/plain": [
       "[1] 45000"
      ]
     },
     "metadata": {},
     "output_type": "display_data"
    },
    {
     "data": {
      "text/html": [
       "14531"
      ],
      "text/latex": [
       "14531"
      ],
      "text/markdown": [
       "14531"
      ],
      "text/plain": [
       "[1] 14531"
      ]
     },
     "metadata": {},
     "output_type": "display_data"
    }
   ],
   "source": [
    "nrow.H2OFrame(train_data_filtered)\n",
    "ncol.H2OFrame(train_data_filtered)"
   ]
  },
  {
   "cell_type": "code",
   "execution_count": 9,
   "metadata": {
    "collapsed": false,
    "extensions": {
     "jupyter_dashboards": {
      "version": 1,
      "views": {
       "grid_default": {
        "col": 4,
        "height": 4,
        "hidden": false,
        "row": 141,
        "width": 4
       },
       "report_default": {
        "hidden": false
       }
      }
     }
    },
    "nbpresent": {
     "id": "67c668b2-5dd0-4f26-85f5-3a0159e603eb"
    }
   },
   "outputs": [
    {
     "data": {
      "text/html": [
       "5000"
      ],
      "text/latex": [
       "5000"
      ],
      "text/markdown": [
       "5000"
      ],
      "text/plain": [
       "[1] 5000"
      ]
     },
     "metadata": {},
     "output_type": "display_data"
    },
    {
     "data": {
      "text/html": [
       "14531"
      ],
      "text/latex": [
       "14531"
      ],
      "text/markdown": [
       "14531"
      ],
      "text/plain": [
       "[1] 14531"
      ]
     },
     "metadata": {},
     "output_type": "display_data"
    }
   ],
   "source": [
    "nrow.H2OFrame(test_data_filtered)\n",
    "ncol.H2OFrame(test_data_filtered)"
   ]
  },
  {
   "cell_type": "markdown",
   "metadata": {},
   "source": [
    "**As we see from the above observations, both the train and the test datasets contained 469 columns which had more than 80% NAs in them and were removed from our datasets. Now, we have 14,531 columns in both the datasets**"
   ]
  },
  {
   "cell_type": "code",
   "execution_count": 10,
   "metadata": {
    "collapsed": false,
    "extensions": {
     "jupyter_dashboards": {
      "version": 1,
      "views": {
       "grid_default": {
        "hidden": true
       },
       "report_default": {
        "hidden": true
       }
      }
     }
    },
    "nbpresent": {
     "id": "bbeeb937-c08e-4bca-b1c8-97629ce44e3c"
    },
    "scrolled": false
   },
   "outputs": [],
   "source": [
    "train_describe = h2o.describe(train_data_filtered)\n",
    "test_describe = h2o.describe(test_data_filtered)"
   ]
  },
  {
   "cell_type": "markdown",
   "metadata": {},
   "source": [
    "Because of a bug in the h2o R package, I was not able to convert the Zeros and Missing columns of the train_describe and test_describe tables into numerics and hence I had to create a workaround of saving the tables into a csv file and converting the above mentioned columns into numerics and then reloading the csv file."
   ]
  },
  {
   "cell_type": "markdown",
   "metadata": {
    "collapsed": false,
    "extensions": {
     "jupyter_dashboards": {
      "version": 1,
      "views": {
       "grid_default": {
        "hidden": true
       },
       "report_default": {
        "hidden": true
       }
      }
     }
    }
   },
   "source": [
    "**I first download the train and test describe data as csv files with the following codes:**\n",
    "\n",
    "write.csv(train_describe, 'train_describe.csv')\n",
    "\n",
    "write.csv(test_describe, 'test_describe.csv')"
   ]
  },
  {
   "cell_type": "markdown",
   "metadata": {},
   "source": [
    "**Then I convert the Zeros and Missing columns into numerics (from csv files) and then upload them into train_describe and test_describe objects**"
   ]
  },
  {
   "cell_type": "code",
   "execution_count": 11,
   "metadata": {
    "collapsed": true,
    "extensions": {
     "jupyter_dashboards": {
      "version": 1,
      "views": {
       "grid_default": {
        "hidden": true
       },
       "report_default": {
        "hidden": true
       }
      }
     }
    },
    "nbpresent": {
     "id": "4ba60162-7080-4ebf-8b53-9f9b12df43dc"
    }
   },
   "outputs": [],
   "source": [
    "train_describe = read.csv('train_describe.csv')\n",
    "test_describe = read.csv('test_describe.csv')"
   ]
  },
  {
   "cell_type": "markdown",
   "metadata": {},
   "source": [
    "## Step 4: Visualize and remove Columns from the train and the test datasets which have more than 90% zeros in them"
   ]
  },
  {
   "cell_type": "code",
   "execution_count": 12,
   "metadata": {
    "collapsed": false,
    "scrolled": false
   },
   "outputs": [],
   "source": [
    "scatter_train = plot_ly(x = train_describe$Label, y = train_describe$Zeros, type = \"scatter\") \n",
    "scatter_test = plot_ly(x = test_describe$Label, y = test_describe$Zeros, type = \"scatter\") "
   ]
  },
  {
   "cell_type": "markdown",
   "metadata": {},
   "source": [
    "The above formulae produce the following interactive scatterplots:"
   ]
  },
  {
   "cell_type": "code",
   "execution_count": 13,
   "metadata": {
    "collapsed": false
   },
   "outputs": [
    {
     "data": {
      "text/html": [
       "<iframe src=\"http://avinash.social/wp-content/uploads/2017/01/train_scatterplot.html\" width=900, height=400></iframe>"
      ]
     },
     "metadata": {},
     "output_type": "display_data"
    }
   ],
   "source": [
    "# Variable Labels Vs. their number of Zero Values - Train Dataset\n",
    "IRdisplay::display_html('<iframe src=\"http://avinash.social/wp-content/uploads/2017/01/train_scatterplot.html\" width=900, height=400></iframe>')"
   ]
  },
  {
   "cell_type": "code",
   "execution_count": 14,
   "metadata": {
    "collapsed": false
   },
   "outputs": [
    {
     "data": {
      "text/html": [
       "<iframe src=\"http://avinash.social/wp-content/uploads/2017/01/test_scatterplot.html\" width=900, height=400></iframe>"
      ]
     },
     "metadata": {},
     "output_type": "display_data"
    }
   ],
   "source": [
    "# Variable Labels Vs. their number of Zero Values - Test Dataset\n",
    "IRdisplay::display_html('<iframe src=\"http://avinash.social/wp-content/uploads/2017/01/test_scatterplot.html\" width=900, height=400></iframe>')"
   ]
  },
  {
   "cell_type": "markdown",
   "metadata": {},
   "source": [
    "**From the above visualizations, we find that there are many variables in the train and the test datasets which either have all of their rows as 0 or majority of them. As these variables are not a good fit for using as predictors, we will remove all the columns which have 0s in more than 90% of their rows**"
   ]
  },
  {
   "cell_type": "code",
   "execution_count": 15,
   "metadata": {
    "collapsed": true,
    "extensions": {
     "jupyter_dashboards": {
      "version": 1,
      "views": {
       "grid_default": {
        "hidden": true
       },
       "report_default": {
        "hidden": true
       }
      }
     }
    },
    "nbpresent": {
     "id": "22a76fe3-1b9a-4155-a26c-9a9e827b4bed"
    }
   },
   "outputs": [],
   "source": [
    "train_zeros_filtered = filter(train_describe, train_describe$Zeros < 40500)\n",
    "test_zeros_filtered = filter(test_describe, test_describe$Zeros < 4500)"
   ]
  },
  {
   "cell_type": "code",
   "execution_count": 16,
   "metadata": {
    "collapsed": true,
    "extensions": {
     "jupyter_dashboards": {
      "version": 1,
      "views": {
       "grid_default": {
        "hidden": true
       },
       "report_default": {
        "hidden": true
       }
      }
     }
    },
    "nbpresent": {
     "id": "45625453-0faf-43bd-bdbf-91b7d4f9e23c"
    }
   },
   "outputs": [],
   "source": [
    "train_data_filtered = train_data_filtered[, train_zeros_filtered$Label] \n",
    "test_data_filtered = test_data_filtered[, test_zeros_filtered$Label] "
   ]
  },
  {
   "cell_type": "code",
   "execution_count": 17,
   "metadata": {
    "collapsed": false,
    "extensions": {
     "jupyter_dashboards": {
      "version": 1,
      "views": {
       "grid_default": {
        "col": 8,
        "height": 4,
        "hidden": false,
        "row": 141,
        "width": 4
       },
       "report_default": {
        "hidden": false
       }
      }
     }
    },
    "nbpresent": {
     "id": "cf152d5f-0b34-472f-9a40-6284b58532b2"
    }
   },
   "outputs": [
    {
     "data": {
      "text/html": [
       "1976"
      ],
      "text/latex": [
       "1976"
      ],
      "text/markdown": [
       "1976"
      ],
      "text/plain": [
       "[1] 1976"
      ]
     },
     "metadata": {},
     "output_type": "display_data"
    },
    {
     "data": {
      "text/html": [
       "1983"
      ],
      "text/latex": [
       "1983"
      ],
      "text/markdown": [
       "1983"
      ],
      "text/plain": [
       "[1] 1983"
      ]
     },
     "metadata": {},
     "output_type": "display_data"
    }
   ],
   "source": [
    "ncol.H2OFrame(train_data_filtered)\n",
    "ncol.H2OFrame(test_data_filtered)"
   ]
  },
  {
   "cell_type": "markdown",
   "metadata": {},
   "source": [
    "## Step 5: Running Principal Component Analysis"
   ]
  },
  {
   "cell_type": "code",
   "execution_count": 18,
   "metadata": {
    "collapsed": false,
    "extensions": {
     "jupyter_dashboards": {
      "version": 1,
      "views": {
       "grid_default": {
        "hidden": true
       },
       "report_default": {
        "hidden": true
       }
      }
     }
    },
    "nbpresent": {
     "id": "02431610-e3b1-4db0-8a03-e85a6f03df97"
    }
   },
   "outputs": [],
   "source": [
    "train_data_filtered_describe = h2o.describe(train_data_filtered)\n",
    "test_data_filtered_describe = h2o.describe(test_data_filtered)"
   ]
  },
  {
   "cell_type": "code",
   "execution_count": 19,
   "metadata": {
    "collapsed": false,
    "extensions": {
     "jupyter_dashboards": {
      "version": 1,
      "views": {
       "grid_default": {
        "col": 0,
        "height": 4,
        "hidden": false,
        "row": 145,
        "width": 4
       },
       "report_default": {
        "hidden": false
       }
      }
     }
    },
    "nbpresent": {
     "id": "ad90a2a9-13c7-42c8-b0b2-ae222a6ea43e"
    }
   },
   "outputs": [
    {
     "data": {
      "text/html": [
       "<ol class=list-inline>\n",
       "\t<li>int</li>\n",
       "\t<li>real</li>\n",
       "\t<li>enum</li>\n",
       "\t<li>string</li>\n",
       "</ol>\n"
      ],
      "text/latex": [
       "\\begin{enumerate*}\n",
       "\\item int\n",
       "\\item real\n",
       "\\item enum\n",
       "\\item string\n",
       "\\end{enumerate*}\n"
      ],
      "text/markdown": [
       "1. int\n",
       "2. real\n",
       "3. enum\n",
       "4. string\n",
       "\n",
       "\n"
      ],
      "text/plain": [
       "[1] int    real   enum   string\n",
       "Levels: enum int real string"
      ]
     },
     "metadata": {},
     "output_type": "display_data"
    },
    {
     "data": {
      "text/html": [
       "<ol class=list-inline>\n",
       "\t<li>int</li>\n",
       "\t<li>real</li>\n",
       "\t<li>enum</li>\n",
       "\t<li>string</li>\n",
       "</ol>\n"
      ],
      "text/latex": [
       "\\begin{enumerate*}\n",
       "\\item int\n",
       "\\item real\n",
       "\\item enum\n",
       "\\item string\n",
       "\\end{enumerate*}\n"
      ],
      "text/markdown": [
       "1. int\n",
       "2. real\n",
       "3. enum\n",
       "4. string\n",
       "\n",
       "\n"
      ],
      "text/plain": [
       "[1] int    real   enum   string\n",
       "Levels: enum int real string"
      ]
     },
     "metadata": {},
     "output_type": "display_data"
    }
   ],
   "source": [
    "unique(train_data_filtered_describe$Type)\n",
    "unique(test_data_filtered_describe$Type)"
   ]
  },
  {
   "cell_type": "code",
   "execution_count": 20,
   "metadata": {
    "collapsed": false,
    "extensions": {
     "jupyter_dashboards": {
      "version": 1,
      "views": {
       "grid_default": {
        "hidden": true
       },
       "report_default": {
        "hidden": true
       }
      }
     }
    },
    "nbpresent": {
     "id": "d4804423-bfc9-4314-99fd-af6628115c47"
    }
   },
   "outputs": [],
   "source": [
    "train_integer = filter(train_data_filtered_describe, train_data_filtered_describe$Type == \"int\")\n",
    "test_integer = filter(test_data_filtered_describe, test_data_filtered_describe$Type == \"int\")"
   ]
  },
  {
   "cell_type": "code",
   "execution_count": 21,
   "metadata": {
    "collapsed": false,
    "extensions": {
     "jupyter_dashboards": {
      "version": 1,
      "views": {
       "grid_default": {
        "col": 4,
        "height": 4,
        "hidden": false,
        "row": 145,
        "width": 4
       },
       "report_default": {
        "hidden": false
       }
      }
     }
    },
    "nbpresent": {
     "id": "12b89404-8d45-4b1b-b02c-98821e9ad211"
    }
   },
   "outputs": [
    {
     "data": {
      "text/html": [
       "1646"
      ],
      "text/latex": [
       "1646"
      ],
      "text/markdown": [
       "1646"
      ],
      "text/plain": [
       "[1] 1646"
      ]
     },
     "metadata": {},
     "output_type": "display_data"
    },
    {
     "data": {
      "text/html": [
       "1654"
      ],
      "text/latex": [
       "1654"
      ],
      "text/markdown": [
       "1654"
      ],
      "text/plain": [
       "[1] 1654"
      ]
     },
     "metadata": {},
     "output_type": "display_data"
    }
   ],
   "source": [
    "nrow(train_integer)\n",
    "nrow(test_integer)"
   ]
  },
  {
   "cell_type": "code",
   "execution_count": 22,
   "metadata": {
    "collapsed": false,
    "extensions": {
     "jupyter_dashboards": {
      "version": 1,
      "views": {
       "grid_default": {
        "hidden": true
       },
       "report_default": {
        "hidden": true
       }
      }
     }
    },
    "nbpresent": {
     "id": "918d4a0c-1019-42a3-9b12-24acf6f6a012"
    }
   },
   "outputs": [],
   "source": [
    "train_real = filter(train_data_filtered_describe, train_data_filtered_describe$Type == \"real\")\n",
    "test_real = filter(test_data_filtered_describe, test_data_filtered_describe$Type == \"real\")"
   ]
  },
  {
   "cell_type": "code",
   "execution_count": 23,
   "metadata": {
    "collapsed": false,
    "extensions": {
     "jupyter_dashboards": {
      "version": 1,
      "views": {
       "grid_default": {
        "col": 8,
        "height": 4,
        "hidden": false,
        "row": 145,
        "width": 4
       },
       "report_default": {
        "hidden": false
       }
      }
     }
    },
    "nbpresent": {
     "id": "6b00ed39-33c6-44a0-a9f4-f2e9cfc86ebe"
    }
   },
   "outputs": [
    {
     "data": {
      "text/html": [
       "270"
      ],
      "text/latex": [
       "270"
      ],
      "text/markdown": [
       "270"
      ],
      "text/plain": [
       "[1] 270"
      ]
     },
     "metadata": {},
     "output_type": "display_data"
    },
    {
     "data": {
      "text/html": [
       "268"
      ],
      "text/latex": [
       "268"
      ],
      "text/markdown": [
       "268"
      ],
      "text/plain": [
       "[1] 268"
      ]
     },
     "metadata": {},
     "output_type": "display_data"
    }
   ],
   "source": [
    "nrow(train_real)\n",
    "nrow(test_real)"
   ]
  },
  {
   "cell_type": "code",
   "execution_count": 24,
   "metadata": {
    "collapsed": true,
    "extensions": {
     "jupyter_dashboards": {
      "version": 1,
      "views": {
       "grid_default": {
        "hidden": true
       },
       "report_default": {
        "hidden": true
       }
      }
     }
    },
    "nbpresent": {
     "id": "d74db8d8-4eb1-4ea2-989e-a7d6650d2a78"
    }
   },
   "outputs": [],
   "source": [
    "train_numeric = rbind(train_integer, train_real)\n",
    "test_numeric = rbind(test_integer, test_real)"
   ]
  },
  {
   "cell_type": "code",
   "execution_count": 25,
   "metadata": {
    "collapsed": false,
    "extensions": {
     "jupyter_dashboards": {
      "version": 1,
      "views": {
       "grid_default": {
        "col": 0,
        "height": 4,
        "hidden": false,
        "row": 149,
        "width": 4
       },
       "report_default": {
        "hidden": false
       }
      }
     }
    },
    "nbpresent": {
     "id": "d53c8cac-0529-4952-8494-007ce35db68e"
    }
   },
   "outputs": [
    {
     "data": {
      "text/html": [
       "1916"
      ],
      "text/latex": [
       "1916"
      ],
      "text/markdown": [
       "1916"
      ],
      "text/plain": [
       "[1] 1916"
      ]
     },
     "metadata": {},
     "output_type": "display_data"
    },
    {
     "data": {
      "text/html": [
       "1922"
      ],
      "text/latex": [
       "1922"
      ],
      "text/markdown": [
       "1922"
      ],
      "text/plain": [
       "[1] 1922"
      ]
     },
     "metadata": {},
     "output_type": "display_data"
    }
   ],
   "source": [
    "nrow(train_numeric)\n",
    "nrow(test_numeric)"
   ]
  },
  {
   "cell_type": "code",
   "execution_count": 26,
   "metadata": {
    "collapsed": false,
    "extensions": {
     "jupyter_dashboards": {
      "version": 1,
      "views": {
       "grid_default": {
        "hidden": true
       },
       "report_default": {
        "hidden": true
       }
      }
     }
    },
    "nbpresent": {
     "id": "c7817ad2-523d-4a2a-98d1-3f95a98f46cb"
    }
   },
   "outputs": [],
   "source": [
    "train_string = filter(train_data_filtered_describe, train_data_filtered_describe$Type == \"string\")\n",
    "test_string = filter(test_data_filtered_describe, test_data_filtered_describe$Type == \"string\")"
   ]
  },
  {
   "cell_type": "code",
   "execution_count": 27,
   "metadata": {
    "collapsed": false,
    "extensions": {
     "jupyter_dashboards": {
      "version": 1,
      "views": {
       "grid_default": {
        "col": 4,
        "height": 4,
        "hidden": false,
        "row": 149,
        "width": 4
       },
       "report_default": {
        "hidden": false
       }
      }
     }
    },
    "nbpresent": {
     "id": "c7920b1f-0534-46bd-aa37-6627988c0809"
    }
   },
   "outputs": [
    {
     "data": {
      "text/html": [
       "4"
      ],
      "text/latex": [
       "4"
      ],
      "text/markdown": [
       "4"
      ],
      "text/plain": [
       "[1] 4"
      ]
     },
     "metadata": {},
     "output_type": "display_data"
    },
    {
     "data": {
      "text/html": [
       "4"
      ],
      "text/latex": [
       "4"
      ],
      "text/markdown": [
       "4"
      ],
      "text/plain": [
       "[1] 4"
      ]
     },
     "metadata": {},
     "output_type": "display_data"
    }
   ],
   "source": [
    "nrow(train_string)\n",
    "nrow(test_string)"
   ]
  },
  {
   "cell_type": "code",
   "execution_count": 28,
   "metadata": {
    "collapsed": false,
    "extensions": {
     "jupyter_dashboards": {
      "version": 1,
      "views": {
       "grid_default": {
        "hidden": true
       },
       "report_default": {
        "hidden": true
       }
      }
     }
    },
    "nbpresent": {
     "id": "69a176fe-4179-4030-ad76-a5b7124d47f4"
    }
   },
   "outputs": [],
   "source": [
    "train_enum = filter(train_data_filtered_describe, train_data_filtered_describe$Type == \"enum\")\n",
    "test_enum = filter(test_data_filtered_describe, test_data_filtered_describe$Type == \"enum\")"
   ]
  },
  {
   "cell_type": "code",
   "execution_count": 29,
   "metadata": {
    "collapsed": false,
    "extensions": {
     "jupyter_dashboards": {
      "version": 1,
      "views": {
       "grid_default": {
        "col": 8,
        "height": 4,
        "hidden": false,
        "row": 149,
        "width": 4
       },
       "report_default": {
        "hidden": false
       }
      }
     }
    },
    "nbpresent": {
     "id": "236565f1-19ca-47a4-b5d8-504ab394439f"
    }
   },
   "outputs": [
    {
     "data": {
      "text/html": [
       "56"
      ],
      "text/latex": [
       "56"
      ],
      "text/markdown": [
       "56"
      ],
      "text/plain": [
       "[1] 56"
      ]
     },
     "metadata": {},
     "output_type": "display_data"
    },
    {
     "data": {
      "text/html": [
       "57"
      ],
      "text/latex": [
       "57"
      ],
      "text/markdown": [
       "57"
      ],
      "text/plain": [
       "[1] 57"
      ]
     },
     "metadata": {},
     "output_type": "display_data"
    }
   ],
   "source": [
    "nrow(train_enum)\n",
    "nrow(test_enum)"
   ]
  },
  {
   "cell_type": "code",
   "execution_count": 30,
   "metadata": {
    "collapsed": true,
    "extensions": {
     "jupyter_dashboards": {
      "version": 1,
      "views": {
       "grid_default": {
        "hidden": true
       },
       "report_default": {
        "hidden": true
       }
      }
     }
    },
    "nbpresent": {
     "id": "e706221d-213c-4812-8c10-1cc20f521c3e"
    }
   },
   "outputs": [],
   "source": [
    "train_categorical = rbind(train_string, train_enum)\n",
    "test_categorical = rbind(test_string, test_enum)"
   ]
  },
  {
   "cell_type": "code",
   "execution_count": 31,
   "metadata": {
    "collapsed": false,
    "extensions": {
     "jupyter_dashboards": {
      "version": 1,
      "views": {
       "grid_default": {
        "col": 0,
        "height": 4,
        "hidden": false,
        "row": 153,
        "width": 4
       },
       "report_default": {
        "hidden": false
       }
      }
     }
    },
    "nbpresent": {
     "id": "39428d43-29fa-4c7a-a49a-7aad9e722f97"
    }
   },
   "outputs": [
    {
     "data": {
      "text/html": [
       "60"
      ],
      "text/latex": [
       "60"
      ],
      "text/markdown": [
       "60"
      ],
      "text/plain": [
       "[1] 60"
      ]
     },
     "metadata": {},
     "output_type": "display_data"
    },
    {
     "data": {
      "text/html": [
       "61"
      ],
      "text/latex": [
       "61"
      ],
      "text/markdown": [
       "61"
      ],
      "text/plain": [
       "[1] 61"
      ]
     },
     "metadata": {},
     "output_type": "display_data"
    }
   ],
   "source": [
    "nrow(train_categorical)\n",
    "nrow(test_categorical)"
   ]
  },
  {
   "cell_type": "code",
   "execution_count": 32,
   "metadata": {
    "collapsed": true,
    "extensions": {
     "jupyter_dashboards": {
      "version": 1,
      "views": {
       "grid_default": {
        "hidden": true
       },
       "report_default": {
        "hidden": true
       }
      }
     }
    },
    "nbpresent": {
     "id": "4a0da488-5ee7-49e3-85a2-bc0a695647bd"
    }
   },
   "outputs": [],
   "source": [
    "train_data_categorical = train_data_filtered[, train_categorical$Label] \n",
    "test_data_categorical = test_data_filtered[, test_categorical$Label] "
   ]
  },
  {
   "cell_type": "code",
   "execution_count": 33,
   "metadata": {
    "collapsed": true,
    "extensions": {
     "jupyter_dashboards": {
      "version": 1,
      "views": {
       "grid_default": {
        "hidden": true
       },
       "report_default": {
        "hidden": true
       }
      }
     }
    },
    "nbpresent": {
     "id": "bb040156-0819-4cd5-a730-3a2ae5dbe711"
    }
   },
   "outputs": [],
   "source": [
    "train_data_numeric = train_data_filtered[, train_numeric$Label] \n",
    "test_data_numeric = test_data_filtered[, test_numeric$Label] "
   ]
  },
  {
   "cell_type": "code",
   "execution_count": 34,
   "metadata": {
    "collapsed": false,
    "extensions": {
     "jupyter_dashboards": {
      "version": 1,
      "views": {
       "grid_default": {
        "col": 4,
        "height": 4,
        "hidden": false,
        "row": 153,
        "width": 4
       },
       "report_default": {
        "hidden": false
       }
      }
     }
    },
    "nbpresent": {
     "id": "50688499-94de-41b3-9112-f3e7183fa454"
    },
    "scrolled": false
   },
   "outputs": [
    {
     "data": {
      "text/html": [
       "1916"
      ],
      "text/latex": [
       "1916"
      ],
      "text/markdown": [
       "1916"
      ],
      "text/plain": [
       "[1] 1916"
      ]
     },
     "metadata": {},
     "output_type": "display_data"
    },
    {
     "data": {
      "text/html": [
       "1922"
      ],
      "text/latex": [
       "1922"
      ],
      "text/markdown": [
       "1922"
      ],
      "text/plain": [
       "[1] 1922"
      ]
     },
     "metadata": {},
     "output_type": "display_data"
    }
   ],
   "source": [
    "ncol(train_data_numeric)\n",
    "ncol(test_data_numeric)"
   ]
  },
  {
   "cell_type": "code",
   "execution_count": 35,
   "metadata": {
    "collapsed": true,
    "extensions": {
     "jupyter_dashboards": {
      "version": 1,
      "views": {
       "grid_default": {
        "hidden": true
       },
       "report_default": {
        "hidden": true
       }
      }
     }
    },
    "nbpresent": {
     "id": "958c8ed3-59e3-458e-8707-ead9cf527ae9"
    }
   },
   "outputs": [],
   "source": [
    "train_scaled = h2o.scale(train_data_numeric)\n",
    "test_scaled = h2o.scale(test_data_numeric)"
   ]
  },
  {
   "cell_type": "code",
   "execution_count": 36,
   "metadata": {
    "collapsed": false,
    "extensions": {
     "jupyter_dashboards": {
      "version": 1,
      "views": {
       "grid_default": {
        "hidden": true
       },
       "report_default": {
        "hidden": true
       }
      }
     }
    },
    "nbpresent": {
     "id": "2b648a7d-5dc0-452e-8306-26d77d8c9edf"
    }
   },
   "outputs": [],
   "source": [
    "train_scaled_describe = h2o.describe(train_scaled)\n",
    "test_scaled_describe = h2o.describe(test_scaled)"
   ]
  },
  {
   "cell_type": "code",
   "execution_count": null,
   "metadata": {
    "collapsed": false,
    "extensions": {
     "jupyter_dashboards": {
      "version": 1,
      "views": {
       "grid_default": {
        "col": 8,
        "height": 2542,
        "hidden": false,
        "row": 153,
        "width": 4
       },
       "report_default": {
        "hidden": false
       }
      }
     }
    },
    "nbpresent": {
     "id": "876637a2-c97c-4605-a8eb-e85f6a5cfbc3"
    },
    "scrolled": false
   },
   "outputs": [],
   "source": [
    "h2o.impute(train_scaled, column = 0, method = \"median\")\n",
    "h2o.impute(test_scaled, column = 0, method = \"median\")"
   ]
  },
  {
   "cell_type": "code",
   "execution_count": 38,
   "metadata": {
    "collapsed": true,
    "extensions": {
     "jupyter_dashboards": {
      "version": 1,
      "views": {
       "grid_default": {
        "hidden": true
       },
       "report_default": {
        "hidden": true
       }
      }
     }
    },
    "nbpresent": {
     "id": "420b51f0-57fc-49c4-a2d9-34c253d36630"
    }
   },
   "outputs": [],
   "source": [
    "train_scaled_constants = filter(train_scaled_describe, Sigma != 0)\n",
    "test_scaled_constants = filter(test_scaled_describe, Sigma != 0)"
   ]
  },
  {
   "cell_type": "code",
   "execution_count": 39,
   "metadata": {
    "collapsed": false,
    "extensions": {
     "jupyter_dashboards": {
      "version": 1,
      "views": {
       "grid_default": {
        "col": 0,
        "height": 4,
        "hidden": false,
        "row": 157,
        "width": 4
       },
       "report_default": {
        "hidden": false
       }
      }
     }
    },
    "nbpresent": {
     "id": "9b7f6ade-b4e4-4444-864d-0296e07743b5"
    },
    "scrolled": true
   },
   "outputs": [
    {
     "data": {
      "text/html": [
       "<ol class=list-inline>\n",
       "\t<li>1</li>\n",
       "\t<li>0.999999999999999</li>\n",
       "\t<li>0</li>\n",
       "\t<li>0.999999999999998</li>\n",
       "\t<li>0.999999999999997</li>\n",
       "\t<li>0.999999999999996</li>\n",
       "</ol>\n"
      ],
      "text/latex": [
       "\\begin{enumerate*}\n",
       "\\item 1\n",
       "\\item 0.999999999999999\n",
       "\\item 0\n",
       "\\item 0.999999999999998\n",
       "\\item 0.999999999999997\n",
       "\\item 0.999999999999996\n",
       "\\end{enumerate*}\n"
      ],
      "text/markdown": [
       "1. 1\n",
       "2. 0.999999999999999\n",
       "3. 0\n",
       "4. 0.999999999999998\n",
       "5. 0.999999999999997\n",
       "6. 0.999999999999996\n",
       "\n",
       "\n"
      ],
      "text/plain": [
       "[1] 1                 0.999999999999999 0                 0.999999999999998\n",
       "[5] 0.999999999999997 0.999999999999996\n",
       "6 Levels: 0 0.999999999999996 0.999999999999997 ... 1"
      ]
     },
     "metadata": {},
     "output_type": "display_data"
    },
    {
     "data": {
      "text/html": [
       "<ol class=list-inline>\n",
       "\t<li>1</li>\n",
       "\t<li>0</li>\n",
       "\t<li>0.999999999999999</li>\n",
       "</ol>\n"
      ],
      "text/latex": [
       "\\begin{enumerate*}\n",
       "\\item 1\n",
       "\\item 0\n",
       "\\item 0.999999999999999\n",
       "\\end{enumerate*}\n"
      ],
      "text/markdown": [
       "1. 1\n",
       "2. 0\n",
       "3. 0.999999999999999\n",
       "\n",
       "\n"
      ],
      "text/plain": [
       "[1] 1                 0                 0.999999999999999\n",
       "Levels: 0 0.999999999999999 1"
      ]
     },
     "metadata": {},
     "output_type": "display_data"
    }
   ],
   "source": [
    "unique(train_scaled_describe$Sigma)\n",
    "unique(test_scaled_describe$Sigma)"
   ]
  },
  {
   "cell_type": "code",
   "execution_count": 40,
   "metadata": {
    "collapsed": false,
    "extensions": {
     "jupyter_dashboards": {
      "version": 1,
      "views": {
       "grid_default": {
        "col": 4,
        "height": 4,
        "hidden": false,
        "row": 157,
        "width": 4
       },
       "report_default": {
        "hidden": false
       }
      }
     }
    },
    "nbpresent": {
     "id": "c0cd72aa-f083-47c4-b3a5-14efebbfdeab"
    }
   },
   "outputs": [
    {
     "data": {
      "text/html": [
       "<ol class=list-inline>\n",
       "\t<li>1</li>\n",
       "\t<li>0.999999999999999</li>\n",
       "\t<li>0.999999999999998</li>\n",
       "\t<li>0.999999999999997</li>\n",
       "\t<li>0.999999999999996</li>\n",
       "</ol>\n"
      ],
      "text/latex": [
       "\\begin{enumerate*}\n",
       "\\item 1\n",
       "\\item 0.999999999999999\n",
       "\\item 0.999999999999998\n",
       "\\item 0.999999999999997\n",
       "\\item 0.999999999999996\n",
       "\\end{enumerate*}\n"
      ],
      "text/markdown": [
       "1. 1\n",
       "2. 0.999999999999999\n",
       "3. 0.999999999999998\n",
       "4. 0.999999999999997\n",
       "5. 0.999999999999996\n",
       "\n",
       "\n"
      ],
      "text/plain": [
       "[1] 1                 0.999999999999999 0.999999999999998 0.999999999999997\n",
       "[5] 0.999999999999996\n",
       "6 Levels: 0 0.999999999999996 0.999999999999997 ... 1"
      ]
     },
     "metadata": {},
     "output_type": "display_data"
    },
    {
     "data": {
      "text/html": [
       "<ol class=list-inline>\n",
       "\t<li>1</li>\n",
       "\t<li>0.999999999999999</li>\n",
       "</ol>\n"
      ],
      "text/latex": [
       "\\begin{enumerate*}\n",
       "\\item 1\n",
       "\\item 0.999999999999999\n",
       "\\end{enumerate*}\n"
      ],
      "text/markdown": [
       "1. 1\n",
       "2. 0.999999999999999\n",
       "\n",
       "\n"
      ],
      "text/plain": [
       "[1] 1                 0.999999999999999\n",
       "Levels: 0 0.999999999999999 1"
      ]
     },
     "metadata": {},
     "output_type": "display_data"
    }
   ],
   "source": [
    "unique(train_scaled_constants$Sigma)\n",
    "unique(test_scaled_constants$Sigma)"
   ]
  },
  {
   "cell_type": "code",
   "execution_count": 41,
   "metadata": {
    "collapsed": true,
    "extensions": {
     "jupyter_dashboards": {
      "version": 1,
      "views": {
       "grid_default": {
        "hidden": true
       },
       "report_default": {
        "hidden": true
       }
      }
     }
    },
    "nbpresent": {
     "id": "66c464da-7ca6-403d-9737-dfe49fde7414"
    }
   },
   "outputs": [],
   "source": [
    "train_numeric_scaled = train_scaled[, train_scaled_constants$Label]\n",
    "test_numeric_scaled = test_scaled[, test_scaled_constants$Label] "
   ]
  },
  {
   "cell_type": "code",
   "execution_count": 42,
   "metadata": {
    "collapsed": false,
    "extensions": {
     "jupyter_dashboards": {
      "version": 1,
      "views": {
       "grid_default": {
        "col": 0,
        "height": 100,
        "hidden": false,
        "row": 2695,
        "width": 12
       },
       "report_default": {
        "hidden": false
       }
      }
     }
    },
    "nbpresent": {
     "id": "cca9695f-c806-4681-bfb7-fb5f5e7dd9d8"
    },
    "scrolled": true
   },
   "outputs": [
    {
     "data": {
      "text/html": [
       "<table>\n",
       "<thead><tr><th></th><th scope=col>Label</th><th scope=col>Type</th><th scope=col>Missing</th><th scope=col>Zeros</th><th scope=col>PosInf</th><th scope=col>NegInf</th><th scope=col>Min</th><th scope=col>Max</th><th scope=col>Mean</th><th scope=col>Sigma</th><th scope=col>Cardinality</th></tr></thead>\n",
       "<tbody>\n",
       "\t<tr><th scope=row>1</th><td>Var17               </td><td>real                </td><td>0                   </td><td>0                   </td><td>0                   </td><td>0                   </td><td>-0.343562420193859  </td><td>18.149630054356     </td><td>3.73429682238364e-17</td><td>1                   </td><td>NA                  </td></tr>\n",
       "\t<tr><th scope=row>2</th><td>Var21                </td><td>real                 </td><td>0                    </td><td>0                    </td><td>0                    </td><td>0                    </td><td>-0.37519872297405    </td><td>37.0881970640395     </td><td>-1.44003327780714e-16</td><td>1                    </td><td>NA                   </td></tr>\n",
       "\t<tr><th scope=row>3</th><td>Var22                </td><td>real                 </td><td>0                    </td><td>0                    </td><td>0                    </td><td>0                    </td><td>-0.0630524315113485  </td><td>17.1396938805333     </td><td>-2.08425869156296e-17</td><td>1                    </td><td>NA                   </td></tr>\n",
       "\t<tr><th scope=row>4</th><td>Var28                </td><td>real                 </td><td>0                    </td><td>0                    </td><td>0                    </td><td>0                    </td><td>-0.90946064988001    </td><td>8.75596790322675     </td><td>-3.88903724039362e-16</td><td>1                    </td><td>NA                   </td></tr>\n",
       "\t<tr><th scope=row>5</th><td>Var39                </td><td>real                 </td><td>0                    </td><td>0                    </td><td>0                    </td><td>0                    </td><td>-0.40317088802691    </td><td>2.48028269767095     </td><td>-1.66740695325037e-16</td><td>1                    </td><td>NA                   </td></tr>\n",
       "\t<tr><th scope=row>6</th><td>Var47               </td><td>real                </td><td>0                   </td><td>0                   </td><td>0                   </td><td>0                   </td><td>-0.0376842940131635 </td><td>66.9051759954598    </td><td>-3.7895612573872e-18</td><td>1                   </td><td>NA                  </td></tr>\n",
       "</tbody>\n",
       "</table>\n"
      ],
      "text/latex": [
       "\\begin{tabular}{r|lllllllllll}\n",
       "  & Label & Type & Missing & Zeros & PosInf & NegInf & Min & Max & Mean & Sigma & Cardinality\\\\\n",
       "\\hline\n",
       "\t1 & Var17                & real                 & 0                    & 0                    & 0                    & 0                    & -0.343562420193859   & 18.149630054356      & 3.73429682238364e-17 & 1                    & NA                  \\\\\n",
       "\t2 & Var21                 & real                  & 0                     & 0                     & 0                     & 0                     & -0.37519872297405     & 37.0881970640395      & -1.44003327780714e-16 & 1                     & NA                   \\\\\n",
       "\t3 & Var22                 & real                  & 0                     & 0                     & 0                     & 0                     & -0.0630524315113485   & 17.1396938805333      & -2.08425869156296e-17 & 1                     & NA                   \\\\\n",
       "\t4 & Var28                 & real                  & 0                     & 0                     & 0                     & 0                     & -0.90946064988001     & 8.75596790322675      & -3.88903724039362e-16 & 1                     & NA                   \\\\\n",
       "\t5 & Var39                 & real                  & 0                     & 0                     & 0                     & 0                     & -0.40317088802691     & 2.48028269767095      & -1.66740695325037e-16 & 1                     & NA                   \\\\\n",
       "\t6 & Var47                & real                 & 0                    & 0                    & 0                    & 0                    & -0.0376842940131635  & 66.9051759954598     & -3.7895612573872e-18 & 1                    & NA                  \\\\\n",
       "\\end{tabular}\n"
      ],
      "text/plain": [
       "  Label Type Missing Zeros PosInf NegInf                 Min              Max\n",
       "1 Var17 real       0     0      0      0  -0.343562420193859  18.149630054356\n",
       "2 Var21 real       0     0      0      0   -0.37519872297405 37.0881970640395\n",
       "3 Var22 real       0     0      0      0 -0.0630524315113485 17.1396938805333\n",
       "4 Var28 real       0     0      0      0   -0.90946064988001 8.75596790322675\n",
       "5 Var39 real       0     0      0      0   -0.40317088802691 2.48028269767095\n",
       "6 Var47 real       0     0      0      0 -0.0376842940131635 66.9051759954598\n",
       "                   Mean Sigma Cardinality\n",
       "1  3.73429682238364e-17     1        <NA>\n",
       "2 -1.44003327780714e-16     1        <NA>\n",
       "3 -2.08425869156296e-17     1        <NA>\n",
       "4 -3.88903724039362e-16     1        <NA>\n",
       "5 -1.66740695325037e-16     1        <NA>\n",
       "6  -3.7895612573872e-18     1        <NA>"
      ]
     },
     "metadata": {},
     "output_type": "display_data"
    }
   ],
   "source": [
    "head(h2o.describe(train_numeric_scaled))"
   ]
  },
  {
   "cell_type": "code",
   "execution_count": 43,
   "metadata": {
    "collapsed": true,
    "extensions": {
     "jupyter_dashboards": {
      "version": 1,
      "views": {
       "grid_default": {
        "hidden": true
       },
       "report_default": {
        "hidden": true
       }
      }
     }
    },
    "nbpresent": {
     "id": "477efe0c-9b84-4d18-b549-47d507bb3840"
    }
   },
   "outputs": [],
   "source": [
    "train_numeric_scaled_df = as.data.frame(train_numeric_scaled)\n",
    "test_numeric_scaled_df = as.data.frame(test_numeric_scaled)"
   ]
  },
  {
   "cell_type": "code",
   "execution_count": 44,
   "metadata": {
    "collapsed": true,
    "extensions": {
     "jupyter_dashboards": {
      "version": 1,
      "views": {
       "grid_default": {
        "hidden": true
       },
       "report_default": {
        "hidden": true
       }
      }
     }
    },
    "nbpresent": {
     "id": "c07fdc72-8b84-4577-a07a-0ce89e2c5e87"
    }
   },
   "outputs": [],
   "source": [
    "zeroVar_train = apply(train_numeric_scaled_df, 2, function(x) length(unique(x)) == 1)\n",
    "zeroVar_test = apply(test_numeric_scaled_df, 2, function(x) length(unique(x)) == 1)"
   ]
  },
  {
   "cell_type": "code",
   "execution_count": 45,
   "metadata": {
    "collapsed": false,
    "extensions": {
     "jupyter_dashboards": {
      "version": 1,
      "views": {
       "grid_default": {
        "hidden": true
       },
       "report_default": {
        "hidden": true
       }
      }
     }
    },
    "nbpresent": {
     "id": "fefa0850-93bf-4643-92c2-15f9be4d12ff"
    }
   },
   "outputs": [],
   "source": [
    "train_numeric_scaled_df_zv = train_numeric_scaled_df[, !zeroVar_train]\n",
    "test_numeric_scaled_df_zv = test_numeric_scaled_df[, !zeroVar_test]"
   ]
  },
  {
   "cell_type": "code",
   "execution_count": 46,
   "metadata": {
    "collapsed": true,
    "extensions": {
     "jupyter_dashboards": {
      "version": 1,
      "views": {
       "grid_default": {
        "hidden": true
       },
       "report_default": {
        "hidden": true
       }
      }
     }
    },
    "nbpresent": {
     "id": "fa402ba2-40af-4bab-aa42-551efd4c0fd6"
    }
   },
   "outputs": [],
   "source": [
    "correlationMatrix_train = cor(train_numeric_scaled_df_zv)\n",
    "correlationMatrix_test = cor(test_numeric_scaled_df_zv)"
   ]
  },
  {
   "cell_type": "code",
   "execution_count": 47,
   "metadata": {
    "collapsed": false,
    "extensions": {
     "jupyter_dashboards": {
      "version": 1,
      "views": {
       "grid_default": {
        "hidden": true
       },
       "report_default": {
        "hidden": true
       }
      }
     }
    },
    "nbpresent": {
     "id": "342161b9-c5c8-4334-9f1e-32412700a2e2"
    }
   },
   "outputs": [],
   "source": [
    "highlyCorrelated_train = findCorrelation(correlationMatrix_train, cutoff=(0.7),verbose = FALSE)\n",
    "train_numeric_noncorr = colnames(train_numeric_scaled_df_zv[,-highlyCorrelated_train])\n",
    "\n",
    "highlyCorrelated_test = findCorrelation(correlationMatrix_test, cutoff=(0.7),verbose = FALSE)\n",
    "test_numeric_noncorr = colnames(test_numeric_scaled_df_zv[,-highlyCorrelated_test])"
   ]
  },
  {
   "cell_type": "code",
   "execution_count": 48,
   "metadata": {
    "collapsed": false,
    "extensions": {
     "jupyter_dashboards": {
      "version": 1,
      "views": {
       "grid_default": {
        "col": 0,
        "height": 4,
        "hidden": false,
        "row": 161,
        "width": 4
       },
       "report_default": {
        "hidden": false
       }
      }
     }
    },
    "nbpresent": {
     "id": "ef7f6799-2521-4820-8bee-836960714d16"
    }
   },
   "outputs": [
    {
     "data": {
      "text/html": [
       "1365"
      ],
      "text/latex": [
       "1365"
      ],
      "text/markdown": [
       "1365"
      ],
      "text/plain": [
       "[1] 1365"
      ]
     },
     "metadata": {},
     "output_type": "display_data"
    },
    {
     "data": {
      "text/html": [
       "1345"
      ],
      "text/latex": [
       "1345"
      ],
      "text/markdown": [
       "1345"
      ],
      "text/plain": [
       "[1] 1345"
      ]
     },
     "metadata": {},
     "output_type": "display_data"
    }
   ],
   "source": [
    "length(highlyCorrelated_train)\n",
    "length(highlyCorrelated_test)"
   ]
  },
  {
   "cell_type": "code",
   "execution_count": 49,
   "metadata": {
    "collapsed": false,
    "extensions": {
     "jupyter_dashboards": {
      "version": 1,
      "views": {
       "grid_default": {
        "col": 4,
        "height": 4,
        "hidden": false,
        "row": 161,
        "width": 4
       },
       "report_default": {
        "hidden": false
       }
      }
     }
    },
    "nbpresent": {
     "id": "2721c7ea-8020-4665-8eb9-39c270235d81"
    }
   },
   "outputs": [
    {
     "data": {
      "text/html": [
       "547"
      ],
      "text/latex": [
       "547"
      ],
      "text/markdown": [
       "547"
      ],
      "text/plain": [
       "[1] 547"
      ]
     },
     "metadata": {},
     "output_type": "display_data"
    },
    {
     "data": {
      "text/html": [
       "573"
      ],
      "text/latex": [
       "573"
      ],
      "text/markdown": [
       "573"
      ],
      "text/plain": [
       "[1] 573"
      ]
     },
     "metadata": {},
     "output_type": "display_data"
    }
   ],
   "source": [
    "length(train_numeric_noncorr)\n",
    "length(test_numeric_noncorr)"
   ]
  },
  {
   "cell_type": "code",
   "execution_count": 50,
   "metadata": {
    "collapsed": true,
    "extensions": {
     "jupyter_dashboards": {
      "version": 1,
      "views": {
       "grid_default": {
        "hidden": true
       },
       "report_default": {
        "hidden": true
       }
      }
     }
    },
    "nbpresent": {
     "id": "f7389d9f-0ce7-46b9-9c92-35f1eb5ad1e9"
    }
   },
   "outputs": [],
   "source": [
    "train_num_noncorr = train_numeric_scaled[, train_numeric_noncorr]\n",
    "test_num_noncorr = test_numeric_scaled[, test_numeric_noncorr]"
   ]
  },
  {
   "cell_type": "code",
   "execution_count": 51,
   "metadata": {
    "collapsed": false,
    "extensions": {
     "jupyter_dashboards": {
      "version": 1,
      "views": {
       "grid_default": {
        "hidden": true
       },
       "report_default": {
        "hidden": true
       }
      }
     }
    },
    "nbpresent": {
     "id": "fddff4c9-3ee0-4f77-8d29-b58f056662e4"
    },
    "scrolled": true
   },
   "outputs": [],
   "source": [
    "prin_comp_train = prcomp(train_num_noncorr)\n",
    "prin_comp_test = prcomp(test_num_noncorr)"
   ]
  },
  {
   "cell_type": "code",
   "execution_count": 52,
   "metadata": {
    "collapsed": true,
    "extensions": {
     "jupyter_dashboards": {
      "version": 1,
      "views": {
       "grid_default": {
        "hidden": true
       },
       "report_default": {
        "hidden": true
       }
      }
     }
    },
    "nbpresent": {
     "id": "380b2248-f74c-4493-b686-887d2c402dff"
    }
   },
   "outputs": [],
   "source": [
    "std_dev_train = prin_comp_train$sdev\n",
    "pr_var_train = std_dev_train^2\n",
    "prop_varex_train = pr_var_train/sum(pr_var_train)\n",
    "\n",
    "std_dev_test = prin_comp_test$sdev\n",
    "pr_var_test = std_dev_test^2\n",
    "prop_varex_test = pr_var_test/sum(pr_var_test)"
   ]
  },
  {
   "cell_type": "code",
   "execution_count": 53,
   "metadata": {
    "collapsed": false,
    "extensions": {
     "jupyter_dashboards": {
      "version": 1,
      "views": {
       "grid_default": {
        "col": 0,
        "height": 25,
        "hidden": false,
        "row": 165,
        "width": 4
       },
       "report_default": {
        "hidden": false
       }
      }
     }
    },
    "nbpresent": {
     "id": "d5cfeff1-e1ca-4deb-8006-804695fb76ee"
    },
    "scrolled": false
   },
   "outputs": [
    {
     "data": {
      "image/png": "[encoded data removed]"
     },
     "metadata": {},
     "output_type": "display_data"
    }
   ],
   "source": [
    "plot(cumsum(prop_varex_train), xlab = \"Principal Component\",\n",
    "              ylab = \"Cumulative Proportion of Variance Explained\",\n",
    "              type = \"b\",\n",
    "              col = \"blue\")"
   ]
  },
  {
   "cell_type": "code",
   "execution_count": 54,
   "metadata": {
    "collapsed": false
   },
   "outputs": [
    {
     "data": {
      "image/png": "[encoded data removed]"
     },
     "metadata": {},
     "output_type": "display_data"
    }
   ],
   "source": [
    "plot(cumsum(prop_varex_test), xlab = \"Principal Component\",\n",
    "              ylab = \"Cumulative Proportion of Variance Explained\",\n",
    "              type = \"b\",\n",
    "              col = \"blue\")"
   ]
  },
  {
   "cell_type": "code",
   "execution_count": 55,
   "metadata": {
    "collapsed": false,
    "extensions": {
     "jupyter_dashboards": {
      "version": 1,
      "views": {
       "grid_default": {
        "col": 4,
        "height": 733,
        "hidden": false,
        "row": 165,
        "width": 4
       },
       "report_default": {
        "hidden": false
       }
      }
     }
    },
    "nbpresent": {
     "id": "215bfea9-df5b-4736-a1e7-2f73dbe87db5"
    },
    "scrolled": false
   },
   "outputs": [
    {
     "data": {
      "text/plain": [
       "Importance of components:\n",
       "                           PC1     PC2     PC3     PC4     PC5     PC6     PC7\n",
       "Standard deviation     6.10073 5.23352 3.85355 3.44347 3.14172 2.91570 2.58638\n",
       "Proportion of Variance 0.07034 0.05176 0.02806 0.02241 0.01865 0.01607 0.01264\n",
       "Cumulative Proportion  0.07034 0.12210 0.15017 0.17258 0.19123 0.20730 0.21994\n",
       "                           PC8     PC9    PC10    PC11    PC12    PC13    PC14\n",
       "Standard deviation     2.38555 2.27524 2.22326 2.05945 2.03920 1.89263 1.86227\n",
       "Proportion of Variance 0.01076 0.00978 0.00934 0.00802 0.00786 0.00677 0.00655\n",
       "Cumulative Proportion  0.23069 0.24048 0.24982 0.25783 0.26569 0.27246 0.27902\n",
       "                          PC15    PC16   PC17    PC18    PC19    PC20    PC21\n",
       "Standard deviation     1.84556 1.75043 1.7056 1.68822 1.65771 1.63168 1.63080\n",
       "Proportion of Variance 0.00644 0.00579 0.0055 0.00539 0.00519 0.00503 0.00503\n",
       "Cumulative Proportion  0.28545 0.29124 0.2967 0.30213 0.30732 0.31235 0.31738\n",
       "                          PC22    PC23    PC24    PC25    PC26    PC27   PC28\n",
       "Standard deviation     1.58976 1.57853 1.56667 1.55660 1.53043 1.51757 1.5079\n",
       "Proportion of Variance 0.00478 0.00471 0.00464 0.00458 0.00443 0.00435 0.0043\n",
       "Cumulative Proportion  0.32216 0.32687 0.33150 0.33608 0.34051 0.34486 0.3492\n",
       "                          PC29    PC30    PC31    PC32    PC33    PC34    PC35\n",
       "Standard deviation     1.47910 1.47430 1.45640 1.43811 1.43399 1.41612 1.39814\n",
       "Proportion of Variance 0.00413 0.00411 0.00401 0.00391 0.00389 0.00379 0.00369\n",
       "Cumulative Proportion  0.35329 0.35740 0.36141 0.36532 0.36921 0.37300 0.37669\n",
       "                          PC36    PC37    PC38    PC39    PC40    PC41    PC42\n",
       "Standard deviation     1.39063 1.38451 1.37807 1.37537 1.37097 1.35923 1.35283\n",
       "Proportion of Variance 0.00365 0.00362 0.00359 0.00357 0.00355 0.00349 0.00346\n",
       "Cumulative Proportion  0.38034 0.38397 0.38756 0.39113 0.39468 0.39817 0.40163\n",
       "                          PC43   PC44    PC45    PC46    PC47    PC48    PC49\n",
       "Standard deviation     1.34990 1.3405 1.33214 1.32643 1.32493 1.31405 1.30485\n",
       "Proportion of Variance 0.00344 0.0034 0.00335 0.00333 0.00332 0.00326 0.00322\n",
       "Cumulative Proportion  0.40508 0.4085 0.41183 0.41515 0.41847 0.42173 0.42495\n",
       "                          PC50    PC51    PC52    PC53    PC54    PC55    PC56\n",
       "Standard deviation     1.30345 1.29626 1.29254 1.28613 1.27949 1.27763 1.27066\n",
       "Proportion of Variance 0.00321 0.00318 0.00316 0.00313 0.00309 0.00308 0.00305\n",
       "Cumulative Proportion  0.42816 0.43134 0.43449 0.43762 0.44071 0.44380 0.44685\n",
       "                          PC57    PC58    PC59    PC60    PC61    PC62    PC63\n",
       "Standard deviation     1.26824 1.26585 1.25383 1.25040 1.24300 1.23687 1.23177\n",
       "Proportion of Variance 0.00304 0.00303 0.00297 0.00295 0.00292 0.00289 0.00287\n",
       "Cumulative Proportion  0.44989 0.45292 0.45589 0.45885 0.46177 0.46466 0.46752\n",
       "                          PC64    PC65    PC66    PC67    PC68    PC69    PC70\n",
       "Standard deviation     1.22783 1.22236 1.21446 1.20390 1.20037 1.19862 1.19247\n",
       "Proportion of Variance 0.00285 0.00282 0.00279 0.00274 0.00272 0.00272 0.00269\n",
       "Cumulative Proportion  0.47037 0.47320 0.47598 0.47872 0.48145 0.48416 0.48685\n",
       "                          PC71   PC72    PC73    PC74    PC75    PC76    PC77\n",
       "Standard deviation     1.19129 1.1728 1.16923 1.16705 1.16368 1.16258 1.15311\n",
       "Proportion of Variance 0.00268 0.0026 0.00258 0.00257 0.00256 0.00255 0.00251\n",
       "Cumulative Proportion  0.48953 0.4921 0.49471 0.49729 0.49985 0.50240 0.50491\n",
       "                          PC78    PC79    PC80    PC81    PC82   PC83    PC84\n",
       "Standard deviation     1.14704 1.14264 1.14069 1.13728 1.13617 1.1268 1.12494\n",
       "Proportion of Variance 0.00249 0.00247 0.00246 0.00244 0.00244 0.0024 0.00239\n",
       "Cumulative Proportion  0.50740 0.50987 0.51233 0.51477 0.51721 0.5196 0.52200\n",
       "                          PC85    PC86    PC87    PC88    PC89    PC90    PC91\n",
       "Standard deviation     1.11847 1.11527 1.11160 1.10513 1.10097 1.09845 1.09440\n",
       "Proportion of Variance 0.00236 0.00235 0.00234 0.00231 0.00229 0.00228 0.00226\n",
       "Cumulative Proportion  0.52437 0.52672 0.52905 0.53136 0.53365 0.53593 0.53820\n",
       "                          PC92    PC93    PC94    PC95   PC96    PC97    PC98\n",
       "Standard deviation     1.09172 1.08775 1.08406 1.08155 1.0788 1.07769 1.07665\n",
       "Proportion of Variance 0.00225 0.00224 0.00222 0.00221 0.0022 0.00219 0.00219\n",
       "Cumulative Proportion  0.54045 0.54268 0.54491 0.54712 0.5493 0.55151 0.55370\n",
       "                          PC99   PC100   PC101   PC102   PC103   PC104  PC105\n",
       "Standard deviation     1.07147 1.06673 1.06398 1.06212 1.05941 1.05587 1.0530\n",
       "Proportion of Variance 0.00217 0.00215 0.00214 0.00213 0.00212 0.00211 0.0021\n",
       "Cumulative Proportion  0.55587 0.55802 0.56016 0.56229 0.56441 0.56652 0.5686\n",
       "                         PC106   PC107   PC108   PC109   PC110   PC111   PC112\n",
       "Standard deviation     1.04999 1.04710 1.04588 1.04303 1.03958 1.03776 1.03691\n",
       "Proportion of Variance 0.00208 0.00207 0.00207 0.00206 0.00204 0.00204 0.00203\n",
       "Cumulative Proportion  0.57070 0.57277 0.57484 0.57690 0.57894 0.58097 0.58300\n",
       "                         PC113   PC114 PC115   PC116   PC117   PC118   PC119\n",
       "Standard deviation     1.03503 1.03089 1.030 1.02736 1.02514 1.02183 1.01958\n",
       "Proportion of Variance 0.00202 0.00201 0.002 0.00199 0.00199 0.00197 0.00196\n",
       "Cumulative Proportion  0.58503 0.58704 0.589 0.59104 0.59302 0.59500 0.59696\n",
       "                         PC120   PC121   PC122   PC123   PC124   PC125   PC126\n",
       "Standard deviation     1.01897 1.01772 1.01489 1.01243 1.01015 1.00847 1.00796\n",
       "Proportion of Variance 0.00196 0.00196 0.00195 0.00194 0.00193 0.00192 0.00192\n",
       "Cumulative Proportion  0.59892 0.60088 0.60283 0.60476 0.60669 0.60862 0.61054\n",
       "                         PC127   PC128  PC129   PC130   PC131   PC132   PC133\n",
       "Standard deviation     1.00686 1.00538 1.0020 1.00116 0.99937 0.99873 0.99757\n",
       "Proportion of Variance 0.00192 0.00191 0.0019 0.00189 0.00189 0.00189 0.00188\n",
       "Cumulative Proportion  0.61245 0.61436 0.6163 0.61815 0.62004 0.62193 0.62381\n",
       "                         PC134   PC135   PC136   PC137   PC138   PC139   PC140\n",
       "Standard deviation     0.99726 0.99411 0.99319 0.99165 0.98872 0.98601 0.98528\n",
       "Proportion of Variance 0.00188 0.00187 0.00186 0.00186 0.00185 0.00184 0.00183\n",
       "Cumulative Proportion  0.62569 0.62755 0.62942 0.63128 0.63312 0.63496 0.63680\n",
       "                         PC141   PC142   PC143   PC144  PC145  PC146   PC147\n",
       "Standard deviation     0.98435 0.98319 0.98071 0.97852 0.9767 0.9758 0.97399\n",
       "Proportion of Variance 0.00183 0.00183 0.00182 0.00181 0.0018 0.0018 0.00179\n",
       "Cumulative Proportion  0.63863 0.64045 0.64227 0.64408 0.6459 0.6477 0.64948\n",
       "                         PC148   PC149   PC150   PC151   PC152   PC153   PC154\n",
       "Standard deviation     0.97224 0.97107 0.96881 0.96700 0.96485 0.96247 0.96116\n",
       "Proportion of Variance 0.00179 0.00178 0.00177 0.00177 0.00176 0.00175 0.00175\n",
       "Cumulative Proportion  0.65126 0.65305 0.65482 0.65659 0.65835 0.66010 0.66184\n",
       "                         PC155   PC156   PC157   PC158   PC159   PC160   PC161\n",
       "Standard deviation     0.96046 0.95909 0.95780 0.95761 0.95426 0.95192 0.95038\n",
       "Proportion of Variance 0.00174 0.00174 0.00173 0.00173 0.00172 0.00171 0.00171\n",
       "Cumulative Proportion  0.66359 0.66532 0.66706 0.66879 0.67051 0.67222 0.67393\n",
       "                        PC162  PC163   PC164   PC165   PC166   PC167   PC168\n",
       "Standard deviation     0.9498 0.9472 0.94524 0.94522 0.94448 0.94053 0.94019\n",
       "Proportion of Variance 0.0017 0.0017 0.00169 0.00169 0.00169 0.00167 0.00167\n",
       "Cumulative Proportion  0.6756 0.6773 0.67902 0.68071 0.68239 0.68407 0.68574\n",
       "                         PC169   PC170   PC171   PC172   PC173   PC174   PC175\n",
       "Standard deviation     0.93818 0.93625 0.93582 0.93423 0.93331 0.93122 0.93042\n",
       "Proportion of Variance 0.00166 0.00166 0.00166 0.00165 0.00165 0.00164 0.00164\n",
       "Cumulative Proportion  0.68740 0.68906 0.69071 0.69236 0.69401 0.69565 0.69728\n",
       "                         PC176   PC177   PC178   PC179   PC180   PC181  PC182\n",
       "Standard deviation     0.93004 0.92637 0.92595 0.92504 0.92363 0.92253 0.9197\n",
       "Proportion of Variance 0.00163 0.00162 0.00162 0.00162 0.00161 0.00161 0.0016\n",
       "Cumulative Proportion  0.69892 0.70054 0.70216 0.70378 0.70539 0.70700 0.7086\n",
       "                         PC183   PC184   PC185   PC186   PC187   PC188   PC189\n",
       "Standard deviation     0.91845 0.91708 0.91632 0.91525 0.91462 0.91355 0.91120\n",
       "Proportion of Variance 0.00159 0.00159 0.00159 0.00158 0.00158 0.00158 0.00157\n",
       "Cumulative Proportion  0.71019 0.71178 0.71337 0.71495 0.71653 0.71811 0.71968\n",
       "                         PC190   PC191   PC192   PC193   PC194   PC195   PC196\n",
       "Standard deviation     0.91006 0.90856 0.90767 0.90554 0.90477 0.90407 0.90350\n",
       "Proportion of Variance 0.00157 0.00156 0.00156 0.00155 0.00155 0.00154 0.00154\n",
       "Cumulative Proportion  0.72124 0.72280 0.72436 0.72591 0.72746 0.72900 0.73054\n",
       "                         PC197   PC198   PC199   PC200   PC201   PC202   PC203\n",
       "Standard deviation     0.90171 0.89952 0.89915 0.89768 0.89656 0.89565 0.89476\n",
       "Proportion of Variance 0.00154 0.00153 0.00153 0.00152 0.00152 0.00152 0.00151\n",
       "Cumulative Proportion  0.73208 0.73361 0.73514 0.73666 0.73818 0.73969 0.74121\n",
       "                         PC204   PC205  PC206   PC207   PC208   PC209   PC210\n",
       "Standard deviation     0.89382 0.89267 0.8907 0.88900 0.88733 0.88624 0.88594\n",
       "Proportion of Variance 0.00151 0.00151 0.0015 0.00149 0.00149 0.00148 0.00148\n",
       "Cumulative Proportion  0.74272 0.74422 0.7457 0.74722 0.74870 0.75019 0.75167\n",
       "                         PC211   PC212   PC213   PC214   PC215   PC216   PC217\n",
       "Standard deviation     0.88257 0.88164 0.88045 0.87891 0.87749 0.87700 0.87465\n",
       "Proportion of Variance 0.00147 0.00147 0.00147 0.00146 0.00146 0.00145 0.00145\n",
       "Cumulative Proportion  0.75314 0.75461 0.75608 0.75754 0.75899 0.76045 0.76189\n",
       "                         PC218   PC219   PC220   PC221   PC222   PC223   PC224\n",
       "Standard deviation     0.87251 0.87171 0.87026 0.86848 0.86749 0.86646 0.86599\n",
       "Proportion of Variance 0.00144 0.00144 0.00143 0.00143 0.00142 0.00142 0.00142\n",
       "Cumul"
      ]
     },
     "metadata": {},
     "output_type": "display_data"
    },
    {
     "data": {
      "text/html": [
       "<b>limit_output extension: Maximum message size of 10000 exceeded with 24645 characters</b>"
      ]
     },
     "metadata": {},
     "output_type": "display_data"
    }
   ],
   "source": [
    "summary(prin_comp_train)"
   ]
  },
  {
   "cell_type": "code",
   "execution_count": 56,
   "metadata": {
    "collapsed": false,
    "scrolled": false
   },
   "outputs": [
    {
     "data": {
      "text/plain": [
       "Importance of components:\n",
       "                           PC1     PC2     PC3     PC4    PC5     PC6     PC7\n",
       "Standard deviation     6.09280 5.21158 4.69597 3.64674 3.4368 2.91156 2.72717\n",
       "Proportion of Variance 0.06694 0.04898 0.03976 0.02398 0.0213 0.01529 0.01341\n",
       "Cumulative Proportion  0.06694 0.11592 0.15568 0.17966 0.2010 0.21624 0.22966\n",
       "                           PC8     PC9    PC10    PC11   PC12    PC13    PC14\n",
       "Standard deviation     2.54058 2.39377 2.23603 2.10826 1.9566 1.89676 1.87985\n",
       "Proportion of Variance 0.01164 0.01033 0.00902 0.00801 0.0069 0.00649 0.00637\n",
       "Cumulative Proportion  0.24129 0.25163 0.26064 0.26866 0.2756 0.28205 0.28842\n",
       "                          PC15    PC16   PC17    PC18    PC19   PC20    PC21\n",
       "Standard deviation     1.86677 1.84037 1.7932 1.76525 1.74790 1.7140 1.68374\n",
       "Proportion of Variance 0.00628 0.00611 0.0058 0.00562 0.00551 0.0053 0.00511\n",
       "Cumulative Proportion  0.29470 0.30081 0.3066 0.31223 0.31774 0.3230 0.32815\n",
       "                          PC22    PC23    PC24   PC25    PC26    PC27    PC28\n",
       "Standard deviation     1.67540 1.66940 1.65131 1.6310 1.60968 1.60381 1.59619\n",
       "Proportion of Variance 0.00506 0.00503 0.00492 0.0048 0.00467 0.00464 0.00459\n",
       "Cumulative Proportion  0.33321 0.33823 0.34315 0.3479 0.35262 0.35726 0.36185\n",
       "                          PC29   PC30    PC31    PC32    PC33    PC34    PC35\n",
       "Standard deviation     1.57109 1.5616 1.55347 1.53761 1.52370 1.51711 1.51326\n",
       "Proportion of Variance 0.00445 0.0044 0.00435 0.00426 0.00419 0.00415 0.00413\n",
       "Cumulative Proportion  0.36630 0.3707 0.37505 0.37932 0.38350 0.38765 0.39178\n",
       "                          PC36    PC37    PC38    PC39    PC40    PC41    PC42\n",
       "Standard deviation     1.50369 1.48647 1.46373 1.46042 1.45382 1.44532 1.43964\n",
       "Proportion of Variance 0.00408 0.00398 0.00386 0.00385 0.00381 0.00377 0.00374\n",
       "Cumulative Proportion  0.39586 0.39984 0.40371 0.40755 0.41136 0.41513 0.41887\n",
       "                          PC43    PC44    PC45    PC46    PC47    PC48    PC49\n",
       "Standard deviation     1.41506 1.40936 1.40222 1.39493 1.38649 1.38043 1.36913\n",
       "Proportion of Variance 0.00361 0.00358 0.00355 0.00351 0.00347 0.00344 0.00338\n",
       "Cumulative Proportion  0.42248 0.42606 0.42961 0.43311 0.43658 0.44002 0.44340\n",
       "                          PC50    PC51    PC52    PC53    PC54    PC55    PC56\n",
       "Standard deviation     1.36094 1.35997 1.35108 1.34620 1.34307 1.33431 1.32947\n",
       "Proportion of Variance 0.00334 0.00334 0.00329 0.00327 0.00325 0.00321 0.00319\n",
       "Cumulative Proportion  0.44674 0.45007 0.45336 0.45663 0.45988 0.46309 0.46628\n",
       "                          PC57    PC58    PC59    PC60    PC61   PC62    PC63\n",
       "Standard deviation     1.31589 1.30547 1.30034 1.29765 1.29495 1.2890 1.27992\n",
       "Proportion of Variance 0.00312 0.00307 0.00305 0.00304 0.00302 0.0030 0.00295\n",
       "Cumulative Proportion  0.46940 0.47248 0.47553 0.47856 0.48159 0.4846 0.48754\n",
       "                          PC64    PC65    PC66    PC67    PC68   PC69    PC70\n",
       "Standard deviation     1.27919 1.27002 1.26133 1.25765 1.25694 1.2450 1.23972\n",
       "Proportion of Variance 0.00295 0.00291 0.00287 0.00285 0.00285 0.0028 0.00277\n",
       "Cumulative Proportion  0.49049 0.49340 0.49626 0.49912 0.50197 0.5048 0.50753\n",
       "                          PC71    PC72   PC73    PC74    PC75    PC76    PC77\n",
       "Standard deviation     1.23125 1.22716 1.2238 1.22100 1.21630 1.20852 1.20746\n",
       "Proportion of Variance 0.00273 0.00272 0.0027 0.00269 0.00267 0.00263 0.00263\n",
       "Cumulative Proportion  0.51027 0.51298 0.5157 0.51837 0.52104 0.52367 0.52630\n",
       "                          PC78    PC79    PC80    PC81    PC82    PC83    PC84\n",
       "Standard deviation     1.19775 1.19262 1.19047 1.18891 1.18125 1.17959 1.17574\n",
       "Proportion of Variance 0.00259 0.00256 0.00256 0.00255 0.00252 0.00251 0.00249\n",
       "Cumulative Proportion  0.52889 0.53145 0.53401 0.53656 0.53907 0.54158 0.54407\n",
       "                          PC85    PC86    PC87    PC88    PC89   PC90    PC91\n",
       "Standard deviation     1.17387 1.16968 1.16274 1.16108 1.15675 1.1533 1.15019\n",
       "Proportion of Variance 0.00248 0.00247 0.00244 0.00243 0.00241 0.0024 0.00239\n",
       "Cumulative Proportion  0.54656 0.54903 0.55146 0.55390 0.55631 0.5587 0.56109\n",
       "                          PC92    PC93    PC94    PC95    PC96    PC97    PC98\n",
       "Standard deviation     1.14824 1.14292 1.13986 1.13571 1.13127 1.12709 1.12685\n",
       "Proportion of Variance 0.00238 0.00236 0.00234 0.00233 0.00231 0.00229 0.00229\n",
       "Cumulative Proportion  0.56347 0.56582 0.56817 0.57049 0.57280 0.57509 0.57738\n",
       "                          PC99   PC100   PC101   PC102   PC103   PC104  PC105\n",
       "Standard deviation     1.12287 1.12064 1.11552 1.11013 1.10935 1.10633 1.1037\n",
       "Proportion of Variance 0.00227 0.00226 0.00224 0.00222 0.00222 0.00221 0.0022\n",
       "Cumulative Proportion  0.57966 0.58192 0.58416 0.58639 0.58860 0.59081 0.5930\n",
       "                         PC106   PC107   PC108   PC109   PC110   PC111   PC112\n",
       "Standard deviation     1.09925 1.09489 1.09374 1.08984 1.08719 1.08626 1.08538\n",
       "Proportion of Variance 0.00218 0.00216 0.00216 0.00214 0.00213 0.00213 0.00212\n",
       "Cumulative Proportion  0.59519 0.59735 0.59951 0.60165 0.60378 0.60591 0.60803\n",
       "                         PC113   PC114   PC115   PC116   PC117   PC118   PC119\n",
       "Standard deviation     1.08138 1.07734 1.07484 1.06790 1.06679 1.06443 1.06119\n",
       "Proportion of Variance 0.00211 0.00209 0.00208 0.00206 0.00205 0.00204 0.00203\n",
       "Cumulative Proportion  0.61014 0.61223 0.61432 0.61637 0.61842 0.62047 0.62250\n",
       "                         PC120   PC121  PC122   PC123   PC124   PC125   PC126\n",
       "Standard deviation     1.05960 1.05585 1.0540 1.05032 1.04819 1.04643 1.04245\n",
       "Proportion of Variance 0.00202 0.00201 0.0020 0.00199 0.00198 0.00197 0.00196\n",
       "Cumulative Proportion  0.62452 0.62653 0.6285 0.63053 0.63251 0.63448 0.63644\n",
       "                         PC127   PC128   PC129   PC130   PC131   PC132   PC133\n",
       "Standard deviation     1.03875 1.03669 1.03464 1.03284 1.03127 1.03047 1.02804\n",
       "Proportion of Variance 0.00195 0.00194 0.00193 0.00192 0.00192 0.00191 0.00191\n",
       "Cumulative Proportion  0.63839 0.64032 0.64225 0.64418 0.64610 0.64801 0.64992\n",
       "                         PC134   PC135   PC136   PC137   PC138   PC139   PC140\n",
       "Standard deviation     1.02373 1.02301 1.02114 1.01799 1.01564 1.01324 1.01140\n",
       "Proportion of Variance 0.00189 0.00189 0.00188 0.00187 0.00186 0.00185 0.00184\n",
       "Cumulative Proportion  0.65181 0.65369 0.65557 0.65744 0.65930 0.66115 0.66300\n",
       "                         PC141   PC142   PC143   PC144  PC145   PC146   PC147\n",
       "Standard deviation     1.00860 1.00611 1.00385 1.00266 0.9999 0.99686 0.99535\n",
       "Proportion of Variance 0.00183 0.00183 0.00182 0.00181 0.0018 0.00179 0.00179\n",
       "Cumulative Proportion  0.66483 0.66666 0.66847 0.67029 0.6721 0.67388 0.67567\n",
       "                         PC148   PC149   PC150   PC151   PC152   PC153   PC154\n",
       "Standard deviation     0.99438 0.99223 0.99012 0.98659 0.98323 0.98132 0.98027\n",
       "Proportion of Variance 0.00178 0.00178 0.00177 0.00176 0.00174 0.00174 0.00173\n",
       "Cumulative Proportion  0.67745 0.67923 0.68099 0.68275 0.68449 0.68623 0.68796\n",
       "                         PC155   PC156  PC157  PC158   PC159   PC160   PC161\n",
       "Standard deviation     0.97721 0.97453 0.9718 0.9702 0.96888 0.96569 0.96402\n",
       "Proportion of Variance 0.00172 0.00171 0.0017 0.0017 0.00169 0.00168 0.00168\n",
       "Cumulative Proportion  0.68968 0.69140 0.6931 0.6948 0.69649 0.69817 0.69985\n",
       "                         PC162   PC163   PC164   PC165   PC166   PC167   PC168\n",
       "Standard deviation     0.96179 0.95938 0.95807 0.95644 0.95519 0.95163 0.95025\n",
       "Proportion of Variance 0.00167 0.00166 0.00166 0.00165 0.00165 0.00163 0.00163\n",
       "Cumulative Proportion  0.70152 0.70318 0.70483 0.70648 0.70813 0.70976 0.71139\n",
       "                         PC169   PC170  PC171  PC172  PC173   PC174   PC175\n",
       "Standard deviation     0.94884 0.94608 0.9431 0.9418 0.9412 0.93951 0.93774\n",
       "Proportion of Variance 0.00162 0.00161 0.0016 0.0016 0.0016 0.00159 0.00159\n",
       "Cumulative Proportion  0.71301 0.71462 0.7162 0.7178 0.7194 0.72102 0.72260\n",
       "                         PC176   PC177   PC178   PC179   PC180   PC181   PC182\n",
       "Standard deviation     0.93644 0.93292 0.93116 0.92935 0.92799 0.92523 0.92385\n",
       "Proportion of Variance 0.00158 0.00157 0.00156 0.00156 0.00155 0.00154 0.00154\n",
       "Cumulative Proportion  0.72418 0.72575 0.72732 0.72887 0.73043 0.73197 0.73351\n",
       "                         PC183   PC184   PC185  PC186  PC187   PC188   PC189\n",
       "Standard deviation     0.92167 0.91860 0.91491 0.9133 0.9114 0.90968 0.90898\n",
       "Proportion of Variance 0.00153 0.00152 0.00151 0.0015 0.0015 0.00149 0.00149\n",
       "Cumulative Proportion  0.73504 0.73656 0.73807 0.7396 0.7411 0.74257 0.74406\n",
       "                         PC190   PC191   PC192   PC193   PC194   PC195   PC196\n",
       "Standard deviation     0.90736 0.90585 0.90262 0.90110 0.90020 0.89623 0.89550\n",
       "Proportion of Variance 0.00148 0.00148 0.00147 0.00146 0.00146 0.00145 0.00145\n",
       "Cumulative Proportion  0.74554 0.74702 0.74849 0.74995 0.75141 0.75286 0.75431\n",
       "                         PC197   PC198   PC199   PC200   PC201   PC202  PC203\n",
       "Standard deviation     0.89359 0.89126 0.88984 0.88751 0.88606 0.88438 0.8824\n",
       "Proportion of Variance 0.00144 0.00143 0.00143 0.00142 0.00142 0.00141 0.0014\n",
       "Cumulative Proportion  0.75575 0.75718 0.75861 0.76003 0.76144 0.76286 0.7643\n",
       "                        PC204   PC205   PC206   PC207   PC208   PC209   PC210\n",
       "Standard deviation     0.8803 0.87649 0.87643 0.87423 0.87385 0.87186 0.86966\n",
       "Proportion of Variance 0.0014 0.00139 0.00139 0.00138 0.00138 0.00137 0.00136\n",
       "Cumulative Proportion  0.7657 0.76704 0.76843 0.76981 0.77118 0.77255 0.77392\n",
       "                         PC211   PC212   PC213   PC214   PC215   PC216   PC217\n",
       "Standard deviation     0.86852 0.86668 0.86620 0.86381 0.86226 0.85943 0.85715\n",
       "Proportion of Variance 0.00136 0.00135 0.00135 0.00135 0.00134 0.00133 0.00132\n",
       "Cumulative Proportion  0.77528 0.77663 0.77798 0.77933 0.78067 0.78200 0.78333\n",
       "                         PC218   PC219   PC220  PC221  PC222   PC223   PC224\n",
       "Standard deviation     0.85502 0.85368 0.85094 0.8495 0.8490 0.84707 0.84373\n",
       "Proportion of Variance 0.00132 0.00131 0.00131 0.0013 0.0013 0.00129 0.00128\n",
       "Cumulative Proportion  0.78465 0.78"
      ]
     },
     "metadata": {},
     "output_type": "display_data"
    },
    {
     "data": {
      "text/html": [
       "<b>limit_output extension: Maximum message size of 10000 exceeded with 25785 characters</b>"
      ]
     },
     "metadata": {},
     "output_type": "display_data"
    }
   ],
   "source": [
    "summary(prin_comp_test)"
   ]
  },
  {
   "cell_type": "code",
   "execution_count": 57,
   "metadata": {
    "collapsed": true,
    "extensions": {
     "jupyter_dashboards": {
      "version": 1,
      "views": {
       "grid_default": {
        "hidden": true
       },
       "report_default": {
        "hidden": true
       }
      }
     }
    },
    "nbpresent": {
     "id": "8a86db81-a40b-4953-9f40-aa52fee83879"
    }
   },
   "outputs": [],
   "source": [
    "pca_train = as.data.frame(prin_comp_train$x)\n",
    "pca_test = as.data.frame(prin_comp_test$x)"
   ]
  },
  {
   "cell_type": "markdown",
   "metadata": {},
   "source": [
    "**From the above graphs and the summary, we see that around ~338 Principal Components contribute to ~90 of variance in the dependent variable. Hence, we will choose those 338 Principal Components to build our model.**"
   ]
  },
  {
   "cell_type": "code",
   "execution_count": 58,
   "metadata": {
    "collapsed": true,
    "extensions": {
     "jupyter_dashboards": {
      "version": 1,
      "views": {
       "grid_default": {
        "hidden": true
       },
       "report_default": {
        "hidden": true
       }
      }
     }
    },
    "nbpresent": {
     "id": "231ce9a2-7e35-47d6-8487-04166076d558"
    }
   },
   "outputs": [],
   "source": [
    "pca_train_data = pca_train[,1:338]\n",
    "pca_test_data = pca_test[,1:338]"
   ]
  },
  {
   "cell_type": "code",
   "execution_count": 59,
   "metadata": {
    "collapsed": false,
    "extensions": {
     "jupyter_dashboards": {
      "version": 1,
      "views": {
       "grid_default": {
        "hidden": true
       },
       "report_default": {
        "hidden": true
       }
      }
     }
    },
    "nbpresent": {
     "id": "c4ab48fb-699b-4dc0-bb97-8054382af329"
    }
   },
   "outputs": [],
   "source": [
    "train_categorical_describe = h2o.describe(train_data_categorical)\n",
    "test_categorical_describe = h2o.describe(test_data_categorical)"
   ]
  },
  {
   "cell_type": "markdown",
   "metadata": {},
   "source": [
    "Because of a bug in the h2o R package, I was not able to convert the Zeros and Missing columns of the train_categorical_describe and test_categorical_describe tables into numerics and hence I had to create a workaround of saving the tables into a csv file and converting the above mentioned columns into numerics and then reloading the csv file."
   ]
  },
  {
   "cell_type": "markdown",
   "metadata": {
    "collapsed": false,
    "extensions": {
     "jupyter_dashboards": {
      "version": 1,
      "views": {
       "grid_default": {
        "hidden": true
       },
       "report_default": {
        "hidden": true
       }
      }
     }
    }
   },
   "source": [
    "**I first download the train and test describe data as csv files with the following formulae:**\n",
    "\n",
    "write.csv(train_categorical_describe, 'train_categorical_describe.csv')\n",
    "\n",
    "write.csv(test_categorical_describe, 'test_categorical_describe.csv')"
   ]
  },
  {
   "cell_type": "markdown",
   "metadata": {},
   "source": [
    "**Then I convert the Zeros and Missing columns into numerics (from csv files) and then upload them into train_categorical_describe and test_categorical_describe objects**"
   ]
  },
  {
   "cell_type": "code",
   "execution_count": 60,
   "metadata": {
    "collapsed": true,
    "extensions": {
     "jupyter_dashboards": {
      "version": 1,
      "views": {
       "grid_default": {
        "hidden": true
       },
       "report_default": {
        "hidden": true
       }
      }
     }
    },
    "nbpresent": {
     "id": "4ea5c464-7a5e-4e38-9982-2062c351cd28"
    }
   },
   "outputs": [],
   "source": [
    "train_categorical_describe = read.csv('train_categorical_describe.csv')\n",
    "test_categorical_describe = read.csv('test_categorical_describe.csv')"
   ]
  },
  {
   "cell_type": "code",
   "execution_count": 61,
   "metadata": {
    "collapsed": true,
    "extensions": {
     "jupyter_dashboards": {
      "version": 1,
      "views": {
       "grid_default": {
        "hidden": true
       },
       "report_default": {
        "hidden": true
       }
      }
     }
    },
    "nbpresent": {
     "id": "025f8fab-fdeb-4e30-ba0a-f649a97ed054"
    }
   },
   "outputs": [],
   "source": [
    "train_categorical_filter = filter(train_categorical_describe, train_categorical_describe$Cardinality <= 32)\n",
    "test_categorical_filter = filter(test_categorical_describe, test_categorical_describe$Cardinality <= 32)"
   ]
  },
  {
   "cell_type": "code",
   "execution_count": 62,
   "metadata": {
    "collapsed": false,
    "extensions": {
     "jupyter_dashboards": {
      "version": 1,
      "views": {
       "grid_default": {
        "col": 0,
        "height": 4,
        "hidden": false,
        "row": 190,
        "width": 4
       },
       "report_default": {
        "hidden": false
       }
      }
     }
    },
    "nbpresent": {
     "id": "fd4d7719-572c-4d0c-b245-b7b840e5123e"
    }
   },
   "outputs": [
    {
     "data": {
      "text/html": [
       "<ol class=list-inline>\n",
       "\t<li>1</li>\n",
       "\t<li>2</li>\n",
       "\t<li>14</li>\n",
       "\t<li>6</li>\n",
       "\t<li>3</li>\n",
       "\t<li>22</li>\n",
       "\t<li>30</li>\n",
       "\t<li>5</li>\n",
       "\t<li>7</li>\n",
       "\t<li>12</li>\n",
       "\t<li>9</li>\n",
       "\t<li>4</li>\n",
       "\t<li>23</li>\n",
       "\t<li>15</li>\n",
       "\t<li>11</li>\n",
       "\t<li>21</li>\n",
       "</ol>\n"
      ],
      "text/latex": [
       "\\begin{enumerate*}\n",
       "\\item 1\n",
       "\\item 2\n",
       "\\item 14\n",
       "\\item 6\n",
       "\\item 3\n",
       "\\item 22\n",
       "\\item 30\n",
       "\\item 5\n",
       "\\item 7\n",
       "\\item 12\n",
       "\\item 9\n",
       "\\item 4\n",
       "\\item 23\n",
       "\\item 15\n",
       "\\item 11\n",
       "\\item 21\n",
       "\\end{enumerate*}\n"
      ],
      "text/markdown": [
       "1. 1\n",
       "2. 2\n",
       "3. 14\n",
       "4. 6\n",
       "5. 3\n",
       "6. 22\n",
       "7. 30\n",
       "8. 5\n",
       "9. 7\n",
       "10. 12\n",
       "11. 9\n",
       "12. 4\n",
       "13. 23\n",
       "14. 15\n",
       "15. 11\n",
       "16. 21\n",
       "\n",
       "\n"
      ],
      "text/plain": [
       " [1]  1  2 14  6  3 22 30  5  7 12  9  4 23 15 11 21"
      ]
     },
     "metadata": {},
     "output_type": "display_data"
    },
    {
     "data": {
      "text/html": [
       "<ol class=list-inline>\n",
       "\t<li>1</li>\n",
       "\t<li>2</li>\n",
       "\t<li>11</li>\n",
       "\t<li>6</li>\n",
       "\t<li>3</li>\n",
       "\t<li>28</li>\n",
       "\t<li>13</li>\n",
       "\t<li>27</li>\n",
       "\t<li>7</li>\n",
       "\t<li>8</li>\n",
       "\t<li>9</li>\n",
       "\t<li>12</li>\n",
       "\t<li>4</li>\n",
       "\t<li>16</li>\n",
       "\t<li>10</li>\n",
       "\t<li>21</li>\n",
       "\t<li>23</li>\n",
       "</ol>\n"
      ],
      "text/latex": [
       "\\begin{enumerate*}\n",
       "\\item 1\n",
       "\\item 2\n",
       "\\item 11\n",
       "\\item 6\n",
       "\\item 3\n",
       "\\item 28\n",
       "\\item 13\n",
       "\\item 27\n",
       "\\item 7\n",
       "\\item 8\n",
       "\\item 9\n",
       "\\item 12\n",
       "\\item 4\n",
       "\\item 16\n",
       "\\item 10\n",
       "\\item 21\n",
       "\\item 23\n",
       "\\end{enumerate*}\n"
      ],
      "text/markdown": [
       "1. 1\n",
       "2. 2\n",
       "3. 11\n",
       "4. 6\n",
       "5. 3\n",
       "6. 28\n",
       "7. 13\n",
       "8. 27\n",
       "9. 7\n",
       "10. 8\n",
       "11. 9\n",
       "12. 12\n",
       "13. 4\n",
       "14. 16\n",
       "15. 10\n",
       "16. 21\n",
       "17. 23\n",
       "\n",
       "\n"
      ],
      "text/plain": [
       " [1]  1  2 11  6  3 28 13 27  7  8  9 12  4 16 10 21 23"
      ]
     },
     "metadata": {},
     "output_type": "display_data"
    }
   ],
   "source": [
    "unique(train_categorical_filter$Cardinality)\n",
    "unique(test_categorical_filter$Cardinality)"
   ]
  },
  {
   "cell_type": "code",
   "execution_count": 63,
   "metadata": {
    "collapsed": false,
    "extensions": {
     "jupyter_dashboards": {
      "version": 1,
      "views": {
       "grid_default": {
        "hidden": true
       },
       "report_default": {
        "hidden": true
       }
      }
     }
    },
    "nbpresent": {
     "id": "c96cd179-0ebe-4291-a9ec-a1e4466c037c"
    }
   },
   "outputs": [],
   "source": [
    "train_data_categorical = train_data_categorical[, train_categorical_filter$Label]\n",
    "test_data_categorical = test_data_categorical[, test_categorical_filter$Label]"
   ]
  },
  {
   "cell_type": "code",
   "execution_count": 64,
   "metadata": {
    "collapsed": true,
    "extensions": {
     "jupyter_dashboards": {
      "version": 1,
      "views": {
       "grid_default": {
        "hidden": true
       },
       "report_default": {
        "hidden": true
       }
      }
     }
    },
    "nbpresent": {
     "id": "a1715274-4645-41bb-b5a0-e368640788a6"
    }
   },
   "outputs": [],
   "source": [
    "train_data_categorical = as.data.frame(train_data_categorical, stringsAsFactors = FALSE)\n",
    "test_data_categorical = as.data.frame(test_data_categorical, stringsAsFactors = FALSE)"
   ]
  },
  {
   "cell_type": "code",
   "execution_count": 65,
   "metadata": {
    "collapsed": false,
    "extensions": {
     "jupyter_dashboards": {
      "version": 1,
      "views": {
       "grid_default": {
        "hidden": true
       },
       "report_default": {
        "hidden": true
       }
      }
     }
    },
    "nbpresent": {
     "id": "7964371d-3c50-48c5-ab7d-f8c8b106575c"
    }
   },
   "outputs": [],
   "source": [
    "nulls = c(\"Var14741\", \"Var14776\", \"Var14850\", \"Var14869\", \"Var14876\", \"Var14912\", \"Var14922\", \"Var14942\", \"Var14984\", \"Var14745\", \"Var14817\", \"Var14802\", \"Var14946\")"
   ]
  },
  {
   "cell_type": "code",
   "execution_count": 66,
   "metadata": {
    "collapsed": false,
    "extensions": {
     "jupyter_dashboards": {
      "version": 1,
      "views": {
       "grid_default": {
        "hidden": true
       },
       "report_default": {
        "hidden": true
       }
      }
     }
    },
    "nbpresent": {
     "id": "318afb3a-39a2-4f69-aa43-7f690ceda2a4"
    }
   },
   "outputs": [],
   "source": [
    "train_data_categorical = train_data_categorical[, !colnames(train_data_categorical) %in% nulls]\n",
    "test_data_categorical = test_data_categorical[, !colnames(test_data_categorical) %in% nulls]"
   ]
  },
  {
   "cell_type": "code",
   "execution_count": 67,
   "metadata": {
    "collapsed": true,
    "extensions": {
     "jupyter_dashboards": {
      "version": 1,
      "views": {
       "grid_default": {
        "hidden": true
       },
       "report_default": {
        "hidden": true
       }
      }
     }
    },
    "nbpresent": {
     "id": "3eb73f08-aefa-4f45-8ed2-6ac2ad3b1a18"
    }
   },
   "outputs": [],
   "source": [
    "train_data_categorical = train_data_categorical %>% mutate_if(is.factor,as.character)\n",
    "test_data_categorical = test_data_categorical %>% mutate_if(is.factor,as.character)"
   ]
  },
  {
   "cell_type": "code",
   "execution_count": 68,
   "metadata": {
    "collapsed": false,
    "extensions": {
     "jupyter_dashboards": {
      "version": 1,
      "views": {
       "grid_default": {
        "hidden": true
       },
       "report_default": {
        "hidden": true
       }
      }
     }
    },
    "nbpresent": {
     "id": "43126789-1a41-4bb3-933d-a1cb726e11c1"
    }
   },
   "outputs": [],
   "source": [
    "train_data_categorical[is.na(train_data_categorical)] = \"Not Available\"\n",
    "test_data_categorical[is.na(test_data_categorical)] = \"Not Available\""
   ]
  },
  {
   "cell_type": "code",
   "execution_count": 69,
   "metadata": {
    "collapsed": false,
    "extensions": {
     "jupyter_dashboards": {
      "version": 1,
      "views": {
       "grid_default": {
        "hidden": true
       },
       "report_default": {
        "hidden": true
       }
      }
     }
    },
    "nbpresent": {
     "id": "6ad93bd0-cd16-4ee1-9815-6e58d82bb9ce"
    }
   },
   "outputs": [],
   "source": [
    "train_data = data.frame(pca_train_data, train_data_categorical)\n",
    "test_data = data.frame(pca_test_data, test_data_categorical)"
   ]
  },
  {
   "cell_type": "code",
   "execution_count": 70,
   "metadata": {
    "collapsed": false,
    "extensions": {
     "jupyter_dashboards": {
      "version": 1,
      "views": {
       "grid_default": {
        "col": 0,
        "height": 4,
        "hidden": false,
        "row": 194,
        "width": 4
       },
       "report_default": {
        "hidden": false
       }
      }
     }
    },
    "nbpresent": {
     "id": "bea316c4-0e18-4d6f-a2ae-b9a3f5c88649"
    }
   },
   "outputs": [
    {
     "name": "stdout",
     "output_type": "stream",
     "text": [
      "\r",
      "  |                                                                            \r",
      "  |                                                                      |   0%\r",
      "  |                                                                            \r",
      "  |======================================================================| 100%\n"
     ]
    }
   ],
   "source": [
    "train_h2o = as.h2o(train_data)"
   ]
  },
  {
   "cell_type": "code",
   "execution_count": 71,
   "metadata": {
    "collapsed": false,
    "extensions": {
     "jupyter_dashboards": {
      "version": 1,
      "views": {
       "grid_default": {
        "hidden": true
       },
       "report_default": {
        "hidden": true
       }
      }
     }
    },
    "scrolled": true
   },
   "outputs": [
    {
     "name": "stdout",
     "output_type": "stream",
     "text": [
      "\r",
      "  |                                                                            \r",
      "  |                                                                      |   0%\r",
      "  |                                                                            \r",
      "  |======================================================================| 100%\n"
     ]
    }
   ],
   "source": [
    "train_output = h2o.importFile(path = normalizePath(\"C:/Users/amanur/Training_Target.csv\"))"
   ]
  },
  {
   "cell_type": "code",
   "execution_count": 72,
   "metadata": {
    "collapsed": false,
    "extensions": {
     "jupyter_dashboards": {
      "version": 1,
      "views": {
       "grid_default": {
        "hidden": true
       },
       "report_default": {
        "hidden": true
       }
      }
     }
    }
   },
   "outputs": [
    {
     "data": {
      "text/html": [
       "45000"
      ],
      "text/latex": [
       "45000"
      ],
      "text/markdown": [
       "45000"
      ],
      "text/plain": [
       "[1] 45000"
      ]
     },
     "metadata": {},
     "output_type": "display_data"
    }
   ],
   "source": [
    "nrow.H2OFrame(train_output)"
   ]
  },
  {
   "cell_type": "code",
   "execution_count": 73,
   "metadata": {
    "collapsed": true,
    "extensions": {
     "jupyter_dashboards": {
      "version": 1,
      "views": {
       "grid_default": {
        "hidden": true
       },
       "report_default": {
        "hidden": true
       }
      }
     }
    },
    "nbpresent": {
     "id": "6631720a-163e-476c-9823-f5c2f2ae314f"
    }
   },
   "outputs": [],
   "source": [
    "train_h2o$Output = train_output$Target"
   ]
  },
  {
   "cell_type": "code",
   "execution_count": 74,
   "metadata": {
    "collapsed": true
   },
   "outputs": [],
   "source": [
    "train_h2o$Output = h2o.asfactor(train_h2o$Output)"
   ]
  },
  {
   "cell_type": "code",
   "execution_count": 75,
   "metadata": {
    "collapsed": false
   },
   "outputs": [
    {
     "data": {
      "text/plain": [
       " Output  \n",
       " 0:41711 \n",
       " 1: 3289 "
      ]
     },
     "metadata": {},
     "output_type": "display_data"
    }
   ],
   "source": [
    "summary(train_h2o$Output, exact_quantiles = TRUE)"
   ]
  },
  {
   "cell_type": "markdown",
   "metadata": {},
   "source": [
    "**As we see in the above summary, the number of 0s in the Output are way more than the number of 1s. Hence, this dataset contains unbalanced class distributions issue. To address this issue, we will use the Oversampling and Undersampling methods.**"
   ]
  },
  {
   "cell_type": "code",
   "execution_count": 76,
   "metadata": {
    "collapsed": true,
    "extensions": {
     "jupyter_dashboards": {
      "version": 1,
      "views": {
       "grid_default": {
        "hidden": true
       },
       "report_default": {
        "hidden": true
       }
      }
     }
    },
    "nbpresent": {
     "id": "dd9a9e61-4137-4404-a754-2dd725e1cc2d"
    }
   },
   "outputs": [],
   "source": [
    "splits = h2o.splitFrame(train_h2o, c(0.8,0.1), seed = 1234)\n",
    "train = h2o.assign(splits[[1]], \"train.hex\")\n",
    "valid = h2o.assign(splits[[2]], \"valid.hex\")\n",
    "test =  h2o.assign(splits[[3]], \"test.hex\")"
   ]
  },
  {
   "cell_type": "code",
   "execution_count": 77,
   "metadata": {
    "collapsed": false,
    "extensions": {
     "jupyter_dashboards": {
      "version": 1,
      "views": {
       "grid_default": {
        "hidden": true
       },
       "report_default": {
        "hidden": true
       }
      }
     }
    },
    "nbpresent": {
     "id": "a683d00f-ce3f-4ea8-88ad-4a6bf7f5362f"
    }
   },
   "outputs": [],
   "source": [
    "train_df = as.data.frame(train)\n",
    "valid_df = as.data.frame(valid)\n",
    "test_df = as.data.frame(test)"
   ]
  },
  {
   "cell_type": "markdown",
   "metadata": {
    "extensions": {
     "jupyter_dashboards": {
      "version": 1,
      "views": {
       "grid_default": {
        "col": 0,
        "height": 4,
        "hidden": false,
        "row": 198,
        "width": 4
       },
       "report_default": {
        "hidden": false
       }
      }
     }
    },
    "nbpresent": {
     "id": "832ef3e9-df57-4b2d-8bbc-91512a642b43"
    }
   },
   "source": [
    "**Create separate balanced datasets using Oversampling and Undersampling techniques**"
   ]
  },
  {
   "cell_type": "code",
   "execution_count": 78,
   "metadata": {
    "collapsed": false,
    "extensions": {
     "jupyter_dashboards": {
      "version": 1,
      "views": {
       "grid_default": {
        "hidden": true
       },
       "report_default": {
        "hidden": true
       }
      }
     }
    },
    "nbpresent": {
     "id": "1ee09a30-ff73-420d-90de-764dc3ff6793"
    }
   },
   "outputs": [],
   "source": [
    "n_train = ncol(train_df)\n",
    "n_valid = ncol(valid_df)\n",
    "n_test = ncol(test_df)"
   ]
  },
  {
   "cell_type": "code",
   "execution_count": 79,
   "metadata": {
    "collapsed": false,
    "extensions": {
     "jupyter_dashboards": {
      "version": 1,
      "views": {
       "grid_default": {
        "hidden": true
       },
       "report_default": {
        "hidden": true
       }
      }
     }
    },
    "nbpresent": {
     "id": "e3cce739-3c62-47bd-9b01-2846a662a5f0"
    }
   },
   "outputs": [],
   "source": [
    "input_train = train_df[,-n_train]\n",
    "output_train = train_df$Output\n",
    "\n",
    "input_valid = valid_df[,-n_valid]\n",
    "output_valid = valid_df$Output\n",
    "\n",
    "input_test = test_df[,-n_test]\n",
    "output_test = test_df$Output"
   ]
  },
  {
   "cell_type": "code",
   "execution_count": 80,
   "metadata": {
    "collapsed": false,
    "extensions": {
     "jupyter_dashboards": {
      "version": 1,
      "views": {
       "grid_default": {
        "hidden": true
       },
       "report_default": {
        "hidden": true
       }
      }
     }
    },
    "nbpresent": {
     "id": "35f04403-d05f-4faf-b199-6b1ec5abf08d"
    }
   },
   "outputs": [],
   "source": [
    "input_train = as.data.frame(input_train)\n",
    "output_train = as.data.frame(output_train)\n",
    "\n",
    "input_valid = as.data.frame(input_valid)\n",
    "output_valid = as.data.frame(output_valid)\n",
    "\n",
    "input_test = as.data.frame(input_test)\n",
    "output_test = as.data.frame(output_test)"
   ]
  },
  {
   "cell_type": "code",
   "execution_count": 81,
   "metadata": {
    "collapsed": false,
    "extensions": {
     "jupyter_dashboards": {
      "version": 1,
      "views": {
       "grid_default": {
        "hidden": true
       },
       "report_default": {
        "hidden": true
       }
      }
     }
    },
    "nbpresent": {
     "id": "b7cc209b-dd28-48ff-b42a-9ba823446eea"
    }
   },
   "outputs": [],
   "source": [
    "output_train$output_train = as.factor(output_train$output_train)\n",
    "output_valid$output_valid = as.factor(output_valid$output_valid)\n",
    "output_test$output_test = as.factor(output_test$output_test)"
   ]
  },
  {
   "cell_type": "code",
   "execution_count": 82,
   "metadata": {
    "collapsed": false,
    "extensions": {
     "jupyter_dashboards": {
      "version": 1,
      "views": {
       "grid_default": {
        "hidden": true
       },
       "report_default": {
        "hidden": true
       }
      }
     }
    },
    "nbpresent": {
     "id": "11e40077-387d-4e0e-81f0-8626d95eade2"
    }
   },
   "outputs": [],
   "source": [
    "overSample_train = ubBalance(X=input_train, Y=output_train$output_train, type=\"ubOver\", k=0)\n",
    "underSample_train = ubBalance(X=input_train, Y=output_train$output_train, type=\"ubUnder\", k=0)\n",
    "\n",
    "overSample_valid = ubBalance(X=input_valid, Y=output_valid$output_valid, type=\"ubOver\", k=0)\n",
    "underSample_valid = ubBalance(X=input_valid, Y=output_valid$output_valid, type=\"ubUnder\", k=0)\n",
    "\n",
    "overSample_test = ubBalance(X=input_test, Y=output_test$output_test, type=\"ubOver\", k=0)\n",
    "underSample_test = ubBalance(X=input_test, Y=output_test$output_test, type=\"ubUnder\", k=0)"
   ]
  },
  {
   "cell_type": "code",
   "execution_count": 83,
   "metadata": {
    "collapsed": true,
    "extensions": {
     "jupyter_dashboards": {
      "version": 1,
      "views": {
       "grid_default": {
        "hidden": true
       },
       "report_default": {
        "hidden": true
       }
      }
     }
    },
    "nbpresent": {
     "id": "7dfb101b-f4de-436c-8fe9-ee8fcfcb3a3d"
    }
   },
   "outputs": [],
   "source": [
    "train_over = data.frame(overSample_train$X, Output=overSample_train$Y)\n",
    "train_under = data.frame(underSample_train$X, Output=underSample_train$Y)\n",
    "\n",
    "valid_over = data.frame(overSample_valid$X, Output=overSample_valid$Y)\n",
    "valid_under = data.frame(underSample_valid$X, Output=underSample_valid$Y)\n",
    "\n",
    "test_over = data.frame(overSample_test$X, Output=overSample_test$Y)\n",
    "test_under = data.frame(underSample_test$X, Output=underSample_test$Y)"
   ]
  },
  {
   "cell_type": "code",
   "execution_count": 84,
   "metadata": {
    "collapsed": false,
    "extensions": {
     "jupyter_dashboards": {
      "version": 1,
      "views": {
       "grid_default": {
        "col": 0,
        "height": 5,
        "hidden": false,
        "row": 202,
        "width": 4
       },
       "report_default": {
        "hidden": false
       }
      }
     }
    },
    "nbpresent": {
     "id": "8199e351-fff5-4fda-949b-bbead43179c2"
    }
   },
   "outputs": [
    {
     "data": {
      "text/html": [
       "8452"
      ],
      "text/latex": [
       "8452"
      ],
      "text/markdown": [
       "8452"
      ],
      "text/plain": [
       "[1] 8452"
      ]
     },
     "metadata": {},
     "output_type": "display_data"
    },
    {
     "data": {
      "text/html": [
       "371"
      ],
      "text/latex": [
       "371"
      ],
      "text/markdown": [
       "371"
      ],
      "text/plain": [
       "[1] 371"
      ]
     },
     "metadata": {},
     "output_type": "display_data"
    },
    {
     "data": {
      "text/html": [
       "690"
      ],
      "text/latex": [
       "690"
      ],
      "text/markdown": [
       "690"
      ],
      "text/plain": [
       "[1] 690"
      ]
     },
     "metadata": {},
     "output_type": "display_data"
    },
    {
     "data": {
      "text/html": [
       "371"
      ],
      "text/latex": [
       "371"
      ],
      "text/markdown": [
       "371"
      ],
      "text/plain": [
       "[1] 371"
      ]
     },
     "metadata": {},
     "output_type": "display_data"
    }
   ],
   "source": [
    "nrow(test_over)\n",
    "ncol(test_over)\n",
    "nrow(test_under)\n",
    "ncol(test_under)"
   ]
  },
  {
   "cell_type": "code",
   "execution_count": 85,
   "metadata": {
    "collapsed": false,
    "extensions": {
     "jupyter_dashboards": {
      "version": 1,
      "views": {
       "grid_default": {
        "col": 0,
        "height": 4,
        "hidden": false,
        "row": 207,
        "width": 4
       },
       "report_default": {
        "hidden": false
       }
      }
     }
    },
    "nbpresent": {
     "id": "5966362c-6ce6-46bf-8a2f-f3a35caeca89"
    }
   },
   "outputs": [
    {
     "name": "stdout",
     "output_type": "stream",
     "text": [
      "  |======================================================================| 100%\n",
      "  |======================================================================| 100%\n"
     ]
    }
   ],
   "source": [
    "train_over_h2o = as.h2o(train_over, destination_frame = \"trainoverh2o_1\")\n",
    "train_under_h2o = as.h2o(train_under, destination_frame = \"trainunderh2o_1\")"
   ]
  },
  {
   "cell_type": "code",
   "execution_count": 86,
   "metadata": {
    "collapsed": false,
    "extensions": {
     "jupyter_dashboards": {
      "version": 1,
      "views": {
       "grid_default": {
        "col": 0,
        "height": 4,
        "hidden": false,
        "row": 211,
        "width": 4
       },
       "report_default": {
        "hidden": false
       }
      }
     }
    },
    "nbpresent": {
     "id": "60ad09c3-3b66-4371-ac23-d96666722792"
    }
   },
   "outputs": [
    {
     "name": "stdout",
     "output_type": "stream",
     "text": [
      "  |======================================================================| 100%\n",
      "  |======================================================================| 100%\n"
     ]
    }
   ],
   "source": [
    "valid_over_h2o = as.h2o(valid_over, destination_frame = \"validoverh2o_1\")\n",
    "valid_under_h2o = as.h2o(valid_under, destination_frame = \"validunderh2o_1\")"
   ]
  },
  {
   "cell_type": "code",
   "execution_count": 87,
   "metadata": {
    "collapsed": false,
    "extensions": {
     "jupyter_dashboards": {
      "version": 1,
      "views": {
       "grid_default": {
        "col": 0,
        "height": 4,
        "hidden": false,
        "row": 215,
        "width": 4
       },
       "report_default": {
        "hidden": false
       }
      }
     }
    },
    "nbpresent": {
     "id": "0a1d60a6-7b51-4630-a0e9-10638a9c9476"
    }
   },
   "outputs": [
    {
     "name": "stdout",
     "output_type": "stream",
     "text": [
      "  |======================================================================| 100%\n",
      "  |======================================================================| 100%\n"
     ]
    }
   ],
   "source": [
    "test_over_h2o = as.h2o(test_over, destination_frame = \"testoverh2o_1\")\n",
    "test_under_h2o = as.h2o(test_under, destination_frame = \"testunderh2o_1\")"
   ]
  },
  {
   "cell_type": "code",
   "execution_count": 88,
   "metadata": {
    "collapsed": false,
    "extensions": {
     "jupyter_dashboards": {
      "version": 1,
      "views": {
       "grid_default": {
        "col": 0,
        "height": 4,
        "hidden": false,
        "row": 227,
        "width": 4
       },
       "report_default": {
        "hidden": false
       }
      }
     }
    },
    "nbpresent": {
     "id": "f59d727a-24a5-4848-902f-1b6ef54478a3"
    }
   },
   "outputs": [
    {
     "data": {
      "text/html": [
       "371"
      ],
      "text/latex": [
       "371"
      ],
      "text/markdown": [
       "371"
      ],
      "text/plain": [
       "[1] 371"
      ]
     },
     "metadata": {},
     "output_type": "display_data"
    }
   ],
   "source": [
    "ncol.H2OFrame(train_over_h2o)"
   ]
  },
  {
   "cell_type": "markdown",
   "metadata": {
    "extensions": {
     "jupyter_dashboards": {
      "version": 1,
      "views": {
       "grid_default": {
        "col": 0,
        "height": 4,
        "hidden": false,
        "row": 231,
        "width": 4
       },
       "report_default": {
        "hidden": false
       }
      }
     }
    },
    "nbpresent": {
     "id": "ce20c405-95af-4b9e-a3fb-900068c3d0f9"
    }
   },
   "source": [
    "# **DATA MODELING**"
   ]
  },
  {
   "cell_type": "markdown",
   "metadata": {
    "extensions": {
     "jupyter_dashboards": {
      "version": 1,
      "views": {
       "grid_default": {
        "hidden": true
       },
       "report_default": {
        "hidden": true
       }
      }
     }
    }
   },
   "source": [
    "## Random Forest Model"
   ]
  },
  {
   "cell_type": "markdown",
   "metadata": {},
   "source": [
    "### With oversampled train dataset"
   ]
  },
  {
   "cell_type": "code",
   "execution_count": 89,
   "metadata": {
    "collapsed": false,
    "extensions": {
     "jupyter_dashboards": {
      "version": 1,
      "views": {
       "grid_default": {
        "col": 0,
        "height": 4,
        "hidden": false,
        "row": 235,
        "width": 4
       },
       "report_default": {
        "hidden": false
       }
      }
     }
    },
    "nbpresent": {
     "id": "48c28ce4-9514-4ae8-990c-adb7ac746600"
    }
   },
   "outputs": [
    {
     "name": "stdout",
     "output_type": "stream",
     "text": [
      "\r",
      "  |                                                                            \r",
      "  |                                                                      |   0%\r",
      "  |                                                                            \r",
      "  |=                                                                     |   2%\r",
      "  |                                                                            \r",
      "  |===                                                                   |   4%\r",
      "  |                                                                            \r",
      "  |====                                                                  |   6%\r",
      "  |                                                                            \r",
      "  |======                                                                |   8%\r",
      "  |                                                                            \r",
      "  |=======                                                               |  10%\r",
      "  |                                                                            \r",
      "  |========                                                              |  12%\r",
      "  |                                                                            \r",
      "  |==========                                                            |  14%\r",
      "  |                                                                            \r",
      "  |===========                                                           |  16%\r",
      "  |                                                                            \r",
      "  |=============                                                         |  18%\r",
      "  |                                                                            \r",
      "  |==============                                                        |  20%\r",
      "  |                                                                            \r",
      "  |===============                                                       |  22%\r",
      "  |                                                                            \r",
      "  |=================                                                     |  24%\r",
      "  |                                                                            \r",
      "  |==================                                                    |  26%\r",
      "  |                                                                            \r",
      "  |====================                                                  |  28%\r",
      "  |                                                                            \r",
      "  |=====================                                                 |  30%\r",
      "  |                                                                            \r",
      "  |======================                                                |  32%\r",
      "  |                                                                            \r",
      "  |========================                                              |  34%\r",
      "  |                                                                            \r",
      "  |=========================                                             |  36%\r",
      "  |                                                                            \r",
      "  |===========================                                           |  38%\r",
      "  |                                                                            \r",
      "  |============================                                          |  40%\r",
      "  |                                                                            \r",
      "  |=============================                                         |  42%\r",
      "  |                                                                            \r",
      "  |===============================                                       |  44%\r",
      "  |                                                                            \r",
      "  |================================                                      |  46%\r",
      "  |                                                                            \r",
      "  |==================================                                    |  48%\r",
      "  |                                                                            \r",
      "  |===================================                                   |  50%\r",
      "  |                                                                            \r",
      "  |====================================                                  |  52%\r",
      "  |                                                                            \r",
      "  |======================================                                |  54%\r",
      "  |                                                                            \r",
      "  |=======================================                               |  56%\r",
      "  |                                                                            \r",
      "  |=========================================                             |  58%\r",
      "  |                                                                            \r",
      "  |==========================================                            |  60%\r",
      "  |                                                                            \r",
      "  |===========================================                           |  62%\r",
      "  |                                                                            \r",
      "  |=============================================                         |  64%\r",
      "  |                                                                            \r",
      "  |==============================================                        |  66%\r",
      "  |                                                                            \r",
      "  |================================================                      |  68%\r",
      "  |                                                                            \r",
      "  |=================================================                     |  70%\r",
      "  |                                                                            \r",
      "  |==================================================                    |  72%\r",
      "  |                                                                            \r",
      "  |====================================================                  |  74%\r",
      "  |                                                                            \r",
      "  |=====================================================                 |  76%\r",
      "  |                                                                            \r",
      "  |=======================================================               |  78%\r",
      "  |                                                                            \r",
      "  |========================================================              |  80%\r",
      "  |                                                                            \r",
      "  |=========================================================             |  82%\r",
      "  |                                                                            \r",
      "  |===========================================================           |  84%\r",
      "  |                                                                            \r",
      "  |============================================================          |  86%\r",
      "  |                                                                            \r",
      "  |==============================================================        |  88%\r",
      "  |                                                                            \r",
      "  |===============================================================       |  90%\r",
      "  |                                                                            \r",
      "  |================================================================      |  92%\r",
      "  |                                                                            \r",
      "  |==================================================================    |  94%\r",
      "  |                                                                            \r",
      "  |===================================================================   |  96%\r",
      "  |                                                                            \r",
      "  |===================================================================== |  98%\r",
      "  |                                                                            \r",
      "  |======================================================================| 100%\n"
     ]
    }
   ],
   "source": [
    "rf_model_over = h2o.randomForest(x = 1:370,\n",
    "                              y = 371, \n",
    "                              training_frame = train_over_h2o)"
   ]
  },
  {
   "cell_type": "code",
   "execution_count": 90,
   "metadata": {
    "collapsed": false,
    "extensions": {
     "jupyter_dashboards": {
      "version": 1,
      "views": {
       "grid_default": {
        "col": 0,
        "height": 37,
        "hidden": false,
        "row": 239,
        "width": 4
       },
       "report_default": {
        "hidden": false
       }
      }
     }
    },
    "nbpresent": {
     "id": "bc6260ea-75d4-41ab-9721-7e4ed6a47584"
    },
    "scrolled": false
   },
   "outputs": [
    {
     "data": {
      "text/plain": [
       "Model Details:\n",
       "==============\n",
       "\n",
       "H2OBinomialModel: drf\n",
       "Model ID:  DRF_model_R_1483960975727_1 \n",
       "Model Summary: \n",
       "  number_of_trees number_of_internal_trees model_size_in_bytes min_depth\n",
       "1              50                       50             1127266        20\n",
       "  max_depth mean_depth min_leaves max_leaves mean_leaves\n",
       "1        20   20.00000       1475       2184  1791.00000\n",
       "\n",
       "\n",
       "H2OBinomialMetrics: drf\n",
       "** Reported on training data. **\n",
       "** Metrics reported on Out-Of-Bag training samples **\n",
       "\n",
       "MSE:  0.04007747\n",
       "RMSE:  0.2001936\n",
       "LogLoss:  0.1948758\n",
       "Mean Per-Class Error:  0.002122254\n",
       "AUC:  0.9999058\n",
       "Gini:  0.9998115\n",
       "\n",
       "Confusion Matrix for F1-optimal threshold:\n",
       "           0     1    Error        Rate\n",
       "0      33339   116 0.003467  =116/33455\n",
       "1         26 33429 0.000777   =26/33455\n",
       "Totals 33365 33545 0.002122  =142/66910\n",
       "\n",
       "Maximum Metrics: Maximum metrics at their respective thresholds\n",
       "                        metric threshold    value idx\n",
       "1                       max f1  0.620996 0.997881 171\n",
       "2                       max f2  0.605347 0.998883 173\n",
       "3                 max f0point5  0.649280 0.997673 166\n",
       "4                 max accuracy  0.628200 0.997878 170\n",
       "5                max precision  0.999487 1.000000   0\n",
       "6                   max recall  0.476651 1.000000 197\n",
       "7              max specificity  0.999487 1.000000   0\n",
       "8             max absolute_mcc  0.620996 0.995759 171\n",
       "9   max min_per_class_accuracy  0.643735 0.997519 167\n",
       "10 max mean_per_class_accuracy  0.620996 0.997878 171\n",
       "\n",
       "Gains/Lift Table: Extract with `h2o.gainsLift(<model>, <data>)` or `h2o.gainsLift(<model>, valid=<T/F>, xval=<T/F>)`\n",
       "\n"
      ]
     },
     "metadata": {},
     "output_type": "display_data"
    }
   ],
   "source": [
    "rf_model_over"
   ]
  },
  {
   "cell_type": "code",
   "execution_count": 91,
   "metadata": {
    "collapsed": true,
    "extensions": {
     "jupyter_dashboards": {
      "version": 1,
      "views": {
       "grid_default": {
        "hidden": true
       },
       "report_default": {
        "hidden": true
       }
      }
     }
    },
    "nbpresent": {
     "id": "4f538e7c-2d7c-4ce3-b512-6284ab1354fd"
    }
   },
   "outputs": [],
   "source": [
    "train_performance_over = h2o.performance(model = rf_model_over, newdata = train)"
   ]
  },
  {
   "cell_type": "code",
   "execution_count": 92,
   "metadata": {
    "collapsed": false,
    "extensions": {
     "jupyter_dashboards": {
      "version": 1,
      "views": {
       "grid_default": {
        "col": 0,
        "height": 13,
        "hidden": false,
        "row": 276,
        "width": 4
       },
       "report_default": {
        "hidden": false
       }
      }
     }
    },
    "nbpresent": {
     "id": "8968af03-3e1c-4912-8632-90779d985b65"
    }
   },
   "outputs": [
    {
     "data": {
      "image/png": "[encoded data removed]"
     },
     "metadata": {},
     "output_type": "display_data"
    }
   ],
   "source": [
    "plot(train_performance_over, type = \"roc\", col = \"blue\", typ = \"b\")"
   ]
  },
  {
   "cell_type": "code",
   "execution_count": 93,
   "metadata": {
    "collapsed": false,
    "extensions": {
     "jupyter_dashboards": {
      "version": 1,
      "views": {
       "grid_default": {
        "col": 0,
        "height": 26,
        "hidden": false,
        "row": 289,
        "width": 4
       },
       "report_default": {
        "hidden": false
       }
      }
     }
    },
    "nbpresent": {
     "id": "a65da309-6b80-42f1-ba63-40174c8b1f7b"
    },
    "scrolled": false
   },
   "outputs": [
    {
     "data": {
      "text/plain": [
       "H2OBinomialMetrics: drf\n",
       "\n",
       "MSE:  0.03533822\n",
       "RMSE:  0.1879846\n",
       "LogLoss:  0.1786714\n",
       "Mean Per-Class Error:  0.002056247\n",
       "AUC:  0.9999751\n",
       "Gini:  0.9999502\n",
       "\n",
       "Confusion Matrix for F1-optimal threshold:\n",
       "           0    1    Error       Rate\n",
       "0      33433   22 0.000658  =22/33455\n",
       "1          9 2596 0.003455    =9/2605\n",
       "Totals 33442 2618 0.000860  =31/36060\n",
       "\n",
       "Maximum Metrics: Maximum metrics at their respective thresholds\n",
       "                        metric threshold    value idx\n",
       "1                       max f1  0.685748 0.994065  89\n",
       "2                       max f2  0.662768 0.996860  92\n",
       "3                 max f0point5  0.704419 0.993681  86\n",
       "4                 max accuracy  0.685748 0.999140  89\n",
       "5                max precision  0.994953 1.000000   0\n",
       "6                   max recall  0.589270 1.000000  99\n",
       "7              max specificity  0.994953 1.000000   0\n",
       "8             max absolute_mcc  0.685748 0.993605  89\n",
       "9   max min_per_class_accuracy  0.662768 0.999014  92\n",
       "10 max mean_per_class_accuracy  0.638833 0.999195  94\n",
       "\n",
       "Gains/Lift Table: Extract with `h2o.gainsLift(<model>, <data>)` or `h2o.gainsLift(<model>, valid=<T/F>, xval=<T/F>)`"
      ]
     },
     "metadata": {},
     "output_type": "display_data"
    }
   ],
   "source": [
    "train_performance_over"
   ]
  },
  {
   "cell_type": "code",
   "execution_count": 94,
   "metadata": {
    "collapsed": false,
    "extensions": {
     "jupyter_dashboards": {
      "version": 1,
      "views": {
       "grid_default": {
        "hidden": true
       },
       "report_default": {
        "hidden": true
       }
      }
     }
    },
    "nbpresent": {
     "id": "d1347a54-e46c-4c02-ba3d-edfcd70e85d9"
    }
   },
   "outputs": [],
   "source": [
    "validation_performance_over = h2o.performance(model = rf_model_over, newdata = valid)"
   ]
  },
  {
   "cell_type": "code",
   "execution_count": 95,
   "metadata": {
    "collapsed": false
   },
   "outputs": [
    {
     "name": "stdout",
     "output_type": "stream",
     "text": [
      "\r",
      "  |                                                                            \r",
      "  |                                                                      |   0%\r",
      "  |                                                                            \r",
      "  |====================                                                  |  28%\r",
      "  |                                                                            \r",
      "  |======================================================================| 100%\n"
     ]
    }
   ],
   "source": [
    "validation_performance_over_prediction = h2o.predict(rf_model_over, valid)"
   ]
  },
  {
   "cell_type": "code",
   "execution_count": 96,
   "metadata": {
    "collapsed": false,
    "extensions": {
     "jupyter_dashboards": {
      "version": 1,
      "views": {
       "grid_default": {
        "col": 0,
        "height": 13,
        "hidden": false,
        "row": 315,
        "width": 4
       },
       "report_default": {
        "hidden": false
       }
      }
     }
    },
    "nbpresent": {
     "id": "0d2647db-4f7f-4c38-a74d-2955a7300057"
    }
   },
   "outputs": [
    {
     "data": {
      "image/png": "[encoded data removed]"
     },
     "metadata": {},
     "output_type": "display_data"
    }
   ],
   "source": [
    "plot(validation_performance_over, type = \"roc\", col = \"blue\", typ = \"b\")"
   ]
  },
  {
   "cell_type": "code",
   "execution_count": 97,
   "metadata": {
    "collapsed": false,
    "extensions": {
     "jupyter_dashboards": {
      "version": 1,
      "views": {
       "grid_default": {
        "col": 0,
        "height": 26,
        "hidden": false,
        "row": 328,
        "width": 4
       },
       "report_default": {
        "hidden": false
       }
      }
     }
    },
    "nbpresent": {
     "id": "5f8a5877-be63-42a7-92da-a954bf382ddb"
    }
   },
   "outputs": [
    {
     "data": {
      "text/plain": [
       "H2OBinomialMetrics: drf\n",
       "\n",
       "MSE:  0.09587765\n",
       "RMSE:  0.3096412\n",
       "LogLoss:  0.3435114\n",
       "Mean Per-Class Error:  0.4423937\n",
       "AUC:  0.5814394\n",
       "Gini:  0.1628787\n",
       "\n",
       "Confusion Matrix for F1-optimal threshold:\n",
       "          0    1    Error        Rate\n",
       "0      2830 1200 0.297767  =1200/4030\n",
       "1       199  140 0.587021    =199/339\n",
       "Totals 3029 1340 0.320211  =1399/4369\n",
       "\n",
       "Maximum Metrics: Maximum metrics at their respective thresholds\n",
       "                        metric threshold    value idx\n",
       "1                       max f1  0.244858 0.166766 189\n",
       "2                       max f2  0.113230 0.310786 324\n",
       "3                 max f0point5  0.290958 0.130651 150\n",
       "4                 max accuracy  0.819355 0.922179   0\n",
       "5                max precision  0.648005 0.181818   9\n",
       "6                   max recall  0.020000 1.000000 394\n",
       "7              max specificity  0.819355 0.999752   0\n",
       "8             max absolute_mcc  0.290958 0.069224 150\n",
       "9   max min_per_class_accuracy  0.196791 0.550124 234\n",
       "10 max mean_per_class_accuracy  0.178675 0.559375 254\n",
       "\n",
       "Gains/Lift Table: Extract with `h2o.gainsLift(<model>, <data>)` or `h2o.gainsLift(<model>, valid=<T/F>, xval=<T/F>)`"
      ]
     },
     "metadata": {},
     "output_type": "display_data"
    }
   ],
   "source": [
    "validation_performance_over"
   ]
  },
  {
   "cell_type": "code",
   "execution_count": 98,
   "metadata": {
    "collapsed": false,
    "extensions": {
     "jupyter_dashboards": {
      "version": 1,
      "views": {
       "grid_default": {
        "hidden": true
       },
       "report_default": {
        "hidden": true
       }
      }
     }
    },
    "nbpresent": {
     "id": "a7d39d53-1420-45f0-b2af-cee4149a7802"
    }
   },
   "outputs": [],
   "source": [
    "test_performance_over = h2o.performance(model = rf_model_over, newdata = test)"
   ]
  },
  {
   "cell_type": "code",
   "execution_count": 99,
   "metadata": {
    "collapsed": false,
    "extensions": {
     "jupyter_dashboards": {
      "version": 1,
      "views": {
       "grid_default": {
        "col": 0,
        "height": 13,
        "hidden": false,
        "row": 354,
        "width": 4
       },
       "report_default": {
        "hidden": false
       }
      }
     }
    },
    "nbpresent": {
     "id": "956bf52c-be79-4cef-b17e-d0d07df87d74"
    }
   },
   "outputs": [
    {
     "data": {
      "image/png": "[encoded data removed]"
     },
     "metadata": {},
     "output_type": "display_data"
    }
   ],
   "source": [
    "plot(test_performance_over, type = \"roc\", col = \"blue\", typ = \"b\")"
   ]
  },
  {
   "cell_type": "code",
   "execution_count": 100,
   "metadata": {
    "collapsed": false,
    "extensions": {
     "jupyter_dashboards": {
      "version": 1,
      "views": {
       "grid_default": {
        "col": 0,
        "height": 26,
        "hidden": false,
        "row": 367,
        "width": 4
       },
       "report_default": {
        "hidden": false
       }
      }
     }
    },
    "nbpresent": {
     "id": "a3fa2f1b-9603-4587-b0da-8a4da4c85c31"
    }
   },
   "outputs": [
    {
     "data": {
      "text/plain": [
       "H2OBinomialMetrics: drf\n",
       "\n",
       "MSE:  0.09279316\n",
       "RMSE:  0.3046197\n",
       "LogLoss:  0.3360857\n",
       "Mean Per-Class Error:  0.4331293\n",
       "AUC:  0.5990058\n",
       "Gini:  0.1980116\n",
       "\n",
       "Confusion Matrix for F1-optimal threshold:\n",
       "          0   1    Error       Rate\n",
       "0      3799 427 0.101041  =427/4226\n",
       "1       264  81 0.765217   =264/345\n",
       "Totals 4063 508 0.151170  =691/4571\n",
       "\n",
       "Maximum Metrics: Maximum metrics at their respective thresholds\n",
       "                        metric threshold    value idx\n",
       "1                       max f1  0.353034 0.189918 114\n",
       "2                       max f2  0.118231 0.306224 322\n",
       "3                 max f0point5  0.382328 0.181966  96\n",
       "4                 max accuracy  0.708914 0.924524   2\n",
       "5                max precision  0.708914 0.500000   2\n",
       "6                   max recall  0.039922 1.000000 388\n",
       "7              max specificity  0.766359 0.999763   0\n",
       "8             max absolute_mcc  0.382328 0.117152  96\n",
       "9   max min_per_class_accuracy  0.199489 0.565217 233\n",
       "10 max mean_per_class_accuracy  0.253753 0.585026 184\n",
       "\n",
       "Gains/Lift Table: Extract with `h2o.gainsLift(<model>, <data>)` or `h2o.gainsLift(<model>, valid=<T/F>, xval=<T/F>)`"
      ]
     },
     "metadata": {},
     "output_type": "display_data"
    }
   ],
   "source": [
    "test_performance_over"
   ]
  },
  {
   "cell_type": "markdown",
   "metadata": {
    "extensions": {
     "jupyter_dashboards": {
      "version": 1,
      "views": {
       "grid_default": {
        "col": 0,
        "height": 4,
        "hidden": false,
        "row": 393,
        "width": 4
       },
       "report_default": {
        "hidden": false
       }
      }
     }
    },
    "nbpresent": {
     "id": "a33b32ab-e6d7-4005-af5d-40e25642bfdc"
    }
   },
   "source": [
    "### With undersampled train dataset"
   ]
  },
  {
   "cell_type": "code",
   "execution_count": 101,
   "metadata": {
    "collapsed": false,
    "extensions": {
     "jupyter_dashboards": {
      "version": 1,
      "views": {
       "grid_default": {
        "col": 0,
        "height": 4,
        "hidden": false,
        "row": 397,
        "width": 4
       },
       "report_default": {
        "hidden": false
       }
      }
     }
    },
    "nbpresent": {
     "id": "ca9421ae-e556-49ca-b1b8-1d1bb4a5a88e"
    }
   },
   "outputs": [
    {
     "name": "stdout",
     "output_type": "stream",
     "text": [
      "\r",
      "  |                                                                            \r",
      "  |                                                                      |   0%\r",
      "  |                                                                            \r",
      "  |=======                                                               |  10%\r",
      "  |                                                                            \r",
      "  |==============                                                        |  20%\r",
      "  |                                                                            \r",
      "  |====================                                                  |  28%\r",
      "  |                                                                            \r",
      "  |===========================                                           |  38%\r",
      "  |                                                                            \r",
      "  |====================================                                  |  52%\r",
      "  |                                                                            \r",
      "  |==============================================                        |  66%\r",
      "  |                                                                            \r",
      "  |========================================================              |  80%\r",
      "  |                                                                            \r",
      "  |===============================================================       |  90%\r",
      "  |                                                                            \r",
      "  |======================================================================| 100%\n"
     ]
    }
   ],
   "source": [
    "rf_model_under = h2o.randomForest(x = 1:370,\n",
    "                              y = 371,\n",
    "                              training_frame = train_under_h2o)"
   ]
  },
  {
   "cell_type": "code",
   "execution_count": 102,
   "metadata": {
    "collapsed": false,
    "extensions": {
     "jupyter_dashboards": {
      "version": 1,
      "views": {
       "grid_default": {
        "col": 0,
        "height": 37,
        "hidden": false,
        "row": 401,
        "width": 4
       },
       "report_default": {
        "hidden": false
       }
      }
     }
    },
    "nbpresent": {
     "id": "bc6ee1da-ab5c-4631-8123-fc908a1a7043"
    }
   },
   "outputs": [
    {
     "data": {
      "text/plain": [
       "Model Details:\n",
       "==============\n",
       "\n",
       "H2OBinomialModel: drf\n",
       "Model ID:  DRF_model_R_1483960975727_35 \n",
       "Model Summary: \n",
       "  number_of_trees number_of_internal_trees model_size_in_bytes min_depth\n",
       "1              50                       50              409354        20\n",
       "  max_depth mean_depth min_leaves max_leaves mean_leaves\n",
       "1        20   20.00000        547        724   646.80000\n",
       "\n",
       "\n",
       "H2OBinomialMetrics: drf\n",
       "** Reported on training data. **\n",
       "** Metrics reported on Out-Of-Bag training samples **\n",
       "\n",
       "MSE:  0.2523765\n",
       "RMSE:  0.5023709\n",
       "LogLoss:  0.6999175\n",
       "Mean Per-Class Error:  0.4952015\n",
       "AUC:  0.5633611\n",
       "Gini:  0.1267222\n",
       "\n",
       "Confusion Matrix for F1-optimal threshold:\n",
       "        0    1    Error        Rate\n",
       "0      37 2568 0.985797  =2568/2605\n",
       "1      12 2593 0.004607    =12/2605\n",
       "Totals 49 5161 0.495202  =2580/5210\n",
       "\n",
       "Maximum Metrics: Maximum metrics at their respective thresholds\n",
       "                        metric threshold    value idx\n",
       "1                       max f1  0.205811 0.667783 379\n",
       "2                       max f2  0.142857 0.833440 393\n",
       "3                 max f0point5  0.351410 0.563387 319\n",
       "4                 max accuracy  0.481953 0.549328 227\n",
       "5                max precision  0.822240 0.761905  20\n",
       "6                   max recall  0.082265 1.000000 398\n",
       "7              max specificity  0.969400 0.999616   0\n",
       "8             max absolute_mcc  0.481953 0.099144 227\n",
       "9   max min_per_class_accuracy  0.501410 0.532821 212\n",
       "10 max mean_per_class_accuracy  0.481953 0.549328 227\n",
       "\n",
       "Gains/Lift Table: Extract with `h2o.gainsLift(<model>, <data>)` or `h2o.gainsLift(<model>, valid=<T/F>, xval=<T/F>)`\n",
       "\n"
      ]
     },
     "metadata": {},
     "output_type": "display_data"
    }
   ],
   "source": [
    "rf_model_under"
   ]
  },
  {
   "cell_type": "code",
   "execution_count": 103,
   "metadata": {
    "collapsed": true,
    "extensions": {
     "jupyter_dashboards": {
      "version": 1,
      "views": {
       "grid_default": {
        "hidden": true
       },
       "report_default": {
        "hidden": true
       }
      }
     }
    },
    "nbpresent": {
     "id": "55c3adec-e893-45b2-86c7-56d0a3913153"
    }
   },
   "outputs": [],
   "source": [
    "train_performance_under = h2o.performance(model = rf_model_under, newdata = train)"
   ]
  },
  {
   "cell_type": "code",
   "execution_count": 104,
   "metadata": {
    "collapsed": false,
    "extensions": {
     "jupyter_dashboards": {
      "version": 1,
      "views": {
       "grid_default": {
        "col": 0,
        "height": 13,
        "hidden": false,
        "row": 438,
        "width": 4
       },
       "report_default": {
        "hidden": false
       }
      }
     }
    },
    "nbpresent": {
     "id": "841b7bff-4cd2-49f6-88bb-66a2e0926135"
    }
   },
   "outputs": [
    {
     "data": {
      "image/png": "[encoded data removed]"
     },
     "metadata": {},
     "output_type": "display_data"
    }
   ],
   "source": [
    "plot(train_performance_under, type = \"roc\", col = \"blue\", typ = \"b\")"
   ]
  },
  {
   "cell_type": "code",
   "execution_count": 105,
   "metadata": {
    "collapsed": false,
    "extensions": {
     "jupyter_dashboards": {
      "version": 1,
      "views": {
       "grid_default": {
        "col": 0,
        "height": 26,
        "hidden": false,
        "row": 451,
        "width": 4
       },
       "report_default": {
        "hidden": false
       }
      }
     }
    },
    "nbpresent": {
     "id": "96b4bef3-1eef-4768-b697-650e4e0eb3c6"
    }
   },
   "outputs": [
    {
     "data": {
      "text/plain": [
       "H2OBinomialMetrics: drf\n",
       "\n",
       "MSE:  0.2161082\n",
       "RMSE:  0.4648744\n",
       "LogLoss:  0.6179097\n",
       "Mean Per-Class Error:  0.03415939\n",
       "AUC:  0.9974104\n",
       "Gini:  0.9948208\n",
       "\n",
       "Confusion Matrix for F1-optimal threshold:\n",
       "           0    1    Error        Rate\n",
       "0      33160  295 0.008818  =295/33455\n",
       "1        155 2450 0.059501   =155/2605\n",
       "Totals 33315 2745 0.012479  =450/36060\n",
       "\n",
       "Maximum Metrics: Maximum metrics at their respective thresholds\n",
       "                        metric threshold    value idx\n",
       "1                       max f1  0.714288 0.915888  77\n",
       "2                       max f2  0.688459 0.942929  87\n",
       "3                 max f0point5  0.747822 0.922998  65\n",
       "4                 max accuracy  0.717366 0.987576  76\n",
       "5                max precision  0.957113 1.000000   0\n",
       "6                   max recall  0.592388 1.000000 134\n",
       "7              max specificity  0.957113 1.000000   0\n",
       "8             max absolute_mcc  0.714288 0.909517  77\n",
       "9   max min_per_class_accuracy  0.683258 0.981378  89\n",
       "10 max mean_per_class_accuracy  0.671277 0.982428  93\n",
       "\n",
       "Gains/Lift Table: Extract with `h2o.gainsLift(<model>, <data>)` or `h2o.gainsLift(<model>, valid=<T/F>, xval=<T/F>)`"
      ]
     },
     "metadata": {},
     "output_type": "display_data"
    }
   ],
   "source": [
    "train_performance_under"
   ]
  },
  {
   "cell_type": "code",
   "execution_count": 106,
   "metadata": {
    "collapsed": false,
    "extensions": {
     "jupyter_dashboards": {
      "version": 1,
      "views": {
       "grid_default": {
        "hidden": true
       },
       "report_default": {
        "hidden": true
       }
      }
     }
    },
    "nbpresent": {
     "id": "66e5facd-888e-4668-9ac5-ed1c6801fb88"
    }
   },
   "outputs": [],
   "source": [
    "validation_performance_under = h2o.performance(model = rf_model_under, newdata = valid)"
   ]
  },
  {
   "cell_type": "code",
   "execution_count": 107,
   "metadata": {
    "collapsed": false,
    "extensions": {
     "jupyter_dashboards": {
      "version": 1,
      "views": {
       "grid_default": {
        "col": 0,
        "height": 13,
        "hidden": false,
        "row": 477,
        "width": 4
       },
       "report_default": {
        "hidden": false
       }
      }
     }
    },
    "nbpresent": {
     "id": "d0534250-0185-481b-b593-019706f72686"
    }
   },
   "outputs": [
    {
     "data": {
      "image/png": "[encoded data removed]"
     },
     "metadata": {},
     "output_type": "display_data"
    }
   ],
   "source": [
    "plot(validation_performance_under, type = \"roc\", col = \"blue\", typ = \"b\")"
   ]
  },
  {
   "cell_type": "code",
   "execution_count": 108,
   "metadata": {
    "collapsed": false,
    "extensions": {
     "jupyter_dashboards": {
      "version": 1,
      "views": {
       "grid_default": {
        "col": 0,
        "height": 26,
        "hidden": false,
        "row": 490,
        "width": 4
       },
       "report_default": {
        "hidden": false
       }
      }
     }
    },
    "nbpresent": {
     "id": "9f8b5136-051b-4393-a84c-5433f8bd1886"
    }
   },
   "outputs": [
    {
     "data": {
      "text/plain": [
       "H2OBinomialMetrics: drf\n",
       "\n",
       "MSE:  0.2431429\n",
       "RMSE:  0.4930952\n",
       "LogLoss:  0.6799284\n",
       "Mean Per-Class Error:  0.4249405\n",
       "AUC:  0.591837\n",
       "Gini:  0.1836741\n",
       "\n",
       "Confusion Matrix for F1-optimal threshold:\n",
       "          0    1    Error        Rate\n",
       "0      3042  988 0.245161   =988/4030\n",
       "1       205  134 0.604720    =205/339\n",
       "Totals 3247 1122 0.273060  =1193/4369\n",
       "\n",
       "Maximum Metrics: Maximum metrics at their respective thresholds\n",
       "                        metric threshold    value idx\n",
       "1                       max f1  0.544611 0.183436 147\n",
       "2                       max f2  0.404934 0.310408 299\n",
       "3                 max f0point5  0.575830 0.147013 116\n",
       "4                 max accuracy  0.857214 0.921950   0\n",
       "5                max precision  0.656300 0.132911  50\n",
       "6                   max recall  0.306791 1.000000 373\n",
       "7              max specificity  0.857214 0.999504   0\n",
       "8             max absolute_mcc  0.566693 0.092365 125\n",
       "9   max min_per_class_accuracy  0.495441 0.562035 199\n",
       "10 max mean_per_class_accuracy  0.544611 0.575059 147\n",
       "\n",
       "Gains/Lift Table: Extract with `h2o.gainsLift(<model>, <data>)` or `h2o.gainsLift(<model>, valid=<T/F>, xval=<T/F>)`"
      ]
     },
     "metadata": {},
     "output_type": "display_data"
    }
   ],
   "source": [
    "validation_performance_under"
   ]
  },
  {
   "cell_type": "code",
   "execution_count": 109,
   "metadata": {
    "collapsed": false,
    "extensions": {
     "jupyter_dashboards": {
      "version": 1,
      "views": {
       "grid_default": {
        "hidden": true
       },
       "report_default": {
        "hidden": true
       }
      }
     }
    },
    "nbpresent": {
     "id": "3cc5a186-eec3-4dc5-bbcf-737f63823b65"
    }
   },
   "outputs": [],
   "source": [
    "test_performance_under = h2o.performance(model = rf_model_under, newdata = test)"
   ]
  },
  {
   "cell_type": "code",
   "execution_count": 110,
   "metadata": {
    "collapsed": false,
    "extensions": {
     "jupyter_dashboards": {
      "version": 1,
      "views": {
       "grid_default": {
        "col": 0,
        "height": 13,
        "hidden": false,
        "row": 516,
        "width": 4
       },
       "report_default": {
        "hidden": false
       }
      }
     }
    },
    "nbpresent": {
     "id": "d9820460-8aa9-4870-a0cb-361cca54a3b8"
    }
   },
   "outputs": [
    {
     "data": {
      "image/png": "[encoded data removed]"
     },
     "metadata": {},
     "output_type": "display_data"
    }
   ],
   "source": [
    "plot(test_performance_under, type = \"roc\", col = \"blue\", typ = \"b\")"
   ]
  },
  {
   "cell_type": "code",
   "execution_count": 111,
   "metadata": {
    "collapsed": false,
    "extensions": {
     "jupyter_dashboards": {
      "version": 1,
      "views": {
       "grid_default": {
        "col": 0,
        "height": 26,
        "hidden": false,
        "row": 529,
        "width": 4
       },
       "report_default": {
        "hidden": false
       }
      }
     }
    },
    "nbpresent": {
     "id": "f68652b4-674b-4e37-a668-8bd03f226756"
    }
   },
   "outputs": [
    {
     "data": {
      "text/plain": [
       "H2OBinomialMetrics: drf\n",
       "\n",
       "MSE:  0.2442514\n",
       "RMSE:  0.494218\n",
       "LogLoss:  0.6818973\n",
       "Mean Per-Class Error:  0.4404652\n",
       "AUC:  0.5650061\n",
       "Gini:  0.1300123\n",
       "\n",
       "Confusion Matrix for F1-optimal threshold:\n",
       "          0   1    Error       Rate\n",
       "0      3688 538 0.127307  =538/4226\n",
       "1       260  85 0.753623   =260/345\n",
       "Totals 3948 623 0.174579  =798/4571\n",
       "\n",
       "Maximum Metrics: Maximum metrics at their respective thresholds\n",
       "                        metric threshold    value idx\n",
       "1                       max f1  0.583594 0.175620 106\n",
       "2                       max f2  0.357485 0.294637 342\n",
       "3                 max f0point5  0.639881 0.162413  62\n",
       "4                 max accuracy  0.817136 0.924524   1\n",
       "5                max precision  0.817136 0.500000   1\n",
       "6                   max recall  0.284876 1.000000 382\n",
       "7              max specificity  0.833990 0.999763   0\n",
       "8             max absolute_mcc  0.584565 0.091952 105\n",
       "9   max min_per_class_accuracy  0.492138 0.539130 202\n",
       "10 max mean_per_class_accuracy  0.583594 0.559535 106\n",
       "\n",
       "Gains/Lift Table: Extract with `h2o.gainsLift(<model>, <data>)` or `h2o.gainsLift(<model>, valid=<T/F>, xval=<T/F>)`"
      ]
     },
     "metadata": {},
     "output_type": "display_data"
    }
   ],
   "source": [
    "test_performance_under"
   ]
  },
  {
   "cell_type": "markdown",
   "metadata": {
    "extensions": {
     "jupyter_dashboards": {
      "version": 1,
      "views": {
       "grid_default": {
        "col": 0,
        "height": 4,
        "hidden": false,
        "row": 555,
        "width": 4
       },
       "report_default": {
        "hidden": false
       }
      }
     }
    },
    "nbpresent": {
     "id": "6316b0de-c900-47d7-a59b-13468cae258b"
    }
   },
   "source": [
    "## Logistic Regression"
   ]
  },
  {
   "cell_type": "markdown",
   "metadata": {
    "extensions": {
     "jupyter_dashboards": {
      "version": 1,
      "views": {
       "grid_default": {
        "col": 0,
        "height": 4,
        "hidden": false,
        "row": 559,
        "width": 4
       },
       "report_default": {
        "hidden": false
       }
      }
     }
    },
    "nbpresent": {
     "id": "b150aed9-b1a0-4917-bd5d-29d327232f8b"
    }
   },
   "source": [
    "### With oversampled train dataset"
   ]
  },
  {
   "cell_type": "code",
   "execution_count": 112,
   "metadata": {
    "collapsed": false,
    "extensions": {
     "jupyter_dashboards": {
      "version": 1,
      "views": {
       "grid_default": {
        "col": 0,
        "height": 4,
        "hidden": false,
        "row": 563,
        "width": 4
       },
       "report_default": {
        "hidden": false
       }
      }
     }
    },
    "nbpresent": {
     "id": "02122047-51bb-4026-a91f-8aa241523832"
    }
   },
   "outputs": [
    {
     "name": "stdout",
     "output_type": "stream",
     "text": [
      "\r",
      "  |                                                                            \r",
      "  |                                                                      |   0%\r",
      "  |                                                                            \r",
      "  |=                                                                     |   2%\r",
      "  |                                                                            \r",
      "  |===                                                                   |   4%\r",
      "  |                                                                            \r",
      "  |====                                                                  |   6%\r",
      "  |                                                                            \r",
      "  |======                                                                |   8%\r",
      "  |                                                                            \r",
      "  |=======                                                               |  10%\r",
      "  |                                                                            \r",
      "  |========                                                              |  12%\r",
      "  |                                                                            \r",
      "  |======================================================================| 100%\n"
     ]
    }
   ],
   "source": [
    "logistic_model_over = h2o.glm(x = 1:370, \n",
    "                              y = 371,                              \n",
    "                              training_frame = train_over_h2o, \n",
    "                              family = \"binomial\")"
   ]
  },
  {
   "cell_type": "code",
   "execution_count": 113,
   "metadata": {
    "collapsed": false,
    "extensions": {
     "jupyter_dashboards": {
      "version": 1,
      "views": {
       "grid_default": {
        "col": 0,
        "height": 56,
        "hidden": false,
        "row": 567,
        "width": 4
       },
       "report_default": {
        "hidden": false
       }
      }
     }
    },
    "nbpresent": {
     "id": "8e971c21-29b7-4b32-97c4-4f96f45679b4"
    },
    "scrolled": false
   },
   "outputs": [
    {
     "data": {
      "text/plain": [
       "Model Details:\n",
       "==============\n",
       "\n",
       "H2OBinomialModel: glm\n",
       "Model ID:  GLM_model_R_1483960975727_80 \n",
       "GLM Model: summary\n",
       "    family  link                                regularization\n",
       "1 binomial logit Elastic Net (alpha = 0.5, lambda = 1.508E-4 )\n",
       "  number_of_predictors_total number_of_active_predictors number_of_iterations\n",
       "1                        338                         334                    6\n",
       "  training_frame\n",
       "1 trainoverh2o_1\n",
       "\n",
       "Coefficients: glm coefficients\n",
       "      names coefficients standardized_coefficients\n",
       "1 Intercept    -0.306742                 -0.015086\n",
       "2       PC1    -0.043389                 -0.257934\n",
       "3       PC2     0.014166                  0.075083\n",
       "4       PC3    -0.049575                 -0.193910\n",
       "5       PC4     0.006229                  0.023222\n",
       "\n",
       "---\n",
       "    names coefficients standardized_coefficients\n",
       "334 PC333    -0.109209                 -0.071639\n",
       "335 PC334    -0.134489                 -0.089019\n",
       "336 PC335    -0.016272                 -0.010582\n",
       "337 PC336     0.004741                  0.003254\n",
       "338 PC337     0.014244                  0.009544\n",
       "339 PC338     0.022100                  0.014646\n",
       "\n",
       "H2OBinomialMetrics: glm\n",
       "** Reported on training data. **\n",
       "\n",
       "MSE:  0.2138405\n",
       "RMSE:  0.4624289\n",
       "LogLoss:  0.6163584\n",
       "Mean Per-Class Error:  0.376984\n",
       "AUC:  0.7180209\n",
       "Gini:  0.4360418\n",
       "R^2:  0.1446379\n",
       "Null Deviance:  92756.96\n",
       "Residual Deviance:  82481.08\n",
       "AIC:  83151.08\n",
       "\n",
       "Confusion Matrix for F1-optimal threshold:\n",
       "           0     1    Error          Rate\n",
       "0      11463 21992 0.657361  =21992/33455\n",
       "1       3232 30223 0.096607   =3232/33455\n",
       "Totals 14695 52215 0.376984  =25224/66910\n",
       "\n",
       "Maximum Metrics: Maximum metrics at their respective thresholds\n",
       "                        metric threshold    value idx\n",
       "1                       max f1  0.342760 0.705568 277\n",
       "2                       max f2  0.163727 0.839090 356\n",
       "3                 max f0point5  0.522807 0.660246 180\n",
       "4                 max accuracy  0.479393 0.659991 204\n",
       "5                max precision  0.833968 0.814698  28\n",
       "6                   max recall  0.059951 1.000000 389\n",
       "7              max specificity  0.996888 0.999910   0\n",
       "8             max absolute_mcc  0.479393 0.322145 204\n",
       "9   max min_per_class_accuracy  0.509939 0.657480 187\n",
       "10 max mean_per_class_accuracy  0.479393 0.659991 204\n",
       "\n",
       "Gains/Lift Table: Extract with `h2o.gainsLift(<model>, <data>)` or `h2o.gainsLift(<model>, valid=<T/F>, xval=<T/F>)`\n",
       "\n"
      ]
     },
     "metadata": {},
     "output_type": "display_data"
    }
   ],
   "source": [
    "logistic_model_over"
   ]
  },
  {
   "cell_type": "code",
   "execution_count": 114,
   "metadata": {
    "collapsed": true
   },
   "outputs": [],
   "source": [
    "train_performance_over_log = h2o.performance(model = logistic_model_over, newdata = train)"
   ]
  },
  {
   "cell_type": "code",
   "execution_count": 115,
   "metadata": {
    "collapsed": false,
    "extensions": {
     "jupyter_dashboards": {
      "version": 1,
      "views": {
       "grid_default": {
        "col": 0,
        "height": 13,
        "hidden": false,
        "row": 623,
        "width": 4
       },
       "report_default": {
        "hidden": false
       }
      }
     }
    },
    "nbpresent": {
     "id": "38eded7f-0955-4048-9645-c7498fa20610"
    }
   },
   "outputs": [
    {
     "data": {
      "image/png": "[encoded data removed]"
     },
     "metadata": {},
     "output_type": "display_data"
    }
   ],
   "source": [
    "plot(train_performance_over_log, type = \"roc\", col = \"blue\", typ = \"b\")"
   ]
  },
  {
   "cell_type": "code",
   "execution_count": 116,
   "metadata": {
    "collapsed": false,
    "extensions": {
     "jupyter_dashboards": {
      "version": 1,
      "views": {
       "grid_default": {
        "col": 0,
        "height": 28,
        "hidden": false,
        "row": 636,
        "width": 4
       },
       "report_default": {
        "hidden": false
       }
      }
     }
    },
    "nbpresent": {
     "id": "0279cfc2-2b91-439f-a589-c69eab7797b1"
    }
   },
   "outputs": [
    {
     "data": {
      "text/plain": [
       "H2OBinomialMetrics: glm\n",
       "\n",
       "MSE:  0.2168154\n",
       "RMSE:  0.4656345\n",
       "LogLoss:  0.621568\n",
       "Mean Per-Class Error:  0.3761069\n",
       "AUC:  0.712183\n",
       "Gini:  0.424366\n",
       "R^2:  -2.23499\n",
       "Null Deviance:  49989.77\n",
       "Residual Deviance:  44827.49\n",
       "AIC:  45497.49\n",
       "\n",
       "Confusion Matrix for F1-optimal threshold:\n",
       "           0    1    Error         Rate\n",
       "0      28337 5118 0.152982  =5118/33455\n",
       "1       1561 1044 0.599232   =1561/2605\n",
       "Totals 29898 6162 0.185219  =6679/36060\n",
       "\n",
       "Maximum Metrics: Maximum metrics at their respective thresholds\n",
       "                        metric threshold    value idx\n",
       "1                       max f1  0.629880 0.238166 104\n",
       "2                       max f2  0.483124 0.360145 183\n",
       "3                 max f0point5  0.729671 0.208610  59\n",
       "4                 max accuracy  0.999158 0.927704   0\n",
       "5                max precision  0.830464 0.249406  26\n",
       "6                   max recall  0.059757 1.000000 387\n",
       "7              max specificity  0.999158 0.999940   0\n",
       "8             max absolute_mcc  0.565244 0.170530 138\n",
       "9   max min_per_class_accuracy  0.507357 0.651056 169\n",
       "10 max mean_per_class_accuracy  0.483124 0.654622 183\n",
       "\n",
       "Gains/Lift Table: Extract with `h2o.gainsLift(<model>, <data>)` or `h2o.gainsLift(<model>, valid=<T/F>, xval=<T/F>)`"
      ]
     },
     "metadata": {},
     "output_type": "display_data"
    }
   ],
   "source": [
    "train_performance_over_log"
   ]
  },
  {
   "cell_type": "code",
   "execution_count": 117,
   "metadata": {
    "collapsed": true,
    "extensions": {
     "jupyter_dashboards": {
      "version": 1,
      "views": {
       "grid_default": {
        "hidden": true
       },
       "report_default": {
        "hidden": true
       }
      }
     }
    },
    "nbpresent": {
     "id": "52b2ad34-6ca3-446f-bb79-9e895d6fa5d6"
    }
   },
   "outputs": [],
   "source": [
    "validation_performance_over_log = h2o.performance(model = logistic_model_over, newdata = valid)"
   ]
  },
  {
   "cell_type": "code",
   "execution_count": 118,
   "metadata": {
    "collapsed": false,
    "extensions": {
     "jupyter_dashboards": {
      "version": 1,
      "views": {
       "grid_default": {
        "col": 0,
        "height": 13,
        "hidden": false,
        "row": 664,
        "width": 4
       },
       "report_default": {
        "hidden": false
       }
      }
     }
    },
    "nbpresent": {
     "id": "04608e97-b492-4df7-999d-154fc17f934e"
    }
   },
   "outputs": [
    {
     "data": {
      "image/png": "[encoded data removed]"
     },
     "metadata": {},
     "output_type": "display_data"
    }
   ],
   "source": [
    "plot(validation_performance_over_log, type = \"roc\", col = \"blue\", typ = \"b\")"
   ]
  },
  {
   "cell_type": "code",
   "execution_count": 119,
   "metadata": {
    "collapsed": false,
    "extensions": {
     "jupyter_dashboards": {
      "version": 1,
      "views": {
       "grid_default": {
        "col": 0,
        "height": 28,
        "hidden": false,
        "row": 677,
        "width": 4
       },
       "report_default": {
        "hidden": false
       }
      }
     }
    },
    "nbpresent": {
     "id": "72414414-33d8-4fe3-b325-e76e4616e04b"
    }
   },
   "outputs": [
    {
     "data": {
      "text/plain": [
       "H2OBinomialMetrics: glm\n",
       "\n",
       "MSE:  0.2162189\n",
       "RMSE:  0.4649935\n",
       "LogLoss:  0.6191103\n",
       "Mean Per-Class Error:  0.3993811\n",
       "AUC:  0.6749768\n",
       "Gini:  0.3499535\n",
       "R^2:  -2.021016\n",
       "Null Deviance:  6056.72\n",
       "Residual Deviance:  5409.786\n",
       "AIC:  6079.786\n",
       "\n",
       "Confusion Matrix for F1-optimal threshold:\n",
       "          0   1    Error       Rate\n",
       "0      3355 675 0.167494  =675/4030\n",
       "1       214 125 0.631268   =214/339\n",
       "Totals 3569 800 0.203479  =889/4369\n",
       "\n",
       "Maximum Metrics: Maximum metrics at their respective thresholds\n",
       "                        metric threshold    value idx\n",
       "1                       max f1  0.614928 0.219491 107\n",
       "2                       max f2  0.411214 0.355014 218\n",
       "3                 max f0point5  0.695305 0.185984  68\n",
       "4                 max accuracy  0.922729 0.922866   3\n",
       "5                max precision  0.973510 1.000000   0\n",
       "6                   max recall  0.110116 1.000000 369\n",
       "7              max specificity  0.973510 1.000000   0\n",
       "8             max absolute_mcc  0.614928 0.139201 107\n",
       "9   max min_per_class_accuracy  0.488622 0.625310 175\n",
       "10 max mean_per_class_accuracy  0.411214 0.629359 218\n",
       "\n",
       "Gains/Lift Table: Extract with `h2o.gainsLift(<model>, <data>)` or `h2o.gainsLift(<model>, valid=<T/F>, xval=<T/F>)`"
      ]
     },
     "metadata": {},
     "output_type": "display_data"
    }
   ],
   "source": [
    "validation_performance_over_log"
   ]
  },
  {
   "cell_type": "code",
   "execution_count": 120,
   "metadata": {
    "collapsed": false,
    "extensions": {
     "jupyter_dashboards": {
      "version": 1,
      "views": {
       "grid_default": {
        "hidden": true
       },
       "report_default": {
        "hidden": true
       }
      }
     }
    },
    "nbpresent": {
     "id": "a0dacb8c-9a89-4353-a359-cf56ac2a293e"
    }
   },
   "outputs": [],
   "source": [
    "test_performance_over_log = h2o.performance(model = logistic_model_over, newdata = test)"
   ]
  },
  {
   "cell_type": "code",
   "execution_count": 121,
   "metadata": {
    "collapsed": false,
    "extensions": {
     "jupyter_dashboards": {
      "version": 1,
      "views": {
       "grid_default": {
        "col": 0,
        "height": 13,
        "hidden": false,
        "row": 705,
        "width": 4
       },
       "report_default": {
        "hidden": false
       }
      }
     }
    },
    "nbpresent": {
     "id": "c5a18bb8-b68b-4446-a811-2f0edc9e3fc5"
    },
    "scrolled": false
   },
   "outputs": [
    {
     "data": {
      "image/png": "[encoded data removed]"
     },
     "metadata": {},
     "output_type": "display_data"
    }
   ],
   "source": [
    "plot(test_performance_over_log, type = \"roc\", col = \"blue\", typ = \"b\")"
   ]
  },
  {
   "cell_type": "code",
   "execution_count": 122,
   "metadata": {
    "collapsed": false,
    "extensions": {
     "jupyter_dashboards": {
      "version": 1,
      "views": {
       "grid_default": {
        "col": 0,
        "height": 28,
        "hidden": false,
        "row": 718,
        "width": 4
       },
       "report_default": {
        "hidden": false
       }
      }
     }
    },
    "nbpresent": {
     "id": "e4ce8b65-8094-40b1-a742-b43a4678fe49"
    }
   },
   "outputs": [
    {
     "data": {
      "text/plain": [
       "H2OBinomialMetrics: glm\n",
       "\n",
       "MSE:  0.2199825\n",
       "RMSE:  0.4690229\n",
       "LogLoss:  0.6301852\n",
       "Mean Per-Class Error:  0.4113325\n",
       "AUC:  0.6544\n",
       "Gini:  0.3087999\n",
       "R^2:  -2.15255\n",
       "Null Deviance:  6336.752\n",
       "Residual Deviance:  5761.153\n",
       "AIC:  6431.153\n",
       "\n",
       "Confusion Matrix for F1-optimal threshold:\n",
       "          0   1    Error       Rate\n",
       "0      3579 647 0.153100  =647/4226\n",
       "1       231 114 0.669565   =231/345\n",
       "Totals 3810 761 0.192081  =878/4571\n",
       "\n",
       "Maximum Metrics: Maximum metrics at their respective thresholds\n",
       "                        metric threshold    value idx\n",
       "1                       max f1  0.632551 0.206148 100\n",
       "2                       max f2  0.446541 0.338335 198\n",
       "3                 max f0point5  0.683411 0.180778  74\n",
       "4                 max accuracy  0.951586 0.924962   3\n",
       "5                max precision  0.999470 1.000000   0\n",
       "6                   max recall  0.016808 1.000000 396\n",
       "7              max specificity  0.999470 1.000000   0\n",
       "8             max absolute_mcc  0.509688 0.130373 163\n",
       "9   max min_per_class_accuracy  0.485492 0.614493 177\n",
       "10 max mean_per_class_accuracy  0.453745 0.620513 194\n",
       "\n",
       "Gains/Lift Table: Extract with `h2o.gainsLift(<model>, <data>)` or `h2o.gainsLift(<model>, valid=<T/F>, xval=<T/F>)`"
      ]
     },
     "metadata": {},
     "output_type": "display_data"
    }
   ],
   "source": [
    "test_performance_over_log"
   ]
  },
  {
   "cell_type": "markdown",
   "metadata": {
    "extensions": {
     "jupyter_dashboards": {
      "version": 1,
      "views": {
       "grid_default": {
        "hidden": true
       },
       "report_default": {
        "hidden": true
       }
      }
     }
    }
   },
   "source": [
    "### With undersampled train dataset"
   ]
  },
  {
   "cell_type": "code",
   "execution_count": 123,
   "metadata": {
    "collapsed": false,
    "extensions": {
     "jupyter_dashboards": {
      "version": 1,
      "views": {
       "grid_default": {
        "col": 0,
        "height": 4,
        "hidden": false,
        "row": 750,
        "width": 4
       },
       "report_default": {
        "hidden": false
       }
      }
     }
    },
    "nbpresent": {
     "id": "c14bda4d-fa71-4b51-b85c-53fa82d357ef"
    }
   },
   "outputs": [
    {
     "name": "stdout",
     "output_type": "stream",
     "text": [
      "\r",
      "  |                                                                            \r",
      "  |                                                                      |   0%\r",
      "  |                                                                            \r",
      "  |====                                                                  |   6%\r",
      "  |                                                                            \r",
      "  |======================================================================| 100%\n"
     ]
    }
   ],
   "source": [
    "logistic_model_under = h2o.glm(x = 1:370,\n",
    "                              y = 371,\n",
    "                              training_frame = train_under_h2o, \n",
    "                              family = \"binomial\")"
   ]
  },
  {
   "cell_type": "code",
   "execution_count": 124,
   "metadata": {
    "collapsed": false,
    "extensions": {
     "jupyter_dashboards": {
      "version": 1,
      "views": {
       "grid_default": {
        "col": 0,
        "height": 56,
        "hidden": false,
        "row": 754,
        "width": 4
       },
       "report_default": {
        "hidden": false
       }
      }
     }
    },
    "nbpresent": {
     "id": "4814df66-6c9e-48a0-896e-7c62d8f1a9df"
    }
   },
   "outputs": [
    {
     "data": {
      "text/plain": [
       "Model Details:\n",
       "==============\n",
       "\n",
       "H2OBinomialModel: glm\n",
       "Model ID:  GLM_model_R_1483960975727_86 \n",
       "GLM Model: summary\n",
       "    family  link                               regularization\n",
       "1 binomial logit Elastic Net (alpha = 0.5, lambda = 0.01476 )\n",
       "  number_of_predictors_total number_of_active_predictors number_of_iterations\n",
       "1                        338                         131                    6\n",
       "   training_frame\n",
       "1 trainunderh2o_1\n",
       "\n",
       "Coefficients: glm coefficients\n",
       "      names coefficients standardized_coefficients\n",
       "1 Intercept    -0.119626                 -0.003166\n",
       "2       PC1    -0.029157                 -0.173307\n",
       "3       PC2     0.010872                  0.057329\n",
       "4       PC3    -0.038767                 -0.152855\n",
       "5       PC4     0.004223                  0.014966\n",
       "\n",
       "---\n",
       "    names coefficients standardized_coefficients\n",
       "334 PC333    -0.046914                 -0.031884\n",
       "335 PC334    -0.085078                 -0.057223\n",
       "336 PC335     0.000000                  0.000000\n",
       "337 PC336     0.000000                  0.000000\n",
       "338 PC337     0.000000                  0.000000\n",
       "339 PC338     0.000000                  0.000000\n",
       "\n",
       "H2OBinomialMetrics: glm\n",
       "** Reported on training data. **\n",
       "\n",
       "MSE:  0.2198871\n",
       "RMSE:  0.4689212\n",
       "LogLoss:  0.6301615\n",
       "Mean Per-Class Error:  0.3712092\n",
       "AUC:  0.7092541\n",
       "Gini:  0.4185082\n",
       "R^2:  0.1204517\n",
       "Null Deviance:  7222.594\n",
       "Residual Deviance:  6566.283\n",
       "AIC:  6830.283\n",
       "\n",
       "Confusion Matrix for F1-optimal threshold:\n",
       "          0    1    Error        Rate\n",
       "0      1009 1596 0.612668  =1596/2605\n",
       "1       338 2267 0.129750   =338/2605\n",
       "Totals 1347 3863 0.371209  =1934/5210\n",
       "\n",
       "Maximum Metrics: Maximum metrics at their respective thresholds\n",
       "                        metric threshold    value idx\n",
       "1                       max f1  0.418275 0.700989 256\n",
       "2                       max f2  0.282550 0.837128 345\n",
       "3                 max f0point5  0.511372 0.651652 188\n",
       "4                 max accuracy  0.511372 0.651440 188\n",
       "5                max precision  0.896746 1.000000   0\n",
       "6                   max recall  0.170982 1.000000 387\n",
       "7              max specificity  0.896746 1.000000   0\n",
       "8             max absolute_mcc  0.511372 0.302894 188\n",
       "9   max min_per_class_accuracy  0.509569 0.649520 189\n",
       "10 max mean_per_class_accuracy  0.511372 0.651440 188\n",
       "\n",
       "Gains/Lift Table: Extract with `h2o.gainsLift(<model>, <data>)` or `h2o.gainsLift(<model>, valid=<T/F>, xval=<T/F>)`\n",
       "\n"
      ]
     },
     "metadata": {},
     "output_type": "display_data"
    }
   ],
   "source": [
    "logistic_model_under"
   ]
  },
  {
   "cell_type": "code",
   "execution_count": 125,
   "metadata": {
    "collapsed": true,
    "extensions": {
     "jupyter_dashboards": {
      "version": 1,
      "views": {
       "grid_default": {
        "hidden": true
       },
       "report_default": {
        "hidden": true
       }
      }
     }
    },
    "nbpresent": {
     "id": "57055e16-95b5-451b-9c2c-dc1fe5647547"
    }
   },
   "outputs": [],
   "source": [
    "train_performance_under_log = h2o.performance(model = logistic_model_under, newdata = train)"
   ]
  },
  {
   "cell_type": "code",
   "execution_count": 126,
   "metadata": {
    "collapsed": false,
    "extensions": {
     "jupyter_dashboards": {
      "version": 1,
      "views": {
       "grid_default": {
        "col": 0,
        "height": 13,
        "hidden": false,
        "row": 810,
        "width": 4
       },
       "report_default": {
        "hidden": false
       }
      }
     }
    },
    "nbpresent": {
     "id": "6fe41b7e-1573-47a8-a1b9-ed4556cadabb"
    },
    "scrolled": false
   },
   "outputs": [
    {
     "data": {
      "image/png": "[encoded data removed]"
     },
     "metadata": {},
     "output_type": "display_data"
    }
   ],
   "source": [
    "plot(train_performance_under_log, type = \"roc\", col = \"blue\", typ = \"b\")"
   ]
  },
  {
   "cell_type": "code",
   "execution_count": 127,
   "metadata": {
    "collapsed": false,
    "extensions": {
     "jupyter_dashboards": {
      "version": 1,
      "views": {
       "grid_default": {
        "col": 0,
        "height": 28,
        "hidden": false,
        "row": 823,
        "width": 4
       },
       "report_default": {
        "hidden": false
       }
      }
     }
    },
    "nbpresent": {
     "id": "0b40970e-5688-4bd4-805a-ece34fe2a0e6"
    },
    "scrolled": false
   },
   "outputs": [
    {
     "data": {
      "text/plain": [
       "H2OBinomialMetrics: glm\n",
       "\n",
       "MSE:  0.2320632\n",
       "RMSE:  0.4817294\n",
       "LogLoss:  0.6557614\n",
       "Mean Per-Class Error:  0.3950271\n",
       "AUC:  0.6836932\n",
       "Gini:  0.3673864\n",
       "R^2:  -2.462494\n",
       "Null Deviance:  49989.77\n",
       "Residual Deviance:  47293.51\n",
       "AIC:  47557.51\n",
       "\n",
       "Confusion Matrix for F1-optimal threshold:\n",
       "           0    1    Error         Rate\n",
       "0      28381 5074 0.151666  =5074/33455\n",
       "1       1663  942 0.638388   =1663/2605\n",
       "Totals 30044 6016 0.186828  =6737/36060\n",
       "\n",
       "Maximum Metrics: Maximum metrics at their respective thresholds\n",
       "                        metric threshold    value idx\n",
       "1                       max f1  0.593860 0.218536 108\n",
       "2                       max f2  0.506149 0.340905 175\n",
       "3                 max f0point5  0.632957 0.185791  83\n",
       "4                 max accuracy  0.972532 0.927621   0\n",
       "5                max precision  0.744451 0.252778  33\n",
       "6                   max recall  0.172668 1.000000 377\n",
       "7              max specificity  0.972532 0.999851   0\n",
       "8             max absolute_mcc  0.593860 0.145784 108\n",
       "9   max min_per_class_accuracy  0.514737 0.632432 168\n",
       "10 max mean_per_class_accuracy  0.521023 0.634917 163\n",
       "\n",
       "Gains/Lift Table: Extract with `h2o.gainsLift(<model>, <data>)` or `h2o.gainsLift(<model>, valid=<T/F>, xval=<T/F>)`"
      ]
     },
     "metadata": {},
     "output_type": "display_data"
    }
   ],
   "source": [
    "train_performance_under_log"
   ]
  },
  {
   "cell_type": "code",
   "execution_count": 128,
   "metadata": {
    "collapsed": true,
    "extensions": {
     "jupyter_dashboards": {
      "version": 1,
      "views": {
       "grid_default": {
        "hidden": true
       },
       "report_default": {
        "hidden": true
       }
      }
     }
    },
    "nbpresent": {
     "id": "e967dab0-b617-4583-93d9-05df9562892f"
    }
   },
   "outputs": [],
   "source": [
    "validation_performance_under_log = h2o.performance(model = logistic_model_under, newdata = valid)"
   ]
  },
  {
   "cell_type": "code",
   "execution_count": 129,
   "metadata": {
    "collapsed": false,
    "extensions": {
     "jupyter_dashboards": {
      "version": 1,
      "views": {
       "grid_default": {
        "col": 0,
        "height": 13,
        "hidden": false,
        "row": 851,
        "width": 4
       },
       "report_default": {
        "hidden": false
       }
      }
     }
    },
    "nbpresent": {
     "id": "662240dd-f7ea-4d7d-a4e7-0663f60fd5a2"
    }
   },
   "outputs": [
    {
     "data": {
      "image/png": "[encoded data removed]"
     },
     "metadata": {},
     "output_type": "display_data"
    }
   ],
   "source": [
    "plot(validation_performance_under_log, type = \"roc\", col = \"blue\", typ = \"b\")"
   ]
  },
  {
   "cell_type": "code",
   "execution_count": 130,
   "metadata": {
    "collapsed": false,
    "extensions": {
     "jupyter_dashboards": {
      "version": 1,
      "views": {
       "grid_default": {
        "col": 0,
        "height": 28,
        "hidden": false,
        "row": 864,
        "width": 4
       },
       "report_default": {
        "hidden": false
       }
      }
     }
    },
    "nbpresent": {
     "id": "4e1bfbfa-1670-4483-b80a-8705e8cf044e"
    }
   },
   "outputs": [
    {
     "data": {
      "text/plain": [
       "H2OBinomialMetrics: glm\n",
       "\n",
       "MSE:  0.2321292\n",
       "RMSE:  0.4817979\n",
       "LogLoss:  0.6555198\n",
       "Mean Per-Class Error:  0.3826983\n",
       "AUC:  0.6487051\n",
       "Gini:  0.2974103\n",
       "R^2:  -2.243315\n",
       "Null Deviance:  6056.72\n",
       "Residual Deviance:  5727.932\n",
       "AIC:  5991.932\n",
       "\n",
       "Confusion Matrix for F1-optimal threshold:\n",
       "          0    1    Error        Rate\n",
       "0      2372 1658 0.411414  =1658/4030\n",
       "1       120  219 0.353982    =120/339\n",
       "Totals 2492 1877 0.406958  =1778/4369\n",
       "\n",
       "Maximum Metrics: Maximum metrics at their respective thresholds\n",
       "                        metric threshold    value idx\n",
       "1                       max f1  0.499203 0.197653 174\n",
       "2                       max f2  0.494489 0.338803 177\n",
       "3                 max f0point5  0.699911 0.180807  31\n",
       "4                 max accuracy  0.969933 0.922179   0\n",
       "5                max precision  0.840837 0.400000   3\n",
       "6                   max recall  0.246546 1.000000 358\n",
       "7              max specificity  0.969933 0.999752   0\n",
       "8             max absolute_mcc  0.499203 0.126789 174\n",
       "9   max min_per_class_accuracy  0.505218 0.603722 170\n",
       "10 max mean_per_class_accuracy  0.499203 0.617302 174\n",
       "\n",
       "Gains/Lift Table: Extract with `h2o.gainsLift(<model>, <data>)` or `h2o.gainsLift(<model>, valid=<T/F>, xval=<T/F>)`"
      ]
     },
     "metadata": {},
     "output_type": "display_data"
    }
   ],
   "source": [
    "validation_performance_under_log"
   ]
  },
  {
   "cell_type": "code",
   "execution_count": 131,
   "metadata": {
    "collapsed": false,
    "extensions": {
     "jupyter_dashboards": {
      "version": 1,
      "views": {
       "grid_default": {
        "hidden": true
       },
       "report_default": {
        "hidden": true
       }
      }
     }
    },
    "nbpresent": {
     "id": "493d106e-4bd1-48ee-87d2-882972010bba"
    }
   },
   "outputs": [],
   "source": [
    "test_performance_under_log = h2o.performance(model = logistic_model_under, newdata = test)"
   ]
  },
  {
   "cell_type": "code",
   "execution_count": 132,
   "metadata": {
    "collapsed": false,
    "extensions": {
     "jupyter_dashboards": {
      "version": 1,
      "views": {
       "grid_default": {
        "col": 0,
        "height": 13,
        "hidden": false,
        "row": 892,
        "width": 4
       },
       "report_default": {
        "hidden": false
       }
      }
     }
    },
    "nbpresent": {
     "id": "b0b7b2c2-0893-49fb-a990-a0a7c34442c6"
    }
   },
   "outputs": [
    {
     "data": {
      "image/png": "[encoded data removed]"
     },
     "metadata": {},
     "output_type": "display_data"
    }
   ],
   "source": [
    "plot(test_performance_under_log, type = \"roc\", col = \"blue\", typ = \"b\")"
   ]
  },
  {
   "cell_type": "code",
   "execution_count": 133,
   "metadata": {
    "collapsed": false,
    "extensions": {
     "jupyter_dashboards": {
      "version": 1,
      "views": {
       "grid_default": {
        "col": 4,
        "height": 28,
        "hidden": false,
        "row": 898,
        "width": 4
       },
       "report_default": {
        "hidden": false
       }
      }
     }
    },
    "nbpresent": {
     "id": "1fbdc187-cd40-4fdf-8b83-70a71a81e32a"
    }
   },
   "outputs": [
    {
     "data": {
      "text/plain": [
       "H2OBinomialMetrics: glm\n",
       "\n",
       "MSE:  0.2312736\n",
       "RMSE:  0.4809091\n",
       "LogLoss:  0.6542128\n",
       "Mean Per-Class Error:  0.3985559\n",
       "AUC:  0.6592625\n",
       "Gini:  0.3185251\n",
       "R^2:  -2.314362\n",
       "Null Deviance:  6336.752\n",
       "Residual Deviance:  5980.813\n",
       "AIC:  6244.813\n",
       "\n",
       "Confusion Matrix for F1-optimal threshold:\n",
       "          0   1    Error       Rate\n",
       "0      3491 735 0.173923  =735/4226\n",
       "1       215 130 0.623188   =215/345\n",
       "Totals 3706 865 0.207832  =950/4571\n",
       "\n",
       "Maximum Metrics: Maximum metrics at their respective thresholds\n",
       "                        metric threshold    value idx\n",
       "1                       max f1  0.582770 0.214876 103\n",
       "2                       max f2  0.490846 0.338640 180\n",
       "3                 max f0point5  0.652293 0.203813  59\n",
       "4                 max accuracy  0.817670 0.924743   5\n",
       "5                max precision  0.817670 0.571429   5\n",
       "6                   max recall  0.135448 1.000000 393\n",
       "7              max specificity  0.990819 0.999763   0\n",
       "8             max absolute_mcc  0.643954 0.137212  65\n",
       "9   max min_per_class_accuracy  0.507064 0.611216 165\n",
       "10 max mean_per_class_accuracy  0.490846 0.621312 180\n",
       "\n",
       "Gains/Lift Table: Extract with `h2o.gainsLift(<model>, <data>)` or `h2o.gainsLift(<model>, valid=<T/F>, xval=<T/F>)`"
      ]
     },
     "metadata": {},
     "output_type": "display_data"
    }
   ],
   "source": [
    "test_performance_under_log"
   ]
  },
  {
   "cell_type": "markdown",
   "metadata": {
    "extensions": {
     "jupyter_dashboards": {
      "version": 1,
      "views": {
       "grid_default": {
        "col": 0,
        "height": 4,
        "hidden": false,
        "row": 905,
        "width": 4
       },
       "report_default": {
        "hidden": false
       }
      }
     }
    },
    "nbpresent": {
     "id": "ecf6dc94-9236-4e93-8ca1-bbe2a0fee2e9"
    }
   },
   "source": [
    "## Naive Bayes"
   ]
  },
  {
   "cell_type": "markdown",
   "metadata": {
    "extensions": {
     "jupyter_dashboards": {
      "version": 1,
      "views": {
       "grid_default": {
        "hidden": true
       },
       "report_default": {
        "hidden": true
       }
      }
     }
    }
   },
   "source": [
    "### With oversampled train dataset"
   ]
  },
  {
   "cell_type": "code",
   "execution_count": 134,
   "metadata": {
    "collapsed": false,
    "extensions": {
     "jupyter_dashboards": {
      "version": 1,
      "views": {
       "grid_default": {
        "col": 0,
        "height": 4,
        "hidden": false,
        "row": 913,
        "width": 4
       },
       "report_default": {
        "hidden": false
       }
      }
     }
    },
    "nbpresent": {
     "id": "d9135b69-d03e-4827-882c-2ec87e6dc84d"
    }
   },
   "outputs": [
    {
     "name": "stdout",
     "output_type": "stream",
     "text": [
      "\r",
      "  |                                                                            \r",
      "  |                                                                      |   0%\r",
      "  |                                                                            \r",
      "  |============                                                          |  17%\r",
      "  |                                                                            \r",
      "  |==========================================================            |  83%\r",
      "  |                                                                            \r",
      "  |======================================================================| 100%\n"
     ]
    }
   ],
   "source": [
    "nb_model_over = h2o.naiveBayes(x = 1:370,\n",
    "                              y = 371,\n",
    "                              training_frame = train_over_h2o)"
   ]
  },
  {
   "cell_type": "code",
   "execution_count": 135,
   "metadata": {
    "collapsed": false,
    "extensions": {
     "jupyter_dashboards": {
      "version": 1,
      "views": {
       "grid_default": {
        "col": 0,
        "height": 34,
        "hidden": false,
        "row": 917,
        "width": 4
       },
       "report_default": {
        "hidden": false
       }
      }
     }
    },
    "nbpresent": {
     "id": "d6fac883-4811-4f9e-b95b-dc2b6374bdb0"
    },
    "scrolled": false
   },
   "outputs": [
    {
     "data": {
      "text/plain": [
       "Model Details:\n",
       "==============\n",
       "\n",
       "H2OBinomialModel: naivebayes\n",
       "Model ID:  NaiveBayes_model_R_1483960975727_91 \n",
       "Model Summary: \n",
       "  number_of_response_levels min_apriori_probability max_apriori_probability\n",
       "1                         2                 0.50000                 0.50000\n",
       "\n",
       "\n",
       "H2OBinomialMetrics: naivebayes\n",
       "** Reported on training data. **\n",
       "\n",
       "MSE:  0.4273223\n",
       "RMSE:  0.6536989\n",
       "LogLoss:  3.88222\n",
       "Mean Per-Class Error:  0.5\n",
       "AUC:  0.5606945\n",
       "Gini:  0.121389\n",
       "\n",
       "Confusion Matrix for F1-optimal threshold:\n",
       "       0     1    Error          Rate\n",
       "0      0 33455 1.000000  =33455/33455\n",
       "1      0 33455 0.000000      =0/33455\n",
       "Totals 0 66910 0.500000  =33455/66910\n",
       "\n",
       "Maximum Metrics: Maximum metrics at their respective thresholds\n",
       "                        metric threshold    value idx\n",
       "1                       max f1  0.000017 0.666667 399\n",
       "2                       max f2  0.000017 0.833333 399\n",
       "3                 max f0point5  0.017496 0.562400 382\n",
       "4                 max accuracy  0.994510 0.548214  12\n",
       "5                max precision  0.999976 0.567693   0\n",
       "6                   max recall  0.000017 1.000000 399\n",
       "7              max specificity  0.999976 0.749454   0\n",
       "8             max absolute_mcc  0.967294 0.096588  37\n",
       "9   max min_per_class_accuracy  0.990867 0.545808  17\n",
       "10 max mean_per_class_accuracy  0.994510 0.548214  12\n",
       "\n",
       "Gains/Lift Table: Extract with `h2o.gainsLift(<model>, <data>)` or `h2o.gainsLift(<model>, valid=<T/F>, xval=<T/F>)`\n",
       "\n"
      ]
     },
     "metadata": {},
     "output_type": "display_data"
    }
   ],
   "source": [
    "nb_model_over"
   ]
  },
  {
   "cell_type": "code",
   "execution_count": 136,
   "metadata": {
    "collapsed": true,
    "extensions": {
     "jupyter_dashboards": {
      "version": 1,
      "views": {
       "grid_default": {
        "hidden": true
       },
       "report_default": {
        "hidden": true
       }
      }
     }
    },
    "nbpresent": {
     "id": "073882c2-58af-443b-9a52-de81ea9827a0"
    }
   },
   "outputs": [],
   "source": [
    "train_performance_over_nb = h2o.performance(model = nb_model_over, newdata = train)"
   ]
  },
  {
   "cell_type": "code",
   "execution_count": 137,
   "metadata": {
    "collapsed": false,
    "extensions": {
     "jupyter_dashboards": {
      "version": 1,
      "views": {
       "grid_default": {
        "col": 4,
        "height": 13,
        "hidden": false,
        "row": 926,
        "width": 4
       },
       "report_default": {
        "hidden": false
       }
      }
     }
    },
    "nbpresent": {
     "id": "0c638abc-f6d7-4cef-a909-69584ac82012"
    }
   },
   "outputs": [
    {
     "data": {
      "image/png": "[encoded data removed]"
     },
     "metadata": {},
     "output_type": "display_data"
    }
   ],
   "source": [
    "plot(train_performance_over_nb, type = \"roc\", col = \"blue\", typ = \"b\")"
   ]
  },
  {
   "cell_type": "code",
   "execution_count": 138,
   "metadata": {
    "collapsed": false,
    "extensions": {
     "jupyter_dashboards": {
      "version": 1,
      "views": {
       "grid_default": {
        "col": 4,
        "height": 26,
        "hidden": false,
        "row": 939,
        "width": 4
       },
       "report_default": {
        "hidden": false
       }
      }
     }
    },
    "nbpresent": {
     "id": "651eca9c-3bac-4e27-8739-fcc71354db3a"
    }
   },
   "outputs": [
    {
     "data": {
      "text/plain": [
       "H2OBinomialMetrics: naivebayes\n",
       "\n",
       "MSE:  0.5724857\n",
       "RMSE:  0.7566278\n",
       "LogLoss:  4.721689\n",
       "Mean Per-Class Error:  0.4510934\n",
       "AUC:  0.5620309\n",
       "Gini:  0.1240619\n",
       "\n",
       "Confusion Matrix for F1-optimal threshold:\n",
       "           0     1    Error          Rate\n",
       "0      18722 14733 0.440383  =14733/33455\n",
       "1       1203  1402 0.461804    =1203/2605\n",
       "Totals 19925 16135 0.441930  =15936/36060\n",
       "\n",
       "Maximum Metrics: Maximum metrics at their respective thresholds\n",
       "                        metric threshold    value idx\n",
       "1                       max f1  0.993074 0.149626  12\n",
       "2                       max f2  0.019727 0.283997 381\n",
       "3                 max f0point5  0.999963 0.109392   0\n",
       "4                 max accuracy  0.999963 0.703744   0\n",
       "5                max precision  0.999963 0.093253   0\n",
       "6                   max recall  0.000013 1.000000 399\n",
       "7              max specificity  0.999963 0.730862   0\n",
       "8             max absolute_mcc  0.993074 0.050927  12\n",
       "9   max min_per_class_accuracy  0.990865 0.547409  14\n",
       "10 max mean_per_class_accuracy  0.993074 0.548907  12\n",
       "\n",
       "Gains/Lift Table: Extract with `h2o.gainsLift(<model>, <data>)` or `h2o.gainsLift(<model>, valid=<T/F>, xval=<T/F>)`"
      ]
     },
     "metadata": {},
     "output_type": "display_data"
    }
   ],
   "source": [
    "train_performance_over_nb"
   ]
  },
  {
   "cell_type": "code",
   "execution_count": 139,
   "metadata": {
    "collapsed": true,
    "extensions": {
     "jupyter_dashboards": {
      "version": 1,
      "views": {
       "grid_default": {
        "hidden": true
       },
       "report_default": {
        "hidden": true
       }
      }
     }
    },
    "nbpresent": {
     "id": "095e0ea5-6c89-4fc7-85e2-dcc8e2d3f1b7"
    }
   },
   "outputs": [],
   "source": [
    "validation_performance_over_nb = h2o.performance(model = nb_model_over, newdata = valid)"
   ]
  },
  {
   "cell_type": "code",
   "execution_count": 140,
   "metadata": {
    "collapsed": false,
    "extensions": {
     "jupyter_dashboards": {
      "version": 1,
      "views": {
       "grid_default": {
        "col": 0,
        "height": 13,
        "hidden": false,
        "row": 951,
        "width": 4
       },
       "report_default": {
        "hidden": false
       }
      }
     }
    },
    "nbpresent": {
     "id": "6d5b369f-ffce-42dc-bd4c-dded29e10671"
    }
   },
   "outputs": [
    {
     "data": {
      "image/png": "[encoded data removed]"
     },
     "metadata": {},
     "output_type": "display_data"
    }
   ],
   "source": [
    "plot(validation_performance_over_nb, type = \"roc\", col = \"blue\", typ = \"b\")"
   ]
  },
  {
   "cell_type": "code",
   "execution_count": 141,
   "metadata": {
    "collapsed": false,
    "extensions": {
     "jupyter_dashboards": {
      "version": 1,
      "views": {
       "grid_default": {
        "col": 0,
        "height": 26,
        "hidden": false,
        "row": 964,
        "width": 4
       },
       "report_default": {
        "hidden": false
       }
      }
     }
    },
    "nbpresent": {
     "id": "329006fe-fe1d-4e2e-bd1d-55072665968f"
    }
   },
   "outputs": [
    {
     "data": {
      "text/plain": [
       "H2OBinomialMetrics: naivebayes\n",
       "\n",
       "MSE:  0.569198\n",
       "RMSE:  0.7544521\n",
       "LogLoss:  4.706749\n",
       "Mean Per-Class Error:  0.4614052\n",
       "AUC:  0.5452638\n",
       "Gini:  0.09052753\n",
       "\n",
       "Confusion Matrix for F1-optimal threshold:\n",
       "          0    1    Error        Rate\n",
       "0      2546 1484 0.368238  =1484/4030\n",
       "1       188  151 0.554572    =188/339\n",
       "Totals 2734 1635 0.382696  =1672/4369\n",
       "\n",
       "Maximum Metrics: Maximum metrics at their respective thresholds\n",
       "                        metric threshold    value idx\n",
       "1                       max f1  0.998435 0.152989   5\n",
       "2                       max f2  0.003728 0.296504 392\n",
       "3                 max f0point5  0.999966 0.111699   0\n",
       "4                 max accuracy  0.999966 0.701991   0\n",
       "5                max precision  0.999966 0.095718   0\n",
       "6                   max recall  0.000012 1.000000 399\n",
       "7              max specificity  0.999966 0.732754   0\n",
       "8             max absolute_mcc  0.999708 0.042875   1\n",
       "9   max min_per_class_accuracy  0.983748 0.528024  24\n",
       "10 max mean_per_class_accuracy  0.998435 0.538595   5\n",
       "\n",
       "Gains/Lift Table: Extract with `h2o.gainsLift(<model>, <data>)` or `h2o.gainsLift(<model>, valid=<T/F>, xval=<T/F>)`"
      ]
     },
     "metadata": {},
     "output_type": "display_data"
    }
   ],
   "source": [
    "validation_performance_over_nb"
   ]
  },
  {
   "cell_type": "code",
   "execution_count": 142,
   "metadata": {
    "collapsed": false,
    "extensions": {
     "jupyter_dashboards": {
      "version": 1,
      "views": {
       "grid_default": {
        "hidden": true
       },
       "report_default": {
        "hidden": true
       }
      }
     }
    },
    "nbpresent": {
     "id": "8c231564-95f0-4347-acfb-a7f3038ec403"
    }
   },
   "outputs": [],
   "source": [
    "test_performance_over_nb = h2o.performance(model = nb_model_over, newdata = test)"
   ]
  },
  {
   "cell_type": "code",
   "execution_count": 143,
   "metadata": {
    "collapsed": false,
    "extensions": {
     "jupyter_dashboards": {
      "version": 1,
      "views": {
       "grid_default": {
        "col": 4,
        "height": 13,
        "hidden": false,
        "row": 965,
        "width": 4
       },
       "report_default": {
        "hidden": false
       }
      }
     }
    },
    "nbpresent": {
     "id": "a387a208-267b-488f-a2ba-ecc8c7f9d7ed"
    }
   },
   "outputs": [
    {
     "data": {
      "image/png": "[encoded data removed]"
     },
     "metadata": {},
     "output_type": "display_data"
    }
   ],
   "source": [
    "plot(test_performance_over_nb, type = \"roc\", col = \"blue\", typ = \"b\")"
   ]
  },
  {
   "cell_type": "code",
   "execution_count": 144,
   "metadata": {
    "collapsed": false,
    "extensions": {
     "jupyter_dashboards": {
      "version": 1,
      "views": {
       "grid_default": {
        "col": 4,
        "height": 26,
        "hidden": false,
        "row": 978,
        "width": 4
       },
       "report_default": {
        "hidden": false
       }
      }
     }
    },
    "nbpresent": {
     "id": "101cdba4-a335-40ee-90e5-b9f8690c7f10"
    }
   },
   "outputs": [
    {
     "data": {
      "text/plain": [
       "H2OBinomialMetrics: naivebayes\n",
       "\n",
       "MSE:  0.5680137\n",
       "RMSE:  0.7536668\n",
       "LogLoss:  4.703735\n",
       "Mean Per-Class Error:  0.4423911\n",
       "AUC:  0.5462993\n",
       "Gini:  0.09259861\n",
       "\n",
       "Confusion Matrix for F1-optimal threshold:\n",
       "          0    1    Error        Rate\n",
       "0      3194 1032 0.244203  =1032/4226\n",
       "1       221  124 0.640580    =221/345\n",
       "Totals 3415 1156 0.274119  =1253/4571\n",
       "\n",
       "Maximum Metrics: Maximum metrics at their respective thresholds\n",
       "                        metric threshold    value idx\n",
       "1                       max f1  0.999974 0.165223   0\n",
       "2                       max f2  0.000022 0.289867 399\n",
       "3                 max f0point5  0.999974 0.124774   0\n",
       "4                 max accuracy  0.999974 0.725881   0\n",
       "5                max precision  0.999974 0.107266   0\n",
       "6                   max recall  0.000022 1.000000 399\n",
       "7              max specificity  0.999974 0.755797   0\n",
       "8             max absolute_mcc  0.999974 0.070020   0\n",
       "9   max min_per_class_accuracy  0.982279 0.530435  28\n",
       "10 max mean_per_class_accuracy  0.999974 0.557609   0\n",
       "\n",
       "Gains/Lift Table: Extract with `h2o.gainsLift(<model>, <data>)` or `h2o.gainsLift(<model>, valid=<T/F>, xval=<T/F>)`"
      ]
     },
     "metadata": {},
     "output_type": "display_data"
    }
   ],
   "source": [
    "test_performance_over_nb"
   ]
  },
  {
   "cell_type": "markdown",
   "metadata": {
    "extensions": {
     "jupyter_dashboards": {
      "version": 1,
      "views": {
       "grid_default": {
        "hidden": true
       },
       "report_default": {
        "hidden": true
       }
      }
     }
    }
   },
   "source": [
    "### With undersampled train dataset"
   ]
  },
  {
   "cell_type": "code",
   "execution_count": 145,
   "metadata": {
    "collapsed": false,
    "extensions": {
     "jupyter_dashboards": {
      "version": 1,
      "views": {
       "grid_default": {
        "col": 0,
        "height": 4,
        "hidden": false,
        "row": 994,
        "width": 4
       },
       "report_default": {
        "hidden": false
       }
      }
     }
    },
    "nbpresent": {
     "id": "74956ed8-d31b-4b2f-af2e-afd89f9c828d"
    }
   },
   "outputs": [
    {
     "name": "stdout",
     "output_type": "stream",
     "text": [
      "\r",
      "  |                                                                            \r",
      "  |                                                                      |   0%\r",
      "  |                                                                            \r",
      "  |======================================================================| 100%\n"
     ]
    }
   ],
   "source": [
    "nb_model_under = h2o.naiveBayes(x = 1:370,\n",
    "                              y = 371,\n",
    "                              training_frame = train_under_h2o)"
   ]
  },
  {
   "cell_type": "code",
   "execution_count": 146,
   "metadata": {
    "collapsed": false,
    "extensions": {
     "jupyter_dashboards": {
      "version": 1,
      "views": {
       "grid_default": {
        "col": 0,
        "height": 34,
        "hidden": false,
        "row": 998,
        "width": 4
       },
       "report_default": {
        "hidden": false
       }
      }
     }
    },
    "nbpresent": {
     "id": "e20ff9b7-5746-4e50-a5e0-7feb7cdb1ff7"
    }
   },
   "outputs": [
    {
     "data": {
      "text/plain": [
       "Model Details:\n",
       "==============\n",
       "\n",
       "H2OBinomialModel: naivebayes\n",
       "Model ID:  NaiveBayes_model_R_1483960975727_96 \n",
       "Model Summary: \n",
       "  number_of_response_levels min_apriori_probability max_apriori_probability\n",
       "1                         2                 0.50000                 0.50000\n",
       "\n",
       "\n",
       "H2OBinomialMetrics: naivebayes\n",
       "** Reported on training data. **\n",
       "\n",
       "MSE:  0.4243931\n",
       "RMSE:  0.6514546\n",
       "LogLoss:  3.955056\n",
       "Mean Per-Class Error:  0.5\n",
       "AUC:  0.5717713\n",
       "Gini:  0.1435426\n",
       "\n",
       "Confusion Matrix for F1-optimal threshold:\n",
       "       0    1    Error        Rate\n",
       "0      0 2605 1.000000  =2605/2605\n",
       "1      0 2605 0.000000     =0/2605\n",
       "Totals 0 5210 0.500000  =2605/5210\n",
       "\n",
       "Maximum Metrics: Maximum metrics at their respective thresholds\n",
       "                        metric threshold    value idx\n",
       "1                       max f1  0.000013 0.666667 399\n",
       "2                       max f2  0.000013 0.833333 399\n",
       "3                 max f0point5  0.004033 0.567285 392\n",
       "4                 max accuracy  0.989937 0.560653  18\n",
       "5                max precision  0.999975 0.569052   0\n",
       "6                   max recall  0.000013 1.000000 399\n",
       "7              max specificity  0.999975 0.701727   0\n",
       "8             max absolute_mcc  0.988947 0.121736  19\n",
       "9   max min_per_class_accuracy  0.995600 0.554702  10\n",
       "10 max mean_per_class_accuracy  0.989937 0.560653  18\n",
       "\n",
       "Gains/Lift Table: Extract with `h2o.gainsLift(<model>, <data>)` or `h2o.gainsLift(<model>, valid=<T/F>, xval=<T/F>)`\n",
       "\n"
      ]
     },
     "metadata": {},
     "output_type": "display_data"
    }
   ],
   "source": [
    "nb_model_under"
   ]
  },
  {
   "cell_type": "code",
   "execution_count": 147,
   "metadata": {
    "collapsed": true,
    "extensions": {
     "jupyter_dashboards": {
      "version": 1,
      "views": {
       "grid_default": {
        "hidden": true
       },
       "report_default": {
        "hidden": true
       }
      }
     }
    },
    "nbpresent": {
     "id": "59d45a25-9a5d-46d7-8ef1-84fa0f4e0462"
    }
   },
   "outputs": [],
   "source": [
    "train_performance_under_nb = h2o.performance(model = nb_model_under, newdata = train)"
   ]
  },
  {
   "cell_type": "code",
   "execution_count": 148,
   "metadata": {
    "collapsed": false,
    "extensions": {
     "jupyter_dashboards": {
      "version": 1,
      "views": {
       "grid_default": {
        "col": 4,
        "height": 13,
        "hidden": false,
        "row": 1004,
        "width": 4
       },
       "report_default": {
        "hidden": false
       }
      }
     }
    },
    "nbpresent": {
     "id": "97d944b9-743e-4d6d-9630-5422659a2c30"
    }
   },
   "outputs": [
    {
     "data": {
      "image/png": "[encoded data removed]"
     },
     "metadata": {},
     "output_type": "display_data"
    }
   ],
   "source": [
    "plot(train_performance_under_nb, type = \"roc\", col = \"blue\", typ = \"b\")"
   ]
  },
  {
   "cell_type": "code",
   "execution_count": 149,
   "metadata": {
    "collapsed": false,
    "extensions": {
     "jupyter_dashboards": {
      "version": 1,
      "views": {
       "grid_default": {
        "col": 4,
        "height": 26,
        "hidden": false,
        "row": 1017,
        "width": 4
       },
       "report_default": {
        "hidden": false
       }
      }
     }
    },
    "nbpresent": {
     "id": "d753c9ff-a339-4baf-9569-9c081d6b528b"
    }
   },
   "outputs": [
    {
     "data": {
      "text/plain": [
       "H2OBinomialMetrics: naivebayes\n",
       "\n",
       "MSE:  0.6064771\n",
       "RMSE:  0.7787664\n",
       "LogLoss:  5.279837\n",
       "Mean Per-Class Error:  0.4511385\n",
       "AUC:  0.5611574\n",
       "Gini:  0.1223148\n",
       "\n",
       "Confusion Matrix for F1-optimal threshold:\n",
       "           0     1    Error          Rate\n",
       "0      16433 17022 0.508803  =17022/33455\n",
       "1       1025  1580 0.393474    =1025/2605\n",
       "Totals 17458 18602 0.500471  =18047/36060\n",
       "\n",
       "Maximum Metrics: Maximum metrics at their respective thresholds\n",
       "                        metric threshold    value idx\n",
       "1                       max f1  0.987741 0.149007  18\n",
       "2                       max f2  0.003281 0.285168 393\n",
       "3                 max f0point5  0.999982 0.109201   0\n",
       "4                 max accuracy  0.999982 0.695896   0\n",
       "5                max precision  0.999982 0.092901   0\n",
       "6                   max recall  0.000011 1.000000 399\n",
       "7              max specificity  0.999982 0.721566   0\n",
       "8             max absolute_mcc  0.987741 0.050624  18\n",
       "9   max min_per_class_accuracy  0.996746 0.544702   8\n",
       "10 max mean_per_class_accuracy  0.987741 0.548862  18\n",
       "\n",
       "Gains/Lift Table: Extract with `h2o.gainsLift(<model>, <data>)` or `h2o.gainsLift(<model>, valid=<T/F>, xval=<T/F>)`"
      ]
     },
     "metadata": {},
     "output_type": "display_data"
    }
   ],
   "source": [
    "train_performance_under_nb"
   ]
  },
  {
   "cell_type": "code",
   "execution_count": 150,
   "metadata": {
    "collapsed": true,
    "extensions": {
     "jupyter_dashboards": {
      "version": 1,
      "views": {
       "grid_default": {
        "hidden": true
       },
       "report_default": {
        "hidden": true
       }
      }
     }
    },
    "nbpresent": {
     "id": "cb3a4787-66ad-4e8b-bb8e-98173b9386c1"
    }
   },
   "outputs": [],
   "source": [
    "validation_performance_under_nb = h2o.performance(model = nb_model_under, newdata = valid)"
   ]
  },
  {
   "cell_type": "code",
   "execution_count": 151,
   "metadata": {
    "collapsed": false,
    "extensions": {
     "jupyter_dashboards": {
      "version": 1,
      "views": {
       "grid_default": {
        "col": 0,
        "height": 13,
        "hidden": false,
        "row": 1032,
        "width": 4
       },
       "report_default": {
        "hidden": false
       }
      }
     }
    },
    "nbpresent": {
     "id": "5d31cada-b4c2-443f-92d9-87b32e43fc70"
    },
    "scrolled": false
   },
   "outputs": [
    {
     "data": {
      "image/png": "[encoded data removed]"
     },
     "metadata": {},
     "output_type": "display_data"
    }
   ],
   "source": [
    "plot(validation_performance_under_nb, type = \"roc\", col = \"blue\", typ = \"b\")"
   ]
  },
  {
   "cell_type": "code",
   "execution_count": 152,
   "metadata": {
    "collapsed": false,
    "extensions": {
     "jupyter_dashboards": {
      "version": 1,
      "views": {
       "grid_default": {
        "col": 4,
        "height": 26,
        "hidden": false,
        "row": 1043,
        "width": 4
       },
       "report_default": {
        "hidden": false
       }
      }
     }
    },
    "nbpresent": {
     "id": "537d2bd5-e941-42f2-9796-f76d28284a05"
    }
   },
   "outputs": [
    {
     "data": {
      "text/plain": [
       "H2OBinomialMetrics: naivebayes\n",
       "\n",
       "MSE:  0.6047999\n",
       "RMSE:  0.7776889\n",
       "LogLoss:  5.256273\n",
       "Mean Per-Class Error:  0.464903\n",
       "AUC:  0.540432\n",
       "Gini:  0.08086402\n",
       "\n",
       "Confusion Matrix for F1-optimal threshold:\n",
       "          0    1    Error        Rate\n",
       "0      1543 2487 0.617122  =2487/4030\n",
       "1       106  233 0.312684    =106/339\n",
       "Totals 1649 2720 0.593500  =2593/4369\n",
       "\n",
       "Maximum Metrics: Maximum metrics at their respective thresholds\n",
       "                        metric threshold    value idx\n",
       "1                       max f1  0.824768 0.152337 115\n",
       "2                       max f2  0.000017 0.296070 399\n",
       "3                 max f0point5  0.999989 0.112907   0\n",
       "4                 max accuracy  0.999989 0.715496   0\n",
       "5                max precision  0.999989 0.097148   0\n",
       "6                   max recall  0.000017 1.000000 399\n",
       "7              max specificity  0.999989 0.748635   0\n",
       "8             max absolute_mcc  0.999989 0.042970   0\n",
       "9   max min_per_class_accuracy  0.994079 0.525806  14\n",
       "10 max mean_per_class_accuracy  0.824768 0.535097 115\n",
       "\n",
       "Gains/Lift Table: Extract with `h2o.gainsLift(<model>, <data>)` or `h2o.gainsLift(<model>, valid=<T/F>, xval=<T/F>)`"
      ]
     },
     "metadata": {},
     "output_type": "display_data"
    }
   ],
   "source": [
    "validation_performance_under_nb"
   ]
  },
  {
   "cell_type": "code",
   "execution_count": 153,
   "metadata": {
    "collapsed": false,
    "extensions": {
     "jupyter_dashboards": {
      "version": 1,
      "views": {
       "grid_default": {
        "hidden": true
       },
       "report_default": {
        "hidden": true
       }
      }
     }
    },
    "nbpresent": {
     "id": "70484dd1-a98e-48dd-9cf4-f6883d003709"
    }
   },
   "outputs": [],
   "source": [
    "test_performance_under_nb = h2o.performance(model = nb_model_under, newdata = test)"
   ]
  },
  {
   "cell_type": "code",
   "execution_count": 154,
   "metadata": {
    "collapsed": false,
    "extensions": {
     "jupyter_dashboards": {
      "version": 1,
      "views": {
       "grid_default": {
        "col": 0,
        "height": 13,
        "hidden": false,
        "row": 1045,
        "width": 4
       },
       "report_default": {
        "hidden": false
       }
      }
     }
    },
    "nbpresent": {
     "id": "7d24ad8a-2fe3-4782-a38a-e3689851792b"
    }
   },
   "outputs": [
    {
     "data": {
      "image/png": "[encoded data removed]"
     },
     "metadata": {},
     "output_type": "display_data"
    }
   ],
   "source": [
    "plot(test_performance_under_nb, type = \"roc\", col = \"blue\", typ = \"b\")"
   ]
  },
  {
   "cell_type": "code",
   "execution_count": 155,
   "metadata": {
    "collapsed": false,
    "extensions": {
     "jupyter_dashboards": {
      "version": 1,
      "views": {
       "grid_default": {
        "col": 0,
        "height": 26,
        "hidden": false,
        "row": 1058,
        "width": 4
       },
       "report_default": {
        "hidden": false
       }
      }
     }
    },
    "nbpresent": {
     "id": "32926430-d651-44ee-bd2e-6c86933d4ed5"
    }
   },
   "outputs": [
    {
     "data": {
      "text/plain": [
       "H2OBinomialMetrics: naivebayes\n",
       "\n",
       "MSE:  0.5984926\n",
       "RMSE:  0.773623\n",
       "LogLoss:  5.250432\n",
       "Mean Per-Class Error:  0.4520042\n",
       "AUC:  0.5430636\n",
       "Gini:  0.08612729\n",
       "\n",
       "Confusion Matrix for F1-optimal threshold:\n",
       "          0    1    Error        Rate\n",
       "0      3125 1101 0.260530  =1101/4226\n",
       "1       222  123 0.643478    =222/345\n",
       "Totals 3347 1224 0.289433  =1323/4571\n",
       "\n",
       "Maximum Metrics: Maximum metrics at their respective thresholds\n",
       "                        metric threshold    value idx\n",
       "1                       max f1  0.999986 0.156788   0\n",
       "2                       max f2  0.000019 0.289867 399\n",
       "3                 max f0point5  0.999986 0.117344   0\n",
       "4                 max accuracy  0.999986 0.710567   0\n",
       "5                max precision  0.999986 0.100490   0\n",
       "6                   max recall  0.000019 1.000000 399\n",
       "7              max specificity  0.999986 0.739470   0\n",
       "8             max absolute_mcc  0.999986 0.057265   0\n",
       "9   max min_per_class_accuracy  0.994201 0.527536  13\n",
       "10 max mean_per_class_accuracy  0.999986 0.547996   0\n",
       "\n",
       "Gains/Lift Table: Extract with `h2o.gainsLift(<model>, <data>)` or `h2o.gainsLift(<model>, valid=<T/F>, xval=<T/F>)`"
      ]
     },
     "metadata": {},
     "output_type": "display_data"
    }
   ],
   "source": [
    "test_performance_under_nb"
   ]
  },
  {
   "cell_type": "markdown",
   "metadata": {
    "extensions": {
     "jupyter_dashboards": {
      "version": 1,
      "views": {
       "grid_default": {
        "col": 4,
        "height": 4,
        "hidden": false,
        "row": 1069,
        "width": 4
       },
       "report_default": {
        "hidden": false
       }
      }
     }
    },
    "nbpresent": {
     "id": "d39b8f78-12c1-4a87-b1b1-e903d7ba555d"
    }
   },
   "source": [
    "## GBM"
   ]
  },
  {
   "cell_type": "markdown",
   "metadata": {
    "extensions": {
     "jupyter_dashboards": {
      "version": 1,
      "views": {
       "grid_default": {
        "hidden": true
       },
       "report_default": {
        "hidden": true
       }
      }
     }
    }
   },
   "source": [
    "### With oversampled train dataset"
   ]
  },
  {
   "cell_type": "code",
   "execution_count": 156,
   "metadata": {
    "collapsed": false,
    "extensions": {
     "jupyter_dashboards": {
      "version": 1,
      "views": {
       "grid_default": {
        "col": 4,
        "height": 4,
        "hidden": false,
        "row": 1077,
        "width": 4
       },
       "report_default": {
        "hidden": false
       }
      }
     }
    },
    "nbpresent": {
     "id": "0062053b-7eb2-4303-bea8-a96097a07f42"
    }
   },
   "outputs": [
    {
     "name": "stdout",
     "output_type": "stream",
     "text": [
      "\r",
      "  |                                                                            \r",
      "  |                                                                      |   0%\r",
      "  |                                                                            \r",
      "  |=                                                                     |   2%\r",
      "  |                                                                            \r",
      "  |===                                                                   |   4%\r",
      "  |                                                                            \r",
      "  |====                                                                  |   6%\r",
      "  |                                                                            \r",
      "  |======                                                                |   8%\r",
      "  |                                                                            \r",
      "  |=======                                                               |  10%\r",
      "  |                                                                            \r",
      "  |========                                                              |  12%\r",
      "  |                                                                            \r",
      "  |==========                                                            |  14%\r",
      "  |                                                                            \r",
      "  |===========                                                           |  16%\r",
      "  |                                                                            \r",
      "  |=============                                                         |  18%\r",
      "  |                                                                            \r",
      "  |==============                                                        |  20%\r",
      "  |                                                                            \r",
      "  |===============                                                       |  22%\r",
      "  |                                                                            \r",
      "  |=================                                                     |  24%\r",
      "  |                                                                            \r",
      "  |==================                                                    |  26%\r",
      "  |                                                                            \r",
      "  |====================                                                  |  28%\r",
      "  |                                                                            \r",
      "  |=====================                                                 |  30%\r",
      "  |                                                                            \r",
      "  |======================                                                |  32%\r",
      "  |                                                                            \r",
      "  |========================                                              |  34%\r",
      "  |                                                                            \r",
      "  |=========================                                             |  36%\r",
      "  |                                                                            \r",
      "  |===========================                                           |  38%\r",
      "  |                                                                            \r",
      "  |============================                                          |  40%\r",
      "  |                                                                            \r",
      "  |=============================                                         |  42%\r",
      "  |                                                                            \r",
      "  |===============================                                       |  44%\r",
      "  |                                                                            \r",
      "  |================================                                      |  46%\r",
      "  |                                                                            \r",
      "  |==================================                                    |  48%\r",
      "  |                                                                            \r",
      "  |===================================                                   |  50%\r",
      "  |                                                                            \r",
      "  |====================================                                  |  52%\r",
      "  |                                                                            \r",
      "  |======================================                                |  54%\r",
      "  |                                                                            \r",
      "  |=======================================                               |  56%\r",
      "  |                                                                            \r",
      "  |=========================================                             |  58%\r",
      "  |                                                                            \r",
      "  |==========================================                            |  60%\r",
      "  |                                                                            \r",
      "  |===========================================                           |  62%\r",
      "  |                                                                            \r",
      "  |=============================================                         |  64%\r",
      "  |                                                                            \r",
      "  |==============================================                        |  66%\r",
      "  |                                                                            \r",
      "  |================================================                      |  68%\r",
      "  |                                                                            \r",
      "  |=================================================                     |  70%\r",
      "  |                                                                            \r",
      "  |==================================================                    |  72%\r",
      "  |                                                                            \r",
      "  |====================================================                  |  74%\r",
      "  |                                                                            \r",
      "  |=====================================================                 |  76%\r",
      "  |                                                                            \r",
      "  |=======================================================               |  78%\r",
      "  |                                                                            \r",
      "  |========================================================              |  80%\r",
      "  |                                                                            \r",
      "  |=========================================================             |  82%\r",
      "  |                                                                            \r",
      "  |===========================================================           |  84%\r",
      "  |                                                                            \r",
      "  |============================================================          |  86%\r",
      "  |                                                                            \r",
      "  |==============================================================        |  88%\r",
      "  |                                                                            \r",
      "  |===============================================================       |  90%\r",
      "  |                                                                            \r",
      "  |================================================================      |  92%\r",
      "  |                                                                            \r",
      "  |==================================================================    |  94%\r",
      "  |                                                                            \r",
      "  |===================================================================   |  96%\r",
      "  |                                                                            \r",
      "  |===================================================================== |  98%\r",
      "  |                                                                            \r",
      "  |======================================================================| 100%\n"
     ]
    }
   ],
   "source": [
    "gbm_model_over = h2o.gbm(x = 1:370,\n",
    "                              y = 371,\n",
    "                              training_frame = train_over_h2o,\n",
    "                              distribution = \"multinomial\")"
   ]
  },
  {
   "cell_type": "code",
   "execution_count": 157,
   "metadata": {
    "collapsed": false,
    "extensions": {
     "jupyter_dashboards": {
      "version": 1,
      "views": {
       "grid_default": {
        "col": 4,
        "height": 36,
        "hidden": false,
        "row": 1081,
        "width": 4
       },
       "report_default": {
        "hidden": false
       }
      }
     }
    },
    "nbpresent": {
     "id": "87e576e9-e78e-4ea2-aa96-aae7fad15939"
    },
    "scrolled": false
   },
   "outputs": [
    {
     "data": {
      "text/plain": [
       "Model Details:\n",
       "==============\n",
       "\n",
       "H2OBinomialModel: gbm\n",
       "Model ID:  GBM_model_R_1483960975727_101 \n",
       "Model Summary: \n",
       "  number_of_trees number_of_internal_trees model_size_in_bytes min_depth\n",
       "1              50                       50               22737         5\n",
       "  max_depth mean_depth min_leaves max_leaves mean_leaves\n",
       "1         5    5.00000         27         32    31.20000\n",
       "\n",
       "\n",
       "H2OBinomialMetrics: gbm\n",
       "** Reported on training data. **\n",
       "\n",
       "MSE:  0.1655344\n",
       "RMSE:  0.4068592\n",
       "LogLoss:  0.5145632\n",
       "Mean Per-Class Error:  0.1697056\n",
       "AUC:  0.9112068\n",
       "Gini:  0.8224137\n",
       "\n",
       "Confusion Matrix for F1-optimal threshold:\n",
       "           0     1    Error          Rate\n",
       "0      24502  8953 0.267613   =8953/33455\n",
       "1       2402 31053 0.071798   =2402/33455\n",
       "Totals 26904 40006 0.169706  =11355/66910\n",
       "\n",
       "Maximum Metrics: Maximum metrics at their respective thresholds\n",
       "                        metric threshold    value idx\n",
       "1                       max f1  0.477325 0.845428 199\n",
       "2                       max f2  0.438286 0.912262 224\n",
       "3                 max f0point5  0.538317 0.832526 157\n",
       "4                 max accuracy  0.489841 0.833074 190\n",
       "5                max precision  0.832210 1.000000   0\n",
       "6                   max recall  0.268780 1.000000 324\n",
       "7              max specificity  0.832210 1.000000   0\n",
       "8             max absolute_mcc  0.486925 0.674043 192\n",
       "9   max min_per_class_accuracy  0.522433 0.825587 169\n",
       "10 max mean_per_class_accuracy  0.489841 0.833074 190\n",
       "\n",
       "Gains/Lift Table: Extract with `h2o.gainsLift(<model>, <data>)` or `h2o.gainsLift(<model>, valid=<T/F>, xval=<T/F>)`\n",
       "\n"
      ]
     },
     "metadata": {},
     "output_type": "display_data"
    }
   ],
   "source": [
    "gbm_model_over"
   ]
  },
  {
   "cell_type": "code",
   "execution_count": 158,
   "metadata": {
    "collapsed": true,
    "extensions": {
     "jupyter_dashboards": {
      "version": 1,
      "views": {
       "grid_default": {
        "hidden": true
       },
       "report_default": {
        "hidden": true
       }
      }
     }
    },
    "nbpresent": {
     "id": "96b2899d-5392-4a16-ab4a-c1418a4ffa16"
    }
   },
   "outputs": [],
   "source": [
    "train_performance_over_gbm = h2o.performance(model = gbm_model_over, newdata = train)"
   ]
  },
  {
   "cell_type": "code",
   "execution_count": 159,
   "metadata": {
    "collapsed": false,
    "extensions": {
     "jupyter_dashboards": {
      "version": 1,
      "views": {
       "grid_default": {
        "col": 0,
        "height": 13,
        "hidden": false,
        "row": 1084,
        "width": 4
       },
       "report_default": {
        "hidden": false
       }
      }
     }
    },
    "nbpresent": {
     "id": "9e4cc3cb-7a01-476c-a89f-3bc0d623a847"
    }
   },
   "outputs": [
    {
     "data": {
      "image/png": "[encoded data removed]"
     },
     "metadata": {},
     "output_type": "display_data"
    }
   ],
   "source": [
    "plot(train_performance_over_gbm, type = \"roc\", col = \"blue\", typ = \"b\")"
   ]
  },
  {
   "cell_type": "code",
   "execution_count": 160,
   "metadata": {
    "collapsed": false,
    "extensions": {
     "jupyter_dashboards": {
      "version": 1,
      "views": {
       "grid_default": {
        "col": 0,
        "height": 26,
        "hidden": false,
        "row": 1097,
        "width": 4
       },
       "report_default": {
        "hidden": false
       }
      }
     }
    },
    "nbpresent": {
     "id": "d09b2383-b816-44e6-999b-7a3970844bd9"
    }
   },
   "outputs": [
    {
     "data": {
      "text/plain": [
       "H2OBinomialMetrics: gbm\n",
       "\n",
       "MSE:  0.1697418\n",
       "RMSE:  0.4119974\n",
       "LogLoss:  0.521147\n",
       "Mean Per-Class Error:  0.2451923\n",
       "AUC:  0.9030652\n",
       "Gini:  0.8061303\n",
       "\n",
       "Confusion Matrix for F1-optimal threshold:\n",
       "           0    1    Error         Rate\n",
       "0      31099 2356 0.070423  =2356/33455\n",
       "1       1094 1511 0.419962   =1094/2605\n",
       "Totals 32193 3867 0.095674  =3450/36060\n",
       "\n",
       "Maximum Metrics: Maximum metrics at their respective thresholds\n",
       "                        metric threshold    value idx\n",
       "1                       max f1  0.589775 0.466934  82\n",
       "2                       max f2  0.536804 0.576934 115\n",
       "3                 max f0point5  0.663987 0.471992  43\n",
       "4                 max accuracy  0.673860 0.933971  39\n",
       "5                max precision  0.831883 1.000000   0\n",
       "6                   max recall  0.269257 1.000000 303\n",
       "7              max specificity  0.831883 1.000000   0\n",
       "8             max absolute_mcc  0.589775 0.426392  82\n",
       "9   max min_per_class_accuracy  0.517883 0.816709 129\n",
       "10 max mean_per_class_accuracy  0.488303 0.825531 149\n",
       "\n",
       "Gains/Lift Table: Extract with `h2o.gainsLift(<model>, <data>)` or `h2o.gainsLift(<model>, valid=<T/F>, xval=<T/F>)`"
      ]
     },
     "metadata": {},
     "output_type": "display_data"
    }
   ],
   "source": [
    "train_performance_over_gbm"
   ]
  },
  {
   "cell_type": "code",
   "execution_count": 161,
   "metadata": {
    "collapsed": true,
    "extensions": {
     "jupyter_dashboards": {
      "version": 1,
      "views": {
       "grid_default": {
        "hidden": true
       },
       "report_default": {
        "hidden": true
       }
      }
     }
    },
    "nbpresent": {
     "id": "8ad9050f-f3db-4043-946e-488f5368afd2"
    }
   },
   "outputs": [],
   "source": [
    "validation_performance_over_gbm = h2o.performance(model = gbm_model_over, newdata = valid)"
   ]
  },
  {
   "cell_type": "code",
   "execution_count": 162,
   "metadata": {
    "collapsed": false,
    "extensions": {
     "jupyter_dashboards": {
      "version": 1,
      "views": {
       "grid_default": {
        "col": 4,
        "height": 13,
        "hidden": false,
        "row": 1117,
        "width": 4
       },
       "report_default": {
        "hidden": false
       }
      }
     }
    },
    "nbpresent": {
     "id": "424d555f-e043-485e-ba5b-f41cefa93a0a"
    }
   },
   "outputs": [
    {
     "data": {
      "image/png": "[encoded data removed]"
     },
     "metadata": {},
     "output_type": "display_data"
    }
   ],
   "source": [
    "plot(validation_performance_over_gbm, type = \"roc\", col = \"blue\", typ = \"b\")"
   ]
  },
  {
   "cell_type": "code",
   "execution_count": 163,
   "metadata": {
    "collapsed": false,
    "extensions": {
     "jupyter_dashboards": {
      "version": 1,
      "views": {
       "grid_default": {
        "col": 0,
        "height": 26,
        "hidden": false,
        "row": 1123,
        "width": 4
       },
       "report_default": {
        "hidden": false
       }
      }
     }
    },
    "nbpresent": {
     "id": "ea969a3e-ef6b-4c10-b1ce-2a71110d75b0"
    }
   },
   "outputs": [
    {
     "data": {
      "text/plain": [
       "H2OBinomialMetrics: gbm\n",
       "\n",
       "MSE:  0.1872556\n",
       "RMSE:  0.4327304\n",
       "LogLoss:  0.5586747\n",
       "Mean Per-Class Error:  0.4108394\n",
       "AUC:  0.6309405\n",
       "Gini:  0.261881\n",
       "\n",
       "Confusion Matrix for F1-optimal threshold:\n",
       "          0    1    Error        Rate\n",
       "0      3013 1017 0.252357  =1017/4030\n",
       "1       193  146 0.569322    =193/339\n",
       "Totals 3206 1163 0.276951  =1210/4369\n",
       "\n",
       "Maximum Metrics: Maximum metrics at their respective thresholds\n",
       "                        metric threshold    value idx\n",
       "1                       max f1  0.494574 0.194407 135\n",
       "2                       max f2  0.379183 0.336134 225\n",
       "3                 max f0point5  0.596057 0.159544  65\n",
       "4                 max accuracy  0.785020 0.922637   0\n",
       "5                max precision  0.785020 1.000000   0\n",
       "6                   max recall  0.121792 1.000000 390\n",
       "7              max specificity  0.785020 1.000000   0\n",
       "8             max absolute_mcc  0.379183 0.113348 225\n",
       "9   max min_per_class_accuracy  0.427845 0.587021 186\n",
       "10 max mean_per_class_accuracy  0.379183 0.605125 225\n",
       "\n",
       "Gains/Lift Table: Extract with `h2o.gainsLift(<model>, <data>)` or `h2o.gainsLift(<model>, valid=<T/F>, xval=<T/F>)`"
      ]
     },
     "metadata": {},
     "output_type": "display_data"
    }
   ],
   "source": [
    "validation_performance_over_gbm"
   ]
  },
  {
   "cell_type": "code",
   "execution_count": 164,
   "metadata": {
    "collapsed": false,
    "extensions": {
     "jupyter_dashboards": {
      "version": 1,
      "views": {
       "grid_default": {
        "hidden": true
       },
       "report_default": {
        "hidden": true
       }
      }
     }
    },
    "nbpresent": {
     "id": "ff0f4acc-7c01-4c19-a6ad-a0f0fd6adace"
    }
   },
   "outputs": [],
   "source": [
    "test_performance_over_gbm = h2o.performance(model = gbm_model_over, newdata = test)"
   ]
  },
  {
   "cell_type": "code",
   "execution_count": 165,
   "metadata": {
    "collapsed": false,
    "extensions": {
     "jupyter_dashboards": {
      "version": 1,
      "views": {
       "grid_default": {
        "col": 4,
        "height": 13,
        "hidden": false,
        "row": 1130,
        "width": 4
       },
       "report_default": {
        "hidden": false
       }
      }
     }
    },
    "nbpresent": {
     "id": "acba40bc-6030-43c2-8a2f-6befb8fe9181"
    }
   },
   "outputs": [
    {
     "data": {
      "image/png": "[encoded data removed]"
     },
     "metadata": {},
     "output_type": "display_data"
    }
   ],
   "source": [
    "plot(test_performance_over_gbm, type = \"roc\", col = \"blue\", typ = \"b\")"
   ]
  },
  {
   "cell_type": "code",
   "execution_count": 166,
   "metadata": {
    "collapsed": false,
    "extensions": {
     "jupyter_dashboards": {
      "version": 1,
      "views": {
       "grid_default": {
        "col": 4,
        "height": 26,
        "hidden": false,
        "row": 1143,
        "width": 4
       },
       "report_default": {
        "hidden": false
       }
      }
     }
    },
    "nbpresent": {
     "id": "87be6922-d349-4a0a-a581-3a6152c8b595"
    }
   },
   "outputs": [
    {
     "data": {
      "text/plain": [
       "H2OBinomialMetrics: gbm\n",
       "\n",
       "MSE:  0.1868979\n",
       "RMSE:  0.4323169\n",
       "LogLoss:  0.5580803\n",
       "Mean Per-Class Error:  0.4220687\n",
       "AUC:  0.6202247\n",
       "Gini:  0.2404494\n",
       "\n",
       "Confusion Matrix for F1-optimal threshold:\n",
       "          0   1    Error       Rate\n",
       "0      3623 603 0.142688  =603/4226\n",
       "1       242 103 0.701449   =242/345\n",
       "Totals 3865 706 0.184861  =845/4571\n",
       "\n",
       "Maximum Metrics: Maximum metrics at their respective thresholds\n",
       "                        metric threshold    value idx\n",
       "1                       max f1  0.546936 0.196004  89\n",
       "2                       max f2  0.338992 0.312009 250\n",
       "3                 max f0point5  0.584265 0.170151  67\n",
       "4                 max accuracy  0.781434 0.924305   0\n",
       "5                max precision  0.733563 0.307692   6\n",
       "6                   max recall  0.141573 1.000000 381\n",
       "7              max specificity  0.781434 0.999763   0\n",
       "8             max absolute_mcc  0.546936 0.113930  89\n",
       "9   max min_per_class_accuracy  0.424608 0.571462 182\n",
       "10 max mean_per_class_accuracy  0.471885 0.591798 144\n",
       "\n",
       "Gains/Lift Table: Extract with `h2o.gainsLift(<model>, <data>)` or `h2o.gainsLift(<model>, valid=<T/F>, xval=<T/F>)`"
      ]
     },
     "metadata": {},
     "output_type": "display_data"
    }
   ],
   "source": [
    "test_performance_over_gbm"
   ]
  },
  {
   "cell_type": "markdown",
   "metadata": {
    "extensions": {
     "jupyter_dashboards": {
      "version": 1,
      "views": {
       "grid_default": {
        "hidden": true
       },
       "report_default": {
        "hidden": true
       }
      }
     }
    }
   },
   "source": [
    "### With undersampled train dataset"
   ]
  },
  {
   "cell_type": "code",
   "execution_count": 167,
   "metadata": {
    "collapsed": false,
    "extensions": {
     "jupyter_dashboards": {
      "version": 1,
      "views": {
       "grid_default": {
        "col": 0,
        "height": 4,
        "hidden": false,
        "row": 1153,
        "width": 4
       },
       "report_default": {
        "hidden": false
       }
      }
     }
    },
    "nbpresent": {
     "id": "8ec67b99-bad2-41ac-9a53-17511d4501dd"
    }
   },
   "outputs": [
    {
     "name": "stdout",
     "output_type": "stream",
     "text": [
      "\r",
      "  |                                                                            \r",
      "  |                                                                      |   0%\r",
      "  |                                                                            \r",
      "  |======                                                                |   8%\r",
      "  |                                                                            \r",
      "  |===========                                                           |  16%\r",
      "  |                                                                            \r",
      "  |===============                                                       |  22%\r",
      "  |                                                                            \r",
      "  |=====================                                                 |  30%\r",
      "  |                                                                            \r",
      "  |============================                                          |  40%\r",
      "  |                                                                            \r",
      "  |====================================                                  |  52%\r",
      "  |                                                                            \r",
      "  |==============================================                        |  66%\r",
      "  |                                                                            \r",
      "  |=====================================================                 |  76%\r",
      "  |                                                                            \r",
      "  |============================================================          |  86%\r",
      "  |                                                                            \r",
      "  |===================================================================   |  96%\r",
      "  |                                                                            \r",
      "  |======================================================================| 100%\n"
     ]
    }
   ],
   "source": [
    "gbm_model_under = h2o.gbm(x = 1:370,\n",
    "                              y = 371,\n",
    "                              training_frame = train_under_h2o,\n",
    "                              distribution = \"multinomial\")"
   ]
  },
  {
   "cell_type": "code",
   "execution_count": 168,
   "metadata": {
    "collapsed": false,
    "extensions": {
     "jupyter_dashboards": {
      "version": 1,
      "views": {
       "grid_default": {
        "col": 0,
        "height": 36,
        "hidden": false,
        "row": 1157,
        "width": 4
       },
       "report_default": {
        "hidden": false
       }
      }
     }
    },
    "nbpresent": {
     "id": "d14aa2a4-1105-4244-b722-dedd74fd365c"
    }
   },
   "outputs": [
    {
     "data": {
      "text/plain": [
       "Model Details:\n",
       "==============\n",
       "\n",
       "H2OBinomialModel: gbm\n",
       "Model ID:  GBM_model_R_1483960975727_139 \n",
       "Model Summary: \n",
       "  number_of_trees number_of_internal_trees model_size_in_bytes min_depth\n",
       "1              50                       50               20667         5\n",
       "  max_depth mean_depth min_leaves max_leaves mean_leaves\n",
       "1         5    5.00000         15         32    27.88000\n",
       "\n",
       "\n",
       "H2OBinomialMetrics: gbm\n",
       "** Reported on training data. **\n",
       "\n",
       "MSE:  0.1347871\n",
       "RMSE:  0.3671337\n",
       "LogLoss:  0.4475867\n",
       "Mean Per-Class Error:  0.08579655\n",
       "AUC:  0.9727172\n",
       "Gini:  0.9454343\n",
       "\n",
       "Confusion Matrix for F1-optimal threshold:\n",
       "          0    1    Error       Rate\n",
       "0      2283  322 0.123608  =322/2605\n",
       "1       125 2480 0.047985  =125/2605\n",
       "Totals 2408 2802 0.085797  =447/5210\n",
       "\n",
       "Maximum Metrics: Maximum metrics at their respective thresholds\n",
       "                        metric threshold    value idx\n",
       "1                       max f1  0.505053 0.917329 195\n",
       "2                       max f2  0.465497 0.949855 215\n",
       "3                 max f0point5  0.561889 0.920599 162\n",
       "4                 max accuracy  0.505053 0.914203 195\n",
       "5                max precision  0.894674 1.000000   0\n",
       "6                   max recall  0.327468 1.000000 290\n",
       "7              max specificity  0.894674 1.000000   0\n",
       "8             max absolute_mcc  0.505053 0.830786 195\n",
       "9   max min_per_class_accuracy  0.528487 0.909405 182\n",
       "10 max mean_per_class_accuracy  0.505053 0.914203 195\n",
       "\n",
       "Gains/Lift Table: Extract with `h2o.gainsLift(<model>, <data>)` or `h2o.gainsLift(<model>, valid=<T/F>, xval=<T/F>)`\n",
       "\n"
      ]
     },
     "metadata": {},
     "output_type": "display_data"
    }
   ],
   "source": [
    "gbm_model_under"
   ]
  },
  {
   "cell_type": "code",
   "execution_count": 169,
   "metadata": {
    "collapsed": true,
    "extensions": {
     "jupyter_dashboards": {
      "version": 1,
      "views": {
       "grid_default": {
        "hidden": true
       },
       "report_default": {
        "hidden": true
       }
      }
     }
    },
    "nbpresent": {
     "id": "ab572ef3-cf74-419a-a6c0-ab1617eaa67b"
    }
   },
   "outputs": [],
   "source": [
    "train_performance_under_gbm = h2o.performance(model = gbm_model_under, newdata = train)"
   ]
  },
  {
   "cell_type": "code",
   "execution_count": 170,
   "metadata": {
    "collapsed": false,
    "extensions": {
     "jupyter_dashboards": {
      "version": 1,
      "views": {
       "grid_default": {
        "col": 4,
        "height": 13,
        "hidden": false,
        "row": 1169,
        "width": 4
       },
       "report_default": {
        "hidden": false
       }
      }
     }
    },
    "nbpresent": {
     "id": "7ef702b5-83ca-4d15-8825-6f3649273871"
    }
   },
   "outputs": [
    {
     "data": {
      "image/png": "[encoded data removed]"
     },
     "metadata": {},
     "output_type": "display_data"
    }
   ],
   "source": [
    "plot(train_performance_under_gbm, type = \"roc\", col = \"blue\", typ = \"b\")"
   ]
  },
  {
   "cell_type": "code",
   "execution_count": 171,
   "metadata": {
    "collapsed": false,
    "extensions": {
     "jupyter_dashboards": {
      "version": 1,
      "views": {
       "grid_default": {
        "col": 4,
        "height": 26,
        "hidden": false,
        "row": 1182,
        "width": 4
       },
       "report_default": {
        "hidden": false
       }
      }
     }
    },
    "nbpresent": {
     "id": "a191186a-0ede-4d58-b18f-03a1dc9839f4"
    }
   },
   "outputs": [
    {
     "data": {
      "text/plain": [
       "H2OBinomialMetrics: gbm\n",
       "\n",
       "MSE:  0.2220362\n",
       "RMSE:  0.4712072\n",
       "LogLoss:  0.6337009\n",
       "Mean Per-Class Error:  0.2778681\n",
       "AUC:  0.8804525\n",
       "Gini:  0.7609051\n",
       "\n",
       "Confusion Matrix for F1-optimal threshold:\n",
       "           0    1    Error         Rate\n",
       "0      30762 2693 0.080496  =2693/33455\n",
       "1       1238 1367 0.475240   =1238/2605\n",
       "Totals 32000 4060 0.109013  =3931/36060\n",
       "\n",
       "Maximum Metrics: Maximum metrics at their respective thresholds\n",
       "                        metric threshold    value idx\n",
       "1                       max f1  0.646658 0.410203  80\n",
       "2                       max f2  0.587441 0.539018 120\n",
       "3                 max f0point5  0.699380 0.414686  52\n",
       "4                 max accuracy  0.752031 0.930810  28\n",
       "5                max precision  0.894674 1.000000   0\n",
       "6                   max recall  0.327885 1.000000 302\n",
       "7              max specificity  0.894674 1.000000   0\n",
       "8             max absolute_mcc  0.607883 0.367038 105\n",
       "9   max min_per_class_accuracy  0.576077 0.796682 128\n",
       "10 max mean_per_class_accuracy  0.557956 0.802572 140\n",
       "\n",
       "Gains/Lift Table: Extract with `h2o.gainsLift(<model>, <data>)` or `h2o.gainsLift(<model>, valid=<T/F>, xval=<T/F>)`"
      ]
     },
     "metadata": {},
     "output_type": "display_data"
    }
   ],
   "source": [
    "train_performance_under_gbm"
   ]
  },
  {
   "cell_type": "code",
   "execution_count": 172,
   "metadata": {
    "collapsed": true,
    "extensions": {
     "jupyter_dashboards": {
      "version": 1,
      "views": {
       "grid_default": {
        "hidden": true
       },
       "report_default": {
        "hidden": true
       }
      }
     }
    },
    "nbpresent": {
     "id": "94efb79e-a4a4-436a-9e70-2b78b4e6e081"
    }
   },
   "outputs": [],
   "source": [
    "validation_performance_under_gbm = h2o.performance(model = gbm_model_under, newdata = valid)"
   ]
  },
  {
   "cell_type": "code",
   "execution_count": 173,
   "metadata": {
    "collapsed": false,
    "extensions": {
     "jupyter_dashboards": {
      "version": 1,
      "views": {
       "grid_default": {
        "col": 0,
        "height": 13,
        "hidden": false,
        "row": 1193,
        "width": 4
       },
       "report_default": {
        "hidden": false
       }
      }
     }
    },
    "nbpresent": {
     "id": "2a06fe48-b906-4da9-918c-1cf75af88f1b"
    }
   },
   "outputs": [
    {
     "data": {
      "image/png": "[encoded data removed]"
     },
     "metadata": {},
     "output_type": "display_data"
    }
   ],
   "source": [
    "plot(validation_performance_under_gbm, type = \"roc\", col = \"blue\", typ = \"b\")"
   ]
  },
  {
   "cell_type": "code",
   "execution_count": 174,
   "metadata": {
    "collapsed": false,
    "extensions": {
     "jupyter_dashboards": {
      "version": 1,
      "views": {
       "grid_default": {
        "col": 0,
        "height": 26,
        "hidden": false,
        "row": 1206,
        "width": 4
       },
       "report_default": {
        "hidden": false
       }
      }
     }
    },
    "nbpresent": {
     "id": "87907cfa-8357-4d7e-bba8-4657791d0111"
    }
   },
   "outputs": [
    {
     "data": {
      "text/plain": [
       "H2OBinomialMetrics: gbm\n",
       "\n",
       "MSE:  0.235175\n",
       "RMSE:  0.4849484\n",
       "LogLoss:  0.662131\n",
       "Mean Per-Class Error:  0.3886365\n",
       "AUC:  0.6332751\n",
       "Gini:  0.2665503\n",
       "\n",
       "Confusion Matrix for F1-optimal threshold:\n",
       "          0    1    Error        Rate\n",
       "0      2657 1373 0.340695  =1373/4030\n",
       "1       148  191 0.436578    =148/339\n",
       "Totals 2805 1564 0.348135  =1521/4369\n",
       "\n",
       "Maximum Metrics: Maximum metrics at their respective thresholds\n",
       "                        metric threshold    value idx\n",
       "1                       max f1  0.525406 0.200736 152\n",
       "2                       max f2  0.440686 0.336357 224\n",
       "3                 max f0point5  0.635852 0.156600  73\n",
       "4                 max accuracy  0.838955 0.922179   0\n",
       "5                max precision  0.746086 0.186047  18\n",
       "6                   max recall  0.101580 1.000000 399\n",
       "7              max specificity  0.838955 0.999752   0\n",
       "8             max absolute_mcc  0.522319 0.124899 155\n",
       "9   max min_per_class_accuracy  0.505434 0.603474 169\n",
       "10 max mean_per_class_accuracy  0.522319 0.612549 155\n",
       "\n",
       "Gains/Lift Table: Extract with `h2o.gainsLift(<model>, <data>)` or `h2o.gainsLift(<model>, valid=<T/F>, xval=<T/F>)`"
      ]
     },
     "metadata": {},
     "output_type": "display_data"
    }
   ],
   "source": [
    "validation_performance_under_gbm"
   ]
  },
  {
   "cell_type": "code",
   "execution_count": 175,
   "metadata": {
    "collapsed": false,
    "extensions": {
     "jupyter_dashboards": {
      "version": 1,
      "views": {
       "grid_default": {
        "hidden": true
       },
       "report_default": {
        "hidden": true
       }
      }
     }
    },
    "nbpresent": {
     "id": "669f2990-b6d8-4165-b8d7-ff919229eca1"
    }
   },
   "outputs": [],
   "source": [
    "test_performance_under_gbm = h2o.performance(model = gbm_model_under, newdata = test)"
   ]
  },
  {
   "cell_type": "code",
   "execution_count": 176,
   "metadata": {
    "collapsed": false,
    "extensions": {
     "jupyter_dashboards": {
      "version": 1,
      "views": {
       "grid_default": {
        "col": 4,
        "height": 13,
        "hidden": false,
        "row": 1208,
        "width": 4
       },
       "report_default": {
        "hidden": false
       }
      }
     }
    },
    "nbpresent": {
     "id": "b0124d9c-dd57-4ef2-b5d3-f721c87b95b1"
    }
   },
   "outputs": [
    {
     "data": {
      "image/png": "[encoded data removed]"
     },
     "metadata": {},
     "output_type": "display_data"
    }
   ],
   "source": [
    "plot(test_performance_under_gbm, type = \"roc\", col = \"blue\", typ = \"b\")"
   ]
  },
  {
   "cell_type": "code",
   "execution_count": 177,
   "metadata": {
    "collapsed": false,
    "extensions": {
     "jupyter_dashboards": {
      "version": 1,
      "views": {
       "grid_default": {
        "col": 4,
        "height": 26,
        "hidden": false,
        "row": 1221,
        "width": 4
       },
       "report_default": {
        "hidden": false
       }
      }
     }
    },
    "nbpresent": {
     "id": "fbee7a3e-6ccb-41bb-917b-2cfc5d76f409"
    }
   },
   "outputs": [
    {
     "data": {
      "text/plain": [
       "H2OBinomialMetrics: gbm\n",
       "\n",
       "MSE:  0.2364608\n",
       "RMSE:  0.4862723\n",
       "LogLoss:  0.6644917\n",
       "Mean Per-Class Error:  0.4178104\n",
       "AUC:  0.6089254\n",
       "Gini:  0.2178508\n",
       "\n",
       "Confusion Matrix for F1-optimal threshold:\n",
       "          0   1    Error       Rate\n",
       "0      3512 714 0.168954  =714/4226\n",
       "1       230 115 0.666667   =230/345\n",
       "Totals 3742 829 0.206519  =944/4571\n",
       "\n",
       "Maximum Metrics: Maximum metrics at their respective thresholds\n",
       "                        metric threshold    value idx\n",
       "1                       max f1  0.596450 0.195911 104\n",
       "2                       max f2  0.434581 0.305298 233\n",
       "3                 max f0point5  0.643022 0.170800  71\n",
       "4                 max accuracy  0.823530 0.924962   1\n",
       "5                max precision  0.895971 1.000000   0\n",
       "6                   max recall  0.140454 1.000000 393\n",
       "7              max specificity  0.895971 1.000000   0\n",
       "8             max absolute_mcc  0.596450 0.112692 104\n",
       "9   max min_per_class_accuracy  0.500740 0.579710 178\n",
       "10 max mean_per_class_accuracy  0.538747 0.585942 147\n",
       "\n",
       "Gains/Lift Table: Extract with `h2o.gainsLift(<model>, <data>)` or `h2o.gainsLift(<model>, valid=<T/F>, xval=<T/F>)`"
      ]
     },
     "metadata": {},
     "output_type": "display_data"
    }
   ],
   "source": [
    "test_performance_under_gbm"
   ]
  },
  {
   "cell_type": "markdown",
   "metadata": {
    "extensions": {
     "jupyter_dashboards": {
      "version": 1,
      "views": {
       "grid_default": {
        "col": 0,
        "height": 4,
        "hidden": false,
        "row": 1232,
        "width": 4
       },
       "report_default": {
        "hidden": false
       }
      }
     }
    },
    "nbpresent": {
     "id": "650628c8-e926-4e59-aed2-b093b0a0660c"
    }
   },
   "source": [
    "# **MODEL SELECTION AND PREDICTION**"
   ]
  },
  {
   "cell_type": "markdown",
   "metadata": {},
   "source": [
    "## Selection"
   ]
  },
  {
   "cell_type": "markdown",
   "metadata": {},
   "source": [
    "**We will use AUC as the metric to evaluate the model performance as it is statistically consistent and more discriminating than the accuracy metric.**"
   ]
  },
  {
   "cell_type": "code",
   "execution_count": 178,
   "metadata": {
    "collapsed": false
   },
   "outputs": [],
   "source": [
    "AUC = data.frame(RF_Oversampled = c(train_performance_over@metrics$AUC,validation_performance_over@metrics$AUC, test_performance_over@metrics$AUC),\n",
    "                 RF_Undersampled = c(train_performance_under@metrics$AUC,validation_performance_under@metrics$AUC, test_performance_under@metrics$AUC),\n",
    "                 Logistic_Oversampled = c(train_performance_over_log@metrics$AUC,validation_performance_over_log@metrics$AUC, test_performance_over_log@metrics$AUC),\n",
    "                 Logistic_Undersampled = c(train_performance_under_log@metrics$AUC,validation_performance_under_log@metrics$AUC, test_performance_under_log@metrics$AUC),\n",
    "                 NB_Oversampled = c(train_performance_over_nb@metrics$AUC,validation_performance_over_nb@metrics$AUC, test_performance_over_nb@metrics$AUC),\n",
    "                 NB_Undersampled = c(train_performance_under_nb@metrics$AUC,validation_performance_under_nb@metrics$AUC, test_performance_under_nb@metrics$AUC),\n",
    "                 GBM_Oversampled = c(train_performance_over_gbm@metrics$AUC,validation_performance_over_gbm@metrics$AUC, test_performance_over_gbm@metrics$AUC),\n",
    "                 GBM_Undersampled = c(train_performance_under_gbm@metrics$AUC,validation_performance_under_gbm@metrics$AUC, test_performance_under_gbm@metrics$AUC),\n",
    "                 row.names = c(\"Train\", \"Validation\", \"Test\"))\n"
   ]
  },
  {
   "cell_type": "code",
   "execution_count": 179,
   "metadata": {
    "collapsed": false
   },
   "outputs": [
    {
     "data": {
      "text/html": [
       "<table>\n",
       "<thead><tr><th></th><th scope=col>RF_Oversampled</th><th scope=col>RF_Undersampled</th><th scope=col>Logistic_Oversampled</th><th scope=col>Logistic_Undersampled</th><th scope=col>NB_Oversampled</th><th scope=col>NB_Undersampled</th><th scope=col>GBM_Oversampled</th><th scope=col>GBM_Undersampled</th></tr></thead>\n",
       "<tbody>\n",
       "\t<tr><th scope=row>Train</th><td>0.9999751</td><td>0.9974104</td><td>0.7121830</td><td>0.6836932</td><td>0.5620309</td><td>0.5611574</td><td>0.9030652</td><td>0.8804525</td></tr>\n",
       "\t<tr><th scope=row>Validation</th><td>0.5814394</td><td>0.5918370</td><td>0.6749768</td><td>0.6487051</td><td>0.5452638</td><td>0.5404320</td><td>0.6309405</td><td>0.6332751</td></tr>\n",
       "\t<tr><th scope=row>Test</th><td>0.5990058</td><td>0.5650061</td><td>0.6544000</td><td>0.6592625</td><td>0.5462993</td><td>0.5430636</td><td>0.6202247</td><td>0.6089254</td></tr>\n",
       "</tbody>\n",
       "</table>\n"
      ],
      "text/latex": [
       "\\begin{tabular}{r|llllllll}\n",
       "  & RF\\_Oversampled & RF\\_Undersampled & Logistic\\_Oversampled & Logistic\\_Undersampled & NB\\_Oversampled & NB\\_Undersampled & GBM\\_Oversampled & GBM\\_Undersampled\\\\\n",
       "\\hline\n",
       "\tTrain & 0.9999751 & 0.9974104 & 0.7121830 & 0.6836932 & 0.5620309 & 0.5611574 & 0.9030652 & 0.8804525\\\\\n",
       "\tValidation & 0.5814394 & 0.5918370 & 0.6749768 & 0.6487051 & 0.5452638 & 0.5404320 & 0.6309405 & 0.6332751\\\\\n",
       "\tTest & 0.5990058 & 0.5650061 & 0.6544000 & 0.6592625 & 0.5462993 & 0.5430636 & 0.6202247 & 0.6089254\\\\\n",
       "\\end{tabular}\n"
      ],
      "text/plain": [
       "           RF_Oversampled RF_Undersampled Logistic_Oversampled\n",
       "Train           0.9999751       0.9974104            0.7121830\n",
       "Validation      0.5814394       0.5918370            0.6749768\n",
       "Test            0.5990058       0.5650061            0.6544000\n",
       "           Logistic_Undersampled NB_Oversampled NB_Undersampled GBM_Oversampled\n",
       "Train                  0.6836932      0.5620309       0.5611574       0.9030652\n",
       "Validation             0.6487051      0.5452638       0.5404320       0.6309405\n",
       "Test                   0.6592625      0.5462993       0.5430636       0.6202247\n",
       "           GBM_Undersampled\n",
       "Train             0.8804525\n",
       "Validation        0.6332751\n",
       "Test              0.6089254"
      ]
     },
     "metadata": {},
     "output_type": "display_data"
    }
   ],
   "source": [
    "AUC"
   ]
  },
  {
   "cell_type": "markdown",
   "metadata": {},
   "source": [
    "**From the above table, we find that the Random Forest and the GBM models perform very well on the train dataset but their AUC decrease drastically on the validation and the test datasets (Hackme_Train.csv). Naive Bayes model's performance is poor.**\n",
    "\n",
    "**The Oversampled Logistic Regression model has a consistent AUC value across the train, validation and the test datasets. Hence, we will select the Logistic Regression model to get the test predictions (Hackme_Test).**"
   ]
  },
  {
   "cell_type": "markdown",
   "metadata": {},
   "source": [
    "## Probability Threshold determination"
   ]
  },
  {
   "cell_type": "markdown",
   "metadata": {},
   "source": [
    "**Now let us determine the probability threshold for which we will get the maximum class predictions for the train dataset. The actual class prediction counts are as below:**"
   ]
  },
  {
   "cell_type": "code",
   "execution_count": 232,
   "metadata": {
    "collapsed": false
   },
   "outputs": [
    {
     "data": {
      "text/plain": [
       " Output  \n",
       " 0:41711 \n",
       " 1: 3289 "
      ]
     },
     "metadata": {},
     "output_type": "display_data"
    }
   ],
   "source": [
    "summary(train_h2o$Output, exact_quantiles = TRUE)"
   ]
  },
  {
   "cell_type": "code",
   "execution_count": 215,
   "metadata": {
    "collapsed": false
   },
   "outputs": [],
   "source": [
    "train_h2o_non = train_h2o[, -371]"
   ]
  },
  {
   "cell_type": "code",
   "execution_count": 234,
   "metadata": {
    "collapsed": false
   },
   "outputs": [
    {
     "data": {
      "text/html": [
       "370"
      ],
      "text/latex": [
       "370"
      ],
      "text/markdown": [
       "370"
      ],
      "text/plain": [
       "[1] 370"
      ]
     },
     "metadata": {},
     "output_type": "display_data"
    }
   ],
   "source": [
    "ncol.H2OFrame(train_h2o_non)"
   ]
  },
  {
   "cell_type": "code",
   "execution_count": 273,
   "metadata": {
    "collapsed": false
   },
   "outputs": [
    {
     "name": "stdout",
     "output_type": "stream",
     "text": [
      "cmd: curl \n",
      "args: -o train_performance_over_prediction_output.csv http://localhost:54321/3/DownloadDataset?frame_id=predictions_88f9_GLM_model_R_1483960975727_80_on_RTMP_sid_88f0_45 \n"
     ]
    }
   ],
   "source": [
    "h2o.downloadCSV(train_performance_over_prediction, 'train_performance_over_prediction_output.csv')"
   ]
  },
  {
   "cell_type": "markdown",
   "metadata": {},
   "source": [
    "**Get the Class Probability for the train dataset using the Logistic Regression model (oversampled data).**"
   ]
  },
  {
   "cell_type": "code",
   "execution_count": 235,
   "metadata": {
    "collapsed": false
   },
   "outputs": [
    {
     "name": "stdout",
     "output_type": "stream",
     "text": [
      "\r",
      "  |                                                                            \r",
      "  |                                                                      |   0%\r",
      "  |                                                                            \r",
      "  |=========================                                             |  35%\r",
      "  |                                                                            \r",
      "  |======================================================================| 100%\n"
     ]
    }
   ],
   "source": [
    "train_performance_over_prediction = h2o.predict(logistic_model_over, train_h2o_non)"
   ]
  },
  {
   "cell_type": "code",
   "execution_count": 271,
   "metadata": {
    "collapsed": true
   },
   "outputs": [],
   "source": [
    "pr0.5 = read.csv('pr0.5.csv')"
   ]
  },
  {
   "cell_type": "code",
   "execution_count": 272,
   "metadata": {
    "collapsed": false
   },
   "outputs": [
    {
     "data": {
      "text/plain": [
       "\n",
       "    0     1 \n",
       "27714 17286 "
      ]
     },
     "metadata": {},
     "output_type": "display_data"
    }
   ],
   "source": [
    "table(pr0.5$class)"
   ]
  },
  {
   "cell_type": "code",
   "execution_count": 274,
   "metadata": {
    "collapsed": true
   },
   "outputs": [],
   "source": [
    "pr0.63 = read.csv('pr0.63.csv')"
   ]
  },
  {
   "cell_type": "code",
   "execution_count": 276,
   "metadata": {
    "collapsed": false
   },
   "outputs": [
    {
     "data": {
      "text/plain": [
       "\n",
       "    0     1 \n",
       "37414  7586 "
      ]
     },
     "metadata": {},
     "output_type": "display_data"
    }
   ],
   "source": [
    "table(pr0.63$class)"
   ]
  },
  {
   "cell_type": "markdown",
   "metadata": {},
   "source": [
    "**We observe that for probability(Output=1) > 0.5, the model is not able to predict the Output classes accurately. However, for probability(Output=1) > 0.63 we are able to predict the Output classes accurately for the training set. Hence, we will be using 0.63 as the probability threshold for the Logistic model i.e. if the probability value is greater than 0.63 then we will classify it as 1 else 0.**"
   ]
  },
  {
   "cell_type": "markdown",
   "metadata": {},
   "source": [
    "## Test Data Prediction"
   ]
  },
  {
   "cell_type": "code",
   "execution_count": 278,
   "metadata": {
    "collapsed": false
   },
   "outputs": [
    {
     "name": "stdout",
     "output_type": "stream",
     "text": [
      "\r",
      "  |                                                                            \r",
      "  |                                                                      |   0%\r",
      "  |                                                                            \r",
      "  |======================================================================| 100%\n"
     ]
    }
   ],
   "source": [
    "test_data_h2o = as.h2o(test_data)"
   ]
  },
  {
   "cell_type": "code",
   "execution_count": 279,
   "metadata": {
    "collapsed": false
   },
   "outputs": [
    {
     "name": "stdout",
     "output_type": "stream",
     "text": [
      "\r",
      "  |                                                                            \r",
      "  |                                                                      |   0%\r",
      "  |                                                                            \r",
      "  |==================                                                    |  25%\r",
      "  |                                                                            \r",
      "  |======================================================================| 100%\n"
     ]
    }
   ],
   "source": [
    "test_data_prediction = h2o.predict(logistic_model_over, test_data_h2o)"
   ]
  },
  {
   "cell_type": "code",
   "execution_count": 281,
   "metadata": {
    "collapsed": false
   },
   "outputs": [
    {
     "name": "stdout",
     "output_type": "stream",
     "text": [
      "cmd: curl \n",
      "args: -o test_data_prediction_log.csv http://localhost:54321/3/DownloadDataset?frame_id=predictions_a742_GLM_model_R_1483960975727_80_on_test_data \n"
     ]
    }
   ],
   "source": [
    "h2o.downloadCSV(test_data_prediction, 'test_data_prediction_log.csv')"
   ]
  },
  {
   "cell_type": "markdown",
   "metadata": {},
   "source": [
    "**With the threshold of 0.71, we get the following classification for the test dataset:**"
   ]
  },
  {
   "cell_type": "code",
   "execution_count": 282,
   "metadata": {
    "collapsed": false
   },
   "outputs": [],
   "source": [
    "test_predictions = read.csv('test_data_prediction_v1.csv')"
   ]
  },
  {
   "cell_type": "code",
   "execution_count": 283,
   "metadata": {
    "collapsed": false
   },
   "outputs": [
    {
     "name": "stdout",
     "output_type": "stream",
     "text": [
      "\r",
      "  |                                                                            \r",
      "  |                                                                      |   0%\r",
      "  |                                                                            \r",
      "  |======================================================================| 100%\n"
     ]
    }
   ],
   "source": [
    "test_predictions = as.h2o(test_predictions)"
   ]
  },
  {
   "cell_type": "code",
   "execution_count": 286,
   "metadata": {
    "collapsed": false
   },
   "outputs": [],
   "source": [
    "test_data_h2o$Output = test_predictions$class"
   ]
  },
  {
   "cell_type": "code",
   "execution_count": 287,
   "metadata": {
    "collapsed": false
   },
   "outputs": [],
   "source": [
    "test_data_h2o$Output = h2o.asfactor(test_data_h2o$Output)"
   ]
  },
  {
   "cell_type": "code",
   "execution_count": 288,
   "metadata": {
    "collapsed": false
   },
   "outputs": [
    {
     "data": {
      "text/plain": [
       " Output \n",
       " 0:4121 \n",
       " 1: 879 "
      ]
     },
     "metadata": {},
     "output_type": "display_data"
    }
   ],
   "source": [
    "summary(test_data_h2o$Output, exact_quantiles = TRUE)"
   ]
  },
  {
   "cell_type": "code",
   "execution_count": 289,
   "metadata": {
    "collapsed": false,
    "scrolled": false
   },
   "outputs": [
    {
     "data": {
      "text/html": [
       "<table>\n",
       "<thead><tr><th></th><th scope=col>PC1</th><th scope=col>PC2</th><th scope=col>PC3</th><th scope=col>PC4</th><th scope=col>PC5</th><th scope=col>PC6</th><th scope=col>PC7</th><th scope=col>PC8</th><th scope=col>PC9</th><th scope=col>PC10</th><th scope=col>...</th><th scope=col>Var14928</th><th scope=col>Var14969</th><th scope=col>Var14970</th><th scope=col>Var14975</th><th scope=col>Var14983</th><th scope=col>Var14989</th><th scope=col>Var14990</th><th scope=col>Var14995</th><th scope=col>Var14996</th><th scope=col>Output</th></tr></thead>\n",
       "<tbody>\n",
       "\t<tr><th scope=row>1</th><td>7.72622412796761  </td><td>-0.504249119210443</td><td>-3.54770682615225 </td><td>-13.737496664521  </td><td>4.97389295672082  </td><td>-4.84056971133649 </td><td>1.66704940692655  </td><td>3.28116811845288  </td><td>1.75796983174502  </td><td>-3.26376722187056 </td><td>...               </td><td>Not Available     </td><td>Not Available     </td><td>Not Available     </td><td>Not Available     </td><td>Not Available     </td><td>0tBF              </td><td>18Tw              </td><td>Q8_a              </td><td>NBRvrWWx0Z        </td><td>0                 </td></tr>\n",
       "\t<tr><th scope=row>2</th><td>-2.87387303914932 </td><td>6.61779266804417  </td><td>-0.792264479201552</td><td>1.14042745409765  </td><td>-0.715515173930236</td><td>3.01040373506116  </td><td>-0.116260493691831</td><td>-0.334675023575327</td><td>-1.11572934740814 </td><td>-0.510109102187744</td><td>...               </td><td>Not Available     </td><td>a5n2              </td><td>zM9v              </td><td>KtKINo2           </td><td>Not Available     </td><td>w5gq              </td><td>aEJz              </td><td>Q8_a              </td><td>NBRvrWWx0Z        </td><td>0                 </td></tr>\n",
       "\t<tr><th scope=row>3</th><td>-0.617383673822884</td><td>-2.15958106192937 </td><td>-2.28793808149449 </td><td>-3.64073801907649 </td><td>-0.550428042922881</td><td>-0.304173658236499</td><td>3.95904295282101  </td><td>3.98756417306682  </td><td>0.463338171496438 </td><td>-2.33623009884138 </td><td>...               </td><td>Not Available     </td><td>Not Available     </td><td>Not Available     </td><td>Not Available     </td><td>Not Available     </td><td>w5gq              </td><td>zrxT              </td><td>KttQ              </td><td>NBRvrWWx0Z        </td><td>0                 </td></tr>\n",
       "\t<tr><th scope=row>4</th><td>4.3022433678405   </td><td>-4.2787148700599  </td><td>-0.753483407101718</td><td>-1.06745724533412 </td><td>-0.999788667790151</td><td>-2.37387625196966 </td><td>-4.84945048578949 </td><td>-4.76841057573037 </td><td>4.65503273404379  </td><td>-3.17549446345339 </td><td>...               </td><td>T9wq              </td><td>a5n2              </td><td>N5bq              </td><td>KtKINo2           </td><td>Not Available     </td><td>w5gq              </td><td>77a1              </td><td>Q8_a              </td><td>NBRvrWWx0Z        </td><td>0                 </td></tr>\n",
       "\t<tr><th scope=row>5</th><td>-7.15760793973201</td><td>-8.01023504933176</td><td>-1.14159306345417</td><td>2.3221774432791  </td><td>-3.10387551546418</td><td>-2.16789666265328</td><td>1.28961096613499 </td><td>1.21236885098512 </td><td>-2.16766670049865</td><td>3.33553193800373 </td><td>...              </td><td>Not Available    </td><td>B1q4             </td><td>nkco             </td><td>KtKINo2          </td><td>Not Available    </td><td>w5gq             </td><td>rRqp             </td><td>Q8_a             </td><td>Not Available    </td><td>0                </td></tr>\n",
       "\t<tr><th scope=row>6</th><td>4.26395039068716 </td><td>-5.20867976097585</td><td>-2.8736381756129 </td><td>0.458496156293177</td><td>0.179021529960272</td><td>1.29295403055184 </td><td>4.07294400985461 </td><td>3.4840921784955  </td><td>-2.70084337456732</td><td>-2.28252586802844</td><td>...              </td><td>Not Available    </td><td>a5n2             </td><td>zP5k             </td><td>Not Available    </td><td>Not Available    </td><td>w5gq             </td><td>9M7C             </td><td>Q8_a             </td><td>NBRvrWWx0Z       </td><td>0                </td></tr>\n",
       "</tbody>\n",
       "</table>\n"
      ],
      "text/latex": [
       "\\begin{tabular}{r|lllllllllllllllllllllllllllllllllllllllllllllllllllllllllllllllllllllllllllllllllllllllllllllllllllllllllllllllllllllllllllllllllllllllllllllllllllllllllllllllllllllllllllllllllllllllllllllllllllllllllllllllllllllllllllllllllllllllllllllllllllllllllllllllllllllllllllllllllllllllllllllllllllllllllllllllllllllllllllllllllllllllllllllllllllllllllllllllllllllllllllllllllllll}\n",
       "  & PC1 & PC2 & PC3 & PC4 & PC5 & PC6 & PC7 & PC8 & PC9 & PC10 & ... & Var14928 & Var14969 & Var14970 & Var14975 & Var14983 & Var14989 & Var14990 & Var14995 & Var14996 & Output\\\\\n",
       "\\hline\n",
       "\t1 & 7.72622412796761   & -0.504249119210443 & -3.54770682615225  & -13.737496664521   & 4.97389295672082   & -4.84056971133649  & 1.66704940692655   & 3.28116811845288   & 1.75796983174502   & -3.26376722187056  & ...                & Not Available      & Not Available      & Not Available      & Not Available      & Not Available      & 0tBF               & 18Tw               & Q8\\_a             & NBRvrWWx0Z         & 0                 \\\\\n",
       "\t2 & -2.87387303914932  & 6.61779266804417   & -0.792264479201552 & 1.14042745409765   & -0.715515173930236 & 3.01040373506116   & -0.116260493691831 & -0.334675023575327 & -1.11572934740814  & -0.510109102187744 & ...                & Not Available      & a5n2               & zM9v               & KtKINo2            & Not Available      & w5gq               & aEJz               & Q8\\_a             & NBRvrWWx0Z         & 0                 \\\\\n",
       "\t3 & -0.617383673822884 & -2.15958106192937  & -2.28793808149449  & -3.64073801907649  & -0.550428042922881 & -0.304173658236499 & 3.95904295282101   & 3.98756417306682   & 0.463338171496438  & -2.33623009884138  & ...                & Not Available      & Not Available      & Not Available      & Not Available      & Not Available      & w5gq               & zrxT               & KttQ               & NBRvrWWx0Z         & 0                 \\\\\n",
       "\t4 & 4.3022433678405    & -4.2787148700599   & -0.753483407101718 & -1.06745724533412  & -0.999788667790151 & -2.37387625196966  & -4.84945048578949  & -4.76841057573037  & 4.65503273404379   & -3.17549446345339  & ...                & T9wq               & a5n2               & N5bq               & KtKINo2            & Not Available      & w5gq               & 77a1               & Q8\\_a             & NBRvrWWx0Z         & 0                 \\\\\n",
       "\t5 & -7.15760793973201 & -8.01023504933176 & -1.14159306345417 & 2.3221774432791   & -3.10387551546418 & -2.16789666265328 & 1.28961096613499  & 1.21236885098512  & -2.16766670049865 & 3.33553193800373  & ...               & Not Available     & B1q4              & nkco              & KtKINo2           & Not Available     & w5gq              & rRqp              & Q8\\_a            & Not Available     & 0                \\\\\n",
       "\t6 & 4.26395039068716  & -5.20867976097585 & -2.8736381756129  & 0.458496156293177 & 0.179021529960272 & 1.29295403055184  & 4.07294400985461  & 3.4840921784955   & -2.70084337456732 & -2.28252586802844 & ...               & Not Available     & a5n2              & zP5k              & Not Available     & Not Available     & w5gq              & 9M7C              & Q8\\_a            & NBRvrWWx0Z        & 0                \\\\\n",
       "\\end{tabular}\n"
      ],
      "text/plain": [
       "         PC1        PC2        PC3         PC4        PC5        PC6        PC7\n",
       "1  7.7262241 -0.5042491 -3.5477068 -13.7374967  4.9738930 -4.8405697  1.6670494\n",
       "2 -2.8738730  6.6177927 -0.7922645   1.1404275 -0.7155152  3.0104037 -0.1162605\n",
       "3 -0.6173837 -2.1595811 -2.2879381  -3.6407380 -0.5504280 -0.3041737  3.9590430\n",
       "4  4.3022434 -4.2787149 -0.7534834  -1.0674572 -0.9997887 -2.3738763 -4.8494505\n",
       "5 -7.1576079 -8.0102350 -1.1415931   2.3221774 -3.1038755 -2.1678967  1.2896110\n",
       "6  4.2639504 -5.2086798 -2.8736382   0.4584962  0.1790215  1.2929540  4.0729440\n",
       "        PC8        PC9       PC10 ...      Var14928      Var14969      Var14970\n",
       "1  3.281168  1.7579698 -3.2637672 ... Not Available Not Available Not Available\n",
       "2 -0.334675 -1.1157293 -0.5101091 ... Not Available          a5n2          zM9v\n",
       "3  3.987564  0.4633382 -2.3362301 ... Not Available Not Available Not Available\n",
       "4 -4.768411  4.6550327 -3.1754945 ...          T9wq          a5n2          N5bq\n",
       "5  1.212369 -2.1676667  3.3355319 ... Not Available          B1q4          nkco\n",
       "6  3.484092 -2.7008434 -2.2825259 ... Not Available          a5n2          zP5k\n",
       "       Var14975      Var14983 Var14989 Var14990 Var14995      Var14996 Output\n",
       "1 Not Available Not Available     0tBF     18Tw     Q8_a    NBRvrWWx0Z      0\n",
       "2       KtKINo2 Not Available     w5gq     aEJz     Q8_a    NBRvrWWx0Z      0\n",
       "3 Not Available Not Available     w5gq     zrxT     KttQ    NBRvrWWx0Z      0\n",
       "4       KtKINo2 Not Available     w5gq     77a1     Q8_a    NBRvrWWx0Z      0\n",
       "5       KtKINo2 Not Available     w5gq     rRqp     Q8_a Not Available      0\n",
       "6 Not Available Not Available     w5gq     9M7C     Q8_a    NBRvrWWx0Z      0"
      ]
     },
     "metadata": {},
     "output_type": "display_data"
    }
   ],
   "source": [
    "head(test_data_h2o)"
   ]
  },
  {
   "cell_type": "code",
   "execution_count": 290,
   "metadata": {
    "collapsed": false
   },
   "outputs": [
    {
     "name": "stdout",
     "output_type": "stream",
     "text": [
      "cmd: curl \n",
      "args: -o test_data_with_class_predictions.csv http://localhost:54321/3/DownloadDataset?frame_id=RTMP_sid_88f0_52 \n"
     ]
    }
   ],
   "source": [
    "h2o.downloadCSV(test_data_h2o, 'test_data_with_class_predictions.csv')"
   ]
  }
 ],
 "metadata": {
  "anaconda-cloud": {},
  "extensions": {
   "jupyter_dashboards": {
    "activeView": "report_default",
    "version": 1,
    "views": {
     "grid_default": {
      "cellMargin": 10,
      "defaultCellHeight": 20,
      "maxColumns": 12,
      "name": "grid",
      "type": "grid"
     },
     "report_default": {
      "name": "report",
      "type": "report"
     }
    }
   }
  },
  "hide_input": false,
  "kernelspec": {
   "display_name": "R",
   "language": "R",
   "name": "ir"
  },
  "language_info": {
   "codemirror_mode": "r",
   "file_extension": ".r",
   "mimetype": "text/x-r-source",
   "name": "R",
   "pygments_lexer": "r",
   "version": "3.3.2"
  },
  "nbpresent": {
   "slides": {
    "010659c2-d145-4702-9356-e5a776c24b61": {
     "id": "010659c2-d145-4702-9356-e5a776c24b61",
     "prev": "f2f87b79-ab2d-455b-8865-45aaff1a506f",
     "regions": {
      "1c4032b2-f8bc-43db-840f-c76d3ce3d97c": {
       "attrs": {
        "height": 0.8,
        "width": 0.8,
        "x": 0.1,
        "y": 0.1
       },
       "content": {
        "cell": "02431610-e3b1-4db0-8a03-e85a6f03df97",
        "part": "whole"
       },
       "id": "1c4032b2-f8bc-43db-840f-c76d3ce3d97c"
      }
     }
    },
    "037a7dce-cc0e-4f9b-92c0-b27cb87dcbb4": {
     "id": "037a7dce-cc0e-4f9b-92c0-b27cb87dcbb4",
     "prev": "44ea0540-10ae-4484-9cb1-179eedabaa95",
     "regions": {
      "c63829fe-cb66-4413-9dd0-8087ca769f6e": {
       "attrs": {
        "height": 0.8,
        "width": 0.8,
        "x": 0.1,
        "y": 0.1
       },
       "content": {
        "cell": "d6fac883-4811-4f9e-b95b-dc2b6374bdb0",
        "part": "whole"
       },
       "id": "c63829fe-cb66-4413-9dd0-8087ca769f6e"
      }
     }
    },
    "040ab1c6-0514-4fee-af1b-2183acce8c61": {
     "id": "040ab1c6-0514-4fee-af1b-2183acce8c61",
     "prev": "69a1ca36-e657-4b01-98ab-05c7d56c6b7b",
     "regions": {
      "2fc82953-5a55-4073-a984-c1c920ea1cc2": {
       "attrs": {
        "height": 0.8,
        "width": 0.8,
        "x": 0.1,
        "y": 0.1
       },
       "content": {
        "cell": "d753c9ff-a339-4baf-9569-9c081d6b528b",
        "part": "whole"
       },
       "id": "2fc82953-5a55-4073-a984-c1c920ea1cc2"
      }
     }
    },
    "056294ea-a838-4b46-b47d-a715eaf9ae15": {
     "id": "056294ea-a838-4b46-b47d-a715eaf9ae15",
     "prev": "acc35ead-6d6e-4115-b889-7d127cc8d885",
     "regions": {
      "4d2f6dc7-0788-4a2e-ab24-4fb4f426c2e7": {
       "attrs": {
        "height": 0.8,
        "width": 0.8,
        "x": 0.1,
        "y": 0.1
       },
       "content": {
        "cell": "424d555f-e043-485e-ba5b-f41cefa93a0a",
        "part": "whole"
       },
       "id": "4d2f6dc7-0788-4a2e-ab24-4fb4f426c2e7"
      }
     }
    },
    "058283f2-08bd-46d4-a7e2-781829b0d26f": {
     "id": "058283f2-08bd-46d4-a7e2-781829b0d26f",
     "prev": "536dc498-e94e-45f1-800b-98044db80ac6",
     "regions": {
      "9786e2e5-8ba6-4d59-9c74-dcab5388a143": {
       "attrs": {
        "height": 0.8,
        "width": 0.8,
        "x": 0.1,
        "y": 0.1
       },
       "content": {
        "cell": "2de9b9bb-d723-4a64-adfe-e632a344d554",
        "part": "whole"
       },
       "id": "9786e2e5-8ba6-4d59-9c74-dcab5388a143"
      }
     }
    },
    "081ff20f-5c9d-4b81-8e07-6e88eed94abb": {
     "id": "081ff20f-5c9d-4b81-8e07-6e88eed94abb",
     "prev": "c146fe10-4f93-4128-9890-427e7d318018",
     "regions": {
      "79589ac3-9b4d-4b24-9e10-75cdac8f987c": {
       "attrs": {
        "height": 0.8,
        "width": 0.8,
        "x": 0.1,
        "y": 0.1
       },
       "content": {
        "cell": "43126789-1a41-4bb3-933d-a1cb726e11c1",
        "part": "whole"
       },
       "id": "79589ac3-9b4d-4b24-9e10-75cdac8f987c"
      }
     }
    },
    "08ac0802-5fba-4d11-a376-7a1722e06f23": {
     "id": "08ac0802-5fba-4d11-a376-7a1722e06f23",
     "prev": "b6e1dfa4-a724-47ba-864f-2c6013b69d8e",
     "regions": {
      "6cc73373-bcd7-465e-b2a1-39a5f7207e31": {
       "attrs": {
        "height": 0.8,
        "width": 0.8,
        "x": 0.1,
        "y": 0.1
       },
       "content": {
        "cell": "4e1bfbfa-1670-4483-b80a-8705e8cf044e",
        "part": "whole"
       },
       "id": "6cc73373-bcd7-465e-b2a1-39a5f7207e31"
      }
     }
    },
    "0ab01eb0-c9cb-4bcb-b02d-418dac4ce0f1": {
     "id": "0ab01eb0-c9cb-4bcb-b02d-418dac4ce0f1",
     "prev": "3841a6e5-c1eb-442e-a001-963b1a6dda71",
     "regions": {
      "31297321-c6f0-411f-ba31-4adfc7c5066b": {
       "attrs": {
        "height": 0.8,
        "width": 0.8,
        "x": 0.1,
        "y": 0.1
       },
       "content": {
        "cell": "b7cc209b-dd28-48ff-b42a-9ba823446eea",
        "part": "whole"
       },
       "id": "31297321-c6f0-411f-ba31-4adfc7c5066b"
      }
     }
    },
    "0b68b543-aa40-4903-ac5e-f8a608c0aa5c": {
     "id": "0b68b543-aa40-4903-ac5e-f8a608c0aa5c",
     "prev": "25753080-a32a-4e9f-a67d-5e8aa833538b",
     "regions": {
      "b8993f4b-6d54-47b1-9727-68781337e1ee": {
       "attrs": {
        "height": 0.8,
        "width": 0.8,
        "x": 0.1,
        "y": 0.1
       },
       "content": {
        "cell": "66e5facd-888e-4668-9ac5-ed1c6801fb88",
        "part": "whole"
       },
       "id": "b8993f4b-6d54-47b1-9727-68781337e1ee"
      }
     }
    },
    "0b81c3fe-e24f-4b39-9ad0-d6430b4f199d": {
     "id": "0b81c3fe-e24f-4b39-9ad0-d6430b4f199d",
     "prev": "4de7ffb4-0718-4982-b931-0ccd99cc3f43",
     "regions": {
      "4d4497f5-df7a-4044-aaaa-1468cc674ff7": {
       "attrs": {
        "height": 0.8,
        "width": 0.8,
        "x": 0.1,
        "y": 0.1
       },
       "content": {
        "cell": "50688499-94de-41b3-9112-f3e7183fa454",
        "part": "whole"
       },
       "id": "4d4497f5-df7a-4044-aaaa-1468cc674ff7"
      }
     }
    },
    "103ace7f-c4c5-44db-8ad9-3d89dece7942": {
     "id": "103ace7f-c4c5-44db-8ad9-3d89dece7942",
     "prev": "71063f33-caff-4c9e-bc3e-23cf6ef23261",
     "regions": {
      "1e126074-f78a-43d1-939b-6f2fcb03abaa": {
       "attrs": {
        "height": 0.8,
        "width": 0.8,
        "x": 0.1,
        "y": 0.1
       },
       "content": {
        "cell": "39428d43-29fa-4c7a-a49a-7aad9e722f97",
        "part": "whole"
       },
       "id": "1e126074-f78a-43d1-939b-6f2fcb03abaa"
      }
     }
    },
    "10d8ca58-3cc6-4c00-b9e5-cdb241f72fd0": {
     "id": "10d8ca58-3cc6-4c00-b9e5-cdb241f72fd0",
     "prev": "1eca184a-9026-4994-a531-4b025670fc95",
     "regions": {
      "ba5e51af-a632-432d-957e-239d84fafab9": {
       "attrs": {
        "height": 0.8,
        "width": 0.8,
        "x": 0.1,
        "y": 0.1
       },
       "content": {
        "cell": "70484dd1-a98e-48dd-9cf4-f6883d003709",
        "part": "whole"
       },
       "id": "ba5e51af-a632-432d-957e-239d84fafab9"
      }
     }
    },
    "1413cd9f-2f69-447f-99f1-7a0443721df4": {
     "id": "1413cd9f-2f69-447f-99f1-7a0443721df4",
     "prev": "59da786c-c4b9-4c9f-8664-58ad0970d8d7",
     "regions": {
      "d0a5a89b-53de-4e79-a16a-d9ce363aaaf5": {
       "attrs": {
        "height": 0.8,
        "width": 0.8,
        "x": 0.1,
        "y": 0.1
       },
       "content": {
        "cell": "fbee7a3e-6ccb-41bb-917b-2cfc5d76f409",
        "part": "whole"
       },
       "id": "d0a5a89b-53de-4e79-a16a-d9ce363aaaf5"
      }
     }
    },
    "145aec4d-1a37-4360-977c-2ac5706a92cf": {
     "id": "145aec4d-1a37-4360-977c-2ac5706a92cf",
     "prev": "2cc0e89e-3828-41b7-b880-5543f076a047",
     "regions": {
      "c76749ae-e6a1-49f4-9ed2-641e9aa72031": {
       "attrs": {
        "height": 0.8,
        "width": 0.8,
        "x": 0.1,
        "y": 0.1
       },
       "content": {
        "cell": "0c638abc-f6d7-4cef-a909-69584ac82012",
        "part": "whole"
       },
       "id": "c76749ae-e6a1-49f4-9ed2-641e9aa72031"
      }
     }
    },
    "14e0bbf0-d94c-4724-9782-b36c35628417": {
     "id": "14e0bbf0-d94c-4724-9782-b36c35628417",
     "prev": "8112a121-cb92-43cc-a602-fc308e2804e0",
     "regions": {
      "17f5825d-5cc6-490b-885e-52f305290247": {
       "attrs": {
        "height": 0.8,
        "width": 0.8,
        "x": 0.1,
        "y": 0.1
       },
       "content": {
        "cell": "b150aed9-b1a0-4917-bd5d-29d327232f8b",
        "part": "whole"
       },
       "id": "17f5825d-5cc6-490b-885e-52f305290247"
      }
     }
    },
    "156330ee-8c52-4d88-94ef-806f384ca322": {
     "id": "156330ee-8c52-4d88-94ef-806f384ca322",
     "prev": null,
     "regions": {
      "dd18a762-73b8-436d-ae57-ccf9037e8b60": {
       "attrs": {
        "height": 0.8,
        "width": 0.8,
        "x": 0.1,
        "y": 0.1
       },
       "id": "dd18a762-73b8-436d-ae57-ccf9037e8b60"
      }
     }
    },
    "17039141-4fb6-40e8-a909-099fe409bfeb": {
     "id": "17039141-4fb6-40e8-a909-099fe409bfeb",
     "prev": "99722d97-f9ab-41ee-9893-d041ee0c87a2",
     "regions": {
      "adae135a-2448-4a57-a65e-5b4b9647b491": {
       "attrs": {
        "height": 0.8,
        "width": 0.8,
        "x": 0.1,
        "y": 0.1
       },
       "content": {
        "cell": "8a86db81-a40b-4953-9f40-aa52fee83879",
        "part": "whole"
       },
       "id": "adae135a-2448-4a57-a65e-5b4b9647b491"
      }
     }
    },
    "173bb7a0-50dc-4be4-b74d-cf1cb62f8f74": {
     "id": "173bb7a0-50dc-4be4-b74d-cf1cb62f8f74",
     "prev": "e875c9f7-ab63-4271-9c74-f72a8c3bfc62",
     "regions": {
      "d4a7d76d-6cc9-4d69-91d9-9fe8d4bf2c9a": {
       "attrs": {
        "height": 0.8,
        "width": 0.8,
        "x": 0.1,
        "y": 0.1
       },
       "content": {
        "cell": "6fe41b7e-1573-47a8-a1b9-ed4556cadabb",
        "part": "whole"
       },
       "id": "d4a7d76d-6cc9-4d69-91d9-9fe8d4bf2c9a"
      }
     }
    },
    "174b1be8-12e3-471b-8c56-b8bce7e1ffbc": {
     "id": "174b1be8-12e3-471b-8c56-b8bce7e1ffbc",
     "prev": "71d46ba7-2fa7-413f-99bc-111ae825919d",
     "regions": {
      "03b2be3c-ec93-43ba-82ce-ef720b63cde4": {
       "attrs": {
        "height": 0.8,
        "width": 0.8,
        "x": 0.1,
        "y": 0.1
       },
       "content": {
        "cell": "66c464da-7ca6-403d-9737-dfe49fde7414",
        "part": "whole"
       },
       "id": "03b2be3c-ec93-43ba-82ce-ef720b63cde4"
      }
     }
    },
    "18b9a7e0-b663-404c-8548-3a7b34f1f915": {
     "id": "18b9a7e0-b663-404c-8548-3a7b34f1f915",
     "prev": "ea401f78-2360-4708-ac53-e198bca2c889",
     "regions": {
      "26482498-8262-4e1f-a4a0-1de54c37ca83": {
       "attrs": {
        "height": 0.8,
        "width": 0.8,
        "x": 0.1,
        "y": 0.1
       },
       "content": {
        "cell": "ca9421ae-e556-49ca-b1b8-1d1bb4a5a88e",
        "part": "whole"
       },
       "id": "26482498-8262-4e1f-a4a0-1de54c37ca83"
      }
     }
    },
    "1a9b7a95-b92c-409a-9fd8-30e3282fef93": {
     "id": "1a9b7a95-b92c-409a-9fd8-30e3282fef93",
     "prev": "d0815f43-cf25-43b5-9f40-f7369edaf306",
     "regions": {
      "bd233a94-adcd-4b48-9acf-3e24d06574cc": {
       "attrs": {
        "height": 0.8,
        "width": 0.8,
        "x": 0.1,
        "y": 0.1
       },
       "content": {
        "cell": "60ad09c3-3b66-4371-ac23-d96666722792",
        "part": "whole"
       },
       "id": "bd233a94-adcd-4b48-9acf-3e24d06574cc"
      }
     }
    },
    "1aa200bd-eaf4-4838-b285-500b5c5cc99c": {
     "id": "1aa200bd-eaf4-4838-b285-500b5c5cc99c",
     "prev": "25301f56-44da-4d80-94f2-ef84d2064146",
     "regions": {
      "8d36411a-c601-480f-aacf-8e7dddbbaecb": {
       "attrs": {
        "height": 0.8,
        "width": 0.8,
        "x": 0.1,
        "y": 0.1
       },
       "content": {
        "cell": "e20bde72-4218-49a5-951a-0c6ea1bd7024",
        "part": "whole"
       },
       "id": "8d36411a-c601-480f-aacf-8e7dddbbaecb"
      }
     }
    },
    "1ac8036e-57af-43f3-9186-c8032151cd00": {
     "id": "1ac8036e-57af-43f3-9186-c8032151cd00",
     "prev": "acfb4942-a63c-4741-9511-7e4e2c19c23e",
     "regions": {
      "4280e496-6d18-4d04-ae50-541074f38f20": {
       "attrs": {
        "height": 0.8,
        "width": 0.8,
        "x": 0.1,
        "y": 0.1
       },
       "content": {
        "cell": "bad07650-2cdf-4474-a59a-a68671b7d5b3",
        "part": "whole"
       },
       "id": "4280e496-6d18-4d04-ae50-541074f38f20"
      }
     }
    },
    "1b201679-6753-4cfe-aab3-2532a25a568d": {
     "id": "1b201679-6753-4cfe-aab3-2532a25a568d",
     "prev": "f302eff3-8a22-4bf7-911c-d1fdb5dbad41",
     "regions": {
      "3bbfa746-f4b5-4023-8d53-e4287d547d60": {
       "attrs": {
        "height": 0.8,
        "width": 0.8,
        "x": 0.1,
        "y": 0.1
       },
       "content": {
        "cell": "f68652b4-674b-4e37-a668-8bd03f226756",
        "part": "whole"
       },
       "id": "3bbfa746-f4b5-4023-8d53-e4287d547d60"
      }
     }
    },
    "1bd9895d-3cd8-4413-970c-7861e8f66d32": {
     "id": "1bd9895d-3cd8-4413-970c-7861e8f66d32",
     "prev": "251753b0-dde8-41e6-ae2d-4ead4c4f3377",
     "regions": {
      "3000e0a3-8820-473e-a548-f74870a4f0c1": {
       "attrs": {
        "height": 0.8,
        "width": 0.8,
        "x": 0.1,
        "y": 0.1
       },
       "content": {
        "cell": "eace5973-514a-402d-ba69-61520bbf0bde",
        "part": "whole"
       },
       "id": "3000e0a3-8820-473e-a548-f74870a4f0c1"
      }
     }
    },
    "1d5d4acb-090f-405d-9572-6efdd430b891": {
     "id": "1d5d4acb-090f-405d-9572-6efdd430b891",
     "prev": "2e89c3ec-df84-41c5-a836-8122ed027059",
     "regions": {
      "236a1166-5b89-451e-a09f-4fa95e4b7e4b": {
       "attrs": {
        "height": 0.8,
        "width": 0.8,
        "x": 0.1,
        "y": 0.1
       },
       "content": {
        "cell": "e3cce739-3c62-47bd-9b01-2846a662a5f0",
        "part": "whole"
       },
       "id": "236a1166-5b89-451e-a09f-4fa95e4b7e4b"
      }
     }
    },
    "1e4b8143-99df-4fd9-af2f-6bc4f5d4d7af": {
     "id": "1e4b8143-99df-4fd9-af2f-6bc4f5d4d7af",
     "prev": "99f875bb-8362-426b-aeb4-e8071b25122b",
     "regions": {
      "d97cf8f6-0d81-4d63-834d-536506390ed4": {
       "attrs": {
        "height": 0.8,
        "width": 0.8,
        "x": 0.1,
        "y": 0.1
       },
       "content": {
        "cell": "45625453-0faf-43bd-bdbf-91b7d4f9e23c",
        "part": "whole"
       },
       "id": "d97cf8f6-0d81-4d63-834d-536506390ed4"
      }
     }
    },
    "1eca184a-9026-4994-a531-4b025670fc95": {
     "id": "1eca184a-9026-4994-a531-4b025670fc95",
     "prev": "e98041e8-027f-4153-888e-5e882cd7b525",
     "regions": {
      "48335e91-d036-4de1-829d-b008fc8a4a74": {
       "attrs": {
        "height": 0.8,
        "width": 0.8,
        "x": 0.1,
        "y": 0.1
       },
       "content": {
        "cell": "537d2bd5-e941-42f2-9796-f76d28284a05",
        "part": "whole"
       },
       "id": "48335e91-d036-4de1-829d-b008fc8a4a74"
      }
     }
    },
    "2031d41a-f548-44d0-b440-201f73098904": {
     "id": "2031d41a-f548-44d0-b440-201f73098904",
     "prev": "3efd41c8-011f-4295-92a7-3597641f92e1",
     "regions": {
      "e57e0a6b-1d22-47ae-a958-81d5c635de37": {
       "attrs": {
        "height": 0.8,
        "width": 0.8,
        "x": 0.1,
        "y": 0.1
       },
       "content": {
        "cell": "d1347a54-e46c-4c02-ba3d-edfcd70e85d9",
        "part": "whole"
       },
       "id": "e57e0a6b-1d22-47ae-a958-81d5c635de37"
      }
     }
    },
    "20960b5d-41a9-4ef2-bda4-75f27538c95e": {
     "id": "20960b5d-41a9-4ef2-bda4-75f27538c95e",
     "prev": "765f1320-ba82-4bcd-876b-94a71179583f",
     "regions": {
      "5684d087-c3bc-4d56-b73c-051fead1a177": {
       "attrs": {
        "height": 0.8,
        "width": 0.8,
        "x": 0.1,
        "y": 0.1
       },
       "content": {
        "cell": "a0dacb8c-9a89-4353-a359-cf56ac2a293e",
        "part": "whole"
       },
       "id": "5684d087-c3bc-4d56-b73c-051fead1a177"
      }
     }
    },
    "2133c5e2-9c42-46a6-9d21-406a007c27ea": {
     "id": "2133c5e2-9c42-46a6-9d21-406a007c27ea",
     "prev": "8bcfa37f-747b-4bb2-8325-7e5a0018befd",
     "regions": {
      "501425c5-bfaa-4b9c-ad35-4efe254d7762": {
       "attrs": {
        "height": 0.8,
        "width": 0.8,
        "x": 0.1,
        "y": 0.1
       },
       "content": {
        "cell": "1f225db5-a5d2-4691-b0cd-2abaa78c24ae",
        "part": "whole"
       },
       "id": "501425c5-bfaa-4b9c-ad35-4efe254d7762"
      }
     }
    },
    "21692888-0598-417f-9429-a4d36f14e785": {
     "id": "21692888-0598-417f-9429-a4d36f14e785",
     "prev": "db289c8c-deb4-4f96-8362-796b2a38b55a",
     "regions": {
      "ecd1cb08-b438-4883-9e22-0a4edffaf7c4": {
       "attrs": {
        "height": 0.8,
        "width": 0.8,
        "x": 0.1,
        "y": 0.1
       },
       "content": {
        "cell": "c07fdc72-8b84-4577-a07a-0ce89e2c5e87",
        "part": "whole"
       },
       "id": "ecd1cb08-b438-4883-9e22-0a4edffaf7c4"
      }
     }
    },
    "218e1563-fa53-4bb6-9fec-9e40a887ad29": {
     "id": "218e1563-fa53-4bb6-9fec-9e40a887ad29",
     "prev": "bc44cd27-9254-4510-96d8-14d386162c71",
     "regions": {
      "357a08fa-951e-4bd8-beff-044e1b5790c6": {
       "attrs": {
        "height": 0.8,
        "width": 0.8,
        "x": 0.1,
        "y": 0.1
       },
       "content": {
        "cell": "52b2ad34-6ca3-446f-bb79-9e895d6fa5d6",
        "part": "whole"
       },
       "id": "357a08fa-951e-4bd8-beff-044e1b5790c6"
      }
     }
    },
    "22e12804-2e75-4297-9317-5eec5501e263": {
     "id": "22e12804-2e75-4297-9317-5eec5501e263",
     "prev": "6d5c5476-ddd1-4afa-851f-f4298f36defc",
     "regions": {
      "6fe7047d-1c55-4ae3-8c24-a55b7ee6e209": {
       "attrs": {
        "height": 0.8,
        "width": 0.8,
        "x": 0.1,
        "y": 0.1
       },
       "content": {
        "cell": "a3fa2f1b-9603-4587-b0da-8a4da4c85c31",
        "part": "whole"
       },
       "id": "6fe7047d-1c55-4ae3-8c24-a55b7ee6e209"
      }
     }
    },
    "23d798ff-122c-4ee8-ae93-7395127191df": {
     "id": "23d798ff-122c-4ee8-ae93-7395127191df",
     "prev": "648024b1-3af9-43de-8f5e-e2f901ab720f",
     "regions": {
      "3c8e7d94-c133-4a0c-b743-c7c6807db586": {
       "attrs": {
        "height": 0.8,
        "width": 0.8,
        "x": 0.1,
        "y": 0.1
       },
       "content": {
        "cell": "a387a208-267b-488f-a2ba-ecc8c7f9d7ed",
        "part": "whole"
       },
       "id": "3c8e7d94-c133-4a0c-b743-c7c6807db586"
      }
     }
    },
    "24f438a5-ddc1-4017-bbfc-5165c8cfae39": {
     "id": "24f438a5-ddc1-4017-bbfc-5165c8cfae39",
     "prev": "4ca6f7cb-01a9-47f4-a82f-d6462851d7bd",
     "regions": {
      "b66fcfe5-027e-44aa-a0c9-7260e2adab0b": {
       "attrs": {
        "height": 0.8,
        "width": 0.8,
        "x": 0.1,
        "y": 0.1
       },
       "content": {
        "cell": "66a4f6bc-abf1-43d5-a367-c0da2eb541c4",
        "part": "whole"
       },
       "id": "b66fcfe5-027e-44aa-a0c9-7260e2adab0b"
      }
     }
    },
    "251753b0-dde8-41e6-ae2d-4ead4c4f3377": {
     "id": "251753b0-dde8-41e6-ae2d-4ead4c4f3377",
     "prev": "c66ca291-bba5-44f3-a3f5-850063dc4407",
     "regions": {
      "449b4446-029f-41e9-845d-a97487a0d0d3": {
       "attrs": {
        "height": 0.8,
        "width": 0.8,
        "x": 0.1,
        "y": 0.1
       },
       "content": {
        "cell": "47e0012a-0f65-4305-8b1b-e5398609efe9",
        "part": "whole"
       },
       "id": "449b4446-029f-41e9-845d-a97487a0d0d3"
      }
     }
    },
    "25301f56-44da-4d80-94f2-ef84d2064146": {
     "id": "25301f56-44da-4d80-94f2-ef84d2064146",
     "prev": "d98696a5-7377-4c1e-ac82-af65c531a49d",
     "regions": {
      "5f88234e-8463-4af1-b577-1ebfc2796604": {
       "attrs": {
        "height": 0.8,
        "width": 0.8,
        "x": 0.1,
        "y": 0.1
       },
       "content": {
        "cell": "4f2a4cc7-eb34-46f3-ac6d-89f22667d7ce",
        "part": "whole"
       },
       "id": "5f88234e-8463-4af1-b577-1ebfc2796604"
      }
     }
    },
    "25753080-a32a-4e9f-a67d-5e8aa833538b": {
     "id": "25753080-a32a-4e9f-a67d-5e8aa833538b",
     "prev": "ecd9d5be-9ac8-469d-a316-7dc26c7203d8",
     "regions": {
      "464b99bd-b323-4bf9-8fe7-4c70fe886081": {
       "attrs": {
        "height": 0.8,
        "width": 0.8,
        "x": 0.1,
        "y": 0.1
       },
       "content": {
        "cell": "96b4bef3-1eef-4768-b697-650e4e0eb3c6",
        "part": "whole"
       },
       "id": "464b99bd-b323-4bf9-8fe7-4c70fe886081"
      }
     }
    },
    "25b81bd2-849f-4ea6-8b18-47e4d8b34bcb": {
     "id": "25b81bd2-849f-4ea6-8b18-47e4d8b34bcb",
     "prev": "3da817a1-3085-4109-9284-49f546062fa1",
     "regions": {
      "17808eb4-533b-45b7-bf01-95b3f8100914": {
       "attrs": {
        "height": 0.8,
        "width": 0.8,
        "x": 0.1,
        "y": 0.1
       },
       "content": {
        "cell": "12b89404-8d45-4b1b-b02c-98821e9ad211",
        "part": "whole"
       },
       "id": "17808eb4-533b-45b7-bf01-95b3f8100914"
      }
     }
    },
    "26b06461-3491-4ce1-96a5-78f2b2dfc0d7": {
     "id": "26b06461-3491-4ce1-96a5-78f2b2dfc0d7",
     "prev": "bd2afd3f-663c-4bd8-8681-63ee64ab2df9",
     "regions": {
      "c285343e-b3a1-453c-bc10-46313f7de438": {
       "attrs": {
        "height": 0.8,
        "width": 0.8,
        "x": 0.1,
        "y": 0.1
       },
       "content": {
        "cell": "2a06fe48-b906-4da9-918c-1cf75af88f1b",
        "part": "whole"
       },
       "id": "c285343e-b3a1-453c-bc10-46313f7de438"
      }
     }
    },
    "27314736-35f6-44b7-99b4-5187f2be8768": {
     "id": "27314736-35f6-44b7-99b4-5187f2be8768",
     "prev": "2e8f5d3d-f4a2-4944-ae38-5e917ece33e3",
     "regions": {
      "5aa62134-230e-40ee-9565-1a11fc9e4c2b": {
       "attrs": {
        "height": 0.8,
        "width": 0.8,
        "x": 0.1,
        "y": 0.1
       },
       "content": {
        "cell": "0062053b-7eb2-4303-bea8-a96097a07f42",
        "part": "whole"
       },
       "id": "5aa62134-230e-40ee-9565-1a11fc9e4c2b"
      }
     }
    },
    "2a7a338e-1a04-47f5-920e-886f309dd9f8": {
     "id": "2a7a338e-1a04-47f5-920e-886f309dd9f8",
     "prev": "218e1563-fa53-4bb6-9fec-9e40a887ad29",
     "regions": {
      "952c7d72-02ab-44dc-8fe5-348df4e1ce64": {
       "attrs": {
        "height": 0.8,
        "width": 0.8,
        "x": 0.1,
        "y": 0.1
       },
       "content": {
        "cell": "04608e97-b492-4df7-999d-154fc17f934e",
        "part": "whole"
       },
       "id": "952c7d72-02ab-44dc-8fe5-348df4e1ce64"
      }
     }
    },
    "2b802eba-88ee-479b-b7cd-cee4d93fb81d": {
     "id": "2b802eba-88ee-479b-b7cd-cee4d93fb81d",
     "prev": "10d8ca58-3cc6-4c00-b9e5-cdb241f72fd0",
     "regions": {
      "c4dc014d-7f69-4273-aa23-13cb0bf9cbb0": {
       "attrs": {
        "height": 0.8,
        "width": 0.8,
        "x": 0.1,
        "y": 0.1
       },
       "content": {
        "cell": "7d24ad8a-2fe3-4782-a38a-e3689851792b",
        "part": "whole"
       },
       "id": "c4dc014d-7f69-4273-aa23-13cb0bf9cbb0"
      }
     }
    },
    "2c114184-cdaa-4fd1-945c-0ff0e6ee357c": {
     "id": "2c114184-cdaa-4fd1-945c-0ff0e6ee357c",
     "prev": "42a67565-8f9a-45ab-9b60-3295fa707180",
     "regions": {
      "11a3cb71-3935-4040-90d6-c451f2dda791": {
       "attrs": {
        "height": 0.8,
        "width": 0.8,
        "x": 0.1,
        "y": 0.1
       },
       "content": {
        "cell": "fddff4c9-3ee0-4f77-8d29-b58f056662e4",
        "part": "whole"
       },
       "id": "11a3cb71-3935-4040-90d6-c451f2dda791"
      }
     }
    },
    "2cc0e89e-3828-41b7-b880-5543f076a047": {
     "id": "2cc0e89e-3828-41b7-b880-5543f076a047",
     "prev": "037a7dce-cc0e-4f9b-92c0-b27cb87dcbb4",
     "regions": {
      "a6deaae2-b444-4ef4-a7e7-d3ef0ad580a2": {
       "attrs": {
        "height": 0.8,
        "width": 0.8,
        "x": 0.1,
        "y": 0.1
       },
       "content": {
        "cell": "073882c2-58af-443b-9a52-de81ea9827a0",
        "part": "whole"
       },
       "id": "a6deaae2-b444-4ef4-a7e7-d3ef0ad580a2"
      }
     }
    },
    "2e89c3ec-df84-41c5-a836-8122ed027059": {
     "id": "2e89c3ec-df84-41c5-a836-8122ed027059",
     "prev": "eeb3eee5-f372-422f-82b6-9432567a184b",
     "regions": {
      "351418a4-c7b7-4b3e-902e-7fc05c4f7dd1": {
       "attrs": {
        "height": 0.8,
        "width": 0.8,
        "x": 0.1,
        "y": 0.1
       },
       "content": {
        "cell": "1ee09a30-ff73-420d-90de-764dc3ff6793",
        "part": "whole"
       },
       "id": "351418a4-c7b7-4b3e-902e-7fc05c4f7dd1"
      }
     }
    },
    "2e8f5d3d-f4a2-4944-ae38-5e917ece33e3": {
     "id": "2e8f5d3d-f4a2-4944-ae38-5e917ece33e3",
     "prev": "da7c8038-955e-426b-8445-bce0cef014ef",
     "regions": {
      "a60ba328-a2f8-4f0a-80af-8feef05fd20e": {
       "attrs": {
        "height": 0.8,
        "width": 0.8,
        "x": 0.1,
        "y": 0.1
       },
       "content": {
        "cell": "d63aad83-6715-43bd-8fb0-bb097cfead9d",
        "part": "whole"
       },
       "id": "a60ba328-a2f8-4f0a-80af-8feef05fd20e"
      }
     }
    },
    "2f3c78ec-2321-4395-a8a4-97faf7bbbffe": {
     "id": "2f3c78ec-2321-4395-a8a4-97faf7bbbffe",
     "prev": "c2858eed-4f0d-4415-9bce-f90f3299bf8c",
     "regions": {
      "94022e2d-862b-493a-8fd4-2a004859d46e": {
       "attrs": {
        "height": 0.8,
        "width": 0.8,
        "x": 0.1,
        "y": 0.1
       },
       "content": {
        "cell": "c96cd179-0ebe-4291-a9ec-a1e4466c037c",
        "part": "whole"
       },
       "id": "94022e2d-862b-493a-8fd4-2a004859d46e"
      }
     }
    },
    "2f605f0b-e75c-43df-80a9-2a23e4486c8a": {
     "id": "2f605f0b-e75c-43df-80a9-2a23e4486c8a",
     "prev": "14e0bbf0-d94c-4724-9782-b36c35628417",
     "regions": {
      "5dc7f4ae-54e1-4a10-9e60-06d4c0924fca": {
       "attrs": {
        "height": 0.8,
        "width": 0.8,
        "x": 0.1,
        "y": 0.1
       },
       "content": {
        "cell": "02122047-51bb-4026-a91f-8aa241523832",
        "part": "whole"
       },
       "id": "5dc7f4ae-54e1-4a10-9e60-06d4c0924fca"
      }
     }
    },
    "3079204d-ea8c-434a-a65c-4b2dd447d1cf": {
     "id": "3079204d-ea8c-434a-a65c-4b2dd447d1cf",
     "prev": "49e53dce-6aec-4277-8450-bfff9220555c",
     "regions": {
      "40d15460-a22a-4d19-9cac-dfb719eef2d1": {
       "attrs": {
        "height": 0.8,
        "width": 0.8,
        "x": 0.1,
        "y": 0.1
       },
       "content": {
        "cell": "436ab971-afee-460c-bb5c-b4203cdc86dd",
        "part": "whole"
       },
       "id": "40d15460-a22a-4d19-9cac-dfb719eef2d1"
      }
     }
    },
    "31457708-0347-4224-b229-3f4cc71f7e9b": {
     "id": "31457708-0347-4224-b229-3f4cc71f7e9b",
     "prev": "83408dc1-4a02-4f23-a1c3-94da05588b9f",
     "regions": {
      "478ad235-a2a8-4bcf-afd5-c6b922b8b0b0": {
       "attrs": {
        "height": 0.8,
        "width": 0.8,
        "x": 0.1,
        "y": 0.1
       },
       "content": {
        "cell": "96b2899d-5392-4a16-ab4a-c1418a4ffa16",
        "part": "whole"
       },
       "id": "478ad235-a2a8-4bcf-afd5-c6b922b8b0b0"
      }
     }
    },
    "3418dc9b-0a4c-4597-85fd-4d7ea0f47cb5": {
     "id": "3418dc9b-0a4c-4597-85fd-4d7ea0f47cb5",
     "prev": "77400b7a-86c1-4f51-b83d-e3716a7b99aa",
     "regions": {
      "4dead716-3e0b-45e4-82c6-40f15e71d214": {
       "attrs": {
        "height": 0.8,
        "width": 0.8,
        "x": 0.1,
        "y": 0.1
       },
       "content": {
        "cell": "342161b9-c5c8-4334-9f1e-32412700a2e2",
        "part": "whole"
       },
       "id": "4dead716-3e0b-45e4-82c6-40f15e71d214"
      }
     }
    },
    "346cfa40-4486-4dbc-84f1-29977fe087a7": {
     "id": "346cfa40-4486-4dbc-84f1-29977fe087a7",
     "prev": "f384ef39-cf02-443c-a2e3-1af0a70838a9",
     "regions": {
      "f2d235fa-7d0b-4288-81ba-a92a5a86b2c8": {
       "attrs": {
        "height": 0.8,
        "width": 0.8,
        "x": 0.1,
        "y": 0.1
       },
       "content": {
        "cell": "d2b64598-1403-476a-a063-10bed0844514",
        "part": "whole"
       },
       "id": "f2d235fa-7d0b-4288-81ba-a92a5a86b2c8"
      }
     }
    },
    "3583cf87-1777-4f3e-b900-30c7447a75f0": {
     "id": "3583cf87-1777-4f3e-b900-30c7447a75f0",
     "prev": "769880be-c378-46a6-9532-55fbcdf39309",
     "regions": {
      "e4dc1343-1edc-4234-a763-14d5a72fce0d": {
       "attrs": {
        "height": 0.8,
        "width": 0.8,
        "x": 0.1,
        "y": 0.1
       },
       "content": {
        "cell": "5199fde5-e13f-4927-9bf8-cb9380fbfb7e",
        "part": "whole"
       },
       "id": "e4dc1343-1edc-4234-a763-14d5a72fce0d"
      }
     }
    },
    "37cbd780-d955-4bbf-bc91-f3f96ef611b4": {
     "id": "37cbd780-d955-4bbf-bc91-f3f96ef611b4",
     "prev": "c13f050c-d6fb-4c91-81d3-15049984fef5",
     "regions": {
      "e97815c3-8596-41d6-8fcf-f14a296adc40": {
       "attrs": {
        "height": 0.8,
        "width": 0.8,
        "x": 0.1,
        "y": 0.1
       },
       "content": {
        "cell": "69a176fe-4179-4030-ad76-a5b7124d47f4",
        "part": "whole"
       },
       "id": "e97815c3-8596-41d6-8fcf-f14a296adc40"
      }
     }
    },
    "37dd7ee6-a624-49e2-a23c-08384476a6c3": {
     "id": "37dd7ee6-a624-49e2-a23c-08384476a6c3",
     "prev": "4a90b62a-e363-460c-8a3f-6ad50ca4cefa",
     "regions": {
      "57ba8269-0261-4c8b-9b3c-a68a224da073": {
       "attrs": {
        "height": 0.8,
        "width": 0.8,
        "x": 0.1,
        "y": 0.1
       },
       "content": {
        "cell": "161ae17a-f5f8-4483-a7e9-166f470bbc66",
        "part": "whole"
       },
       "id": "57ba8269-0261-4c8b-9b3c-a68a224da073"
      }
     }
    },
    "3841a6e5-c1eb-442e-a001-963b1a6dda71": {
     "id": "3841a6e5-c1eb-442e-a001-963b1a6dda71",
     "prev": "1d5d4acb-090f-405d-9572-6efdd430b891",
     "regions": {
      "29a19db3-0927-48b0-b44a-90356c02bccb": {
       "attrs": {
        "height": 0.8,
        "width": 0.8,
        "x": 0.1,
        "y": 0.1
       },
       "content": {
        "cell": "35f04403-d05f-4faf-b199-6b1ec5abf08d",
        "part": "whole"
       },
       "id": "29a19db3-0927-48b0-b44a-90356c02bccb"
      }
     }
    },
    "38ab8258-80b8-4f1f-a98a-285b347b8a96": {
     "id": "38ab8258-80b8-4f1f-a98a-285b347b8a96",
     "prev": "d9cb6977-6399-46cc-89f6-35751f7292a9",
     "regions": {
      "b5b3d2dc-67c7-461c-81af-3fe83487af91": {
       "attrs": {
        "height": 0.8,
        "width": 0.8,
        "x": 0.1,
        "y": 0.1
       },
       "content": {
        "cell": "4ea5c464-7a5e-4e38-9982-2062c351cd28",
        "part": "whole"
       },
       "id": "b5b3d2dc-67c7-461c-81af-3fe83487af91"
      }
     }
    },
    "3da817a1-3085-4109-9284-49f546062fa1": {
     "id": "3da817a1-3085-4109-9284-49f546062fa1",
     "prev": "91814cbf-21c7-481c-8ccc-c911f885b174",
     "regions": {
      "b1534e38-5936-4120-860a-c179c972b0a3": {
       "attrs": {
        "height": 0.8,
        "width": 0.8,
        "x": 0.1,
        "y": 0.1
       },
       "content": {
        "cell": "d4804423-bfc9-4314-99fd-af6628115c47",
        "part": "whole"
       },
       "id": "b1534e38-5936-4120-860a-c179c972b0a3"
      }
     }
    },
    "3e921057-1fe8-4a88-945d-3c72d9903fe2": {
     "id": "3e921057-1fe8-4a88-945d-3c72d9903fe2",
     "prev": "0b68b543-aa40-4903-ac5e-f8a608c0aa5c",
     "regions": {
      "04b95ffa-620e-465e-bd75-9e8fe806b9ef": {
       "attrs": {
        "height": 0.8,
        "width": 0.8,
        "x": 0.1,
        "y": 0.1
       },
       "content": {
        "cell": "d0534250-0185-481b-b593-019706f72686",
        "part": "whole"
       },
       "id": "04b95ffa-620e-465e-bd75-9e8fe806b9ef"
      }
     }
    },
    "3efd41c8-011f-4295-92a7-3597641f92e1": {
     "id": "3efd41c8-011f-4295-92a7-3597641f92e1",
     "prev": "7e01d3b5-adec-4f73-acc1-80e5c08f175b",
     "regions": {
      "597e8e33-696b-4a14-9e18-5366775ce43d": {
       "attrs": {
        "height": 0.8,
        "width": 0.8,
        "x": 0.1,
        "y": 0.1
       },
       "content": {
        "cell": "a65da309-6b80-42f1-ba63-40174c8b1f7b",
        "part": "whole"
       },
       "id": "597e8e33-696b-4a14-9e18-5366775ce43d"
      }
     }
    },
    "3fe92012-8e5d-465a-93ca-65362983a9c0": {
     "id": "3fe92012-8e5d-465a-93ca-65362983a9c0",
     "prev": "6c842a85-d426-4b6c-9dd5-5a11acb09433",
     "regions": {
      "c462dcce-841e-43b8-aca3-f22e4db913e5": {
       "attrs": {
        "height": 0.8,
        "width": 0.8,
        "x": 0.1,
        "y": 0.1
       },
       "content": {
        "cell": "e679c620-5210-492b-9777-43cfca4b1df8",
        "part": "whole"
       },
       "id": "c462dcce-841e-43b8-aca3-f22e4db913e5"
      }
     }
    },
    "42a67565-8f9a-45ab-9b60-3295fa707180": {
     "id": "42a67565-8f9a-45ab-9b60-3295fa707180",
     "prev": "b9b8ac2f-1736-4057-87fe-bbf78956fe3a",
     "regions": {
      "7524429a-041f-4837-96ee-b309552ce97c": {
       "attrs": {
        "height": 0.8,
        "width": 0.8,
        "x": 0.1,
        "y": 0.1
       },
       "content": {
        "cell": "f7389d9f-0ce7-46b9-9c92-35f1eb5ad1e9",
        "part": "whole"
       },
       "id": "7524429a-041f-4837-96ee-b309552ce97c"
      }
     }
    },
    "43989e96-3bdd-41ba-ae88-fa4fca6e0960": {
     "id": "43989e96-3bdd-41ba-ae88-fa4fca6e0960",
     "prev": "d995ee17-b70d-4a06-a941-618c35da3775",
     "regions": {
      "e764d4c0-318a-4cae-acd5-84e6093c062a": {
       "attrs": {
        "height": 0.8,
        "width": 0.8,
        "x": 0.1,
        "y": 0.1
       },
       "content": {
        "cell": "f59d727a-24a5-4848-902f-1b6ef54478a3",
        "part": "whole"
       },
       "id": "e764d4c0-318a-4cae-acd5-84e6093c062a"
      }
     }
    },
    "43eb0f07-85ab-4d72-9372-8fe6714bd1c4": {
     "id": "43eb0f07-85ab-4d72-9372-8fe6714bd1c4",
     "prev": "2f605f0b-e75c-43df-80a9-2a23e4486c8a",
     "regions": {
      "bcb213b8-3456-4d91-ac5d-b616c079d8dc": {
       "attrs": {
        "height": 0.8,
        "width": 0.8,
        "x": 0.1,
        "y": 0.1
       },
       "content": {
        "cell": "8e971c21-29b7-4b32-97c4-4f96f45679b4",
        "part": "whole"
       },
       "id": "bcb213b8-3456-4d91-ac5d-b616c079d8dc"
      }
     }
    },
    "44ea0540-10ae-4484-9cb1-179eedabaa95": {
     "id": "44ea0540-10ae-4484-9cb1-179eedabaa95",
     "prev": "3fe92012-8e5d-465a-93ca-65362983a9c0",
     "regions": {
      "0b862c51-83cb-41b9-8ec0-e2118f89207b": {
       "attrs": {
        "height": 0.8,
        "width": 0.8,
        "x": 0.1,
        "y": 0.1
       },
       "content": {
        "cell": "d9135b69-d03e-4827-882c-2ec87e6dc84d",
        "part": "whole"
       },
       "id": "0b862c51-83cb-41b9-8ec0-e2118f89207b"
      }
     }
    },
    "49071b2f-d62e-4e67-a6b7-9bdde89631a4": {
     "id": "49071b2f-d62e-4e67-a6b7-9bdde89631a4",
     "prev": "dce2b08f-60d4-4672-8179-a14cf87432e0",
     "regions": {
      "babdca69-5eef-4bdc-a137-02069b1b247f": {
       "attrs": {
        "height": 0.8,
        "width": 0.8,
        "x": 0.1,
        "y": 0.1
       },
       "content": {
        "cell": "d74db8d8-4eb1-4ea2-989e-a7d6650d2a78",
        "part": "whole"
       },
       "id": "babdca69-5eef-4bdc-a137-02069b1b247f"
      }
     }
    },
    "49e53dce-6aec-4277-8450-bfff9220555c": {
     "id": "49e53dce-6aec-4277-8450-bfff9220555c",
     "prev": "95247425-4d2d-445f-857f-56d5b6147292",
     "regions": {
      "b2fcb0dd-3882-4145-831f-99c6c3429585": {
       "attrs": {
        "height": 0.8,
        "width": 0.8,
        "x": 0.1,
        "y": 0.1
       },
       "content": {
        "cell": "e4ce8b65-8094-40b1-a742-b43a4678fe49",
        "part": "whole"
       },
       "id": "b2fcb0dd-3882-4145-831f-99c6c3429585"
      }
     }
    },
    "4a90b62a-e363-460c-8a3f-6ad50ca4cefa": {
     "id": "4a90b62a-e363-460c-8a3f-6ad50ca4cefa",
     "prev": "cb01f01c-687b-46b7-8d51-eba36f7e98f0",
     "regions": {
      "8de1bd48-af74-492d-bd00-29544ce524f6": {
       "attrs": {
        "height": 0.8,
        "width": 0.8,
        "x": 0.1,
        "y": 0.1
       },
       "content": {
        "cell": "cb54da6b-f099-46e4-9fff-902c25cac829",
        "part": "whole"
       },
       "id": "8de1bd48-af74-492d-bd00-29544ce524f6"
      }
     }
    },
    "4c503386-6e39-429f-ada5-e18dbd578d2b": {
     "id": "4c503386-6e39-429f-ada5-e18dbd578d2b",
     "prev": "b2a7d9bf-1559-4869-abeb-34046cd14cd0",
     "regions": {
      "9cf835b4-2a70-4398-a855-427e04e96122": {
       "attrs": {
        "height": 0.8,
        "width": 0.8,
        "x": 0.1,
        "y": 0.1
       },
       "content": {
        "cell": "1fbdc187-cd40-4fdf-8b83-70a71a81e32a",
        "part": "whole"
       },
       "id": "9cf835b4-2a70-4398-a855-427e04e96122"
      }
     }
    },
    "4ca6f7cb-01a9-47f4-a82f-d6462851d7bd": {
     "id": "4ca6f7cb-01a9-47f4-a82f-d6462851d7bd",
     "prev": "1aa200bd-eaf4-4838-b285-500b5c5cc99c",
     "regions": {
      "9709b89e-0b50-4443-b047-409e25fa55c0": {
       "attrs": {
        "height": 0.8,
        "width": 0.8,
        "x": 0.1,
        "y": 0.1
       },
       "content": {
        "cell": "f9567b47-1138-429a-a969-4a20b7f07932",
        "part": "whole"
       },
       "id": "9709b89e-0b50-4443-b047-409e25fa55c0"
      }
     }
    },
    "4de7ffb4-0718-4982-b931-0ccd99cc3f43": {
     "id": "4de7ffb4-0718-4982-b931-0ccd99cc3f43",
     "prev": "f078b612-1238-4d4b-b4ab-0d1e5a918e33",
     "regions": {
      "e7b431c7-35eb-4475-bfeb-a3579e0ec1cc": {
       "attrs": {
        "height": 0.8,
        "width": 0.8,
        "x": 0.1,
        "y": 0.1
       },
       "content": {
        "cell": "bb040156-0819-4cd5-a730-3a2ae5dbe711",
        "part": "whole"
       },
       "id": "e7b431c7-35eb-4475-bfeb-a3579e0ec1cc"
      }
     }
    },
    "521f3875-5586-4bb7-8226-ae92a771d03c": {
     "id": "521f3875-5586-4bb7-8226-ae92a771d03c",
     "prev": "fdc6004d-c6e1-4677-973b-d8ad497ad7df",
     "regions": {
      "5995f2cf-9d0a-44fc-8caf-56b5a8603816": {
       "attrs": {
        "height": 0.8,
        "width": 0.8,
        "x": 0.1,
        "y": 0.1
       },
       "content": {
        "cell": "55c3adec-e893-45b2-86c7-56d0a3913153",
        "part": "whole"
       },
       "id": "5995f2cf-9d0a-44fc-8caf-56b5a8603816"
      }
     }
    },
    "522348c2-7efa-4dd7-a8f6-8ce4677696fe": {
     "id": "522348c2-7efa-4dd7-a8f6-8ce4677696fe",
     "prev": "37dd7ee6-a624-49e2-a23c-08384476a6c3",
     "regions": {
      "36d92579-f928-4645-8a42-6b23c62c8f66": {
       "attrs": {
        "height": 0.8,
        "width": 0.8,
        "x": 0.1,
        "y": 0.1
       },
       "content": {
        "cell": "eff1e97a-dbb5-47ed-96c7-d3bb1d8f10c9",
        "part": "whole"
       },
       "id": "36d92579-f928-4645-8a42-6b23c62c8f66"
      }
     }
    },
    "536dc498-e94e-45f1-800b-98044db80ac6": {
     "id": "536dc498-e94e-45f1-800b-98044db80ac6",
     "prev": "24f438a5-ddc1-4017-bbfc-5165c8cfae39",
     "regions": {
      "4a970851-27de-4216-ae24-f7315b53c787": {
       "attrs": {
        "height": 0.8,
        "width": 0.8,
        "x": 0.1,
        "y": 0.1
       },
       "content": {
        "cell": "59318935-d882-4846-b9fb-e1a3497b5c38",
        "part": "whole"
       },
       "id": "4a970851-27de-4216-ae24-f7315b53c787"
      }
     }
    },
    "55acac69-b165-455c-80a4-1416a64afdb5": {
     "id": "55acac69-b165-455c-80a4-1416a64afdb5",
     "prev": "0b81c3fe-e24f-4b39-9ad0-d6430b4f199d",
     "regions": {
      "e1170e31-dc0b-4e32-8fd3-4ed3b1e38ef2": {
       "attrs": {
        "height": 0.8,
        "width": 0.8,
        "x": 0.1,
        "y": 0.1
       },
       "content": {
        "cell": "958c8ed3-59e3-458e-8707-ead9cf527ae9",
        "part": "whole"
       },
       "id": "e1170e31-dc0b-4e32-8fd3-4ed3b1e38ef2"
      }
     }
    },
    "584e65d4-8c87-47c6-99cc-8b3013e4529a": {
     "id": "584e65d4-8c87-47c6-99cc-8b3013e4529a",
     "prev": "72068e69-d6ed-4392-b126-6d8a2cc6c3f7",
     "regions": {
      "e4c61d76-ff75-4a98-92fb-a7d500ec50af": {
       "attrs": {
        "height": 0.8,
        "width": 0.8,
        "x": 0.1,
        "y": 0.1
       },
       "content": {
        "cell": "6b0357ed-a2fe-43bd-ae43-417987aa9120",
        "part": "whole"
       },
       "id": "e4c61d76-ff75-4a98-92fb-a7d500ec50af"
      }
     }
    },
    "59da786c-c4b9-4c9f-8664-58ad0970d8d7": {
     "id": "59da786c-c4b9-4c9f-8664-58ad0970d8d7",
     "prev": "dd0dda8c-5b08-4886-bc17-3c6c31471f96",
     "regions": {
      "de20c690-caaf-403f-8d39-33bfc5bb04eb": {
       "attrs": {
        "height": 0.8,
        "width": 0.8,
        "x": 0.1,
        "y": 0.1
       },
       "content": {
        "cell": "b0124d9c-dd57-4ef2-b5d3-f721c87b95b1",
        "part": "whole"
       },
       "id": "de20c690-caaf-403f-8d39-33bfc5bb04eb"
      }
     }
    },
    "5ac50a76-2320-4a63-b223-b00030c2568e": {
     "id": "5ac50a76-2320-4a63-b223-b00030c2568e",
     "prev": "b7e2c516-01c5-41be-bd77-f56868dc730c",
     "regions": {
      "f051c569-a332-49b4-b2b6-c8aa8d9aba64": {
       "attrs": {
        "height": 0.8,
        "width": 0.8,
        "x": 0.1,
        "y": 0.1
       },
       "content": {
        "cell": "4814df66-6c9e-48a0-896e-7c62d8f1a9df",
        "part": "whole"
       },
       "id": "f051c569-a332-49b4-b2b6-c8aa8d9aba64"
      }
     }
    },
    "5b988b45-512f-46ad-9718-a772386abf3e": {
     "id": "5b988b45-512f-46ad-9718-a772386abf3e",
     "prev": "669a7283-03c0-451b-9119-00fca82fb42e",
     "regions": {
      "70cf52e5-4ce3-484e-af2b-5d0cf245dbe1": {
       "attrs": {
        "height": 0.8,
        "width": 0.8,
        "x": 0.1,
        "y": 0.1
       },
       "content": {
        "cell": "4d2a5b8e-0ac2-4b40-acf1-4221e630765c",
        "part": "whole"
       },
       "id": "70cf52e5-4ce3-484e-af2b-5d0cf245dbe1"
      }
     }
    },
    "5dcf8d3a-e5e9-4799-9620-565651439250": {
     "id": "5dcf8d3a-e5e9-4799-9620-565651439250",
     "prev": "1ac8036e-57af-43f3-9186-c8032151cd00",
     "regions": {
      "a6dce807-4191-49d8-875d-d642ac1507de": {
       "attrs": {
        "height": 0.8,
        "width": 0.8,
        "x": 0.1,
        "y": 0.1
       },
       "content": {
        "cell": "d3eae05d-508c-4314-91b2-ce7999b0318a",
        "part": "whole"
       },
       "id": "a6dce807-4191-49d8-875d-d642ac1507de"
      }
     }
    },
    "5f697269-c53f-4015-b6a8-69fee2f5c4df": {
     "id": "5f697269-c53f-4015-b6a8-69fee2f5c4df",
     "prev": "64854a9b-18da-4400-8328-7a8dc452c430",
     "regions": {
      "dedcad65-9d15-4f9c-9256-191280f6b64d": {
       "attrs": {
        "height": 0.8,
        "width": 0.8,
        "x": 0.1,
        "y": 0.1
       },
       "content": {
        "cell": "dd9a9e61-4137-4404-a754-2dd725e1cc2d",
        "part": "whole"
       },
       "id": "dedcad65-9d15-4f9c-9256-191280f6b64d"
      }
     }
    },
    "60121306-b07e-497d-b5bb-262710d1b6b5": {
     "id": "60121306-b07e-497d-b5bb-262710d1b6b5",
     "prev": "08ac0802-5fba-4d11-a376-7a1722e06f23",
     "regions": {
      "cbf88921-0e66-43eb-b1dc-7609ec460c26": {
       "attrs": {
        "height": 0.8,
        "width": 0.8,
        "x": 0.1,
        "y": 0.1
       },
       "content": {
        "cell": "493d106e-4bd1-48ee-87d2-882972010bba",
        "part": "whole"
       },
       "id": "cbf88921-0e66-43eb-b1dc-7609ec460c26"
      }
     }
    },
    "648024b1-3af9-43de-8f5e-e2f901ab720f": {
     "id": "648024b1-3af9-43de-8f5e-e2f901ab720f",
     "prev": "c90f0421-0cdf-4027-9d64-f7c2a6e78991",
     "regions": {
      "eed6849b-ffa2-44fc-87eb-ebf9e6052f82": {
       "attrs": {
        "height": 0.8,
        "width": 0.8,
        "x": 0.1,
        "y": 0.1
       },
       "content": {
        "cell": "8c231564-95f0-4347-acfb-a7f3038ec403",
        "part": "whole"
       },
       "id": "eed6849b-ffa2-44fc-87eb-ebf9e6052f82"
      }
     }
    },
    "64854a9b-18da-4400-8328-7a8dc452c430": {
     "id": "64854a9b-18da-4400-8328-7a8dc452c430",
     "prev": "6ee68001-4896-4a16-8999-8e3ba28b1793",
     "regions": {
      "51225c78-ce4d-47d3-b374-4360832658e4": {
       "attrs": {
        "height": 0.8,
        "width": 0.8,
        "x": 0.1,
        "y": 0.1
       },
       "content": {
        "cell": "6631720a-163e-476c-9823-f5c2f2ae314f",
        "part": "whole"
       },
       "id": "51225c78-ce4d-47d3-b374-4360832658e4"
      }
     }
    },
    "669a7283-03c0-451b-9119-00fca82fb42e": {
     "id": "669a7283-03c0-451b-9119-00fca82fb42e",
     "prev": "c6d5d853-91b3-4751-b6fa-033b2f996796",
     "regions": {
      "cea0635e-e929-4f6e-a035-f555583ac620": {
       "attrs": {
        "height": 0.8,
        "width": 0.8,
        "x": 0.1,
        "y": 0.1
       },
       "content": {
        "cell": "d92a6ac8-bdca-406d-9c3d-ffacbae88613",
        "part": "whole"
       },
       "id": "cea0635e-e929-4f6e-a035-f555583ac620"
      }
     }
    },
    "69a1ca36-e657-4b01-98ab-05c7d56c6b7b": {
     "id": "69a1ca36-e657-4b01-98ab-05c7d56c6b7b",
     "prev": "fa8c84aa-2927-4cb7-be96-1d3663a01c7e",
     "regions": {
      "b21aa812-3459-4795-ab35-8481f637b438": {
       "attrs": {
        "height": 0.8,
        "width": 0.8,
        "x": 0.1,
        "y": 0.1
       },
       "content": {
        "cell": "97d944b9-743e-4d6d-9630-5422659a2c30",
        "part": "whole"
       },
       "id": "b21aa812-3459-4795-ab35-8481f637b438"
      }
     }
    },
    "6c242509-49fb-4ac4-8ce0-6cc9f3accb1b": {
     "id": "6c242509-49fb-4ac4-8ce0-6cc9f3accb1b",
     "prev": "d798f2bc-4e8b-471a-b6ba-d7098e359c34",
     "regions": {
      "8654e74f-382d-4033-94c8-18b006a620aa": {
       "attrs": {
        "height": 0.8,
        "width": 0.8,
        "x": 0.1,
        "y": 0.1
       },
       "content": {
        "cell": "493a2396-9f13-4230-89ea-a5a720e51d2f",
        "part": "whole"
       },
       "id": "8654e74f-382d-4033-94c8-18b006a620aa"
      }
     }
    },
    "6c842a85-d426-4b6c-9dd5-5a11acb09433": {
     "id": "6c842a85-d426-4b6c-9dd5-5a11acb09433",
     "prev": "4c503386-6e39-429f-ada5-e18dbd578d2b",
     "regions": {
      "7d84d308-a5e6-4056-8a65-8baa504129ad": {
       "attrs": {
        "height": 0.8,
        "width": 0.8,
        "x": 0.1,
        "y": 0.1
       },
       "content": {
        "cell": "ecf6dc94-9236-4e93-8ca1-bbe2a0fee2e9",
        "part": "whole"
       },
       "id": "7d84d308-a5e6-4056-8a65-8baa504129ad"
      }
     }
    },
    "6d5c5476-ddd1-4afa-851f-f4298f36defc": {
     "id": "6d5c5476-ddd1-4afa-851f-f4298f36defc",
     "prev": "752a99d3-d85d-4e64-bb84-ed8b63419bcf",
     "regions": {
      "20779ae6-0541-4b22-9a1b-c8b0728a13a4": {
       "attrs": {
        "height": 0.8,
        "width": 0.8,
        "x": 0.1,
        "y": 0.1
       },
       "content": {
        "cell": "956bf52c-be79-4cef-b17e-d0d07df87d74",
        "part": "whole"
       },
       "id": "20779ae6-0541-4b22-9a1b-c8b0728a13a4"
      }
     }
    },
    "6ee68001-4896-4a16-8999-8e3ba28b1793": {
     "id": "6ee68001-4896-4a16-8999-8e3ba28b1793",
     "prev": "9c52075b-4ee2-4382-bbc3-68a8c522182e",
     "regions": {
      "8035814f-d582-4dcc-bf8c-59c2a28a69fc": {
       "attrs": {
        "height": 0.8,
        "width": 0.8,
        "x": 0.1,
        "y": 0.1
       },
       "content": {
        "cell": "bea316c4-0e18-4d6f-a2ae-b9a3f5c88649",
        "part": "whole"
       },
       "id": "8035814f-d582-4dcc-bf8c-59c2a28a69fc"
      }
     }
    },
    "71063f33-caff-4c9e-bc3e-23cf6ef23261": {
     "id": "71063f33-caff-4c9e-bc3e-23cf6ef23261",
     "prev": "c4ec7a31-7a29-4c93-9b0b-099edd75fdc5",
     "regions": {
      "e9e8ab41-7cd4-4e99-8334-c6c1f11c1b3e": {
       "attrs": {
        "height": 0.8,
        "width": 0.8,
        "x": 0.1,
        "y": 0.1
       },
       "content": {
        "cell": "e706221d-213c-4812-8c10-1cc20f521c3e",
        "part": "whole"
       },
       "id": "e9e8ab41-7cd4-4e99-8334-c6c1f11c1b3e"
      }
     }
    },
    "71d46ba7-2fa7-413f-99bc-111ae825919d": {
     "id": "71d46ba7-2fa7-413f-99bc-111ae825919d",
     "prev": "ba2b6f22-1e1f-418b-a860-9ef803f2546d",
     "regions": {
      "24f31a01-e067-4d52-801f-a7c984c68e9f": {
       "attrs": {
        "height": 0.8,
        "width": 0.8,
        "x": 0.1,
        "y": 0.1
       },
       "content": {
        "cell": "c0cd72aa-f083-47c4-b3a5-14efebbfdeab",
        "part": "whole"
       },
       "id": "24f31a01-e067-4d52-801f-a7c984c68e9f"
      }
     }
    },
    "72068e69-d6ed-4392-b126-6d8a2cc6c3f7": {
     "id": "72068e69-d6ed-4392-b126-6d8a2cc6c3f7",
     "prev": "5b988b45-512f-46ad-9718-a772386abf3e",
     "regions": {
      "8d07835d-b26a-4196-8490-3d21d214f765": {
       "attrs": {
        "height": 0.8,
        "width": 0.8,
        "x": 0.1,
        "y": 0.1
       },
       "content": {
        "cell": "d6954717-6115-4740-8f5f-41d446b4735e",
        "part": "whole"
       },
       "id": "8d07835d-b26a-4196-8490-3d21d214f765"
      }
     }
    },
    "74a322d3-4dfa-46ee-bc44-51a5c791bd51": {
     "id": "74a322d3-4dfa-46ee-bc44-51a5c791bd51",
     "prev": "3583cf87-1777-4f3e-b900-30c7447a75f0",
     "regions": {
      "d9ebbd7d-3345-4b68-94af-dc05dc442a65": {
       "attrs": {
        "height": 0.8,
        "width": 0.8,
        "x": 0.1,
        "y": 0.1
       },
       "content": {
        "cell": "0702ec35-b4db-4a8a-9dd9-4b73376f3fb7",
        "part": "whole"
       },
       "id": "d9ebbd7d-3345-4b68-94af-dc05dc442a65"
      }
     }
    },
    "752a99d3-d85d-4e64-bb84-ed8b63419bcf": {
     "id": "752a99d3-d85d-4e64-bb84-ed8b63419bcf",
     "prev": "bcf3e8aa-b194-4cd1-acdb-4db3e8353287",
     "regions": {
      "304cbc0f-5b7f-4cc5-8aed-43780be1c1db": {
       "attrs": {
        "height": 0.8,
        "width": 0.8,
        "x": 0.1,
        "y": 0.1
       },
       "content": {
        "cell": "a7d39d53-1420-45f0-b2af-cee4149a7802",
        "part": "whole"
       },
       "id": "304cbc0f-5b7f-4cc5-8aed-43780be1c1db"
      }
     }
    },
    "765f1320-ba82-4bcd-876b-94a71179583f": {
     "id": "765f1320-ba82-4bcd-876b-94a71179583f",
     "prev": "2a7a338e-1a04-47f5-920e-886f309dd9f8",
     "regions": {
      "4c14f48c-dc57-4837-bb5d-24721efdc92f": {
       "attrs": {
        "height": 0.8,
        "width": 0.8,
        "x": 0.1,
        "y": 0.1
       },
       "content": {
        "cell": "72414414-33d8-4fe3-b325-e76e4616e04b",
        "part": "whole"
       },
       "id": "4c14f48c-dc57-4837-bb5d-24721efdc92f"
      }
     }
    },
    "769880be-c378-46a6-9532-55fbcdf39309": {
     "id": "769880be-c378-46a6-9532-55fbcdf39309",
     "prev": "aed40334-e42d-4b37-b473-f30f53c899cb",
     "regions": {
      "15852c46-4288-4770-80ce-f18526d0e161": {
       "attrs": {
        "height": 0.8,
        "width": 0.8,
        "x": 0.1,
        "y": 0.1
       },
       "content": {
        "cell": "cdab55ec-4f52-40cf-9e98-814314539862",
        "part": "whole"
       },
       "id": "15852c46-4288-4770-80ce-f18526d0e161"
      }
     }
    },
    "77400b7a-86c1-4f51-b83d-e3716a7b99aa": {
     "id": "77400b7a-86c1-4f51-b83d-e3716a7b99aa",
     "prev": "f0b7155a-a828-4eab-8836-7449e080fdb7",
     "regions": {
      "25773396-963d-43b3-887f-1761c64453dc": {
       "attrs": {
        "height": 0.8,
        "width": 0.8,
        "x": 0.1,
        "y": 0.1
       },
       "content": {
        "cell": "fa402ba2-40af-4bab-aa42-551efd4c0fd6",
        "part": "whole"
       },
       "id": "25773396-963d-43b3-887f-1761c64453dc"
      }
     }
    },
    "7870694a-4026-4f6f-9ed6-ad58ab378914": {
     "id": "7870694a-4026-4f6f-9ed6-ad58ab378914",
     "prev": "fad95b1a-95f1-4841-acf0-24eb9388bd10",
     "regions": {
      "bb47dade-19c8-47da-8c14-631f537701f6": {
       "attrs": {
        "height": 0.8,
        "width": 0.8,
        "x": 0.1,
        "y": 0.1
       },
       "content": {
        "cell": "6d5b369f-ffce-42dc-bd4c-dded29e10671",
        "part": "whole"
       },
       "id": "bb47dade-19c8-47da-8c14-631f537701f6"
      }
     }
    },
    "7e01d3b5-adec-4f73-acc1-80e5c08f175b": {
     "id": "7e01d3b5-adec-4f73-acc1-80e5c08f175b",
     "prev": "c98a6ad7-558c-40d0-b0e9-161a535a3946",
     "regions": {
      "ba5c83c8-d70e-4fdb-9226-fa9cd60faecd": {
       "attrs": {
        "height": 0.8,
        "width": 0.8,
        "x": 0.1,
        "y": 0.1
       },
       "content": {
        "cell": "8968af03-3e1c-4912-8632-90779d985b65",
        "part": "whole"
       },
       "id": "ba5c83c8-d70e-4fdb-9226-fa9cd60faecd"
      }
     }
    },
    "7ec99dc2-9348-4c18-a68a-24702456a5f6": {
     "id": "7ec99dc2-9348-4c18-a68a-24702456a5f6",
     "prev": "bec80145-34dc-4d53-9e6b-ff8a72f39ed8",
     "regions": {
      "eb7c6de2-bc0e-4531-bbc6-ffe8da6a8e3a": {
       "attrs": {
        "height": 0.8,
        "width": 0.8,
        "x": 0.1,
        "y": 0.1
       },
       "content": {
        "cell": "e967dab0-b617-4583-93d9-05df9562892f",
        "part": "whole"
       },
       "id": "eb7c6de2-bc0e-4531-bbc6-ffe8da6a8e3a"
      }
     }
    },
    "7ef4e124-300b-4263-b02a-68affd9c36e8": {
     "id": "7ef4e124-300b-4263-b02a-68affd9c36e8",
     "prev": "cc6a501a-3a6f-4a0f-b660-bcc73d7d8e8f",
     "regions": {
      "2e8aa2f6-a5bb-443a-945f-44b4518cd1be": {
       "attrs": {
        "height": 0.8,
        "width": 0.8,
        "x": 0.1,
        "y": 0.1
       },
       "content": {
        "cell": "5d6641b1-ece2-4bea-9519-e17f483b9094",
        "part": "whole"
       },
       "id": "2e8aa2f6-a5bb-443a-945f-44b4518cd1be"
      }
     }
    },
    "806eb770-96d2-411a-b906-09f9d0a7128a": {
     "id": "806eb770-96d2-411a-b906-09f9d0a7128a",
     "prev": "ce7757ac-7e2c-4dc9-bb59-44f952b4e92d",
     "regions": {
      "618abd04-0f69-4ab7-934e-82ebe51a1ddf": {
       "attrs": {
        "height": 0.8,
        "width": 0.8,
        "x": 0.1,
        "y": 0.1
       },
       "content": {
        "cell": "876637a2-c97c-4605-a8eb-e85f6a5cfbc3",
        "part": "whole"
       },
       "id": "618abd04-0f69-4ab7-934e-82ebe51a1ddf"
      }
     }
    },
    "8112a121-cb92-43cc-a602-fc308e2804e0": {
     "id": "8112a121-cb92-43cc-a602-fc308e2804e0",
     "prev": "1b201679-6753-4cfe-aab3-2532a25a568d",
     "regions": {
      "32b4fcc4-c691-43d2-9724-6d2afda20bac": {
       "attrs": {
        "height": 0.8,
        "width": 0.8,
        "x": 0.1,
        "y": 0.1
       },
       "content": {
        "cell": "6316b0de-c900-47d7-a59b-13468cae258b",
        "part": "whole"
       },
       "id": "32b4fcc4-c691-43d2-9724-6d2afda20bac"
      }
     }
    },
    "8117d86a-79a2-42c7-bf0e-1d1c4dabdfea": {
     "id": "8117d86a-79a2-42c7-bf0e-1d1c4dabdfea",
     "prev": "0ab01eb0-c9cb-4bcb-b02d-418dac4ce0f1",
     "regions": {
      "42247fec-7081-42e5-b255-fc85ff43e8cd": {
       "attrs": {
        "height": 0.8,
        "width": 0.8,
        "x": 0.1,
        "y": 0.1
       },
       "content": {
        "cell": "11e40077-387d-4e0e-81f0-8626d95eade2",
        "part": "whole"
       },
       "id": "42247fec-7081-42e5-b255-fc85ff43e8cd"
      }
     }
    },
    "821bff87-ef0a-463a-849d-326a423b5914": {
     "id": "821bff87-ef0a-463a-849d-326a423b5914",
     "prev": "145aec4d-1a37-4360-977c-2ac5706a92cf",
     "regions": {
      "8d137f67-76f3-4b5b-a530-c66183220308": {
       "attrs": {
        "height": 0.8,
        "width": 0.8,
        "x": 0.1,
        "y": 0.1
       },
       "content": {
        "cell": "651eca9c-3bac-4e27-8739-fcc71354db3a",
        "part": "whole"
       },
       "id": "8d137f67-76f3-4b5b-a530-c66183220308"
      }
     }
    },
    "82792c28-7451-4111-81a0-24cc050a7cd0": {
     "id": "82792c28-7451-4111-81a0-24cc050a7cd0",
     "prev": "5f697269-c53f-4015-b6a8-69fee2f5c4df",
     "regions": {
      "3d51d6a9-fe04-4578-bfd9-24d039e78e02": {
       "attrs": {
        "height": 0.8,
        "width": 0.8,
        "x": 0.1,
        "y": 0.1
       },
       "content": {
        "cell": "a683d00f-ce3f-4ea8-88ad-4a6bf7f5362f",
        "part": "whole"
       },
       "id": "3d51d6a9-fe04-4578-bfd9-24d039e78e02"
      }
     }
    },
    "83408dc1-4a02-4f23-a1c3-94da05588b9f": {
     "id": "83408dc1-4a02-4f23-a1c3-94da05588b9f",
     "prev": "27314736-35f6-44b7-99b4-5187f2be8768",
     "regions": {
      "18afca4e-82c4-4f41-865d-f649863b7516": {
       "attrs": {
        "height": 0.8,
        "width": 0.8,
        "x": 0.1,
        "y": 0.1
       },
       "content": {
        "cell": "87e576e9-e78e-4ea2-aa96-aae7fad15939",
        "part": "whole"
       },
       "id": "18afca4e-82c4-4f41-865d-f649863b7516"
      }
     }
    },
    "8b9327c0-7c24-4b92-a581-d66612ff979b": {
     "id": "8b9327c0-7c24-4b92-a581-d66612ff979b",
     "prev": "ce289bcc-c15b-497e-ab6e-e536e007c441",
     "regions": {
      "0106713b-416f-4c86-980c-963ae5d24947": {
       "attrs": {
        "height": 0.8,
        "width": 0.8,
        "x": 0.1,
        "y": 0.1
       },
       "content": {
        "cell": "c4ab48fb-699b-4dc0-bb97-8054382af329",
        "part": "whole"
       },
       "id": "0106713b-416f-4c86-980c-963ae5d24947"
      }
     }
    },
    "8bcade2d-29f2-4d79-b63e-5d29b07a61cf": {
     "id": "8bcade2d-29f2-4d79-b63e-5d29b07a61cf",
     "prev": "49071b2f-d62e-4e67-a6b7-9bdde89631a4",
     "regions": {
      "1a127b4b-ea78-4a39-9145-d1fecd28e471": {
       "attrs": {
        "height": 0.8,
        "width": 0.8,
        "x": 0.1,
        "y": 0.1
       },
       "content": {
        "cell": "d53c8cac-0529-4952-8494-007ce35db68e",
        "part": "whole"
       },
       "id": "1a127b4b-ea78-4a39-9145-d1fecd28e471"
      }
     }
    },
    "8bcfa37f-747b-4bb2-8325-7e5a0018befd": {
     "id": "8bcfa37f-747b-4bb2-8325-7e5a0018befd",
     "prev": "9510b08b-29b3-4bba-8858-6b4a9a5320c3",
     "regions": {
      "a2ba1621-f534-4004-83bf-6bdaa2d218cc": {
       "attrs": {
        "height": 0.8,
        "width": 0.8,
        "x": 0.1,
        "y": 0.1
       },
       "content": {
        "cell": "87be6922-d349-4a0a-a581-3a6152c8b595",
        "part": "whole"
       },
       "id": "a2ba1621-f534-4004-83bf-6bdaa2d218cc"
      }
     }
    },
    "8c10b5f5-e9e2-487a-9de6-3708e2dd3bad": {
     "id": "8c10b5f5-e9e2-487a-9de6-3708e2dd3bad",
     "prev": "056294ea-a838-4b46-b47d-a715eaf9ae15",
     "regions": {
      "e6dbe4ec-bfa1-4606-8404-a00550110708": {
       "attrs": {
        "height": 0.8,
        "width": 0.8,
        "x": 0.1,
        "y": 0.1
       },
       "content": {
        "cell": "ea969a3e-ef6b-4c10-b1ce-2a71110d75b0",
        "part": "whole"
       },
       "id": "e6dbe4ec-bfa1-4606-8404-a00550110708"
      }
     }
    },
    "8c5a2456-6afe-4355-ac21-8b3097a55147": {
     "id": "8c5a2456-6afe-4355-ac21-8b3097a55147",
     "prev": "156330ee-8c52-4d88-94ef-806f384ca322",
     "regions": {
      "50e430a6-5b28-4776-b937-0bb0a3ae7fb8": {
       "attrs": {
        "height": 0.8,
        "width": 0.8,
        "x": 0.1,
        "y": 0.1
       },
       "content": {
        "cell": "7cd59eed-361f-4f8b-a803-37e2b459fbd4",
        "part": "whole"
       },
       "id": "50e430a6-5b28-4776-b937-0bb0a3ae7fb8"
      }
     }
    },
    "8df5067e-f7ea-46f9-8c8e-f501a9ed1627": {
     "id": "8df5067e-f7ea-46f9-8c8e-f501a9ed1627",
     "prev": "6c242509-49fb-4ac4-8ce0-6cc9f3accb1b",
     "regions": {
      "4ef37381-286e-41e6-9574-11a6c93b6911": {
       "attrs": {
        "height": 0.8,
        "width": 0.8,
        "x": 0.1,
        "y": 0.1
       },
       "content": {
        "cell": "62ad5d73-7f8d-49df-a855-40e8ee477e98",
        "part": "whole"
       },
       "id": "4ef37381-286e-41e6-9574-11a6c93b6911"
      }
     }
    },
    "8f18bce8-ec43-4f19-9fae-e756ca83fdcb": {
     "id": "8f18bce8-ec43-4f19-9fae-e756ca83fdcb",
     "prev": "31457708-0347-4224-b229-3f4cc71f7e9b",
     "regions": {
      "33fa6121-a743-49c2-8563-9798309d8064": {
       "attrs": {
        "height": 0.8,
        "width": 0.8,
        "x": 0.1,
        "y": 0.1
       },
       "content": {
        "cell": "9e4cc3cb-7a01-476c-a89f-3bc0d623a847",
        "part": "whole"
       },
       "id": "33fa6121-a743-49c2-8563-9798309d8064"
      }
     }
    },
    "91814cbf-21c7-481c-8ccc-c911f885b174": {
     "id": "91814cbf-21c7-481c-8ccc-c911f885b174",
     "prev": "010659c2-d145-4702-9356-e5a776c24b61",
     "regions": {
      "6e926751-dbbe-4178-ae97-7063e1facae0": {
       "attrs": {
        "height": 0.8,
        "width": 0.8,
        "x": 0.1,
        "y": 0.1
       },
       "content": {
        "cell": "ad90a2a9-13c7-42c8-b0b2-ae222a6ea43e",
        "part": "whole"
       },
       "id": "6e926751-dbbe-4178-ae97-7063e1facae0"
      }
     }
    },
    "91aaac8c-4bad-4fff-b6c8-073485b9f0aa": {
     "id": "91aaac8c-4bad-4fff-b6c8-073485b9f0aa",
     "prev": "d55e5a60-5ed7-4b6b-b1fb-ab84ac22fdaa",
     "regions": {
      "79af8edb-8d52-48b5-89d1-5b334514efe4": {
       "attrs": {
        "height": 0.8,
        "width": 0.8,
        "x": 0.1,
        "y": 0.1
       },
       "content": {
        "cell": "7964371d-3c50-48c5-ab7d-f8c8b106575c",
        "part": "whole"
       },
       "id": "79af8edb-8d52-48b5-89d1-5b334514efe4"
      }
     }
    },
    "9510b08b-29b3-4bba-8858-6b4a9a5320c3": {
     "id": "9510b08b-29b3-4bba-8858-6b4a9a5320c3",
     "prev": "aed34fd6-225a-40c3-a461-32db7760c9d4",
     "regions": {
      "11096f50-3ca7-4ef7-9042-f7415922eeb4": {
       "attrs": {
        "height": 0.8,
        "width": 0.8,
        "x": 0.1,
        "y": 0.1
       },
       "content": {
        "cell": "acba40bc-6030-43c2-8a2f-6befb8fe9181",
        "part": "whole"
       },
       "id": "11096f50-3ca7-4ef7-9042-f7415922eeb4"
      }
     }
    },
    "95247425-4d2d-445f-857f-56d5b6147292": {
     "id": "95247425-4d2d-445f-857f-56d5b6147292",
     "prev": "20960b5d-41a9-4ef2-bda4-75f27538c95e",
     "regions": {
      "d2d4271a-4f48-4afc-a39a-22a7ab4915e9": {
       "attrs": {
        "height": 0.8,
        "width": 0.8,
        "x": 0.1,
        "y": 0.1
       },
       "content": {
        "cell": "c5a18bb8-b68b-4446-a811-2f0edc9e3fc5",
        "part": "whole"
       },
       "id": "d2d4271a-4f48-4afc-a39a-22a7ab4915e9"
      }
     }
    },
    "963a0b10-885c-4794-941b-e4f0dbf5efda": {
     "id": "963a0b10-885c-4794-941b-e4f0dbf5efda",
     "prev": "e411b62f-3943-4f50-954f-b885503312b0",
     "regions": {
      "bf06a125-ebdb-436b-a714-7c894153b196": {
       "attrs": {
        "height": 0.8,
        "width": 0.8,
        "x": 0.1,
        "y": 0.1
       },
       "content": {
        "cell": "ab572ef3-cf74-419a-a6c0-ab1617eaa67b",
        "part": "whole"
       },
       "id": "bf06a125-ebdb-436b-a714-7c894153b196"
      }
     }
    },
    "96bd3287-97fd-4f2e-ab6e-3bb042ca9ae7": {
     "id": "96bd3287-97fd-4f2e-ab6e-3bb042ca9ae7",
     "prev": "feaf8d2d-e8e7-4dc7-a64f-5ce584e368bd",
     "regions": {
      "e781c693-027b-4735-a9a0-bc0ef801faec": {
       "attrs": {
        "height": 0.8,
        "width": 0.8,
        "x": 0.1,
        "y": 0.1
       },
       "content": {
        "cell": "48c28ce4-9514-4ae8-990c-adb7ac746600",
        "part": "whole"
       },
       "id": "e781c693-027b-4735-a9a0-bc0ef801faec"
      }
     }
    },
    "96e5bdd1-309e-4688-bc06-f1a4d149fab5": {
     "id": "96e5bdd1-309e-4688-bc06-f1a4d149fab5",
     "prev": "fdd689df-d970-40e7-a96a-eb761153bad1",
     "regions": {
      "b63a01c7-b66e-4afd-b49f-ee024234ade0": {
       "attrs": {
        "height": 0.8,
        "width": 0.8,
        "x": 0.1,
        "y": 0.1
       },
       "content": {
        "cell": "a191186a-0ede-4d58-b18f-03a1dc9839f4",
        "part": "whole"
       },
       "id": "b63a01c7-b66e-4afd-b49f-ee024234ade0"
      }
     }
    },
    "9813edaf-9910-4863-9989-3e48a446f665": {
     "id": "9813edaf-9910-4863-9989-3e48a446f665",
     "prev": "25b81bd2-849f-4ea6-8b18-47e4d8b34bcb",
     "regions": {
      "d315d3a3-0f20-4cbb-8281-c4815941b820": {
       "attrs": {
        "height": 0.8,
        "width": 0.8,
        "x": 0.1,
        "y": 0.1
       },
       "content": {
        "cell": "918d4a0c-1019-42a3-9b12-24acf6f6a012",
        "part": "whole"
       },
       "id": "d315d3a3-0f20-4cbb-8281-c4815941b820"
      }
     }
    },
    "99722d97-f9ab-41ee-9893-d041ee0c87a2": {
     "id": "99722d97-f9ab-41ee-9893-d041ee0c87a2",
     "prev": "eb28b665-bea4-4a65-821f-67c2b7bd1066",
     "regions": {
      "c7d59eec-65ff-499d-a980-2b8ae7db5ceb": {
       "attrs": {
        "height": 0.8,
        "width": 0.8,
        "x": 0.1,
        "y": 0.1
       },
       "content": {
        "cell": "215bfea9-df5b-4736-a1e7-2f73dbe87db5",
        "part": "whole"
       },
       "id": "c7d59eec-65ff-499d-a980-2b8ae7db5ceb"
      }
     }
    },
    "99f875bb-8362-426b-aeb4-e8071b25122b": {
     "id": "99f875bb-8362-426b-aeb4-e8071b25122b",
     "prev": "b5bf6790-71b3-40a1-b5ac-e898814b8d03",
     "regions": {
      "1cfabb25-bfbe-4186-816e-dc8d71fc94f7": {
       "attrs": {
        "height": 0.8,
        "width": 0.8,
        "x": 0.1,
        "y": 0.1
       },
       "content": {
        "cell": "22a76fe3-1b9a-4155-a26c-9a9e827b4bed",
        "part": "whole"
       },
       "id": "1cfabb25-bfbe-4186-816e-dc8d71fc94f7"
      }
     }
    },
    "9b344e23-5471-48cf-9260-63f83f02693c": {
     "id": "9b344e23-5471-48cf-9260-63f83f02693c",
     "prev": "c84f6060-da97-4533-b0d4-1ce191dc18d6",
     "regions": {
      "089aa6c0-e0c1-4fac-a066-90c8fff4e1f2": {
       "attrs": {
        "height": 0.8,
        "width": 0.8,
        "x": 0.1,
        "y": 0.1
       },
       "content": {
        "cell": "38eded7f-0955-4048-9645-c7498fa20610",
        "part": "whole"
       },
       "id": "089aa6c0-e0c1-4fac-a066-90c8fff4e1f2"
      }
     }
    },
    "9c52075b-4ee2-4382-bbc3-68a8c522182e": {
     "id": "9c52075b-4ee2-4382-bbc3-68a8c522182e",
     "prev": "081ff20f-5c9d-4b81-8e07-6e88eed94abb",
     "regions": {
      "786fac6b-7099-4d64-8274-59d6ef65a175": {
       "attrs": {
        "height": 0.8,
        "width": 0.8,
        "x": 0.1,
        "y": 0.1
       },
       "content": {
        "cell": "6ad93bd0-cd16-4ee1-9815-6e58d82bb9ce",
        "part": "whole"
       },
       "id": "786fac6b-7099-4d64-8274-59d6ef65a175"
      }
     }
    },
    "9cca28a7-6ed6-4187-9006-c98f65b2850e": {
     "id": "9cca28a7-6ed6-4187-9006-c98f65b2850e",
     "prev": "522348c2-7efa-4dd7-a8f6-8ce4677696fe",
     "regions": {
      "bd08e049-3fed-492f-ac40-157349c72652": {
       "attrs": {
        "height": 0.8,
        "width": 0.8,
        "x": 0.1,
        "y": 0.1
       },
       "content": {
        "cell": "67c668b2-5dd0-4f26-85f5-3a0159e603eb",
        "part": "whole"
       },
       "id": "bd08e049-3fed-492f-ac40-157349c72652"
      }
     }
    },
    "a25c81aa-b73e-4b52-9204-b2d5a492b8ae": {
     "id": "a25c81aa-b73e-4b52-9204-b2d5a492b8ae",
     "prev": "8f18bce8-ec43-4f19-9fae-e756ca83fdcb",
     "regions": {
      "bc4996e7-e060-45ee-9b30-73964eaef6d0": {
       "attrs": {
        "height": 0.8,
        "width": 0.8,
        "x": 0.1,
        "y": 0.1
       },
       "content": {
        "cell": "d09b2383-b816-44e6-999b-7a3970844bd9",
        "part": "whole"
       },
       "id": "bc4996e7-e060-45ee-9b30-73964eaef6d0"
      }
     }
    },
    "a69c1919-c4c1-4a84-9166-f64cb47681db": {
     "id": "a69c1919-c4c1-4a84-9166-f64cb47681db",
     "prev": "bde27863-8f2b-4303-8cce-400a37c99b21",
     "regions": {
      "1ec407a3-e765-4378-8308-9c8cee4b85ce": {
       "attrs": {
        "height": 0.8,
        "width": 0.8,
        "x": 0.1,
        "y": 0.1
       },
       "content": {
        "cell": "3cc5a186-eec3-4dc5-bbcf-737f63823b65",
        "part": "whole"
       },
       "id": "1ec407a3-e765-4378-8308-9c8cee4b85ce"
      }
     }
    },
    "a7ed0686-7c5b-4b65-a6fd-58a48f25d2ad": {
     "id": "a7ed0686-7c5b-4b65-a6fd-58a48f25d2ad",
     "prev": "96bd3287-97fd-4f2e-ab6e-3bb042ca9ae7",
     "regions": {
      "9f5682cf-f8aa-4d70-a556-3c349a2301c1": {
       "attrs": {
        "height": 0.8,
        "width": 0.8,
        "x": 0.1,
        "y": 0.1
       },
       "content": {
        "cell": "bc6260ea-75d4-41ab-9721-7e4ed6a47584",
        "part": "whole"
       },
       "id": "9f5682cf-f8aa-4d70-a556-3c349a2301c1"
      }
     }
    },
    "ac2de71a-1aed-4451-8398-1019361b7451": {
     "id": "ac2de71a-1aed-4451-8398-1019361b7451",
     "prev": "d8323e84-1b24-4069-8c25-b21c2c33f38d",
     "regions": {
      "a5392024-14e9-41ad-b5b9-6839f2afe663": {
       "attrs": {
        "height": 0.8,
        "width": 0.8,
        "x": 0.1,
        "y": 0.1
       },
       "content": {
        "cell": "e20ff9b7-5746-4e50-a5e0-7feb7cdb1ff7",
        "part": "whole"
       },
       "id": "a5392024-14e9-41ad-b5b9-6839f2afe663"
      }
     }
    },
    "ac467648-37e8-4698-a3b8-697569ea87cd": {
     "id": "ac467648-37e8-4698-a3b8-697569ea87cd",
     "prev": "9cca28a7-6ed6-4187-9006-c98f65b2850e",
     "regions": {
      "e8164f60-c111-4b95-87bc-730a9155d98a": {
       "attrs": {
        "height": 0.8,
        "width": 0.8,
        "x": 0.1,
        "y": 0.1
       },
       "content": {
        "cell": "bbeeb937-c08e-4bca-b1c8-97629ce44e3c",
        "part": "whole"
       },
       "id": "e8164f60-c111-4b95-87bc-730a9155d98a"
      }
     }
    },
    "acc35ead-6d6e-4115-b889-7d127cc8d885": {
     "id": "acc35ead-6d6e-4115-b889-7d127cc8d885",
     "prev": "a25c81aa-b73e-4b52-9204-b2d5a492b8ae",
     "regions": {
      "dfc4e4f6-6db1-4275-a7eb-3b904e07e6c0": {
       "attrs": {
        "height": 0.8,
        "width": 0.8,
        "x": 0.1,
        "y": 0.1
       },
       "content": {
        "cell": "8ad9050f-f3db-4043-946e-488f5368afd2",
        "part": "whole"
       },
       "id": "dfc4e4f6-6db1-4275-a7eb-3b904e07e6c0"
      }
     }
    },
    "acfb4942-a63c-4741-9511-7e4e2c19c23e": {
     "id": "acfb4942-a63c-4741-9511-7e4e2c19c23e",
     "prev": "74a322d3-4dfa-46ee-bc44-51a5c791bd51",
     "regions": {
      "0f5568c5-7dd6-4d7c-b900-d27d52b2fcc0": {
       "attrs": {
        "height": 0.8,
        "width": 0.8,
        "x": 0.1,
        "y": 0.1
       },
       "content": {
        "cell": "72ec146e-8fde-4bdf-8e30-f61505d737c2",
        "part": "whole"
       },
       "id": "0f5568c5-7dd6-4d7c-b900-d27d52b2fcc0"
      }
     }
    },
    "aed34fd6-225a-40c3-a461-32db7760c9d4": {
     "id": "aed34fd6-225a-40c3-a461-32db7760c9d4",
     "prev": "8c10b5f5-e9e2-487a-9de6-3708e2dd3bad",
     "regions": {
      "66d8c699-54a8-42a2-995e-cb7c8b67879e": {
       "attrs": {
        "height": 0.8,
        "width": 0.8,
        "x": 0.1,
        "y": 0.1
       },
       "content": {
        "cell": "ff0f4acc-7c01-4c19-a6ad-a0f0fd6adace",
        "part": "whole"
       },
       "id": "66d8c699-54a8-42a2-995e-cb7c8b67879e"
      }
     }
    },
    "aed40334-e42d-4b37-b473-f30f53c899cb": {
     "id": "aed40334-e42d-4b37-b473-f30f53c899cb",
     "prev": "7ef4e124-300b-4263-b02a-68affd9c36e8",
     "regions": {
      "44511109-bab0-40c2-a7d3-84a33f49227a": {
       "attrs": {
        "height": 0.8,
        "width": 0.8,
        "x": 0.1,
        "y": 0.1
       },
       "content": {
        "cell": "47be7e46-9a78-416b-86a5-500c3d465a3b",
        "part": "whole"
       },
       "id": "44511109-bab0-40c2-a7d3-84a33f49227a"
      }
     }
    },
    "b2a7d9bf-1559-4869-abeb-34046cd14cd0": {
     "id": "b2a7d9bf-1559-4869-abeb-34046cd14cd0",
     "prev": "60121306-b07e-497d-b5bb-262710d1b6b5",
     "regions": {
      "ecf25360-8efe-4abb-b698-c303cdef21d4": {
       "attrs": {
        "height": 0.8,
        "width": 0.8,
        "x": 0.1,
        "y": 0.1
       },
       "content": {
        "cell": "b0b7b2c2-0893-49fb-a990-a0a7c34442c6",
        "part": "whole"
       },
       "id": "ecf25360-8efe-4abb-b698-c303cdef21d4"
      }
     }
    },
    "b5bf6790-71b3-40a1-b5ac-e898814b8d03": {
     "id": "b5bf6790-71b3-40a1-b5ac-e898814b8d03",
     "prev": "ffb51ccd-0eeb-4220-b0e4-77f58f2b776e",
     "regions": {
      "c18d02ad-3956-4fb0-8653-db422c960e7d": {
       "attrs": {
        "height": 0.8,
        "width": 0.8,
        "x": 0.1,
        "y": 0.1
       },
       "content": {
        "cell": "4ba60162-7080-4ebf-8b53-9f9b12df43dc",
        "part": "whole"
       },
       "id": "c18d02ad-3956-4fb0-8653-db422c960e7d"
      }
     }
    },
    "b6e1dfa4-a724-47ba-864f-2c6013b69d8e": {
     "id": "b6e1dfa4-a724-47ba-864f-2c6013b69d8e",
     "prev": "7ec99dc2-9348-4c18-a68a-24702456a5f6",
     "regions": {
      "3fb08e23-03c3-49d2-98fb-c11da8ffb906": {
       "attrs": {
        "height": 0.8,
        "width": 0.8,
        "x": 0.1,
        "y": 0.1
       },
       "content": {
        "cell": "662240dd-f7ea-4d7d-a4e7-0663f60fd5a2",
        "part": "whole"
       },
       "id": "3fb08e23-03c3-49d2-98fb-c11da8ffb906"
      }
     }
    },
    "b7885d52-ac22-4ebe-9049-ed6a16fc5738": {
     "id": "b7885d52-ac22-4ebe-9049-ed6a16fc5738",
     "prev": "8117d86a-79a2-42c7-bf0e-1d1c4dabdfea",
     "regions": {
      "26e0a392-cbd8-44d7-8ab1-b5c22323f189": {
       "attrs": {
        "height": 0.8,
        "width": 0.8,
        "x": 0.1,
        "y": 0.1
       },
       "content": {
        "cell": "7dfb101b-f4de-436c-8fe9-ee8fcfcb3a3d",
        "part": "whole"
       },
       "id": "26e0a392-cbd8-44d7-8ab1-b5c22323f189"
      }
     }
    },
    "b7e2c516-01c5-41be-bd77-f56868dc730c": {
     "id": "b7e2c516-01c5-41be-bd77-f56868dc730c",
     "prev": "3079204d-ea8c-434a-a65c-4b2dd447d1cf",
     "regions": {
      "97632bde-96ef-49b4-a5cd-c3fab4bfa6d6": {
       "attrs": {
        "height": 0.8,
        "width": 0.8,
        "x": 0.1,
        "y": 0.1
       },
       "content": {
        "cell": "c14bda4d-fa71-4b51-b85c-53fa82d357ef",
        "part": "whole"
       },
       "id": "97632bde-96ef-49b4-a5cd-c3fab4bfa6d6"
      }
     }
    },
    "b9b8ac2f-1736-4057-87fe-bbf78956fe3a": {
     "id": "b9b8ac2f-1736-4057-87fe-bbf78956fe3a",
     "prev": "ca4b3204-2084-4ee9-b0e8-da477457055b",
     "regions": {
      "3ede656f-2953-4bbc-8ef1-6d4351d59b6e": {
       "attrs": {
        "height": 0.8,
        "width": 0.8,
        "x": 0.1,
        "y": 0.1
       },
       "content": {
        "cell": "2721c7ea-8020-4665-8eb9-39c270235d81",
        "part": "whole"
       },
       "id": "3ede656f-2953-4bbc-8ef1-6d4351d59b6e"
      }
     }
    },
    "ba2b6f22-1e1f-418b-a860-9ef803f2546d": {
     "id": "ba2b6f22-1e1f-418b-a860-9ef803f2546d",
     "prev": "e0d6ee08-036e-4810-a988-1f6ce727f267",
     "regions": {
      "6ce7d74b-26d0-4b8f-9410-1bf9ea234ba8": {
       "attrs": {
        "height": 0.8,
        "width": 0.8,
        "x": 0.1,
        "y": 0.1
       },
       "content": {
        "cell": "9b7f6ade-b4e4-4444-864d-0296e07743b5",
        "part": "whole"
       },
       "id": "6ce7d74b-26d0-4b8f-9410-1bf9ea234ba8"
      }
     }
    },
    "bb56d7ef-3b27-446a-908f-591185531cc8": {
     "id": "bb56d7ef-3b27-446a-908f-591185531cc8",
     "prev": "f19815d8-a63b-4e70-baf4-1ebe514f32d7",
     "regions": {
      "b38f480f-41f2-473a-af2d-da63776d811a": {
       "attrs": {
        "height": 0.8,
        "width": 0.8,
        "x": 0.1,
        "y": 0.1
       },
       "content": {
        "cell": "63b33228-f49d-4d3f-9be3-0f3aa65170ff",
        "part": "whole"
       },
       "id": "b38f480f-41f2-473a-af2d-da63776d811a"
      }
     }
    },
    "bc44cd27-9254-4510-96d8-14d386162c71": {
     "id": "bc44cd27-9254-4510-96d8-14d386162c71",
     "prev": "9b344e23-5471-48cf-9260-63f83f02693c",
     "regions": {
      "dfa9e1fd-71b2-4deb-9f53-af537bf18b98": {
       "attrs": {
        "height": 0.8,
        "width": 0.8,
        "x": 0.1,
        "y": 0.1
       },
       "content": {
        "cell": "0279cfc2-2b91-439f-a589-c69eab7797b1",
        "part": "whole"
       },
       "id": "dfa9e1fd-71b2-4deb-9f53-af537bf18b98"
      }
     }
    },
    "bcf3e8aa-b194-4cd1-acdb-4db3e8353287": {
     "id": "bcf3e8aa-b194-4cd1-acdb-4db3e8353287",
     "prev": "de1557bf-b805-4c92-b1b0-571d1ef6980e",
     "regions": {
      "76c20767-8901-4c3c-8b9d-432290164055": {
       "attrs": {
        "height": 0.8,
        "width": 0.8,
        "x": 0.1,
        "y": 0.1
       },
       "content": {
        "cell": "5f8a5877-be63-42a7-92da-a954bf382ddb",
        "part": "whole"
       },
       "id": "76c20767-8901-4c3c-8b9d-432290164055"
      }
     }
    },
    "bd2afd3f-663c-4bd8-8681-63ee64ab2df9": {
     "id": "bd2afd3f-663c-4bd8-8681-63ee64ab2df9",
     "prev": "96e5bdd1-309e-4688-bc06-f1a4d149fab5",
     "regions": {
      "43b95460-55ba-4f14-8262-980db5dc718c": {
       "attrs": {
        "height": 0.8,
        "width": 0.8,
        "x": 0.1,
        "y": 0.1
       },
       "content": {
        "cell": "94efb79e-a4a4-436a-9e70-2b78b4e6e081",
        "part": "whole"
       },
       "id": "43b95460-55ba-4f14-8262-980db5dc718c"
      }
     }
    },
    "bde27863-8f2b-4303-8cce-400a37c99b21": {
     "id": "bde27863-8f2b-4303-8cce-400a37c99b21",
     "prev": "3e921057-1fe8-4a88-945d-3c72d9903fe2",
     "regions": {
      "5bc4e872-8b81-43ae-92fa-993769ea9510": {
       "attrs": {
        "height": 0.8,
        "width": 0.8,
        "x": 0.1,
        "y": 0.1
       },
       "content": {
        "cell": "9f8b5136-051b-4393-a84c-5433f8bd1886",
        "part": "whole"
       },
       "id": "5bc4e872-8b81-43ae-92fa-993769ea9510"
      }
     }
    },
    "bec80145-34dc-4d53-9e6b-ff8a72f39ed8": {
     "id": "bec80145-34dc-4d53-9e6b-ff8a72f39ed8",
     "prev": "173bb7a0-50dc-4be4-b74d-cf1cb62f8f74",
     "regions": {
      "f1bc0b6f-3bc7-405c-ab0a-f95c70d0970c": {
       "attrs": {
        "height": 0.8,
        "width": 0.8,
        "x": 0.1,
        "y": 0.1
       },
       "content": {
        "cell": "0b40970e-5688-4bd4-805a-ece34fe2a0e6",
        "part": "whole"
       },
       "id": "f1bc0b6f-3bc7-405c-ab0a-f95c70d0970c"
      }
     }
    },
    "c00c2eb0-fe51-48e9-a237-0bf9c0ba5ef0": {
     "id": "c00c2eb0-fe51-48e9-a237-0bf9c0ba5ef0",
     "prev": "91aaac8c-4bad-4fff-b6c8-073485b9f0aa",
     "regions": {
      "114dfe26-1cf8-4d73-8002-a2e903864e91": {
       "attrs": {
        "height": 0.8,
        "width": 0.8,
        "x": 0.1,
        "y": 0.1
       },
       "content": {
        "cell": "318afb3a-39a2-4f69-aa43-7f690ceda2a4",
        "part": "whole"
       },
       "id": "114dfe26-1cf8-4d73-8002-a2e903864e91"
      }
     }
    },
    "c13f050c-d6fb-4c91-81d3-15049984fef5": {
     "id": "c13f050c-d6fb-4c91-81d3-15049984fef5",
     "prev": "de0a1dd1-a2d6-4031-8eee-c759da133e77",
     "regions": {
      "b882e918-ec86-4e99-a3fe-523a57bb35e2": {
       "attrs": {
        "height": 0.8,
        "width": 0.8,
        "x": 0.1,
        "y": 0.1
       },
       "content": {
        "cell": "c7920b1f-0534-46bd-aa37-6627988c0809",
        "part": "whole"
       },
       "id": "b882e918-ec86-4e99-a3fe-523a57bb35e2"
      }
     }
    },
    "c146fe10-4f93-4128-9890-427e7d318018": {
     "id": "c146fe10-4f93-4128-9890-427e7d318018",
     "prev": "c00c2eb0-fe51-48e9-a237-0bf9c0ba5ef0",
     "regions": {
      "81bb5b4d-4fa0-46e5-958f-f6645ae51f94": {
       "attrs": {
        "height": 0.8,
        "width": 0.8,
        "x": 0.1,
        "y": 0.1
       },
       "content": {
        "cell": "3eb73f08-aefa-4f45-8ed2-6ac2ad3b1a18",
        "part": "whole"
       },
       "id": "81bb5b4d-4fa0-46e5-958f-f6645ae51f94"
      }
     }
    },
    "c2858eed-4f0d-4415-9bce-f90f3299bf8c": {
     "id": "c2858eed-4f0d-4415-9bce-f90f3299bf8c",
     "prev": "d4bee215-85fd-4ed2-a970-804e6df64ed8",
     "regions": {
      "32cd251e-312c-44d0-ac68-7cf7df828b63": {
       "attrs": {
        "height": 0.8,
        "width": 0.8,
        "x": 0.1,
        "y": 0.1
       },
       "content": {
        "cell": "fd4d7719-572c-4d0c-b245-b7b840e5123e",
        "part": "whole"
       },
       "id": "32cd251e-312c-44d0-ac68-7cf7df828b63"
      }
     }
    },
    "c4ec7a31-7a29-4c93-9b0b-099edd75fdc5": {
     "id": "c4ec7a31-7a29-4c93-9b0b-099edd75fdc5",
     "prev": "37cbd780-d955-4bbf-bc91-f3f96ef611b4",
     "regions": {
      "08adfe00-03e3-4bea-9dc3-1e6b7340aab0": {
       "attrs": {
        "height": 0.8,
        "width": 0.8,
        "x": 0.1,
        "y": 0.1
       },
       "content": {
        "cell": "236565f1-19ca-47a4-b5d8-504ab394439f",
        "part": "whole"
       },
       "id": "08adfe00-03e3-4bea-9dc3-1e6b7340aab0"
      }
     }
    },
    "c66ca291-bba5-44f3-a3f5-850063dc4407": {
     "id": "c66ca291-bba5-44f3-a3f5-850063dc4407",
     "prev": "1a9b7a95-b92c-409a-9fd8-30e3282fef93",
     "regions": {
      "8783b2a4-eebd-4733-93a7-5e0ad4f198e5": {
       "attrs": {
        "height": 0.8,
        "width": 0.8,
        "x": 0.1,
        "y": 0.1
       },
       "content": {
        "cell": "0a1d60a6-7b51-4630-a0e9-10638a9c9476",
        "part": "whole"
       },
       "id": "8783b2a4-eebd-4733-93a7-5e0ad4f198e5"
      }
     }
    },
    "c6d5d853-91b3-4751-b6fa-033b2f996796": {
     "id": "c6d5d853-91b3-4751-b6fa-033b2f996796",
     "prev": "bb56d7ef-3b27-446a-908f-591185531cc8",
     "regions": {
      "696c273a-3d75-45cb-9c51-eef1c3d9817e": {
       "attrs": {
        "height": 0.8,
        "width": 0.8,
        "x": 0.1,
        "y": 0.1
       },
       "content": {
        "cell": "92341a1d-5f50-49ee-bcc0-4e7f93b29f77",
        "part": "whole"
       },
       "id": "696c273a-3d75-45cb-9c51-eef1c3d9817e"
      }
     }
    },
    "c84f6060-da97-4533-b0d4-1ce191dc18d6": {
     "id": "c84f6060-da97-4533-b0d4-1ce191dc18d6",
     "prev": "43eb0f07-85ab-4d72-9372-8fe6714bd1c4",
     "regions": {
      "fc945d1e-e529-47e9-bdf6-e86b3bfe7b04": {
       "attrs": {
        "height": 0.8,
        "width": 0.8,
        "x": 0.1,
        "y": 0.1
       },
       "content": {
        "cell": "2b42c10a-f46f-4f44-90b0-254e9e4bd2a3",
        "part": "whole"
       },
       "id": "fc945d1e-e529-47e9-bdf6-e86b3bfe7b04"
      }
     }
    },
    "c8afa382-f7aa-405c-866d-b2e7125f87ac": {
     "id": "c8afa382-f7aa-405c-866d-b2e7125f87ac",
     "prev": "1bd9895d-3cd8-4413-970c-7861e8f66d32",
     "regions": {
      "f2b793c4-2116-4be3-8eef-b7a57ba540db": {
       "attrs": {
        "height": 0.8,
        "width": 0.8,
        "x": 0.1,
        "y": 0.1
       },
       "content": {
        "cell": "60a08bbe-6d1d-4232-aebf-161964d6e6e8",
        "part": "whole"
       },
       "id": "f2b793c4-2116-4be3-8eef-b7a57ba540db"
      }
     }
    },
    "c90f0421-0cdf-4027-9d64-f7c2a6e78991": {
     "id": "c90f0421-0cdf-4027-9d64-f7c2a6e78991",
     "prev": "7870694a-4026-4f6f-9ed6-ad58ab378914",
     "regions": {
      "d614e521-c348-47f9-a8b9-65f6dc7a2487": {
       "attrs": {
        "height": 0.8,
        "width": 0.8,
        "x": 0.1,
        "y": 0.1
       },
       "content": {
        "cell": "329006fe-fe1d-4e2e-bd1d-55072665968f",
        "part": "whole"
       },
       "id": "d614e521-c348-47f9-a8b9-65f6dc7a2487"
      }
     }
    },
    "c98a6ad7-558c-40d0-b0e9-161a535a3946": {
     "id": "c98a6ad7-558c-40d0-b0e9-161a535a3946",
     "prev": "a7ed0686-7c5b-4b65-a6fd-58a48f25d2ad",
     "regions": {
      "e781c29b-9144-40c7-b89b-1825aa3c27c5": {
       "attrs": {
        "height": 0.8,
        "width": 0.8,
        "x": 0.1,
        "y": 0.1
       },
       "content": {
        "cell": "4f538e7c-2d7c-4ce3-b512-6284ab1354fd",
        "part": "whole"
       },
       "id": "e781c29b-9144-40c7-b89b-1825aa3c27c5"
      }
     }
    },
    "ca4b3204-2084-4ee9-b0e8-da477457055b": {
     "id": "ca4b3204-2084-4ee9-b0e8-da477457055b",
     "prev": "3418dc9b-0a4c-4597-85fd-4d7ea0f47cb5",
     "regions": {
      "70c3bbaa-6b54-4dba-8ad5-b0b9020b0173": {
       "attrs": {
        "height": 0.8,
        "width": 0.8,
        "x": 0.1,
        "y": 0.1
       },
       "content": {
        "cell": "ef7f6799-2521-4820-8bee-836960714d16",
        "part": "whole"
       },
       "id": "70c3bbaa-6b54-4dba-8ad5-b0b9020b0173"
      }
     }
    },
    "cb01f01c-687b-46b7-8d51-eba36f7e98f0": {
     "id": "cb01f01c-687b-46b7-8d51-eba36f7e98f0",
     "prev": "058283f2-08bd-46d4-a7e2-781829b0d26f",
     "regions": {
      "b1992388-5cb2-48c1-8c10-5a7944b9af3e": {
       "attrs": {
        "height": 0.8,
        "width": 0.8,
        "x": 0.1,
        "y": 0.1
       },
       "content": {
        "cell": "9c7576ce-a7cc-42c4-9d53-8dd6d9cbb243",
        "part": "whole"
       },
       "id": "b1992388-5cb2-48c1-8c10-5a7944b9af3e"
      }
     }
    },
    "cc6a501a-3a6f-4a0f-b660-bcc73d7d8e8f": {
     "id": "cc6a501a-3a6f-4a0f-b660-bcc73d7d8e8f",
     "prev": "8c5a2456-6afe-4355-ac21-8b3097a55147",
     "regions": {
      "4e8f9495-f7c3-41be-abab-ff6560c4be63": {
       "attrs": {
        "height": 0.8,
        "width": 0.8,
        "x": 0.1,
        "y": 0.1
       },
       "content": {
        "cell": "818827c7-9833-4d94-9517-9f4f6f93bf60",
        "part": "whole"
       },
       "id": "4e8f9495-f7c3-41be-abab-ff6560c4be63"
      }
     }
    },
    "ce289bcc-c15b-497e-ab6e-e536e007c441": {
     "id": "ce289bcc-c15b-497e-ab6e-e536e007c441",
     "prev": "17039141-4fb6-40e8-a909-099fe409bfeb",
     "regions": {
      "c439fa99-b1cf-4720-9c21-dd136e59bcf9": {
       "attrs": {
        "height": 0.8,
        "width": 0.8,
        "x": 0.1,
        "y": 0.1
       },
       "content": {
        "cell": "231ce9a2-7e35-47d6-8487-04166076d558",
        "part": "whole"
       },
       "id": "c439fa99-b1cf-4720-9c21-dd136e59bcf9"
      }
     }
    },
    "ce7757ac-7e2c-4dc9-bb59-44f952b4e92d": {
     "id": "ce7757ac-7e2c-4dc9-bb59-44f952b4e92d",
     "prev": "55acac69-b165-455c-80a4-1416a64afdb5",
     "regions": {
      "0bc20a85-01d1-47a6-9a5a-e1dc91c55118": {
       "attrs": {
        "height": 0.8,
        "width": 0.8,
        "x": 0.1,
        "y": 0.1
       },
       "content": {
        "cell": "2b648a7d-5dc0-452e-8306-26d77d8c9edf",
        "part": "whole"
       },
       "id": "0bc20a85-01d1-47a6-9a5a-e1dc91c55118"
      }
     }
    },
    "d0815f43-cf25-43b5-9f40-f7369edaf306": {
     "id": "d0815f43-cf25-43b5-9f40-f7369edaf306",
     "prev": "d5481b33-fd23-42cf-8593-87a5cdf064be",
     "regions": {
      "e6cce272-a246-4340-9299-fbbdad44b47e": {
       "attrs": {
        "height": 0.8,
        "width": 0.8,
        "x": 0.1,
        "y": 0.1
       },
       "content": {
        "cell": "5966362c-6ce6-46bf-8a2f-f3a35caeca89",
        "part": "whole"
       },
       "id": "e6cce272-a246-4340-9299-fbbdad44b47e"
      }
     }
    },
    "d4bee215-85fd-4ed2-a970-804e6df64ed8": {
     "id": "d4bee215-85fd-4ed2-a970-804e6df64ed8",
     "prev": "38ab8258-80b8-4f1f-a98a-285b347b8a96",
     "regions": {
      "7b5af681-04ac-45df-991c-51de706b0600": {
       "attrs": {
        "height": 0.8,
        "width": 0.8,
        "x": 0.1,
        "y": 0.1
       },
       "content": {
        "cell": "025f8fab-fdeb-4e30-ba0a-f649a97ed054",
        "part": "whole"
       },
       "id": "7b5af681-04ac-45df-991c-51de706b0600"
      }
     }
    },
    "d5481b33-fd23-42cf-8593-87a5cdf064be": {
     "id": "d5481b33-fd23-42cf-8593-87a5cdf064be",
     "prev": "b7885d52-ac22-4ebe-9049-ed6a16fc5738",
     "regions": {
      "9d1e9f7c-ebd1-4a1e-8ce0-b3cc6c578af9": {
       "attrs": {
        "height": 0.8,
        "width": 0.8,
        "x": 0.1,
        "y": 0.1
       },
       "content": {
        "cell": "8199e351-fff5-4fda-949b-bbead43179c2",
        "part": "whole"
       },
       "id": "9d1e9f7c-ebd1-4a1e-8ce0-b3cc6c578af9"
      }
     }
    },
    "d55e5a60-5ed7-4b6b-b1fb-ab84ac22fdaa": {
     "id": "d55e5a60-5ed7-4b6b-b1fb-ab84ac22fdaa",
     "prev": "2f3c78ec-2321-4395-a8a4-97faf7bbbffe",
     "regions": {
      "fdbf82e4-3147-4f02-96f0-67e087ef1d30": {
       "attrs": {
        "height": 0.8,
        "width": 0.8,
        "x": 0.1,
        "y": 0.1
       },
       "content": {
        "cell": "a1715274-4645-41bb-b5a0-e368640788a6",
        "part": "whole"
       },
       "id": "fdbf82e4-3147-4f02-96f0-67e087ef1d30"
      }
     }
    },
    "d798f2bc-4e8b-471a-b6ba-d7098e359c34": {
     "id": "d798f2bc-4e8b-471a-b6ba-d7098e359c34",
     "prev": "584e65d4-8c87-47c6-99cc-8b3013e4529a",
     "regions": {
      "4527717a-4e4a-49f1-8d75-20c82e01ad01": {
       "attrs": {
        "height": 0.8,
        "width": 0.8,
        "x": 0.1,
        "y": 0.1
       },
       "content": {
        "cell": "509dc431-5b3a-4d3b-a8b9-c3ca989f907d",
        "part": "whole"
       },
       "id": "4527717a-4e4a-49f1-8d75-20c82e01ad01"
      }
     }
    },
    "d8323e84-1b24-4069-8c25-b21c2c33f38d": {
     "id": "d8323e84-1b24-4069-8c25-b21c2c33f38d",
     "prev": "346cfa40-4486-4dbc-84f1-29977fe087a7",
     "regions": {
      "950a05c3-8379-48ae-8e9a-e2a7a32be6e7": {
       "attrs": {
        "height": 0.8,
        "width": 0.8,
        "x": 0.1,
        "y": 0.1
       },
       "content": {
        "cell": "74956ed8-d31b-4b2f-af2e-afd89f9c828d",
        "part": "whole"
       },
       "id": "950a05c3-8379-48ae-8e9a-e2a7a32be6e7"
      }
     }
    },
    "d98696a5-7377-4c1e-ac82-af65c531a49d": {
     "id": "d98696a5-7377-4c1e-ac82-af65c531a49d",
     "prev": "5dcf8d3a-e5e9-4799-9620-565651439250",
     "regions": {
      "b583a294-288a-4b29-93f2-3318457ccf1b": {
       "attrs": {
        "height": 0.8,
        "width": 0.8,
        "x": 0.1,
        "y": 0.1
       },
       "content": {
        "cell": "15695e9e-308a-422a-8b5e-2dcc2e37a52e",
        "part": "whole"
       },
       "id": "b583a294-288a-4b29-93f2-3318457ccf1b"
      }
     }
    },
    "d995ee17-b70d-4a06-a941-618c35da3775": {
     "id": "d995ee17-b70d-4a06-a941-618c35da3775",
     "prev": "c8afa382-f7aa-405c-866d-b2e7125f87ac",
     "regions": {
      "7ce5d884-b66a-473f-8bfc-63b556a1051c": {
       "attrs": {
        "height": 0.8,
        "width": 0.8,
        "x": 0.1,
        "y": 0.1
       },
       "content": {
        "cell": "44ec39bd-524f-489d-9bc4-e9e7ea63c85e",
        "part": "whole"
       },
       "id": "7ce5d884-b66a-473f-8bfc-63b556a1051c"
      }
     }
    },
    "d9cb6977-6399-46cc-89f6-35751f7292a9": {
     "id": "d9cb6977-6399-46cc-89f6-35751f7292a9",
     "prev": "8b9327c0-7c24-4b92-a581-d66612ff979b",
     "regions": {
      "03ff53b1-2889-4360-8cce-e93c764e2606": {
       "attrs": {
        "height": 0.8,
        "width": 0.8,
        "x": 0.1,
        "y": 0.1
       },
       "content": {
        "cell": "9e71b1f8-79fe-464b-8882-7791abe28908",
        "part": "whole"
       },
       "id": "03ff53b1-2889-4360-8cce-e93c764e2606"
      }
     }
    },
    "da7c8038-955e-426b-8445-bce0cef014ef": {
     "id": "da7c8038-955e-426b-8445-bce0cef014ef",
     "prev": "e59f2c26-9240-4230-8d4a-4f6680e16e81",
     "regions": {
      "a0bcc8ab-65cf-4856-ab0d-b942314a9e18": {
       "attrs": {
        "height": 0.8,
        "width": 0.8,
        "x": 0.1,
        "y": 0.1
       },
       "content": {
        "cell": "d39b8f78-12c1-4a87-b1b1-e903d7ba555d",
        "part": "whole"
       },
       "id": "a0bcc8ab-65cf-4856-ab0d-b942314a9e18"
      }
     }
    },
    "db289c8c-deb4-4f96-8362-796b2a38b55a": {
     "id": "db289c8c-deb4-4f96-8362-796b2a38b55a",
     "prev": "ff219338-2882-462d-be9b-356e1678072e",
     "regions": {
      "7a7197cc-892f-4dc1-a444-c447357c992e": {
       "attrs": {
        "height": 0.8,
        "width": 0.8,
        "x": 0.1,
        "y": 0.1
       },
       "content": {
        "cell": "477efe0c-9b84-4d18-b549-47d507bb3840",
        "part": "whole"
       },
       "id": "7a7197cc-892f-4dc1-a444-c447357c992e"
      }
     }
    },
    "dce2b08f-60d4-4672-8179-a14cf87432e0": {
     "id": "dce2b08f-60d4-4672-8179-a14cf87432e0",
     "prev": "9813edaf-9910-4863-9989-3e48a446f665",
     "regions": {
      "4035ef14-f78b-4398-829c-b60ad8bc8466": {
       "attrs": {
        "height": 0.8,
        "width": 0.8,
        "x": 0.1,
        "y": 0.1
       },
       "content": {
        "cell": "6b00ed39-33c6-44a0-a9f4-f2e9cfc86ebe",
        "part": "whole"
       },
       "id": "4035ef14-f78b-4398-829c-b60ad8bc8466"
      }
     }
    },
    "dd0dda8c-5b08-4886-bc17-3c6c31471f96": {
     "id": "dd0dda8c-5b08-4886-bc17-3c6c31471f96",
     "prev": "e2632134-387b-4b7e-8926-e55438e871e0",
     "regions": {
      "8862bd7c-6f7e-41f7-a605-ae8e2892baad": {
       "attrs": {
        "height": 0.8,
        "width": 0.8,
        "x": 0.1,
        "y": 0.1
       },
       "content": {
        "cell": "669f2990-b6d8-4165-b8d7-ff919229eca1",
        "part": "whole"
       },
       "id": "8862bd7c-6f7e-41f7-a605-ae8e2892baad"
      }
     }
    },
    "de0a1dd1-a2d6-4031-8eee-c759da133e77": {
     "id": "de0a1dd1-a2d6-4031-8eee-c759da133e77",
     "prev": "8bcade2d-29f2-4d79-b63e-5d29b07a61cf",
     "regions": {
      "c7a59804-a249-4160-91f9-45e9dc490e85": {
       "attrs": {
        "height": 0.8,
        "width": 0.8,
        "x": 0.1,
        "y": 0.1
       },
       "content": {
        "cell": "c7817ad2-523d-4a2a-98d1-3f95a98f46cb",
        "part": "whole"
       },
       "id": "c7a59804-a249-4160-91f9-45e9dc490e85"
      }
     }
    },
    "de1557bf-b805-4c92-b1b0-571d1ef6980e": {
     "id": "de1557bf-b805-4c92-b1b0-571d1ef6980e",
     "prev": "2031d41a-f548-44d0-b440-201f73098904",
     "regions": {
      "259e28ce-fabc-410c-b125-1a61fd0248c7": {
       "attrs": {
        "height": 0.8,
        "width": 0.8,
        "x": 0.1,
        "y": 0.1
       },
       "content": {
        "cell": "0d2647db-4f7f-4c38-a74d-2955a7300057",
        "part": "whole"
       },
       "id": "259e28ce-fabc-410c-b125-1a61fd0248c7"
      }
     }
    },
    "df4acd49-ab27-4e3b-a51d-cc73c3fea899": {
     "id": "df4acd49-ab27-4e3b-a51d-cc73c3fea899",
     "prev": "040ab1c6-0514-4fee-af1b-2183acce8c61",
     "regions": {
      "1e5d48bb-4cf8-46c6-903f-ce59338447a3": {
       "attrs": {
        "height": 0.8,
        "width": 0.8,
        "x": 0.1,
        "y": 0.1
       },
       "content": {
        "cell": "cb3a4787-66ad-4e8b-bb8e-98173b9386c1",
        "part": "whole"
       },
       "id": "1e5d48bb-4cf8-46c6-903f-ce59338447a3"
      }
     }
    },
    "e0c5d674-8f0a-4e79-8e5a-2afc821821ab": {
     "id": "e0c5d674-8f0a-4e79-8e5a-2afc821821ab",
     "prev": "2133c5e2-9c42-46a6-9d21-406a007c27ea",
     "regions": {
      "54090623-55a0-4dbc-8d98-86fadce7df2b": {
       "attrs": {
        "height": 0.8,
        "width": 0.8,
        "x": 0.1,
        "y": 0.1
       },
       "content": {
        "cell": "8ec67b99-bad2-41ac-9a53-17511d4501dd",
        "part": "whole"
       },
       "id": "54090623-55a0-4dbc-8d98-86fadce7df2b"
      }
     }
    },
    "e0d6ee08-036e-4810-a988-1f6ce727f267": {
     "id": "e0d6ee08-036e-4810-a988-1f6ce727f267",
     "prev": "806eb770-96d2-411a-b906-09f9d0a7128a",
     "regions": {
      "5fff7c5d-dd23-419f-96a4-6f6118e73b45": {
       "attrs": {
        "height": 0.8,
        "width": 0.8,
        "x": 0.1,
        "y": 0.1
       },
       "content": {
        "cell": "420b51f0-57fc-49c4-a2d9-34c253d36630",
        "part": "whole"
       },
       "id": "5fff7c5d-dd23-419f-96a4-6f6118e73b45"
      }
     }
    },
    "e2632134-387b-4b7e-8926-e55438e871e0": {
     "id": "e2632134-387b-4b7e-8926-e55438e871e0",
     "prev": "26b06461-3491-4ce1-96a5-78f2b2dfc0d7",
     "regions": {
      "c0229925-477e-4ea6-bd7f-1761b2acd5bf": {
       "attrs": {
        "height": 0.8,
        "width": 0.8,
        "x": 0.1,
        "y": 0.1
       },
       "content": {
        "cell": "87907cfa-8357-4d7e-bba8-4657791d0111",
        "part": "whole"
       },
       "id": "c0229925-477e-4ea6-bd7f-1761b2acd5bf"
      }
     }
    },
    "e411b62f-3943-4f50-954f-b885503312b0": {
     "id": "e411b62f-3943-4f50-954f-b885503312b0",
     "prev": "e0c5d674-8f0a-4e79-8e5a-2afc821821ab",
     "regions": {
      "6a14d222-7288-4c5a-b141-56f5da3a813d": {
       "attrs": {
        "height": 0.8,
        "width": 0.8,
        "x": 0.1,
        "y": 0.1
       },
       "content": {
        "cell": "d14aa2a4-1105-4244-b722-dedd74fd365c",
        "part": "whole"
       },
       "id": "6a14d222-7288-4c5a-b141-56f5da3a813d"
      }
     }
    },
    "e59f2c26-9240-4230-8d4a-4f6680e16e81": {
     "id": "e59f2c26-9240-4230-8d4a-4f6680e16e81",
     "prev": "2b802eba-88ee-479b-b7cd-cee4d93fb81d",
     "regions": {
      "b63b87d9-e031-4479-8cf3-49eb39d59aff": {
       "attrs": {
        "height": 0.8,
        "width": 0.8,
        "x": 0.1,
        "y": 0.1
       },
       "content": {
        "cell": "32926430-d651-44ee-bd2e-6c86933d4ed5",
        "part": "whole"
       },
       "id": "b63b87d9-e031-4479-8cf3-49eb39d59aff"
      }
     }
    },
    "e875c9f7-ab63-4271-9c74-f72a8c3bfc62": {
     "id": "e875c9f7-ab63-4271-9c74-f72a8c3bfc62",
     "prev": "5ac50a76-2320-4a63-b223-b00030c2568e",
     "regions": {
      "f8a24eed-b9f7-46ac-b9fd-aa8b68b79241": {
       "attrs": {
        "height": 0.8,
        "width": 0.8,
        "x": 0.1,
        "y": 0.1
       },
       "content": {
        "cell": "57055e16-95b5-451b-9c2c-dc1fe5647547",
        "part": "whole"
       },
       "id": "f8a24eed-b9f7-46ac-b9fd-aa8b68b79241"
      }
     }
    },
    "e98041e8-027f-4153-888e-5e882cd7b525": {
     "id": "e98041e8-027f-4153-888e-5e882cd7b525",
     "prev": "df4acd49-ab27-4e3b-a51d-cc73c3fea899",
     "regions": {
      "bb817fa3-5e81-4fa5-9377-a6202b8018ed": {
       "attrs": {
        "height": 0.8,
        "width": 0.8,
        "x": 0.1,
        "y": 0.1
       },
       "content": {
        "cell": "5d31cada-b4c2-443f-92d9-87b32e43fc70",
        "part": "whole"
       },
       "id": "bb817fa3-5e81-4fa5-9377-a6202b8018ed"
      }
     }
    },
    "ea401f78-2360-4708-ac53-e198bca2c889": {
     "id": "ea401f78-2360-4708-ac53-e198bca2c889",
     "prev": "22e12804-2e75-4297-9317-5eec5501e263",
     "regions": {
      "adddad1f-c17f-4bd9-bf50-0d0690263b82": {
       "attrs": {
        "height": 0.8,
        "width": 0.8,
        "x": 0.1,
        "y": 0.1
       },
       "content": {
        "cell": "a33b32ab-e6d7-4005-af5d-40e25642bfdc",
        "part": "whole"
       },
       "id": "adddad1f-c17f-4bd9-bf50-0d0690263b82"
      }
     }
    },
    "eb28b665-bea4-4a65-821f-67c2b7bd1066": {
     "id": "eb28b665-bea4-4a65-821f-67c2b7bd1066",
     "prev": "f685814f-f3c0-4d38-b01d-e2641c183e30",
     "regions": {
      "8eb92e3e-cd93-47d1-b69d-d49aa86f5392": {
       "attrs": {
        "height": 0.8,
        "width": 0.8,
        "x": 0.1,
        "y": 0.1
       },
       "content": {
        "cell": "d5cfeff1-e1ca-4deb-8006-804695fb76ee",
        "part": "whole"
       },
       "id": "8eb92e3e-cd93-47d1-b69d-d49aa86f5392"
      }
     }
    },
    "ecd9d5be-9ac8-469d-a316-7dc26c7203d8": {
     "id": "ecd9d5be-9ac8-469d-a316-7dc26c7203d8",
     "prev": "521f3875-5586-4bb7-8226-ae92a771d03c",
     "regions": {
      "fc7bf76d-a527-420f-b046-c276c4b34b18": {
       "attrs": {
        "height": 0.8,
        "width": 0.8,
        "x": 0.1,
        "y": 0.1
       },
       "content": {
        "cell": "841b7bff-4cd2-49f6-88bb-66a2e0926135",
        "part": "whole"
       },
       "id": "fc7bf76d-a527-420f-b046-c276c4b34b18"
      }
     }
    },
    "eeb3eee5-f372-422f-82b6-9432567a184b": {
     "id": "eeb3eee5-f372-422f-82b6-9432567a184b",
     "prev": "82792c28-7451-4111-81a0-24cc050a7cd0",
     "regions": {
      "2c56b788-e283-4ea2-adb3-b578f17ddcb4": {
       "attrs": {
        "height": 0.8,
        "width": 0.8,
        "x": 0.1,
        "y": 0.1
       },
       "content": {
        "cell": "832ef3e9-df57-4b2d-8bbc-91512a642b43",
        "part": "whole"
       },
       "id": "2c56b788-e283-4ea2-adb3-b578f17ddcb4"
      }
     }
    },
    "f078b612-1238-4d4b-b4ab-0d1e5a918e33": {
     "id": "f078b612-1238-4d4b-b4ab-0d1e5a918e33",
     "prev": "103ace7f-c4c5-44db-8ad9-3d89dece7942",
     "regions": {
      "54a1b7a2-914c-4584-a990-5195dd646a5a": {
       "attrs": {
        "height": 0.8,
        "width": 0.8,
        "x": 0.1,
        "y": 0.1
       },
       "content": {
        "cell": "4a0da488-5ee7-49e3-85a2-bc0a695647bd",
        "part": "whole"
       },
       "id": "54a1b7a2-914c-4584-a990-5195dd646a5a"
      }
     }
    },
    "f0b7155a-a828-4eab-8836-7449e080fdb7": {
     "id": "f0b7155a-a828-4eab-8836-7449e080fdb7",
     "prev": "21692888-0598-417f-9429-a4d36f14e785",
     "regions": {
      "7016e4af-6abc-4227-bf27-7ecb9a546d70": {
       "attrs": {
        "height": 0.8,
        "width": 0.8,
        "x": 0.1,
        "y": 0.1
       },
       "content": {
        "cell": "fefa0850-93bf-4643-92c2-15f9be4d12ff",
        "part": "whole"
       },
       "id": "7016e4af-6abc-4227-bf27-7ecb9a546d70"
      }
     }
    },
    "f19815d8-a63b-4e70-baf4-1ebe514f32d7": {
     "id": "f19815d8-a63b-4e70-baf4-1ebe514f32d7",
     "prev": "1413cd9f-2f69-447f-99f1-7a0443721df4",
     "regions": {
      "acbe2599-227e-40a1-9c86-3c7e5c937284": {
       "attrs": {
        "height": 0.8,
        "width": 0.8,
        "x": 0.1,
        "y": 0.1
       },
       "content": {
        "cell": "650628c8-e926-4e59-aed2-b093b0a0660c",
        "part": "whole"
       },
       "id": "acbe2599-227e-40a1-9c86-3c7e5c937284"
      }
     }
    },
    "f2f87b79-ab2d-455b-8865-45aaff1a506f": {
     "id": "f2f87b79-ab2d-455b-8865-45aaff1a506f",
     "prev": "1e4b8143-99df-4fd9-af2f-6bc4f5d4d7af",
     "regions": {
      "a57db8cd-5d6b-436f-bf3e-9e00f1bb0b09": {
       "attrs": {
        "height": 0.8,
        "width": 0.8,
        "x": 0.1,
        "y": 0.1
       },
       "content": {
        "cell": "cf152d5f-0b34-472f-9a40-6284b58532b2",
        "part": "whole"
       },
       "id": "a57db8cd-5d6b-436f-bf3e-9e00f1bb0b09"
      }
     }
    },
    "f302eff3-8a22-4bf7-911c-d1fdb5dbad41": {
     "id": "f302eff3-8a22-4bf7-911c-d1fdb5dbad41",
     "prev": "a69c1919-c4c1-4a84-9166-f64cb47681db",
     "regions": {
      "79bc181b-adb6-4dda-97bb-42891c40136a": {
       "attrs": {
        "height": 0.8,
        "width": 0.8,
        "x": 0.1,
        "y": 0.1
       },
       "content": {
        "cell": "d9820460-8aa9-4870-a0cb-361cca54a3b8",
        "part": "whole"
       },
       "id": "79bc181b-adb6-4dda-97bb-42891c40136a"
      }
     }
    },
    "f384ef39-cf02-443c-a2e3-1af0a70838a9": {
     "id": "f384ef39-cf02-443c-a2e3-1af0a70838a9",
     "prev": "23d798ff-122c-4ee8-ae93-7395127191df",
     "regions": {
      "07ea8865-3748-4a93-a0ec-6ac08b9c8756": {
       "attrs": {
        "height": 0.8,
        "width": 0.8,
        "x": 0.1,
        "y": 0.1
       },
       "content": {
        "cell": "101cdba4-a335-40ee-90e5-b9f8690c7f10",
        "part": "whole"
       },
       "id": "07ea8865-3748-4a93-a0ec-6ac08b9c8756"
      }
     }
    },
    "f685814f-f3c0-4d38-b01d-e2641c183e30": {
     "id": "f685814f-f3c0-4d38-b01d-e2641c183e30",
     "prev": "2c114184-cdaa-4fd1-945c-0ff0e6ee357c",
     "regions": {
      "75457271-d88a-411c-b21c-7cd21e125d16": {
       "attrs": {
        "height": 0.8,
        "width": 0.8,
        "x": 0.1,
        "y": 0.1
       },
       "content": {
        "cell": "380b2248-f74c-4493-b686-887d2c402dff",
        "part": "whole"
       },
       "id": "75457271-d88a-411c-b21c-7cd21e125d16"
      }
     }
    },
    "fa8c84aa-2927-4cb7-be96-1d3663a01c7e": {
     "id": "fa8c84aa-2927-4cb7-be96-1d3663a01c7e",
     "prev": "ac2de71a-1aed-4451-8398-1019361b7451",
     "regions": {
      "4e2357a8-70e5-4c2e-b7eb-16cf3463f3e0": {
       "attrs": {
        "height": 0.8,
        "width": 0.8,
        "x": 0.1,
        "y": 0.1
       },
       "content": {
        "cell": "59d45a25-9a5d-46d7-8ef1-84fa0f4e0462",
        "part": "whole"
       },
       "id": "4e2357a8-70e5-4c2e-b7eb-16cf3463f3e0"
      }
     }
    },
    "fad95b1a-95f1-4841-acf0-24eb9388bd10": {
     "id": "fad95b1a-95f1-4841-acf0-24eb9388bd10",
     "prev": "821bff87-ef0a-463a-849d-326a423b5914",
     "regions": {
      "dd1029fa-f7f5-44a3-a93d-c83e8afd552e": {
       "attrs": {
        "height": 0.8,
        "width": 0.8,
        "x": 0.1,
        "y": 0.1
       },
       "content": {
        "cell": "095e0ea5-6c89-4fc7-85e2-dcc8e2d3f1b7",
        "part": "whole"
       },
       "id": "dd1029fa-f7f5-44a3-a93d-c83e8afd552e"
      }
     }
    },
    "fdc6004d-c6e1-4677-973b-d8ad497ad7df": {
     "id": "fdc6004d-c6e1-4677-973b-d8ad497ad7df",
     "prev": "18b9a7e0-b663-404c-8548-3a7b34f1f915",
     "regions": {
      "aacdc13d-db17-44e0-a019-cb0f086364e1": {
       "attrs": {
        "height": 0.8,
        "width": 0.8,
        "x": 0.1,
        "y": 0.1
       },
       "content": {
        "cell": "bc6ee1da-ab5c-4631-8123-fc908a1a7043",
        "part": "whole"
       },
       "id": "aacdc13d-db17-44e0-a019-cb0f086364e1"
      }
     }
    },
    "fdd689df-d970-40e7-a96a-eb761153bad1": {
     "id": "fdd689df-d970-40e7-a96a-eb761153bad1",
     "prev": "963a0b10-885c-4794-941b-e4f0dbf5efda",
     "regions": {
      "563f2f9f-6c6e-4c8c-bfbb-5a04130c3c06": {
       "attrs": {
        "height": 0.8,
        "width": 0.8,
        "x": 0.1,
        "y": 0.1
       },
       "content": {
        "cell": "7ef702b5-83ca-4d15-8825-6f3649273871",
        "part": "whole"
       },
       "id": "563f2f9f-6c6e-4c8c-bfbb-5a04130c3c06"
      }
     }
    },
    "feaf8d2d-e8e7-4dc7-a64f-5ce584e368bd": {
     "id": "feaf8d2d-e8e7-4dc7-a64f-5ce584e368bd",
     "prev": "43989e96-3bdd-41ba-ae88-fa4fca6e0960",
     "regions": {
      "cc403797-fb63-4974-92bc-24877f6ea89a": {
       "attrs": {
        "height": 0.8,
        "width": 0.8,
        "x": 0.1,
        "y": 0.1
       },
       "content": {
        "cell": "ce20c405-95af-4b9e-a3fb-900068c3d0f9",
        "part": "whole"
       },
       "id": "cc403797-fb63-4974-92bc-24877f6ea89a"
      }
     }
    },
    "ff219338-2882-462d-be9b-356e1678072e": {
     "id": "ff219338-2882-462d-be9b-356e1678072e",
     "prev": "174b1be8-12e3-471b-8c56-b8bce7e1ffbc",
     "regions": {
      "26ef2734-3ae9-48e4-8ea6-efc591a760c6": {
       "attrs": {
        "height": 0.8,
        "width": 0.8,
        "x": 0.1,
        "y": 0.1
       },
       "content": {
        "cell": "cca9695f-c806-4681-bfb7-fb5f5e7dd9d8",
        "part": "whole"
       },
       "id": "26ef2734-3ae9-48e4-8ea6-efc591a760c6"
      }
     }
    },
    "ffb51ccd-0eeb-4220-b0e4-77f58f2b776e": {
     "id": "ffb51ccd-0eeb-4220-b0e4-77f58f2b776e",
     "prev": "ac467648-37e8-4698-a3b8-697569ea87cd",
     "regions": {
      "b7691dec-5aa1-400a-a514-afd9fe8bf165": {
       "attrs": {
        "height": 0.8,
        "width": 0.8,
        "x": 0.1,
        "y": 0.1
       },
       "content": {
        "cell": "e910883a-bc75-4e2f-97d7-19676d210c45",
        "part": "whole"
       },
       "id": "b7691dec-5aa1-400a-a514-afd9fe8bf165"
      }
     }
    }
   },
   "themes": {}
  },
  "toc": {
   "colors": {
    "hover_highlight": "#DAA520",
    "running_highlight": "#FF0000",
    "selected_highlight": "#FFD700"
   },
   "moveMenuLeft": false,
   "navigate_menu": false,
   "number_sections": true,
   "sideBar": false,
   "threshold": 4,
   "toc_cell": true,
   "toc_section_display": "block",
   "toc_window_display": false
  }
 },
 "nbformat": 4,
 "nbformat_minor": 1
}
